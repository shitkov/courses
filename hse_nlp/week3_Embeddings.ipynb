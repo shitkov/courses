{
  "nbformat": 4,
  "nbformat_minor": 0,
  "metadata": {
    "kernelspec": {
      "display_name": "Python 3",
      "language": "python",
      "name": "python3"
    },
    "language_info": {
      "codemirror_mode": {
        "name": "ipython",
        "version": 3
      },
      "file_extension": ".py",
      "mimetype": "text/x-python",
      "name": "python",
      "nbconvert_exporter": "python",
      "pygments_lexer": "ipython3",
      "version": "3.4.3"
    },
    "colab": {
      "name": "week3-Embeddings.ipynb",
      "provenance": [],
      "collapsed_sections": [
        "qKPPhx454-nO",
        "ulfFfeNj4-nS"
      ]
    },
    "widgets": {
      "application/vnd.jupyter.widget-state+json": {
        "a3de41b17b9b49c69fb93c868dbdae6f": {
          "model_module": "@jupyter-widgets/controls",
          "model_name": "HBoxModel",
          "state": {
            "_view_name": "HBoxView",
            "_dom_classes": [],
            "_model_name": "HBoxModel",
            "_view_module": "@jupyter-widgets/controls",
            "_model_module_version": "1.5.0",
            "_view_count": null,
            "_view_module_version": "1.5.0",
            "box_style": "",
            "layout": "IPY_MODEL_87a7a2faf89449759b24baa575a4152f",
            "_model_module": "@jupyter-widgets/controls",
            "children": [
              "IPY_MODEL_42ba90d3d0664e1bab6852a9d83ba9e5",
              "IPY_MODEL_25d7557ad1f749be8cb61ee03c91af78"
            ]
          }
        },
        "87a7a2faf89449759b24baa575a4152f": {
          "model_module": "@jupyter-widgets/base",
          "model_name": "LayoutModel",
          "state": {
            "_view_name": "LayoutView",
            "grid_template_rows": null,
            "right": null,
            "justify_content": null,
            "_view_module": "@jupyter-widgets/base",
            "overflow": null,
            "_model_module_version": "1.2.0",
            "_view_count": null,
            "flex_flow": null,
            "width": null,
            "min_width": null,
            "border": null,
            "align_items": null,
            "bottom": null,
            "_model_module": "@jupyter-widgets/base",
            "top": null,
            "grid_column": null,
            "overflow_y": null,
            "overflow_x": null,
            "grid_auto_flow": null,
            "grid_area": null,
            "grid_template_columns": null,
            "flex": null,
            "_model_name": "LayoutModel",
            "justify_items": null,
            "grid_row": null,
            "max_height": null,
            "align_content": null,
            "visibility": null,
            "align_self": null,
            "height": null,
            "min_height": null,
            "padding": null,
            "grid_auto_rows": null,
            "grid_gap": null,
            "max_width": null,
            "order": null,
            "_view_module_version": "1.2.0",
            "grid_template_areas": null,
            "object_position": null,
            "object_fit": null,
            "grid_auto_columns": null,
            "margin": null,
            "display": null,
            "left": null
          }
        },
        "42ba90d3d0664e1bab6852a9d83ba9e5": {
          "model_module": "@jupyter-widgets/controls",
          "model_name": "FloatProgressModel",
          "state": {
            "_view_name": "ProgressView",
            "style": "IPY_MODEL_f19e6e14c4c14c429dd67bf471ba3a41",
            "_dom_classes": [],
            "description": "GoogleNews-vectors-negative300.bin.gz: 100%",
            "_model_name": "FloatProgressModel",
            "bar_style": "success",
            "max": 1647046227,
            "_view_module": "@jupyter-widgets/controls",
            "_model_module_version": "1.5.0",
            "value": 1647046227,
            "_view_count": null,
            "_view_module_version": "1.5.0",
            "orientation": "horizontal",
            "min": 0,
            "description_tooltip": null,
            "_model_module": "@jupyter-widgets/controls",
            "layout": "IPY_MODEL_7112efe604724a6c949a3e05ae9600ea"
          }
        },
        "25d7557ad1f749be8cb61ee03c91af78": {
          "model_module": "@jupyter-widgets/controls",
          "model_name": "HTMLModel",
          "state": {
            "_view_name": "HTMLView",
            "style": "IPY_MODEL_d0539418b6b14012a0cec8e69e6d1429",
            "_dom_classes": [],
            "description": "",
            "_model_name": "HTMLModel",
            "placeholder": "​",
            "_view_module": "@jupyter-widgets/controls",
            "_model_module_version": "1.5.0",
            "value": " 1.65G/1.65G [00:43&lt;00:00, 37.7MB/s]",
            "_view_count": null,
            "_view_module_version": "1.5.0",
            "description_tooltip": null,
            "_model_module": "@jupyter-widgets/controls",
            "layout": "IPY_MODEL_8dd6a7aa336f45eaa5d49b21375290fc"
          }
        },
        "f19e6e14c4c14c429dd67bf471ba3a41": {
          "model_module": "@jupyter-widgets/controls",
          "model_name": "ProgressStyleModel",
          "state": {
            "_view_name": "StyleView",
            "_model_name": "ProgressStyleModel",
            "description_width": "initial",
            "_view_module": "@jupyter-widgets/base",
            "_model_module_version": "1.5.0",
            "_view_count": null,
            "_view_module_version": "1.2.0",
            "bar_color": null,
            "_model_module": "@jupyter-widgets/controls"
          }
        },
        "7112efe604724a6c949a3e05ae9600ea": {
          "model_module": "@jupyter-widgets/base",
          "model_name": "LayoutModel",
          "state": {
            "_view_name": "LayoutView",
            "grid_template_rows": null,
            "right": null,
            "justify_content": null,
            "_view_module": "@jupyter-widgets/base",
            "overflow": null,
            "_model_module_version": "1.2.0",
            "_view_count": null,
            "flex_flow": null,
            "width": null,
            "min_width": null,
            "border": null,
            "align_items": null,
            "bottom": null,
            "_model_module": "@jupyter-widgets/base",
            "top": null,
            "grid_column": null,
            "overflow_y": null,
            "overflow_x": null,
            "grid_auto_flow": null,
            "grid_area": null,
            "grid_template_columns": null,
            "flex": null,
            "_model_name": "LayoutModel",
            "justify_items": null,
            "grid_row": null,
            "max_height": null,
            "align_content": null,
            "visibility": null,
            "align_self": null,
            "height": null,
            "min_height": null,
            "padding": null,
            "grid_auto_rows": null,
            "grid_gap": null,
            "max_width": null,
            "order": null,
            "_view_module_version": "1.2.0",
            "grid_template_areas": null,
            "object_position": null,
            "object_fit": null,
            "grid_auto_columns": null,
            "margin": null,
            "display": null,
            "left": null
          }
        },
        "d0539418b6b14012a0cec8e69e6d1429": {
          "model_module": "@jupyter-widgets/controls",
          "model_name": "DescriptionStyleModel",
          "state": {
            "_view_name": "StyleView",
            "_model_name": "DescriptionStyleModel",
            "description_width": "",
            "_view_module": "@jupyter-widgets/base",
            "_model_module_version": "1.5.0",
            "_view_count": null,
            "_view_module_version": "1.2.0",
            "_model_module": "@jupyter-widgets/controls"
          }
        },
        "8dd6a7aa336f45eaa5d49b21375290fc": {
          "model_module": "@jupyter-widgets/base",
          "model_name": "LayoutModel",
          "state": {
            "_view_name": "LayoutView",
            "grid_template_rows": null,
            "right": null,
            "justify_content": null,
            "_view_module": "@jupyter-widgets/base",
            "overflow": null,
            "_model_module_version": "1.2.0",
            "_view_count": null,
            "flex_flow": null,
            "width": null,
            "min_width": null,
            "border": null,
            "align_items": null,
            "bottom": null,
            "_model_module": "@jupyter-widgets/base",
            "top": null,
            "grid_column": null,
            "overflow_y": null,
            "overflow_x": null,
            "grid_auto_flow": null,
            "grid_area": null,
            "grid_template_columns": null,
            "flex": null,
            "_model_name": "LayoutModel",
            "justify_items": null,
            "grid_row": null,
            "max_height": null,
            "align_content": null,
            "visibility": null,
            "align_self": null,
            "height": null,
            "min_height": null,
            "padding": null,
            "grid_auto_rows": null,
            "grid_gap": null,
            "max_width": null,
            "order": null,
            "_view_module_version": "1.2.0",
            "grid_template_areas": null,
            "object_position": null,
            "object_fit": null,
            "grid_auto_columns": null,
            "margin": null,
            "display": null,
            "left": null
          }
        }
      }
    }
  },
  "cells": [
    {
      "cell_type": "markdown",
      "metadata": {
        "id": "BI3ZRvpU4-me"
      },
      "source": [
        "# Find duplicate questions on StackOverflow by their embeddings\n",
        "\n",
        "In this assignment you will learn how to calculate a similarity for pieces of text. Using this approach you will know how to find duplicate questions from [StackOverflow](https://stackoverflow.com)."
      ]
    },
    {
      "cell_type": "markdown",
      "metadata": {
        "id": "941Rp_uo4-mi"
      },
      "source": [
        "### Libraries\n",
        "\n",
        "In this task you will you will need the following libraries:\n",
        "- [StarSpace](https://github.com/facebookresearch/StarSpace) — a general-purpose model for efficient learning of entity embeddings from Facebook\n",
        "- [Gensim](https://radimrehurek.com/gensim/) — a tool for solving various NLP-related tasks (topic modeling, text representation, ...)\n",
        "- [Numpy](http://www.numpy.org) — a package for scientific computing.\n",
        "- [scikit-learn](http://scikit-learn.org/stable/index.html) — a tool for data mining and data analysis.\n",
        "- [Nltk](http://www.nltk.org) — a platform to work with human language data."
      ]
    },
    {
      "cell_type": "markdown",
      "metadata": {
        "id": "rtgrOJuL4-mk"
      },
      "source": [
        "### Data\n",
        "\n",
        "The following cell will download all data required for this assignment into the folder `week3/data`."
      ]
    },
    {
      "cell_type": "code",
      "metadata": {
        "collapsed": true,
        "colab": {
          "base_uri": "https://localhost:8080/",
          "height": 364,
          "referenced_widgets": [
            "a3de41b17b9b49c69fb93c868dbdae6f",
            "87a7a2faf89449759b24baa575a4152f",
            "42ba90d3d0664e1bab6852a9d83ba9e5",
            "25d7557ad1f749be8cb61ee03c91af78",
            "f19e6e14c4c14c429dd67bf471ba3a41",
            "7112efe604724a6c949a3e05ae9600ea",
            "d0539418b6b14012a0cec8e69e6d1429",
            "8dd6a7aa336f45eaa5d49b21375290fc"
          ]
        },
        "id": "ZLBrV4Yi4-mm",
        "outputId": "51dd16f4-6527-442b-ae62-8fcffc729b8e"
      },
      "source": [
        "try:\n",
        "    import google.colab\n",
        "    IN_COLAB = True\n",
        "except:\n",
        "    IN_COLAB = False\n",
        "\n",
        "if IN_COLAB:\n",
        "    ! wget https://raw.githubusercontent.com/hse-aml/natural-language-processing/master/setup_google_colab.py -O setup_google_colab.py\n",
        "    import setup_google_colab\n",
        "    setup_google_colab.setup_week3()\n",
        "    \n",
        "import sys\n",
        "sys.path.append(\"..\")\n",
        "from common.download_utils import download_week3_resources\n",
        "\n",
        "download_week3_resources()"
      ],
      "execution_count": 27,
      "outputs": [
        {
          "output_type": "stream",
          "text": [
            "--2021-06-03 05:42:49--  https://raw.githubusercontent.com/hse-aml/natural-language-processing/master/setup_google_colab.py\n",
            "Resolving raw.githubusercontent.com (raw.githubusercontent.com)... 185.199.108.133, 185.199.109.133, 185.199.110.133, ...\n",
            "Connecting to raw.githubusercontent.com (raw.githubusercontent.com)|185.199.108.133|:443... connected.\n",
            "HTTP request sent, awaiting response... 200 OK\n",
            "Length: 1939 (1.9K) [text/plain]\n",
            "Saving to: ‘setup_google_colab.py’\n",
            "\n",
            "\rsetup_google_colab.   0%[                    ]       0  --.-KB/s               \rsetup_google_colab. 100%[===================>]   1.89K  --.-KB/s    in 0s      \n",
            "\n",
            "2021-06-03 05:42:49 (21.2 MB/s) - ‘setup_google_colab.py’ saved [1939/1939]\n",
            "\n",
            "File data/train.tsv is already downloaded.\n",
            "File data/validation.tsv is already downloaded.\n",
            "File data/test.tsv is already downloaded.\n",
            "File data/test_embeddings.tsv is already downloaded.\n",
            "Downloading GoogleNews-vectors-negative300.bin.gz (1.5G) for you, it will take a while...\n"
          ],
          "name": "stdout"
        },
        {
          "output_type": "display_data",
          "data": {
            "application/vnd.jupyter.widget-view+json": {
              "model_id": "a3de41b17b9b49c69fb93c868dbdae6f",
              "version_minor": 0,
              "version_major": 2
            },
            "text/plain": [
              "HBox(children=(FloatProgress(value=0.0, max=1647046227.0), HTML(value='')))"
            ]
          },
          "metadata": {
            "tags": []
          }
        },
        {
          "output_type": "stream",
          "text": [
            "\n"
          ],
          "name": "stdout"
        }
      ]
    },
    {
      "cell_type": "markdown",
      "metadata": {
        "id": "aTmRAxrC4-mo"
      },
      "source": [
        "### Grading\n",
        "We will create a grader instace below and use it to collect your answers. Note that these outputs will be stored locally inside grader and will be uploaded to platform only after running submiting function in the last part of this assignment. If you want to make partial submission, you can run that cell any time you want."
      ]
    },
    {
      "cell_type": "code",
      "metadata": {
        "collapsed": true,
        "id": "vcis2CaG4-mp"
      },
      "source": [
        "from grader import Grader"
      ],
      "execution_count": 28,
      "outputs": []
    },
    {
      "cell_type": "code",
      "metadata": {
        "collapsed": true,
        "id": "Y0gNRsRR4-mq"
      },
      "source": [
        "grader = Grader()"
      ],
      "execution_count": 29,
      "outputs": []
    },
    {
      "cell_type": "markdown",
      "metadata": {
        "id": "vymrrFhs4-mr"
      },
      "source": [
        "## Word embedding\n",
        "\n",
        "To solve the problem, you will use two different models of embeddings:\n",
        "\n",
        " - [Pre-trained word vectors](https://code.google.com/archive/p/word2vec/) from Google which were trained on a part of Google News dataset (about 100 billion words). The model contains 300-dimensional vectors for 3 million words and phrases. `GoogleNews-vectors-negative300.bin.gz` will be downloaded in `download_week3_resources()`.\n",
        " - Representations using StarSpace on StackOverflow data sample. You will need to train them from scratch."
      ]
    },
    {
      "cell_type": "markdown",
      "metadata": {
        "id": "X2xA9FRt4-mr"
      },
      "source": [
        "It's always easier to start with pre-trained embeddings. Unpack the pre-trained Goggle's vectors and upload them using the function [KeyedVectors.load_word2vec_format](https://radimrehurek.com/gensim/models/keyedvectors.html) from gensim library with the parameter *binary=True*. If the size of the embeddings is larger than the avaliable memory, you could load only a part of the embeddings by defining the parameter *limit* (recommended: 500000)."
      ]
    },
    {
      "cell_type": "code",
      "metadata": {
        "collapsed": true,
        "id": "0pEFDcIv4-ms"
      },
      "source": [
        "import gensim"
      ],
      "execution_count": 30,
      "outputs": []
    },
    {
      "cell_type": "code",
      "metadata": {
        "id": "k6-IZjDu7Wwy"
      },
      "source": [
        "from gensim.models import KeyedVectors\n",
        "from gensim.test.utils import datapath"
      ],
      "execution_count": 31,
      "outputs": []
    },
    {
      "cell_type": "code",
      "metadata": {
        "collapsed": true,
        "id": "vhcwmPyk4-mu"
      },
      "source": [
        "# binary=True\n",
        "# limit : 500000\n",
        "######### YOUR CODE HERE #############\n",
        "wv_embeddings = KeyedVectors.load_word2vec_format(\n",
        "    datapath(\"/content/GoogleNews-vectors-negative300.bin.gz\"),\n",
        "    binary=True,\n",
        "    limit=500000\n",
        ")"
      ],
      "execution_count": 32,
      "outputs": []
    },
    {
      "cell_type": "code",
      "metadata": {
        "colab": {
          "base_uri": "https://localhost:8080/"
        },
        "id": "OXSJBMJX_RCD",
        "outputId": "7726a834-e72b-41f0-8712-1153fafb875b"
      },
      "source": [
        "wv_embeddings['word']"
      ],
      "execution_count": 33,
      "outputs": [
        {
          "output_type": "execute_result",
          "data": {
            "text/plain": [
              "array([ 3.59375000e-01,  4.15039062e-02,  9.03320312e-02,  5.46875000e-02,\n",
              "       -1.47460938e-01,  4.76074219e-02, -8.49609375e-02, -2.04101562e-01,\n",
              "        3.10546875e-01, -1.05590820e-02, -6.15234375e-02, -1.55273438e-01,\n",
              "       -1.52343750e-01,  8.54492188e-02, -2.70996094e-02,  3.84765625e-01,\n",
              "        4.78515625e-02,  2.58789062e-02,  4.49218750e-02, -2.79296875e-01,\n",
              "        9.09423828e-03,  4.08203125e-01,  2.40234375e-01, -3.06640625e-01,\n",
              "       -1.80664062e-01,  4.73632812e-02, -2.63671875e-01,  9.08203125e-02,\n",
              "        1.37695312e-01, -7.20977783e-04,  2.67333984e-02,  1.92382812e-01,\n",
              "       -2.29492188e-02,  9.70458984e-03, -7.37304688e-02,  4.29687500e-01,\n",
              "       -7.93457031e-03,  1.06445312e-01,  2.80761719e-02, -2.29492188e-01,\n",
              "       -1.91650391e-02, -2.36816406e-02,  3.51562500e-02,  1.71875000e-01,\n",
              "       -1.12304688e-01,  6.25000000e-02, -1.69921875e-01,  1.29882812e-01,\n",
              "       -1.54296875e-01,  1.58203125e-01, -7.76367188e-02,  1.78710938e-01,\n",
              "       -1.72851562e-01,  9.96093750e-02,  3.94531250e-01,  6.44531250e-02,\n",
              "       -6.83593750e-02, -3.18359375e-01,  5.95703125e-02, -1.02539062e-02,\n",
              "        9.37500000e-02,  8.25195312e-02, -2.52685547e-02,  1.09863281e-01,\n",
              "       -6.73828125e-02, -1.70898438e-01,  6.78710938e-02,  1.04492188e-01,\n",
              "       -2.11914062e-01,  1.30859375e-01, -1.24573708e-05,  1.85546875e-02,\n",
              "       -1.61132812e-01, -8.00781250e-02,  9.42382812e-02, -8.78906250e-02,\n",
              "        1.82617188e-01, -2.48718262e-03,  8.74023438e-02,  1.75781250e-01,\n",
              "       -2.17285156e-02, -1.96289062e-01,  9.52148438e-02, -5.15136719e-02,\n",
              "        1.01928711e-02,  6.22558594e-02, -2.13867188e-01,  2.25585938e-01,\n",
              "        2.46093750e-01, -6.12792969e-02,  1.74560547e-02, -1.46484375e-01,\n",
              "        3.93676758e-03, -1.62109375e-01, -1.10839844e-01,  6.88476562e-02,\n",
              "       -1.83593750e-01,  1.13281250e-01,  9.08203125e-02, -1.64062500e-01,\n",
              "       -3.71093750e-01, -5.39550781e-02, -8.66699219e-03, -1.18164062e-01,\n",
              "       -5.93261719e-02,  8.74023438e-02, -1.98242188e-01, -1.36718750e-01,\n",
              "        6.39648438e-02, -1.88476562e-01, -2.96875000e-01,  6.39648438e-02,\n",
              "        2.16796875e-01, -7.71484375e-02,  1.13769531e-01,  1.96533203e-02,\n",
              "        2.31445312e-01,  6.59179688e-02,  1.02539062e-01, -6.39648438e-02,\n",
              "       -1.48437500e-01, -5.59082031e-02, -2.43164062e-01,  2.71484375e-01,\n",
              "        1.83593750e-01,  3.06396484e-02, -2.01416016e-02, -1.53320312e-01,\n",
              "        7.08007812e-02, -2.35595703e-02, -9.66796875e-02, -2.83203125e-01,\n",
              "       -2.57568359e-02, -7.42187500e-02, -4.27246094e-02,  6.98242188e-02,\n",
              "       -1.74804688e-01,  2.27539062e-01,  2.92968750e-01, -1.86767578e-02,\n",
              "        2.94921875e-01, -1.12304688e-01,  4.85839844e-02, -2.15820312e-01,\n",
              "        1.03149414e-02, -1.14257812e-01, -6.39648438e-02,  7.27539062e-02,\n",
              "       -1.47460938e-01, -2.16796875e-01,  1.32812500e-01,  1.83593750e-01,\n",
              "       -1.48437500e-01, -1.31835938e-01, -3.73535156e-02,  1.19628906e-01,\n",
              "       -2.01171875e-01,  1.00097656e-01, -8.93554688e-02,  1.23596191e-03,\n",
              "        7.17773438e-02,  1.42578125e-01, -3.03955078e-02, -1.89453125e-01,\n",
              "       -8.88671875e-02,  3.83300781e-02, -1.74804688e-01, -3.66210938e-03,\n",
              "       -2.08007812e-01,  8.97216797e-03,  2.35351562e-01,  1.06933594e-01,\n",
              "       -2.65625000e-01, -2.16796875e-01,  7.08007812e-02,  9.08203125e-02,\n",
              "        3.00781250e-01, -1.07421875e-01,  1.01562500e-01, -6.25000000e-02,\n",
              "        1.33789062e-01, -1.62353516e-02,  2.50000000e-01, -1.72851562e-01,\n",
              "        3.32031250e-01,  1.12304688e-01, -1.47705078e-02, -1.04980469e-01,\n",
              "       -8.05664062e-02,  3.30078125e-01,  9.32617188e-02, -1.47460938e-01,\n",
              "       -2.05078125e-01, -7.56835938e-02, -1.04492188e-01,  6.25000000e-02,\n",
              "       -2.02148438e-01, -1.09375000e-01, -8.05664062e-02,  5.49316406e-02,\n",
              "       -8.88671875e-02,  5.24902344e-02, -2.23632812e-01,  5.17578125e-02,\n",
              "       -1.83593750e-01, -6.73828125e-02, -9.13085938e-02,  1.29882812e-01,\n",
              "       -2.31933594e-02, -1.04003906e-01,  1.79687500e-01,  8.34960938e-02,\n",
              "       -8.78906250e-02, -2.17773438e-01, -6.34765625e-02,  1.33789062e-01,\n",
              "        1.62109375e-01,  2.87109375e-01, -1.14257812e-01,  6.05468750e-02,\n",
              "        1.49414062e-01, -3.08227539e-03,  1.96289062e-01, -8.98437500e-02,\n",
              "        1.45507812e-01,  1.02539062e-02,  1.22070312e-02,  3.20312500e-01,\n",
              "        1.24511719e-01,  1.20849609e-02, -1.78710938e-01,  3.71093750e-02,\n",
              "        6.98242188e-02,  1.62109375e-01,  9.86328125e-02, -2.61718750e-01,\n",
              "        1.89453125e-01, -2.83203125e-02,  4.06250000e-01,  3.56445312e-02,\n",
              "        3.10058594e-02,  2.27050781e-02,  1.30859375e-01, -1.05957031e-01,\n",
              "        8.69140625e-02, -9.76562500e-02,  1.89453125e-01,  3.17382812e-02,\n",
              "        1.10351562e-01,  2.11914062e-01, -1.66992188e-01,  1.45263672e-02,\n",
              "        1.15234375e-01,  1.59179688e-01,  9.91210938e-02, -2.40234375e-01,\n",
              "       -2.34375000e-01,  1.74804688e-01,  1.20605469e-01, -3.67187500e-01,\n",
              "       -7.81250000e-02,  1.10839844e-01, -3.35937500e-01, -9.81445312e-02,\n",
              "       -7.47070312e-02, -1.89453125e-01,  7.81250000e-02, -2.53906250e-01,\n",
              "       -6.03027344e-02, -2.46093750e-01, -9.37500000e-02,  8.64257812e-02,\n",
              "        1.15722656e-01, -1.24511719e-01,  1.61132812e-01, -6.03027344e-02,\n",
              "       -2.47070312e-01, -9.52148438e-02, -4.05273438e-02,  2.51953125e-01,\n",
              "       -1.95312500e-01, -1.31835938e-01,  6.88476562e-02,  2.67333984e-02,\n",
              "        1.03027344e-01,  1.05957031e-01, -3.01513672e-02,  3.04687500e-01,\n",
              "       -8.74023438e-02,  1.19140625e-01, -1.74560547e-02,  8.78906250e-03,\n",
              "       -1.38671875e-01, -2.85156250e-01,  2.29492188e-01, -3.55468750e-01,\n",
              "        9.52148438e-03, -4.07714844e-02, -8.88671875e-02, -1.39160156e-02],\n",
              "      dtype=float32)"
            ]
          },
          "metadata": {
            "tags": []
          },
          "execution_count": 33
        }
      ]
    },
    {
      "cell_type": "markdown",
      "metadata": {
        "id": "UN2aE8mS4-mu"
      },
      "source": [
        "### How to work with Google's word2vec embeddings?\n",
        "\n",
        "Once you have loaded the representations, make sure you can access them. First, you can check if the loaded embeddings contain a word:\n",
        "    \n",
        "    'word' in wv_embeddings\n",
        "    \n",
        "Second, to get the corresponding embedding you can use the square brackets:\n",
        "\n",
        "    wv_embeddings['word']\n",
        " \n",
        "### Checking that the embeddings are correct \n",
        " \n",
        "To prevent any errors during the first stage, we can check that the loaded embeddings are correct. You can call the function *check_embeddings*, implemented below, which runs 3 tests:\n",
        "1. Find the most similar word for provided \"positive\" and \"negative\" words.\n",
        "2. Find which word from the given list doesn’t go with the others.\n",
        "3. Find the most similar word for the provided one.\n",
        "\n",
        "In the right case the function will return the string *These embeddings look good*. Othervise, you need to validate the previous steps."
      ]
    },
    {
      "cell_type": "code",
      "metadata": {
        "collapsed": true,
        "id": "T-JY_XOn4-mu"
      },
      "source": [
        "def check_embeddings(embeddings):\n",
        "    error_text = \"Something wrong with your embeddings ('%s test isn't correct).\"\n",
        "    most_similar = embeddings.most_similar(positive=['woman', 'king'], negative=['man'])\n",
        "    if len(most_similar) < 1 or most_similar[0][0] != 'queen':\n",
        "        return error_text % \"Most similar\"\n",
        "\n",
        "    doesnt_match = embeddings.doesnt_match(['breakfast', 'cereal', 'dinner', 'lunch'])\n",
        "    if doesnt_match != 'cereal':\n",
        "        return error_text % \"Doesn't match\"\n",
        "    \n",
        "    most_similar_to_given = embeddings.most_similar_to_given('music', ['water', 'sound', 'backpack', 'mouse'])\n",
        "    if most_similar_to_given != 'sound':\n",
        "        return error_text % \"Most similar to given\"\n",
        "    \n",
        "    return \"These embeddings look good.\""
      ],
      "execution_count": 34,
      "outputs": []
    },
    {
      "cell_type": "code",
      "metadata": {
        "collapsed": true,
        "colab": {
          "base_uri": "https://localhost:8080/"
        },
        "id": "FRGV9L3R4-mv",
        "outputId": "65a359b4-8f68-4bcb-a3ee-8571be0fe74d"
      },
      "source": [
        "print(check_embeddings(wv_embeddings))"
      ],
      "execution_count": 35,
      "outputs": [
        {
          "output_type": "stream",
          "text": [
            "These embeddings look good.\n"
          ],
          "name": "stdout"
        },
        {
          "output_type": "stream",
          "text": [
            "/usr/local/lib/python3.7/dist-packages/gensim/models/keyedvectors.py:895: FutureWarning: arrays to stack must be passed as a \"sequence\" type such as list or tuple. Support for non-sequence iterables such as generators is deprecated as of NumPy 1.16 and will raise an error in the future.\n",
            "  vectors = vstack(self.word_vec(word, use_norm=True) for word in used_words).astype(REAL)\n"
          ],
          "name": "stderr"
        }
      ]
    },
    {
      "cell_type": "markdown",
      "metadata": {
        "id": "X6cBI6p94-mw"
      },
      "source": [
        "## From word to text embeddings\n",
        "\n",
        "**Task 1 (Question2Vec).** Usually, we have word-based embeddings, but for the task we need to create a representation for the whole question. It could be done in different ways. In our case we will use a **mean** of all word vectors in the question. Now you need to implement the function *question_to_vec*, which calculates the question representation described above. This function should work with the input text as is without any preprocessing.\n",
        "\n",
        "Note that there could be words without the corresponding embeddings. In this case, you can just skip these words and don't take them into account during calculating the result. If the question doesn't contain any known word with embedding, the function should return a zero vector."
      ]
    },
    {
      "cell_type": "code",
      "metadata": {
        "collapsed": true,
        "id": "eDndhSMp4-mw"
      },
      "source": [
        "import numpy as np"
      ],
      "execution_count": 36,
      "outputs": []
    },
    {
      "cell_type": "code",
      "metadata": {
        "colab": {
          "base_uri": "https://localhost:8080/"
        },
        "id": "EeWUaeknAtl3",
        "outputId": "1998d8c5-e1e7-40d4-cb21-33e983c4af01"
      },
      "source": [
        "np.zeros(300).shape"
      ],
      "execution_count": 37,
      "outputs": [
        {
          "output_type": "execute_result",
          "data": {
            "text/plain": [
              "(300,)"
            ]
          },
          "metadata": {
            "tags": []
          },
          "execution_count": 37
        }
      ]
    },
    {
      "cell_type": "code",
      "metadata": {
        "collapsed": true,
        "id": "38YeeF-d4-mw"
      },
      "source": [
        "def question_to_vec(question, embeddings, dim=300):\n",
        "    \"\"\"\n",
        "        question: a string\n",
        "        embeddings: dict where the key is a word and a value is its' embedding\n",
        "        dim: size of the representation\n",
        "\n",
        "        result: vector representation for the question\n",
        "    \"\"\"\n",
        "    ######################################\n",
        "    ######### YOUR CODE HERE #############\n",
        "    ######################################\n",
        "    result = np.zeros(dim)\n",
        "    w_list = question.split(' ')\n",
        "    qnt = 0\n",
        "    for w in w_list:\n",
        "        if w in embeddings:\n",
        "            result += embeddings[w]\n",
        "            qnt += 1\n",
        "    if qnt > 0:\n",
        "        result = result/qnt\n",
        "    return result"
      ],
      "execution_count": 38,
      "outputs": []
    },
    {
      "cell_type": "code",
      "metadata": {
        "colab": {
          "base_uri": "https://localhost:8080/"
        },
        "id": "_GPMXSGUB3Zg",
        "outputId": "057127cd-38b4-407e-a9e0-c281f7dd339b"
      },
      "source": [
        "question = 'How much is the fish?'\n",
        "question_to_vec(question, wv_embeddings)"
      ],
      "execution_count": 39,
      "outputs": [
        {
          "output_type": "execute_result",
          "data": {
            "text/plain": [
              "array([ 0.10405731,  0.078125  ,  0.04803467,  0.11422729, -0.10717773,\n",
              "        0.07519531,  0.12329102, -0.10040283,  0.08361816, -0.01063538,\n",
              "       -0.00108337, -0.10925293, -0.03230286,  0.0057373 , -0.06451416,\n",
              "        0.10913086,  0.01768494,  0.14471436,  0.019104  , -0.0103302 ,\n",
              "       -0.08752441,  0.10083008,  0.10479736, -0.04833412,  0.02441406,\n",
              "        0.04656982, -0.15905762,  0.05543518,  0.02096176,  0.03839111,\n",
              "        0.02648926,  0.04592896, -0.05865479, -0.02285004,  0.06092834,\n",
              "        0.11827087, -0.06250763,  0.06774902,  0.06555176,  0.12182617,\n",
              "        0.01287842, -0.04775238,  0.07406616, -0.08294678, -0.00572205,\n",
              "       -0.02038193, -0.04885864,  0.06872559,  0.05621338,  0.02062988,\n",
              "        0.00872803,  0.0758667 ,  0.02207947, -0.09533691,  0.07910156,\n",
              "        0.05963135, -0.0539856 ,  0.00110102,  0.11473083, -0.01544189,\n",
              "        0.01556396,  0.09207153, -0.19476318, -0.09436035, -0.02560425,\n",
              "       -0.07192993,  0.01968002,  0.07617188, -0.08417511, -0.02185059,\n",
              "        0.08096313,  0.05474854,  0.1361084 , -0.03128052, -0.08721924,\n",
              "       -0.13752747,  0.07299805,  0.13983154,  0.03707886,  0.16479492,\n",
              "       -0.05200195, -0.05993652,  0.01945686,  0.03762817, -0.19403076,\n",
              "       -0.09348869, -0.10314941,  0.13867188,  0.0401001 ,  0.07234192,\n",
              "        0.07409668,  0.04302979, -0.12603378, -0.08447266, -0.03039551,\n",
              "       -0.04561996,  0.05130768,  0.04306793, -0.00343323,  0.06530762,\n",
              "        0.02861357,  0.0014267 , -0.05662346,  0.01367188, -0.14416504,\n",
              "       -0.02954102, -0.12814331, -0.05909729, -0.05548096, -0.06201172,\n",
              "        0.0234375 , -0.05955505,  0.01147461, -0.00548553,  0.12060547,\n",
              "        0.07318115,  0.07226562, -0.02172852,  0.04165649,  0.05999756,\n",
              "       -0.07885742,  0.015625  , -0.08676147,  0.02648926, -0.02600098,\n",
              "        0.07940674, -0.05575562,  0.07324219,  0.01815796, -0.04699707,\n",
              "       -0.0045929 , -0.0814209 , -0.05094147, -0.06506348, -0.01914215,\n",
              "       -0.13916016,  0.09283447, -0.03637695,  0.00663757,  0.02360535,\n",
              "        0.105896  , -0.03125   ,  0.05006409, -0.07809448,  0.05189514,\n",
              "       -0.12438965,  0.0333252 , -0.13491821,  0.06058502,  0.01141357,\n",
              "        0.00153732,  0.0140686 , -0.02148438,  0.06994629,  0.03598022,\n",
              "        0.02474976,  0.00897217, -0.07579041, -0.06188965, -0.08651733,\n",
              "        0.04486847,  0.16299438,  0.03708839,  0.0355835 ,  0.00558472,\n",
              "       -0.05175781,  0.05990601, -0.03068542,  0.0234375 ,  0.0579834 ,\n",
              "       -0.12939453,  0.00170898, -0.01583862, -0.14611816, -0.07915115,\n",
              "        0.06793213,  0.06599426, -0.10032654,  0.01312256, -0.05078125,\n",
              "       -0.06271362, -0.01054764, -0.03090668, -0.08532715, -0.00366211,\n",
              "        0.04217529, -0.01899719, -0.00714111,  0.09863281,  0.07501221,\n",
              "        0.09008789, -0.01446533,  0.07843018, -0.01278687, -0.02340889,\n",
              "       -0.06661987, -0.14001465, -0.01974487,  0.05682373, -0.14074707,\n",
              "        0.04138184,  0.04328918, -0.14141846,  0.15083313, -0.06066895,\n",
              "        0.09838867, -0.09460449,  0.00220299,  0.00073242, -0.0067749 ,\n",
              "       -0.07452393,  0.08883667, -0.0018692 ,  0.0066452 , -0.20288086,\n",
              "        0.02918625,  0.17358398,  0.019104  , -0.06314182,  0.02905273,\n",
              "       -0.02859497, -0.08837891, -0.10637379, -0.05671692,  0.07376099,\n",
              "       -0.05999756,  0.06021118, -0.01174927,  0.02334595,  0.05291748,\n",
              "        0.02127075, -0.06420898,  0.10406494,  0.02862549,  0.00334358,\n",
              "       -0.0796814 , -0.0871582 , -0.07058716, -0.00323486, -0.021492  ,\n",
              "       -0.02162933, -0.0202179 ,  0.13825989, -0.19335938, -0.05221558,\n",
              "       -0.08959961,  0.06918335,  0.01245117, -0.0045166 ,  0.01989746,\n",
              "        0.06323242,  0.03277588,  0.14257812,  0.10963058,  0.02880859,\n",
              "       -0.06130981,  0.01928711,  0.05029297, -0.08673096, -0.00772095,\n",
              "        0.04238892, -0.02697754, -0.07171631,  0.00744629,  0.00372314,\n",
              "        0.20922852, -0.02100372, -0.05010986, -0.0289917 ,  0.02197266,\n",
              "       -0.02456665,  0.11419678,  0.11660767,  0.09973145, -0.01860046,\n",
              "       -0.01709747, -0.04156494, -0.12759399, -0.04180908, -0.03833008,\n",
              "        0.1072998 , -0.02648544, -0.0579071 ,  0.14893341,  0.0451355 ,\n",
              "       -0.04386902, -0.13079834, -0.07772827,  0.0256958 ,  0.08364868,\n",
              "       -0.19580078,  0.00222778, -0.07295227,  0.05859375, -0.04699707,\n",
              "       -0.07423401,  0.0491333 , -0.02789307,  0.02532959, -0.01965332])"
            ]
          },
          "metadata": {
            "tags": []
          },
          "execution_count": 39
        }
      ]
    },
    {
      "cell_type": "markdown",
      "metadata": {
        "id": "MyTSdUh44-mx"
      },
      "source": [
        "To check the basic correctness of your implementation, run the function *question_to_vec_tests*."
      ]
    },
    {
      "cell_type": "code",
      "metadata": {
        "collapsed": true,
        "id": "RlOzSxFV4-my"
      },
      "source": [
        "def question_to_vec_tests():\n",
        "    if (np.zeros(300) != question_to_vec('', wv_embeddings)).any():\n",
        "        return \"You need to return zero vector for empty question.\"\n",
        "    if (np.zeros(300) != question_to_vec('thereisnosuchword', wv_embeddings)).any():\n",
        "        return \"You need to return zero vector for the question, which consists only unknown words.\"\n",
        "    if (wv_embeddings['word'] != question_to_vec('word', wv_embeddings)).any():\n",
        "        return \"You need to check the corectness of your function.\"\n",
        "    if ((wv_embeddings['I'] + wv_embeddings['am']) / 2 != question_to_vec('I am', wv_embeddings)).any():\n",
        "        return \"Your function should calculate a mean of word vectors.\"\n",
        "    if (wv_embeddings['word'] != question_to_vec('thereisnosuchword word', wv_embeddings)).any():\n",
        "        return \"You should not consider words which embeddings are unknown.\"\n",
        "    return \"Basic tests are passed.\""
      ],
      "execution_count": 40,
      "outputs": []
    },
    {
      "cell_type": "code",
      "metadata": {
        "collapsed": true,
        "colab": {
          "base_uri": "https://localhost:8080/"
        },
        "id": "NwUI3uTi4-my",
        "outputId": "fbd24766-67ee-4ccc-d555-ab8bdee0fe8f"
      },
      "source": [
        "print(question_to_vec_tests())"
      ],
      "execution_count": 41,
      "outputs": [
        {
          "output_type": "stream",
          "text": [
            "Basic tests are passed.\n"
          ],
          "name": "stdout"
        }
      ]
    },
    {
      "cell_type": "markdown",
      "metadata": {
        "id": "nJwr1CSs4-mz"
      },
      "source": [
        "You can submit embeddings for the questions from the file *test_embeddings.tsv* to earn the points. In this task you don't need to transform the text of a question somehow."
      ]
    },
    {
      "cell_type": "code",
      "metadata": {
        "collapsed": true,
        "colab": {
          "base_uri": "https://localhost:8080/"
        },
        "id": "APdgm4Ph4-mz",
        "outputId": "271e06b4-3815-4c46-de4b-0feccaac3d98"
      },
      "source": [
        "import nltk\n",
        "nltk.download('stopwords')\n",
        "from util import array_to_string"
      ],
      "execution_count": 42,
      "outputs": [
        {
          "output_type": "stream",
          "text": [
            "[nltk_data] Downloading package stopwords to /root/nltk_data...\n",
            "[nltk_data]   Package stopwords is already up-to-date!\n"
          ],
          "name": "stdout"
        }
      ]
    },
    {
      "cell_type": "code",
      "metadata": {
        "collapsed": true,
        "colab": {
          "base_uri": "https://localhost:8080/"
        },
        "id": "qk7s-gAp4-mz",
        "outputId": "cad1a68c-7606-4f2a-8e88-4c117b92d321"
      },
      "source": [
        "question2vec_result = []\n",
        "for question in open('data/test_embeddings.tsv'):\n",
        "    question = question.strip()\n",
        "    answer = question_to_vec(question, wv_embeddings)\n",
        "    question2vec_result = np.append(question2vec_result, answer)\n",
        "\n",
        "grader.submit_tag('Question2Vec', array_to_string(question2vec_result))"
      ],
      "execution_count": 43,
      "outputs": [
        {
          "output_type": "stream",
          "text": [
            "Current answer for task Question2Vec is: 0.019293891059027776\n",
            "-0.028727213541666668\n",
            "0.046056111653645836\n",
            "0.08525933159722222\n",
            "0.02430555555555...\n"
          ],
          "name": "stdout"
        }
      ]
    },
    {
      "cell_type": "markdown",
      "metadata": {
        "id": "JCTbJbsu4-m0"
      },
      "source": [
        "Now we have a method to create a representation of any sentence and we are ready for the first evaluation. So, let's check how well our solution (Google's vectors + *question_to_vec*) will work.\n",
        "\n",
        "## Evaluation of text similarity\n",
        "\n",
        "We can imagine that if we use good embeddings, the cosine similarity between the duplicate sentences should be less than for the random ones. Overall, for each pair of duplicate sentences we can generate *R* random negative examples and find out the position of the correct duplicate.  \n",
        "\n",
        "For example, we have the question *\"Exceptions What really happens\"* and we are sure that another question *\"How does the catch keyword determine the type of exception that was thrown\"* is a duplicate. But our model doesn't know it and tries to find out the best option also among questions like *\"How Can I Make These Links Rotate in PHP\"*, *\"NSLog array description not memory address\"* and *\"PECL_HTTP not recognised php ubuntu\"*. The goal of the model is to rank all these 4 questions (1 *positive* and *R* = 3 *negative*) in the way that the correct one is in the first place.\n",
        "\n",
        "However, it is unnatural to count on that the best candidate will be always in the first place. So let us consider the place of the best candidate in the sorted list of candidates and formulate a metric based on it. We can fix some *K* — a reasonalble number of top-ranked elements and *N* — a number of queries (size of the sample).\n",
        "\n",
        "### Hits@K\n",
        "\n",
        "The first simple metric will be a number of correct hits for some *K*:\n",
        "$$ \\text{Hits@K} = \\frac{1}{N}\\sum_{i=1}^N \\, [dup_i \\in topK(q_i)]$$\n",
        "\n",
        "where $q_i$ is the i-th query, $dup_i$ is its duplicate, $topK(q_i)$ is the top K elements of the ranked sentences provided by our model and the operation $[dup_i \\in topK(q_i)]$ equals 1 if the condition is true and 0 otherwise (more details about this operation could be found [here](https://en.wikipedia.org/wiki/Iverson_bracket)).\n",
        "\n",
        "\n",
        "### DCG@K\n",
        "The second one is a simplified [DCG metric](https://en.wikipedia.org/wiki/Discounted_cumulative_gain):\n",
        "\n",
        "$$ \\text{DCG@K} = \\frac{1}{N} \\sum_{i=1}^N\\frac{1}{\\log_2(1+rank_{dup_i})}\\cdot[rank_{dup_i} \\le K] $$\n",
        "\n",
        "where $rank_{dup_i}$ is a position of the duplicate in the sorted list of the nearest sentences for the query $q_i$. According to this metric, the model gets a higher reward for a higher position of the correct answer. If the answer does not appear in topK at all, the reward is zero. "
      ]
    },
    {
      "cell_type": "markdown",
      "metadata": {
        "id": "233XBX0q4-m0"
      },
      "source": [
        "### Evaluation examples\n",
        "\n",
        "Let's calculate the described metrics for the toy example introduced above. In this case $N$ = 1 and the correct candidate for $q_1$ is *\"How does the catch keyword determine the type of exception that was thrown\"*. Consider the following ranking of the candidates:\n",
        "1. *\"How Can I Make These Links Rotate in PHP\"*\n",
        "2. *\"How does the catch keyword determine the type of exception that was thrown\"*\n",
        "3. *\"NSLog array description not memory address\"*\n",
        "4. *\"PECL_HTTP not recognised php ubuntu\"*\n",
        "\n",
        "Using the ranking above, calculate *Hits@K* metric for *K = 1, 2, 4*: \n",
        " \n",
        "- [K = 1] $\\text{Hits@1} = \\frac{1}{1}\\sum_{i=1}^1 \\, [dup_i \\in top1(q_i)] = [dup_1 \\in top1(q_1)] = 0$ because the correct answer doesn't appear in the *top1* list.\n",
        "- [K = 2] $\\text{Hits@2} = \\frac{1}{1}\\sum_{i=1}^1 \\, [dup_i \\in top2(q_i)] = [dup_1 \\in top2(q_1)] = 1$ because $rank_{dup_1} = 2$.\n",
        "- [K = 4] $\\text{Hits@4} = \\frac{1}{1}\\sum_{i=1}^1 \\, [dup_i \\in top4(q_i)] = [dup_1 \\in top4(q_1)] = 1$\n",
        "\n",
        "Using the ranking above, calculate *DCG@K* metric for *K = 1, 2, 4*:\n",
        "\n",
        "- [K = 1] $\\text{DCG@1} = \\frac{1}{1} \\sum_{i=1}^1\\frac{1}{\\log_2(1+rank_{dup_i})}\\cdot[rank_{dup_i} \\le 1] = \\frac{1}{\\log_2(1+rank_{dup_i})}\\cdot[rank_{dup_i} \\le 1] = 0$ because the correct answer doesn't appear in the top1 list.\n",
        "- [K = 2] $\\text{DCG@2} = \\frac{1}{1} \\sum_{i=1}^1\\frac{1}{\\log_2(1+rank_{dup_i})}\\cdot[rank_{dup_i} \\le 2] = \\frac{1}{\\log_2{3}}$, because $rank_{dup_1} = 2$.\n",
        "- [K = 4] $\\text{DCG@4} = \\frac{1}{1} \\sum_{i=1}^1\\frac{1}{\\log_2(1+rank_{dup_i})}\\cdot[rank_{dup_i} \\le 4] = \\frac{1}{\\log_2{3}}$.\n"
      ]
    },
    {
      "cell_type": "markdown",
      "metadata": {
        "id": "0jEcc64u4-m1"
      },
      "source": [
        "**Tasks 2 and 3 (HitsCount and DCGScore).** Implement the functions *hits_count* and *dcg_score* as described above. Each function has two arguments: *dup_ranks* and *k*. *dup_ranks* is a list which contains *values of ranks* of duplicates. For example, *dup_ranks* is *[2]* for the example provided above."
      ]
    },
    {
      "cell_type": "code",
      "metadata": {
        "collapsed": true,
        "id": "bXKym_Ou4-m1"
      },
      "source": [
        "def hits_count(dup_ranks, k):\n",
        "    \"\"\"\n",
        "        dup_ranks: list of duplicates' ranks; one rank per question; \n",
        "                   length is a number of questions which we are looking for duplicates; \n",
        "                   rank is a number from 1 to len(candidates of the question); \n",
        "                   e.g. [2, 3] means that the first duplicate has the rank 2, the second one — 3.\n",
        "        k: number of top-ranked elements (k in Hits@k metric)\n",
        "\n",
        "        result: return Hits@k value for current ranking\n",
        "    \"\"\"\n",
        "    ######################################\n",
        "    ######### YOUR CODE HERE #############\n",
        "    ######################################\n",
        "    result = 0\n",
        "    for d in dup_ranks:\n",
        "        if d <= k:\n",
        "            result += 1\n",
        "    if len(dup_ranks) >= 0:\n",
        "        result = result/len(dup_ranks)\n",
        "    return result"
      ],
      "execution_count": 44,
      "outputs": []
    },
    {
      "cell_type": "markdown",
      "metadata": {
        "id": "y-wnjIGf4-m2"
      },
      "source": [
        "Test your code on the tiny examples:"
      ]
    },
    {
      "cell_type": "code",
      "metadata": {
        "collapsed": true,
        "id": "XbplvaOD4-m2"
      },
      "source": [
        "def test_hits():\n",
        "    # *Evaluation example*\n",
        "    # answers — dup_i\n",
        "    answers = [\"How does the catch keyword determine the type of exception that was thrown\"]\n",
        "    \n",
        "    # candidates_ranking — the ranked sentences provided by our model\n",
        "    candidates_ranking = [[\"How Can I Make These Links Rotate in PHP\", \n",
        "                           \"How does the catch keyword determine the type of exception that was thrown\",\n",
        "                           \"NSLog array description not memory address\",\n",
        "                           \"PECL_HTTP not recognised php ubuntu\"]]\n",
        "    # dup_ranks — position of the dup_i in the list of ranks +1\n",
        "    dup_ranks = [candidates_ranking[i].index(answers[i]) + 1 for i in range(len(answers))]\n",
        "    \n",
        "    # correct_answers — the expected values of the result for each k from 1 to 4\n",
        "    correct_answers = [0, 1, 1, 1]\n",
        "    for k, correct in enumerate(correct_answers, 1):\n",
        "        if not np.isclose(hits_count(dup_ranks, k), correct):\n",
        "            return \"Check the function.\"\n",
        "    \n",
        "    # Other tests\n",
        "    answers = [\"How does the catch keyword determine the type of exception that was thrown\", \n",
        "               \"Convert Google results object (pure js) to Python object\"]\n",
        "    \n",
        "    # The first test: both duplicates on the first position in ranked list\n",
        "    candidates_ranking = [[\"How does the catch keyword determine the type of exception that was thrown\",\n",
        "                           \"How Can I Make These Links Rotate in PHP\"], \n",
        "                          [\"Convert Google results object (pure js) to Python object\",\n",
        "                           \"WPF- How to update the changes in list item of a list\"]]\n",
        "    dup_ranks = [candidates_ranking[i].index(answers[i]) + 1 for i in range(len(answers))]\n",
        "    correct_answers = [1, 1]\n",
        "    for k, correct in enumerate(correct_answers, 1):\n",
        "        if not np.isclose(hits_count(dup_ranks, k), correct):\n",
        "            return \"Check the function (test: both duplicates on the first position in ranked list).\"\n",
        "        \n",
        "    # The second test: one candidate on the first position, another — on the second\n",
        "    candidates_ranking = [[\"How Can I Make These Links Rotate in PHP\", \n",
        "                           \"How does the catch keyword determine the type of exception that was thrown\"], \n",
        "                          [\"Convert Google results object (pure js) to Python object\",\n",
        "                           \"WPF- How to update the changes in list item of a list\"]]\n",
        "    dup_ranks = [candidates_ranking[i].index(answers[i]) + 1 for i in range(len(answers))]\n",
        "    correct_answers = [0.5, 1]\n",
        "    for k, correct in enumerate(correct_answers, 1):\n",
        "        if not np.isclose(hits_count(dup_ranks, k), correct):\n",
        "            return \"Check the function (test: one candidate on the first position, another — on the second).\"\n",
        "\n",
        "    # The third test: both candidates on the second position\n",
        "    candidates_ranking = [[\"How Can I Make These Links Rotate in PHP\", \n",
        "                           \"How does the catch keyword determine the type of exception that was thrown\"], \n",
        "                          [\"WPF- How to update the changes in list item of a list\",\n",
        "                           \"Convert Google results object (pure js) to Python object\"]]\n",
        "    dup_ranks = [candidates_ranking[i].index(answers[i]) + 1 for i in range(len(answers))]\n",
        "    correct_answers = [0, 1]\n",
        "    for k, correct in enumerate(correct_answers, 1):\n",
        "        if not np.isclose(hits_count(dup_ranks, k), correct):\n",
        "            return \"Check the function (test: both candidates on the second position).\"\n",
        "\n",
        "    return \"Basic test are passed.\""
      ],
      "execution_count": 45,
      "outputs": []
    },
    {
      "cell_type": "code",
      "metadata": {
        "collapsed": true,
        "colab": {
          "base_uri": "https://localhost:8080/"
        },
        "id": "3s-Q5m2-4-m2",
        "outputId": "7c7edd26-ba13-4627-cd6e-434e0c4aa77f"
      },
      "source": [
        "print(test_hits())"
      ],
      "execution_count": 46,
      "outputs": [
        {
          "output_type": "stream",
          "text": [
            "Basic test are passed.\n"
          ],
          "name": "stdout"
        }
      ]
    },
    {
      "cell_type": "code",
      "metadata": {
        "collapsed": true,
        "id": "kxcNdulr4-nC"
      },
      "source": [
        "def dcg_score(dup_ranks, k):\n",
        "    \"\"\"\n",
        "        dup_ranks: list of duplicates' ranks; one rank per question; \n",
        "                   length is a number of questions which we are looking for duplicates; \n",
        "                   rank is a number from 1 to len(candidates of the question); \n",
        "                   e.g. [2, 3] means that the first duplicate has the rank 2, the second one — 3.\n",
        "        k: number of top-ranked elements (k in DCG@k metric)\n",
        "\n",
        "        result: return DCG@k value for current ranking\n",
        "    \"\"\"\n",
        "    ######################################\n",
        "    ######### YOUR CODE HERE #############\n",
        "    ######################################\n",
        "    result = 0\n",
        "    for d in dup_ranks:\n",
        "        if d <= k:\n",
        "            result += 1/np.log2(1 + d)\n",
        "    if len(dup_ranks) >= 0:\n",
        "        result = result/len(dup_ranks)\n",
        "    return result"
      ],
      "execution_count": 47,
      "outputs": []
    },
    {
      "cell_type": "code",
      "metadata": {
        "collapsed": true,
        "id": "rZEm5Z-E4-nD"
      },
      "source": [
        "def test_dcg():\n",
        "    # *Evaluation example*\n",
        "    # answers — dup_i\n",
        "    answers = [\"How does the catch keyword determine the type of exception that was thrown\"]\n",
        "    \n",
        "    # candidates_ranking — the ranked sentences provided by our model\n",
        "    candidates_ranking = [[\"How Can I Make These Links Rotate in PHP\", \n",
        "                           \"How does the catch keyword determine the type of exception that was thrown\",\n",
        "                           \"NSLog array description not memory address\",\n",
        "                           \"PECL_HTTP not recognised php ubuntu\"]]\n",
        "    # dup_ranks — position of the dup_i in the list of ranks +1\n",
        "    dup_ranks = [candidates_ranking[i].index(answers[i]) + 1 for i in range(len(answers))]\n",
        "    \n",
        "    # correct_answers — the expected values of the result for each k from 1 to 4\n",
        "    correct_answers = [0, 1 / (np.log2(3)), 1 / (np.log2(3)), 1 / (np.log2(3))]\n",
        "    for k, correct in enumerate(correct_answers, 1):\n",
        "        if not np.isclose(dcg_score(dup_ranks, k), correct):\n",
        "            return \"Check the function.\"\n",
        "    \n",
        "    # Other tests\n",
        "    answers = [\"How does the catch keyword determine the type of exception that was thrown\", \n",
        "               \"Convert Google results object (pure js) to Python object\"]\n",
        "\n",
        "    # The first test: both duplicates on the first position in ranked list\n",
        "    candidates_ranking = [[\"How does the catch keyword determine the type of exception that was thrown\",\n",
        "                           \"How Can I Make These Links Rotate in PHP\"], \n",
        "                          [\"Convert Google results object (pure js) to Python object\",\n",
        "                           \"WPF- How to update the changes in list item of a list\"]]\n",
        "    dup_ranks = [candidates_ranking[i].index(answers[i]) + 1 for i in range(len(answers))]\n",
        "    correct_answers = [1, 1]\n",
        "    for k, correct in enumerate(correct_answers, 1):\n",
        "        if not np.isclose(dcg_score(dup_ranks, k), correct):\n",
        "            return \"Check the function (test: both duplicates on the first position in ranked list).\"\n",
        "        \n",
        "    # The second test: one candidate on the first position, another — on the second\n",
        "    candidates_ranking = [[\"How Can I Make These Links Rotate in PHP\", \n",
        "                           \"How does the catch keyword determine the type of exception that was thrown\"], \n",
        "                          [\"Convert Google results object (pure js) to Python object\",\n",
        "                           \"WPF- How to update the changes in list item of a list\"]]\n",
        "    dup_ranks = [candidates_ranking[i].index(answers[i]) + 1 for i in range(len(answers))]\n",
        "    correct_answers = [0.5, (1 + (1 / (np.log2(3)))) / 2]\n",
        "    for k, correct in enumerate(correct_answers, 1):\n",
        "        if not np.isclose(dcg_score(dup_ranks, k), correct):\n",
        "            return \"Check the function (test: one candidate on the first position, another — on the second).\"\n",
        "        \n",
        "    # The third test: both candidates on the second position\n",
        "    candidates_ranking = [[\"How Can I Make These Links Rotate in PHP\",\n",
        "                           \"How does the catch keyword determine the type of exception that was thrown\"], \n",
        "                          [\"WPF- How to update the changes in list item of a list\",\n",
        "                           \"Convert Google results object (pure js) to Python object\"]]\n",
        "    dup_ranks = [candidates_ranking[i].index(answers[i]) + 1 for i in range(len(answers))]\n",
        "    correct_answers = [0, 1 / (np.log2(3))]\n",
        "    for k, correct in enumerate(correct_answers, 1):\n",
        "        if not np.isclose(dcg_score(dup_ranks, k), correct):\n",
        "            return \"Check the function (test: both candidates on the second position).\"\n",
        "\n",
        "    return \"Basic test are passed.\""
      ],
      "execution_count": 48,
      "outputs": []
    },
    {
      "cell_type": "code",
      "metadata": {
        "collapsed": true,
        "colab": {
          "base_uri": "https://localhost:8080/"
        },
        "id": "nhlI_Upg4-nF",
        "outputId": "80a73d65-0198-4279-d311-8cc98ced473c"
      },
      "source": [
        "print(test_dcg())"
      ],
      "execution_count": 49,
      "outputs": [
        {
          "output_type": "stream",
          "text": [
            "Basic test are passed.\n"
          ],
          "name": "stdout"
        }
      ]
    },
    {
      "cell_type": "markdown",
      "metadata": {
        "id": "Bev8J5Kw4-nG"
      },
      "source": [
        "Submit results of the functions *hits_count* and *dcg_score* for the following examples to earn the points."
      ]
    },
    {
      "cell_type": "code",
      "metadata": {
        "collapsed": true,
        "id": "dusT89Pn4-nG"
      },
      "source": [
        "test_examples = [\n",
        "    [1],\n",
        "    [1, 2],\n",
        "    [2, 1],\n",
        "    [1, 2, 3],\n",
        "    [1, 2, 3, 4, 5, 6, 7, 8, 9, 10],\n",
        "    [9, 5, 4, 2, 8, 10, 7, 6, 1, 3],\n",
        "    [4, 3, 5, 1, 9, 10, 7, 8, 2, 6],\n",
        "    [5, 1, 7, 6, 2, 3, 8, 9, 10, 4],\n",
        "    [6, 3, 1, 4, 7, 2, 9, 8, 10, 5],\n",
        "    [10, 9, 8, 7, 6, 5, 4, 3, 2, 1],\n",
        "]"
      ],
      "execution_count": 50,
      "outputs": []
    },
    {
      "cell_type": "code",
      "metadata": {
        "collapsed": true,
        "colab": {
          "base_uri": "https://localhost:8080/"
        },
        "id": "dQuYnWMv4-nG",
        "outputId": "204101f3-e505-4cfe-a7d9-c8015a042d08"
      },
      "source": [
        "hits_results = []\n",
        "for example in test_examples:\n",
        "    for k in range(len(example)):\n",
        "        hits_results.append(hits_count(example, k + 1))\n",
        "grader.submit_tag('HitsCount', array_to_string(hits_results))"
      ],
      "execution_count": 51,
      "outputs": [
        {
          "output_type": "stream",
          "text": [
            "Current answer for task HitsCount is: 1.0\n",
            "0.5\n",
            "1.0\n",
            "0.5\n",
            "1.0\n",
            "0.3333333333333333\n",
            "0.6666666666666666\n",
            "1.0\n",
            "0.1\n",
            "0.2\n",
            "0.3\n",
            "0.4\n",
            "0.5\n",
            "0.6\n",
            "0.7\n",
            "0.8\n",
            "0.9\n",
            "1....\n"
          ],
          "name": "stdout"
        }
      ]
    },
    {
      "cell_type": "code",
      "metadata": {
        "collapsed": true,
        "colab": {
          "base_uri": "https://localhost:8080/"
        },
        "id": "gFdqwOJu4-nG",
        "outputId": "70c74cdc-39ac-454b-f6a5-1214e86964a1"
      },
      "source": [
        "dcg_results = []\n",
        "for example in test_examples:\n",
        "    for k in range(len(example)):\n",
        "        dcg_results.append(dcg_score(example, k + 1))\n",
        "grader.submit_tag('DCGScore', array_to_string(dcg_results))"
      ],
      "execution_count": 52,
      "outputs": [
        {
          "output_type": "stream",
          "text": [
            "Current answer for task DCGScore is: 1.0\n",
            "0.5\n",
            "0.8154648767857288\n",
            "0.5\n",
            "0.8154648767857288\n",
            "0.3333333333333333\n",
            "0.5436432511904858\n",
            "0.7103099178...\n"
          ],
          "name": "stdout"
        }
      ]
    },
    {
      "cell_type": "markdown",
      "metadata": {
        "id": "awE0aG0d4-nH"
      },
      "source": [
        "##  First solution: pre-trained embeddings"
      ]
    },
    {
      "cell_type": "markdown",
      "metadata": {
        "id": "KkyXWERY4-nH"
      },
      "source": [
        "We will work with predefined train, validation and test corpora. All the files are tab-separated, but have a different format:\n",
        " - *train* corpus contains similar sentences at the same row.\n",
        " - *validation* corpus contains the following columns: *question*, *similar question*, *negative example 1*, *negative example 2*, ... \n",
        " - *test* corpus contains the following columns: *question*, *example 1*, *example 2*, ...\n",
        "\n",
        "Validation corpus will be used for the intermediate validation of models. The test data will be necessary for submitting the quality of your model in the system."
      ]
    },
    {
      "cell_type": "markdown",
      "metadata": {
        "id": "AK4vwqYc4-nH"
      },
      "source": [
        "Now you should read *validation* corpus, located at `data/validation.tsv`. You will use it later to evaluate current solution."
      ]
    },
    {
      "cell_type": "code",
      "metadata": {
        "collapsed": true,
        "id": "7eBgAlmt4-nI"
      },
      "source": [
        "def read_corpus(filename):\n",
        "    data = []\n",
        "    for line in open(filename, encoding='utf-8'):\n",
        "        data.append(line.strip().split('\\t'))\n",
        "    return data"
      ],
      "execution_count": 54,
      "outputs": []
    },
    {
      "cell_type": "code",
      "metadata": {
        "collapsed": true,
        "id": "gCf4F7004-nI"
      },
      "source": [
        "######### YOUR CODE HERE #############\n",
        "validation = read_corpus('data/validation.tsv')"
      ],
      "execution_count": 56,
      "outputs": []
    },
    {
      "cell_type": "code",
      "metadata": {
        "collapsed": true,
        "id": "HVn4qHjh4-nI"
      },
      "source": [
        "from sklearn.metrics.pairwise import cosine_similarity"
      ],
      "execution_count": 64,
      "outputs": []
    },
    {
      "cell_type": "markdown",
      "metadata": {
        "id": "hEUNeqc04-nI"
      },
      "source": [
        "We will use cosine distance to rank candidate questions which you need to implement in the function *rank_candidates*. The function should return a sorted list of pairs *(initial position in candidates list, candidate)*. Index of some pair corresponds to its rank (the first is the best). For example, if the list of candidates was *[a, b, c]* and the most similar is *c*, then *a* and *b*, the function should return a list *[(2, c), (0, a), (1, b)]*.\n",
        "\n",
        "Pay attention, if you use the function *cosine_similarity* from *sklearn.metrics.pairwise* to calculate similarity because it works in a different way: most similar objects has greatest similarity. It's preferable to use a vectorized version of *cosine_similarity* function. Try to compute similarity at once and not use list comprehension. It should speed up your computations significantly."
      ]
    },
    {
      "cell_type": "code",
      "metadata": {
        "collapsed": true,
        "id": "WgElteeR4-nJ"
      },
      "source": [
        "def rank_candidates(question, candidates, embeddings, dim=300):\n",
        "    \"\"\"\n",
        "        question: a string\n",
        "        candidates: a list of strings (candidates) which we want to rank\n",
        "        embeddings: some embeddings\n",
        "        dim: dimension of the current embeddings\n",
        "        \n",
        "        result: a list of pairs (initial position in the list, question)\n",
        "    \"\"\"\n",
        "    \n",
        "    ######################################\n",
        "    ######### YOUR CODE HERE #############\n",
        "    ######################################\n",
        "    # calc embeddings\n",
        "    q_vec = question_to_vec(question, embeddings)\n",
        "    c_list = np.array([question_to_vec(c, embeddings) for c in candidates])\n",
        "\n",
        "    # calc distance\n",
        "    sim_list = cosine_similarity(q_vec.reshape(1, -1), np.array(c_list))[0]\n",
        "\n",
        "    # get ans\n",
        "    ind_list = list(range(len(candidates)))\n",
        "    ans = sorted(list(zip(ind_list, sim_list)), key=lambda x: x[1], reverse=True)\n",
        "    sort_ind = list(list(zip(*ans))[0])\n",
        "    return [(i, candidates[i]) for i in sort_ind]"
      ],
      "execution_count": 86,
      "outputs": []
    },
    {
      "cell_type": "markdown",
      "metadata": {
        "id": "xwy2gUQE4-nJ"
      },
      "source": [
        "Test your code on the tiny examples:"
      ]
    },
    {
      "cell_type": "code",
      "metadata": {
        "collapsed": true,
        "id": "2m5E-ygG4-nJ"
      },
      "source": [
        "def test_rank_candidates():\n",
        "    questions = ['converting string to list', 'Sending array via Ajax fails']\n",
        "    candidates = [['Convert Google results object (pure js) to Python object', \n",
        "                   'C# create cookie from string and send it',\n",
        "                   'How to use jQuery AJAX for an outside domain?'], \n",
        "                  ['Getting all list items of an unordered list in PHP', \n",
        "                   'WPF- How to update the changes in list item of a list', \n",
        "                   'select2 not displaying search results']]\n",
        "    results = [[(1, 'C# create cookie from string and send it'), \n",
        "                (0, 'Convert Google results object (pure js) to Python object'), \n",
        "                (2, 'How to use jQuery AJAX for an outside domain?')],\n",
        "               [(0, 'Getting all list items of an unordered list in PHP'), \n",
        "                (2, 'select2 not displaying search results'), \n",
        "                (1, 'WPF- How to update the changes in list item of a list')]]\n",
        "    for question, q_candidates, result in zip(questions, candidates, results):\n",
        "        ranks = rank_candidates(question, q_candidates, wv_embeddings, 300)\n",
        "        if not np.all(ranks == result):\n",
        "            return \"Check the function.\"\n",
        "    return \"Basic tests are passed.\""
      ],
      "execution_count": 87,
      "outputs": []
    },
    {
      "cell_type": "code",
      "metadata": {
        "collapsed": true,
        "id": "J7Vxhg0i4-nK",
        "colab": {
          "base_uri": "https://localhost:8080/"
        },
        "outputId": "08f44349-7556-4d13-f5e6-89beb8de1dd5"
      },
      "source": [
        "print(test_rank_candidates())"
      ],
      "execution_count": 88,
      "outputs": [
        {
          "output_type": "stream",
          "text": [
            "Basic tests are passed.\n"
          ],
          "name": "stdout"
        }
      ]
    },
    {
      "cell_type": "markdown",
      "metadata": {
        "id": "ymBVe2yN4-nK"
      },
      "source": [
        "Now we can test the quality of the current approach. Run the next two cells to get the results. Pay attention that calculation of similarity between vectors takes time and this calculation is computed approximately in 10 minutes."
      ]
    },
    {
      "cell_type": "code",
      "metadata": {
        "collapsed": true,
        "id": "-JMmVxLH4-nK"
      },
      "source": [
        "wv_ranking = []\n",
        "for line in validation:\n",
        "    q, *ex = line\n",
        "    ranks = rank_candidates(q, ex, wv_embeddings)\n",
        "    wv_ranking.append([r[0] for r in ranks].index(0) + 1)"
      ],
      "execution_count": 89,
      "outputs": []
    },
    {
      "cell_type": "code",
      "metadata": {
        "collapsed": true,
        "id": "EidkwBQc4-nL",
        "colab": {
          "base_uri": "https://localhost:8080/"
        },
        "outputId": "eaf2efe6-aa7f-4adc-b0a5-a23da883794a"
      },
      "source": [
        "for k in [1, 5, 10, 100, 500, 1000]:\n",
        "    print(\"DCG@%4d: %.3f | Hits@%4d: %.3f\" % (k, dcg_score(wv_ranking, k), k, hits_count(wv_ranking, k)))"
      ],
      "execution_count": 90,
      "outputs": [
        {
          "output_type": "stream",
          "text": [
            "DCG@   1: 0.212 | Hits@   1: 0.212\n",
            "DCG@   5: 0.267 | Hits@   5: 0.315\n",
            "DCG@  10: 0.282 | Hits@  10: 0.363\n",
            "DCG@ 100: 0.320 | Hits@ 100: 0.552\n",
            "DCG@ 500: 0.353 | Hits@ 500: 0.811\n",
            "DCG@1000: 0.373 | Hits@1000: 1.000\n"
          ],
          "name": "stdout"
        }
      ]
    },
    {
      "cell_type": "markdown",
      "metadata": {
        "id": "-Ep55XHG4-nL"
      },
      "source": [
        "If you did all the steps correctly, you should be frustrated by the received results. Let's try to understand why the quality is so low. First of all, when you work with some data it is necessary to have an idea how the data looks like. Print several questions from the data:"
      ]
    },
    {
      "cell_type": "code",
      "metadata": {
        "collapsed": true,
        "id": "1GzPxrqw4-nL",
        "colab": {
          "base_uri": "https://localhost:8080/"
        },
        "outputId": "f1f44413-799e-4bf0-e4b8-6cf7b69fb2df"
      },
      "source": [
        "for line in validation[:3]:\n",
        "    q, *examples = line\n",
        "    print(q, *examples[:3])"
      ],
      "execution_count": 91,
      "outputs": [
        {
          "output_type": "stream",
          "text": [
            "How to print a binary heap tree without recursion? How do you best convert a recursive function to an iterative one? How can i use ng-model with directive in angular js flash: drawing and erasing\n",
            "How to start PhoneStateListener programmatically? PhoneStateListener and service Java cast object[] to model WCF and What does this mean?\n",
            "jQuery: Show a div2 when mousenter over div1 is over when hover on div1 depenting on if it is on div2 or not it should act differently How to run selenium in google app engine/cloud? Python Comparing two lists of strings for similarities\n"
          ],
          "name": "stdout"
        }
      ]
    },
    {
      "cell_type": "markdown",
      "metadata": {
        "id": "npoK6pwX4-nL"
      },
      "source": [
        "As you can see, we deal with the raw data. It means that we have many punctuation marks, special characters and unlowercased letters. In our case, it could lead to the situation where we can't find some embeddings, e.g. for the word \"grid?\". \n",
        "\n",
        "To solve this problem you should use the functions *text_prepare* from the previous assignments to prepare the data."
      ]
    },
    {
      "cell_type": "code",
      "metadata": {
        "collapsed": true,
        "id": "lBKwh0G84-nL"
      },
      "source": [
        "from util import text_prepare"
      ],
      "execution_count": 92,
      "outputs": []
    },
    {
      "cell_type": "markdown",
      "metadata": {
        "id": "21xq9E8-4-nM"
      },
      "source": [
        "Now transform all the questions from the validation set:"
      ]
    },
    {
      "cell_type": "code",
      "metadata": {
        "id": "vcLJ4R7Eptq1"
      },
      "source": [
        "from tqdm import tqdm"
      ],
      "execution_count": 101,
      "outputs": []
    },
    {
      "cell_type": "code",
      "metadata": {
        "collapsed": true,
        "id": "mq4pcW_w4-nM",
        "colab": {
          "base_uri": "https://localhost:8080/"
        },
        "outputId": "b7e2e2d4-2cb7-44be-8dcf-f4bbf2689794"
      },
      "source": [
        "prepared_validation = []\n",
        "for line in tqdm(validation):\n",
        "    current_list = []\n",
        "    for l in line:\n",
        "        current_list.append(text_prepare(l))\n",
        "    prepared_validation.append(current_list)"
      ],
      "execution_count": 102,
      "outputs": [
        {
          "output_type": "stream",
          "text": [
            "100%|██████████| 10000/10000 [00:42<00:00, 234.14it/s]\n"
          ],
          "name": "stderr"
        }
      ]
    },
    {
      "cell_type": "markdown",
      "metadata": {
        "id": "gmqwzVSP4-nM"
      },
      "source": [
        "Let's evaluate the approach again after the preparation:"
      ]
    },
    {
      "cell_type": "code",
      "metadata": {
        "collapsed": true,
        "id": "bUDaGGUf4-nM"
      },
      "source": [
        "wv_prepared_ranking = []\n",
        "for line in prepared_validation:\n",
        "    q, *ex = line\n",
        "    ranks = rank_candidates(q, ex, wv_embeddings)\n",
        "    wv_prepared_ranking.append([r[0] for r in ranks].index(0) + 1)"
      ],
      "execution_count": 103,
      "outputs": []
    },
    {
      "cell_type": "code",
      "metadata": {
        "collapsed": true,
        "id": "r9UoPlDj4-nN",
        "colab": {
          "base_uri": "https://localhost:8080/"
        },
        "outputId": "a43d2466-1160-41f0-9410-905baaa4a9c1"
      },
      "source": [
        "for k in [1, 5, 10, 100, 500, 1000]:\n",
        "    print(\"DCG@%4d: %.3f | Hits@%4d: %.3f\" % (k, dcg_score(wv_prepared_ranking, k), \n",
        "                                              k, hits_count(wv_prepared_ranking, k)))"
      ],
      "execution_count": 104,
      "outputs": [
        {
          "output_type": "stream",
          "text": [
            "DCG@   1: 0.310 | Hits@   1: 0.310\n",
            "DCG@   5: 0.380 | Hits@   5: 0.443\n",
            "DCG@  10: 0.397 | Hits@  10: 0.494\n",
            "DCG@ 100: 0.430 | Hits@ 100: 0.661\n",
            "DCG@ 500: 0.453 | Hits@ 500: 0.835\n",
            "DCG@1000: 0.470 | Hits@1000: 1.000\n"
          ],
          "name": "stdout"
        }
      ]
    },
    {
      "cell_type": "markdown",
      "metadata": {
        "id": "lFOE_eGl4-nO"
      },
      "source": [
        "Now, prepare also train and test data, because you will need it in the future:"
      ]
    },
    {
      "cell_type": "code",
      "metadata": {
        "collapsed": true,
        "id": "vxCAs9WN4-nO"
      },
      "source": [
        "def prepare_file(in_, out_):\n",
        "    out = open(out_, 'w')\n",
        "    for line in open(in_, encoding='utf8'):\n",
        "        line = line.strip().split('\\t')\n",
        "        new_line = [text_prepare(q) for q in line]\n",
        "        print(*new_line, sep='\\t', file=out)\n",
        "    out.close()"
      ],
      "execution_count": 105,
      "outputs": []
    },
    {
      "cell_type": "code",
      "metadata": {
        "collapsed": true,
        "id": "4yX10gFn4-nO"
      },
      "source": [
        "######################################\n",
        "######### YOUR CODE HERE #############\n",
        "######################################\n",
        "prepare_file('/content/data/test.tsv', '/content/data/test_clean.tsv')"
      ],
      "execution_count": 106,
      "outputs": []
    },
    {
      "cell_type": "code",
      "metadata": {
        "id": "zo7rQ_1XxGr5"
      },
      "source": [
        "prepare_file('/content/data/train.tsv', '/content/data/train_clean.tsv')"
      ],
      "execution_count": 107,
      "outputs": []
    },
    {
      "cell_type": "markdown",
      "metadata": {
        "id": "_AOg4pIm4-nO"
      },
      "source": [
        "**Task 4 (W2VTokenizedRanks).** For each question from prepared *test.tsv* submit the ranks of the candidates to earn the points. The calculations should take about 3-5 minutes. Pay attention that the function *rank_candidates* returns a ranking, while in this case you should find a position in this ranking. Ranks should start with 1."
      ]
    },
    {
      "cell_type": "code",
      "metadata": {
        "collapsed": true,
        "id": "HjfjmQ_B4-nO"
      },
      "source": [
        "from util import matrix_to_string"
      ],
      "execution_count": 110,
      "outputs": []
    },
    {
      "cell_type": "code",
      "metadata": {
        "collapsed": true,
        "id": "RT8TJAAY4-nO",
        "colab": {
          "base_uri": "https://localhost:8080/"
        },
        "outputId": "deca0bc9-b715-4faa-c134-a2f527ecb37d"
      },
      "source": [
        "w2v_ranks_results = []\n",
        "prepared_test_data = read_corpus('data/test_clean.tsv')\n",
        "for line in prepared_test_data:\n",
        "    q = line[0]\n",
        "    ex = line[1:]\n",
        "    ranks = rank_candidates(q, ex, wv_embeddings, 300)\n",
        "    ranked_candidates = [r[0] for r in ranks]\n",
        "    w2v_ranks_results.append([ranked_candidates.index(i) + 1 for i in range(len(ranked_candidates))])\n",
        "    \n",
        "grader.submit_tag('W2VTokenizedRanks', matrix_to_string(w2v_ranks_results))"
      ],
      "execution_count": 117,
      "outputs": [
        {
          "output_type": "stream",
          "text": [
            "Current answer for task W2VTokenizedRanks is: 95\t94\t7\t9\t64\t36\t31\t93\t23\t100\t99\t20\t60\t6\t97\t48\t70\t37\t41\t96\t29\t56\t2\t65\t68\t44\t27\t25\t57\t62\t11\t87\t50\t66\t7...\n"
          ],
          "name": "stdout"
        }
      ]
    },
    {
      "cell_type": "markdown",
      "metadata": {
        "id": "qKPPhx454-nO"
      },
      "source": [
        "## Advanced text embeddings\n",
        "\n",
        "There are many different models that can be used to train embeddings. You have already used word2vec embeddings. The more recent approaches include FastText, StarSpace, ELMo, BERT, and others.\n",
        "\n",
        "This article [“The Illustrated BERT, ELMo, and co. (How NLP Cracked Transfer Learning)”](http://jalammar.github.io/illustrated-bert/), walks you through some of them, namely:\n",
        "\n",
        "* ELMo \\[[paper](https://arxiv.org/abs/1802.05365)\\] (Embeddings from Language Models). These embeddings are learned functions of the internal states of a deep bidirectional language model (biLM), which is pre-trained on a large text corpus. It gives deep contextualized word representations that model both complex characteristics of word use (e.g., syntax and semantics), and how these uses vary across linguistic contexts (i.e., to model polysemy). [Here](https://tfhub.dev/google/elmo/1) is a good tutorial on how to use ELMo embeddings with TF Hub.\n",
        "\n",
        "* BERT \\[[paper](https://arxiv.org/abs/1810.04805)\\] (Bidirectional Encoder Representations from Transformers). These embeddings are based on the Transformer architecture, which [has been introduced in 2017](https://arxiv.org/abs/1706.03762) and since then become the leading model both in NLP and other areas. You can also read about Transformers [in this blogpost](http://jalammar.github.io/illustrated-transformer/). Pretrained BERT embeddings can be found in [the official repository of Google-Research](https://github.com/google-research/bert). Training BERT embeddings from scratch is computationally expensive, so people usually use / fine-tune the existing general purpose embeddings.\n",
        "\n",
        "In this assignment, we will pick the StarSpace model to play with, because it’s better suited to the duplicate detection task and can be trained with moderate resources. Please follow the notebook - the training pipeline is provided below. Once you have obtained the embeddings, please keep them for the final project of the course - you will need them again. \n",
        "\n",
        "\n",
        "### StarSpace\n",
        "\n",
        "[StarSpace](https://github.com/facebookresearch/StarSpace) is an algorithm proposed by Facebook. It is a general-purpose neural model for efficient learning of entity embeddings for solving a wide variety of problems.\n",
        "\n",
        "Unfortunately, StarSpace cannot be run on Windows and we recommend to use provided\n",
        "[docker container](https://github.com/hse-aml/natural-language-processing/blob/master/Docker-tutorial.md) or other alternatives. Don't delete results of this task because you will need it in the final project.\n",
        "\n",
        "### How it works and what's the main difference with word2vec?\n",
        "The main point in this section is that StarSpace can be trained specifically for some tasks. In contrast to word2vec model, which tries to train similar embeddings for words in similar contexts, StarSpace uses embeddings for the whole sentence (just as a sum of embeddings of words and phrases). Despite the fact that in both cases we get word embeddings as a result of the training, StarSpace embeddings are trained using some supervised data, e.g. a set of similar sentence pairs, and thus they can better suit the task.\n",
        "\n",
        "In our case, StarSpace should use two types of sentence pairs for training: \"positive\" and \"negative\". \"Positive\" examples are extracted from the train sample (duplicates, high similarity) and the \"negative\" examples are generated randomly (low similarity assumed). \n",
        "\n",
        "### How to choose the best params for the model?\n",
        "Normally, you would start with some default choice and then run extensive experiments to compare different strategies. However, we have some recommendations ready for you to save your time:\n",
        "- Be careful with choosing the suitable training mode. In this task we want to explore texts similarity which corresponds to *trainMode = 3*.\n",
        "- Use adagrad optimization (parameter *adagrad = true*).\n",
        "- Set the length of phrase equal to 1 (parameter *ngrams*), because we need embeddings only for words.\n",
        "- Don't use a large number of *epochs* (we think that 5 should be enough).\n",
        "- Try dimension *dim* equal to 100.\n",
        "- To compare embeddings usually *cosine* *similarity* is used.\n",
        "- Set *minCount* greater than 1 (for example, 2) if you don't want to get embeddings for extremely rare words.\n",
        "- Parameter *verbose = true* could show you the progress of the training process.\n",
        "- Set parameter *fileFormat* equals *labelDoc*.\n",
        "- Parameter *negSearchLimit* is responsible for a number of negative examples which is used during the training. We think that 10 will be enought for this task.\n",
        "- To increase a speed of training we recommend to set *learning rate* to 0.05."
      ]
    },
    {
      "cell_type": "markdown",
      "metadata": {
        "id": "vlCTIMD24-nP"
      },
      "source": [
        "Train StarSpace embeddings for unigrams on the train dataset. You don't need to change the format of the input data. Just don't forget to use prepared version of the training data. \n",
        "\n",
        "If you follow the instruction, the training process will take about 1 hour. The size of the embeddings' dictionary should be approximately 100 000 (number of lines in the result file). If you got significantly more than this number, try to check all the instructions above."
      ]
    },
    {
      "cell_type": "code",
      "metadata": {
        "collapsed": true,
        "id": "d6Q9qFdI4-nP"
      },
      "source": [
        "######### TRAINING HAPPENING HERE #############"
      ],
      "execution_count": null,
      "outputs": []
    },
    {
      "cell_type": "markdown",
      "metadata": {
        "collapsed": true,
        "id": "vCs9CyPk4-nQ"
      },
      "source": [
        "And now we can compare the new embeddings with the previous ones. You can find trained word vectors in the file *[model_file_name].tsv*. Upload the embeddings from StarSpace into a dict. "
      ]
    },
    {
      "cell_type": "code",
      "metadata": {
        "collapsed": true,
        "id": "ZnUKsp4s4-nQ"
      },
      "source": [
        "starspace_embeddings = ######### YOUR CODE HERE #############"
      ],
      "execution_count": null,
      "outputs": []
    },
    {
      "cell_type": "code",
      "metadata": {
        "collapsed": true,
        "id": "f5qKSX6Q4-nQ"
      },
      "source": [
        "ss_prepared_ranking = []\n",
        "for line in prepared_validation:\n",
        "    q, *ex = line\n",
        "    ranks = rank_candidates(q, ex, starspace_embeddings, 100)\n",
        "    ss_prepared_ranking.append([r[0] for r in ranks].index(0) + 1)"
      ],
      "execution_count": null,
      "outputs": []
    },
    {
      "cell_type": "code",
      "metadata": {
        "collapsed": true,
        "id": "1i8D8QMb4-nQ"
      },
      "source": [
        "for k in [1, 5, 10, 100, 500, 1000]:\n",
        "    print(\"DCG@%4d: %.3f | Hits@%4d: %.3f\" % (k, dcg_score(ss_prepared_ranking, k), \n",
        "                                               k, hits_count(ss_prepared_ranking, k)))"
      ],
      "execution_count": null,
      "outputs": []
    },
    {
      "cell_type": "markdown",
      "metadata": {
        "id": "ZX4qOlsa4-nR"
      },
      "source": [
        "Due to training for the particular task with the supervised data, you should expect to obtain a higher quality than for the previous approach. In additiion, despite the fact that StarSpace's trained vectors have a smaller dimension than word2vec's, it provides better results in this task."
      ]
    },
    {
      "cell_type": "markdown",
      "metadata": {
        "id": "QrxZwsFe4-nS"
      },
      "source": [
        "**Task 5 (StarSpaceRanks).** For each question from prepared *test.tsv* submit the ranks of the candidates for trained representation."
      ]
    },
    {
      "cell_type": "code",
      "metadata": {
        "collapsed": true,
        "id": "avWslcvJ4-nS"
      },
      "source": [
        "starspace_ranks_results = []\n",
        "prepared_test_data = ######### YOUR CODE HERE #############\n",
        "for line in open(prepared_test_data):\n",
        "    q, *ex = line.strip().split('\\t')\n",
        "    ranks = rank_candidates(q, ex, starspace_embeddings, 100)\n",
        "    ranked_candidates = [r[0] for r in ranks]\n",
        "    starspace_ranks_results.append([ranked_candidates.index(i) + 1 for i in range(len(ranked_candidates))])\n",
        "    \n",
        "grader.submit_tag('StarSpaceRanks', matrix_to_string(starspace_ranks_results))"
      ],
      "execution_count": null,
      "outputs": []
    },
    {
      "cell_type": "markdown",
      "metadata": {
        "id": "U9H3y4804-nS"
      },
      "source": [
        "Please, **don't remove** the file with these embeddings because you will need them in the final project."
      ]
    },
    {
      "cell_type": "markdown",
      "metadata": {
        "id": "ulfFfeNj4-nS"
      },
      "source": [
        "### Authorization & Submission\n",
        "To submit assignment parts to Cousera platform, please, enter your e-mail and token into variables below. You can generate token on this programming assignment page. <b>Note:</b> Token expires 30 minutes after generation."
      ]
    },
    {
      "cell_type": "code",
      "metadata": {
        "collapsed": true,
        "colab": {
          "base_uri": "https://localhost:8080/"
        },
        "id": "ELd0Mhll4-nT",
        "outputId": "283c3567-45ee-4e91-dd1b-2c691d9e6e59"
      },
      "source": [
        "STUDENT_EMAIL = 'modelistt@bk.ru' # EMAIL \n",
        "STUDENT_TOKEN = 'fZ2qMpk2Z5ZZmeMX' # TOKEN \n",
        "grader.status()"
      ],
      "execution_count": 118,
      "outputs": [
        {
          "output_type": "stream",
          "text": [
            "You want to submit these parts:\n",
            "Task Question2Vec: 0.019293891059027776\n",
            "-0.028727213541666668\n",
            "0.046056111653645836\n",
            "0.08525933159722222\n",
            "0.02430555555555...\n",
            "Task HitsCount: 1.0\n",
            "0.5\n",
            "1.0\n",
            "0.5\n",
            "1.0\n",
            "0.3333333333333333\n",
            "0.6666666666666666\n",
            "1.0\n",
            "0.1\n",
            "0.2\n",
            "0.3\n",
            "0.4\n",
            "0.5\n",
            "0.6\n",
            "0.7\n",
            "0.8\n",
            "0.9\n",
            "1....\n",
            "Task DCGScore: 1.0\n",
            "0.5\n",
            "0.8154648767857288\n",
            "0.5\n",
            "0.8154648767857288\n",
            "0.3333333333333333\n",
            "0.5436432511904858\n",
            "0.7103099178...\n",
            "Task W2VTokenizedRanks: 95\t94\t7\t9\t64\t36\t31\t93\t23\t100\t99\t20\t60\t6\t97\t48\t70\t37\t41\t96\t29\t56\t2\t65\t68\t44\t27\t25\t57\t62\t11\t87\t50\t66\t7...\n",
            "Task StarSpaceRanks: ----------...\n"
          ],
          "name": "stdout"
        }
      ]
    },
    {
      "cell_type": "markdown",
      "metadata": {
        "id": "nXr5CxaJ4-nT"
      },
      "source": [
        "If you want to submit these answers, run cell below"
      ]
    },
    {
      "cell_type": "code",
      "metadata": {
        "collapsed": true,
        "colab": {
          "base_uri": "https://localhost:8080/"
        },
        "id": "4omQ2azF4-nT",
        "outputId": "36bc9c91-3cea-448f-898b-ce1a12283c25"
      },
      "source": [
        "grader.submit(STUDENT_EMAIL, STUDENT_TOKEN)"
      ],
      "execution_count": 119,
      "outputs": [
        {
          "output_type": "stream",
          "text": [
            "Submitted to Coursera platform. See results on assignment page!\n"
          ],
          "name": "stdout"
        }
      ]
    }
  ]
}