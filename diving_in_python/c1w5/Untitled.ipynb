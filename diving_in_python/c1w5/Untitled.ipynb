{
 "cells": [
  {
   "cell_type": "code",
   "execution_count": null,
   "metadata": {},
   "outputs": [],
   "source": [
    "{'unsorted_data': [(1501865247, 13.045), (1501864247, 10.5), (1501864243, 11.0), (1501864248, 22.5)]} != \n",
    "{'unsorted_data': [(1501864243, 11.0), (1501864247, 10.5), (1501864248, 22.5), (1501865247, 13.045)]}"
   ]
  },
  {
   "cell_type": "code",
   "execution_count": 31,
   "metadata": {},
   "outputs": [],
   "source": [
    "dct = {'unsorted_data': [\n",
    "    (1501864243, 11.0),\n",
    "    (1501864247, 10.5),\n",
    "    (1501864248, 22.5),\n",
    "    (1501865247, 13.045)],\n",
    "      'sorted_data': [\n",
    "    (1501864243, 11.0),\n",
    "    (1501864247, 10.5),\n",
    "    (1501864248, 22.5),\n",
    "    (1501865247, 13.045)]}"
   ]
  },
  {
   "cell_type": "code",
   "execution_count": 59,
   "metadata": {},
   "outputs": [
    {
     "name": "stdout",
     "output_type": "stream",
     "text": [
      "unsorted_data [(1501864243, 11.0), (1501864247, 10.5), (1501864248, 22.5), (1501865247, 13.045)]\n",
      "sorted_data [(1501864247, 10.5), (1501864243, 11.0), (1501865247, 13.045), (1501864248, 22.5)]\n"
     ]
    }
   ],
   "source": [
    "for k in list(dct.keys()):\n",
    "    print(k, list(dct[k]))"
   ]
  },
  {
   "cell_type": "code",
   "execution_count": 70,
   "metadata": {},
   "outputs": [
    {
     "data": {
      "text/plain": [
       "('unsorted_data',\n",
       " [(1501864243, 11.0),\n",
       "  (1501864247, 10.5),\n",
       "  (1501864248, 22.5),\n",
       "  (1501865247, 13.045)])"
      ]
     },
     "execution_count": 70,
     "metadata": {},
     "output_type": "execute_result"
    }
   ],
   "source": [
    "list(dct.items())[0]"
   ]
  },
  {
   "cell_type": "code",
   "execution_count": 67,
   "metadata": {},
   "outputs": [
    {
     "ename": "SyntaxError",
     "evalue": "unexpected character after line continuation character (<ipython-input-67-77bfab26ce99>, line 6)",
     "output_type": "error",
     "traceback": [
      "\u001b[0;36m  File \u001b[0;32m\"<ipython-input-67-77bfab26ce99>\"\u001b[0;36m, line \u001b[0;32m6\u001b[0m\n\u001b[0;31m    print(dct.sort(key=lambda i: i[1\\0]))\u001b[0m\n\u001b[0m                                         ^\u001b[0m\n\u001b[0;31mSyntaxError\u001b[0m\u001b[0;31m:\u001b[0m unexpected character after line continuation character\n"
     ]
    }
   ],
   "source": [
    "keys = list(dct.keys())\n",
    "dct_sort = {}\n",
    "for k in keys:\n",
    "    dct_sort[k] =\n",
    "    "
   ]
  },
  {
   "cell_type": "code",
   "execution_count": 61,
   "metadata": {},
   "outputs": [
    {
     "data": {
      "text/plain": [
       "list"
      ]
     },
     "execution_count": 61,
     "metadata": {},
     "output_type": "execute_result"
    }
   ],
   "source": [
    "dct[keys[0]]"
   ]
  },
  {
   "cell_type": "code",
   "execution_count": 45,
   "metadata": {},
   "outputs": [
    {
     "data": {
      "text/plain": [
       "{'unsorted_data': None, 'sorted_data': None}"
      ]
     },
     "execution_count": 45,
     "metadata": {},
     "output_type": "execute_result"
    }
   ],
   "source": [
    "dct_sort"
   ]
  },
  {
   "cell_type": "code",
   "execution_count": 28,
   "metadata": {},
   "outputs": [
    {
     "data": {
      "text/plain": [
       "[(1501864243, 11.0),\n",
       " (1501864247, 10.5),\n",
       " (1501864248, 22.5),\n",
       " (1501865247, 13.045)]"
      ]
     },
     "execution_count": 28,
     "metadata": {},
     "output_type": "execute_result"
    }
   ],
   "source": [
    "dict['unsorted_data']"
   ]
  },
  {
   "cell_type": "code",
   "execution_count": 47,
   "metadata": {},
   "outputs": [],
   "source": [
    "list_d = dct[list(dct.keys())[0]]"
   ]
  },
  {
   "cell_type": "code",
   "execution_count": 48,
   "metadata": {},
   "outputs": [],
   "source": [
    "list_d.sort(key=lambda i: i[0])"
   ]
  },
  {
   "cell_type": "code",
   "execution_count": 50,
   "metadata": {},
   "outputs": [
    {
     "data": {
      "text/plain": [
       "list"
      ]
     },
     "execution_count": 50,
     "metadata": {},
     "output_type": "execute_result"
    }
   ],
   "source": [
    "type(list_d)"
   ]
  }
 ],
 "metadata": {
  "kernelspec": {
   "display_name": "Python 3",
   "language": "python",
   "name": "python3"
  },
  "language_info": {
   "codemirror_mode": {
    "name": "ipython",
    "version": 3
   },
   "file_extension": ".py",
   "mimetype": "text/x-python",
   "name": "python",
   "nbconvert_exporter": "python",
   "pygments_lexer": "ipython3",
   "version": "3.7.3"
  }
 },
 "nbformat": 4,
 "nbformat_minor": 4
}
