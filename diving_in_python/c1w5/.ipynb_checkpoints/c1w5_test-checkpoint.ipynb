{
 "cells": [
  {
   "cell_type": "code",
   "execution_count": 47,
   "metadata": {},
   "outputs": [
    {
     "name": "stdout",
     "output_type": "stream",
     "text": [
      "{'palm.cpu': [(1150864248, 2.0), (1150864247, 0.5)]}\n"
     ]
    }
   ],
   "source": [
    "def fsplit(data):\n",
    "    ans_list = data.decode('utf-8').split('\\n')[1:-2]\n",
    "    preproc_list = [l.split(' ') for l in ans_list]\n",
    "    dct = {}\n",
    "    for rec in preproc_list:\n",
    "        if rec[0] in dct.keys():\n",
    "            dct[rec[0]].append((int(rec[2]), float(rec[1])))\n",
    "        else:\n",
    "            dct[rec[0]] = []\n",
    "            dct[rec[0]].append((int(rec[2]), float(rec[1])))\n",
    "    print(dct)\n",
    "fsplit(b'ok\\npalm.cpu 2.0 1150864248\\npalm.cpu 0.5 1150864247\\n\\n')"
   ]
  },
  {
   "cell_type": "code",
   "execution_count": 54,
   "metadata": {},
   "outputs": [
    {
     "name": "stdout",
     "output_type": "stream",
     "text": [
      "{'palm.cpu': [(1150864247, 0.5)]}\n"
     ]
    }
   ],
   "source": [
    "ans = b'ok\\npalm.cpu 2.0 1150864248\\npalm.cpu 0.5 1150864247\\n\\n'\n",
    "ans_list = ans.decode('utf-8').split('\\n')[1:-2]\n",
    "preproc_list = [l.split(' ') for l in ans_list]\n",
    "dct = {}\n",
    "for rec in preproc_list:\n",
    "    if rec[0] in dct.keys():\n",
    "        dct[rec[0]].append((int(rec[2]), float(rec[1])))\n",
    "        pass\n",
    "    else:\n",
    "        dct[rec[0]] = []\n",
    "        dct[rec[0]].append(int(rec[2]), float(rec[1]))\n",
    "        pass\n",
    "print(dct)"
   ]
  }
 ],
 "metadata": {
  "kernelspec": {
   "display_name": "Python 3",
   "language": "python",
   "name": "python3"
  },
  "language_info": {
   "codemirror_mode": {
    "name": "ipython",
    "version": 3
   },
   "file_extension": ".py",
   "mimetype": "text/x-python",
   "name": "python",
   "nbconvert_exporter": "python",
   "pygments_lexer": "ipython3",
   "version": "3.7.3"
  }
 },
 "nbformat": 4,
 "nbformat_minor": 4
}
