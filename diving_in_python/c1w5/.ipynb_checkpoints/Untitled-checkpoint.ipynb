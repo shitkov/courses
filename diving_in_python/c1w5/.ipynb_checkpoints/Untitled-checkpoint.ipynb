{
 "cells": [
  {
   "cell_type": "code",
   "execution_count": null,
   "metadata": {},
   "outputs": [],
   "source": [
    "{'unsorted_data': [(1501865247, 13.045), (1501864247, 10.5), (1501864243, 11.0), (1501864248, 22.5)]} != \n",
    "{'unsorted_data': [(1501864243, 11.0), (1501864247, 10.5), (1501864248, 22.5), (1501865247, 13.045)]}"
   ]
  },
  {
   "cell_type": "code",
   "execution_count": 2,
   "metadata": {},
   "outputs": [],
   "source": [
    "dct = {'unsorted_data': [\n",
    "    (1501864243, 11.0),\n",
    "    (1501864247, 10.5),\n",
    "    (1501864248, 22.5),\n",
    "    (1501865247, 13.045)],\n",
    "      'sorted_data': [\n",
    "    (1501864243, 11.0),\n",
    "    (1501864247, 10.5),\n",
    "    (1501864248, 22.5),\n",
    "    (1501865247, 13.045)]}"
   ]
  },
  {
   "cell_type": "code",
   "execution_count": 3,
   "metadata": {},
   "outputs": [
    {
     "data": {
      "text/plain": [
       "dict"
      ]
     },
     "execution_count": 3,
     "metadata": {},
     "output_type": "execute_result"
    }
   ],
   "source": [
    "dct"
   ]
  }
 ],
 "metadata": {
  "kernelspec": {
   "display_name": "Python 3",
   "language": "python",
   "name": "python3"
  },
  "language_info": {
   "codemirror_mode": {
    "name": "ipython",
    "version": 3
   },
   "file_extension": ".py",
   "mimetype": "text/x-python",
   "name": "python",
   "nbconvert_exporter": "python",
   "pygments_lexer": "ipython3",
   "version": "3.7.3"
  }
 },
 "nbformat": 4,
 "nbformat_minor": 4
}
