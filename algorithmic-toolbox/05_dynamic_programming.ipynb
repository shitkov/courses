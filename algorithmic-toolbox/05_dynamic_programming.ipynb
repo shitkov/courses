{
 "cells": [
  {
   "cell_type": "code",
   "execution_count": 4,
   "metadata": {},
   "outputs": [],
   "source": [
    "# 5.1 Money Change Again\n",
    "\n",
    "def get_change_greedy(m):\n",
    "    nominals = [1, 3, 4]\n",
    "    cnt = 0\n",
    "    coins = []\n",
    "    while m > 0:\n",
    "        for n in nominals:\n",
    "            if n <= m:\n",
    "                coin = n\n",
    "            else:\n",
    "                break\n",
    "        m = m - coin\n",
    "        cnt += 1\n",
    "        coins.append(coin)\n",
    "    return cnt, coins\n",
    "\n",
    "def get_change(money):\n",
    "    coins = [1, 3, 4]\n",
    "    matrix = [[0 for _ in range(money)] for _ in range(len(coins))]\n",
    "    for i, coin in enumerate(coins):\n",
    "        for j in range(0, money):\n",
    "            remain = j + 1\n",
    "            if remain < coin:\n",
    "                if i == 0:\n",
    "                    matrix[i][j] = inf\n",
    "                else:\n",
    "                    matrix[i][j] = matrix[i-1][j]\n",
    "            elif remain == coin:\n",
    "                matrix[i][j] = 1\n",
    "            else:\n",
    "                if i == 0:\n",
    "                    matrix[i][j] = matrix[i][j - coin] + 1\n",
    "                else:\n",
    "                    matrix[i][j] = min(matrix[i][j - coin] + 1, matrix[i-1][j])                                      \n",
    "    return matrix[-1][-1]"
   ]
  },
  {
   "cell_type": "code",
   "execution_count": 106,
   "metadata": {},
   "outputs": [
    {
     "data": {
      "text/plain": [
       "[1, 2, 4, 5, 10, 11, 22, 66, 198, 594, 1782, 5346, 16038, 16039, 32078, 96234]"
      ]
     },
     "execution_count": 106,
     "metadata": {},
     "output_type": "execute_result"
    }
   ],
   "source": [
    "# 5.2 Primitive Calculator\n",
    "\n",
    "def optimal_sequence_greedy(n):\n",
    "    sequence = []\n",
    "    while n >= 1:\n",
    "        sequence.append(n)\n",
    "        if n % 3 == 0:\n",
    "            n = n // 3\n",
    "        elif n % 2 == 0:\n",
    "            n = n // 2\n",
    "        else:\n",
    "            n = n - 1\n",
    "    return reversed(sequence)\n",
    "\n",
    "list(optimal_sequence_greedy(96234))"
   ]
  },
  {
   "cell_type": "code",
   "execution_count": 151,
   "metadata": {
    "scrolled": true
   },
   "outputs": [
    {
     "name": "stdout",
     "output_type": "stream",
     "text": [
      "[1, 3, 9, 10, 11]\n"
     ]
    }
   ],
   "source": [
    "def optimal_sequence(n):\n",
    "    # matrix filling\n",
    "    matrix = [[0 for _ in range(n)] for _ in range(3)]\n",
    "    for i in range(3):\n",
    "        for r, num in enumerate(range(1, n + 1)):\n",
    "            if i == 0:\n",
    "                matrix[i][r] = r\n",
    "            elif i == 1:\n",
    "                if num < 2:\n",
    "                    matrix[i][r] = matrix[i-1][r]\n",
    "                elif num == 2:\n",
    "                    matrix[i][r] = 1\n",
    "                else:\n",
    "                    if num % 2 == 0:\n",
    "                        idx = (num // 2) - 1\n",
    "                        matrix[i][r] = min(matrix[i][idx], matrix[i - 1][idx]) + 1\n",
    "                    else:\n",
    "                        matrix[i][r] = min(matrix[i][r - 1], matrix[i - 1][r - 1]) + 1\n",
    "                        \n",
    "            else:\n",
    "                if num < 3:\n",
    "                    matrix[i][r] = min(matrix[i - 1][r], matrix[i - 2][r])\n",
    "                elif num == 3:\n",
    "                    matrix[i][r] = 1\n",
    "                else:\n",
    "                    if (num % 2 == 0) and (num % 3 == 0):\n",
    "                        idx2 = (num // 2) - 1\n",
    "                        idx3 = (num // 3) - 1\n",
    "                        if matrix[i][idx2] > matrix[i][idx3]:\n",
    "                            matrix[i][r] = min(matrix[i][idx3], matrix[i - 1][idx3]) + 1\n",
    "                        else:\n",
    "                            matrix[i][r] = min(matrix[i][idx2], matrix[i - 1][idx2]) + 1\n",
    "                    elif num % 3 == 0:\n",
    "                        idx = (num // 3) - 1\n",
    "                        matrix[i][r] = min(matrix[i][idx], matrix[i - 1][idx]) + 1\n",
    "#                     elif num % 2 == 0:\n",
    "#                         idx = (num // 2) - 1\n",
    "#                         matrix[i][r] = min(matrix[i][idx], matrix[i - 1][idx]) + 1\n",
    "                    else:\n",
    "                        matrix[i][r] = min(matrix[i][r - 1], matrix[i - 1][r - 1]) + 1\n",
    "    # find minimum count of operations\n",
    "#     print(matrix)\n",
    "    sequence = [n]\n",
    "    while n > 1:\n",
    "        last = [matrix[i][n - 1] for i in range(3)]\n",
    "        idx = last.index(min(last))\n",
    "        if idx == 0:\n",
    "            n = n - 1\n",
    "        if idx == 1:\n",
    "            if n % 2 != 0:\n",
    "                n = n - 1\n",
    "            else:\n",
    "                n = n // 2\n",
    "        if idx == 2:\n",
    "            if n % 3 == 0:\n",
    "                n = n // 3\n",
    "            else:\n",
    "                n = n - 1\n",
    "        sequence.append(n)\n",
    "    return reversed(sequence)\n",
    "\n",
    "print(list(optimal_sequence(11)))"
   ]
  },
  {
   "cell_type": "code",
   "execution_count": 120,
   "metadata": {},
   "outputs": [
    {
     "data": {
      "text/plain": [
       "5346.0"
      ]
     },
     "execution_count": 120,
     "metadata": {},
     "output_type": "execute_result"
    }
   ],
   "source": [
    "16038 / 3"
   ]
  }
 ],
 "metadata": {
  "kernelspec": {
   "display_name": "Python 3",
   "language": "python",
   "name": "python3"
  },
  "language_info": {
   "codemirror_mode": {
    "name": "ipython",
    "version": 3
   },
   "file_extension": ".py",
   "mimetype": "text/x-python",
   "name": "python",
   "nbconvert_exporter": "python",
   "pygments_lexer": "ipython3",
   "version": "3.8.5"
  }
 },
 "nbformat": 4,
 "nbformat_minor": 4
}
