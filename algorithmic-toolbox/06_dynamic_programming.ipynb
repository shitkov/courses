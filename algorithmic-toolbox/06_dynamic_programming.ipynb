{
 "cells": [
  {
   "cell_type": "code",
   "execution_count": null,
   "metadata": {},
   "outputs": [],
   "source": [
    "# 6.1 Maximum Amount of Gold\n",
    "\n",
    "import numpy\n",
    "\n",
    "def optimal_weight(W, w):\n",
    "    matrix = numpy.zeros((len(w)  + 1, W + 1))\n",
    "    for i in range(1, len(w) + 1):\n",
    "        for j in range(1, W + 1):\n",
    "            matrix[i][j] = matrix[i - 1][j]\n",
    "            if j >= w[i - 1]:\n",
    "                matrix[i][j] = max(matrix[i - 1][j], matrix[i - 1][j - w[i - 1]] + w[i - 1])\n",
    "    return int(matrix[-1][-1])"
   ]
  },
  {
   "cell_type": "code",
   "execution_count": null,
   "metadata": {
    "scrolled": true
   },
   "outputs": [],
   "source": [
    "# 6.2 Partitioning Souvenirs\n",
    "\n",
    "import numpy\n",
    "\n",
    "def partition3(items):\n",
    "    if len(items) < 3:\n",
    "        return 0\n",
    "    if sum(items) % 3 != 0:\n",
    "        return 0\n",
    "    \n",
    "    target = sum(items) // 3\n",
    "    matrix = numpy.zeros((len(items) + 1, target + 1))\n",
    "    \n",
    "    count = 0\n",
    "    for i in range(1, len(items) + 1):\n",
    "        for j in range(1, target + 1):\n",
    "            matrix[i][j] == matrix[i - 1][j]\n",
    "            if j >= items[i - 1]:\n",
    "                matrix[i][j] = max(matrix[i - 1][j], matrix[i - 1][j - items[i - 1]] + items[i - 1])\n",
    "            if matrix[i][j] == target:\n",
    "                count += 1\n",
    "    if count < 3:\n",
    "        return 0\n",
    "    else:\n",
    "        return 1"
   ]
  }
 ],
 "metadata": {
  "kernelspec": {
   "display_name": "Python 3",
   "language": "python",
   "name": "python3"
  },
  "language_info": {
   "codemirror_mode": {
    "name": "ipython",
    "version": 3
   },
   "file_extension": ".py",
   "mimetype": "text/x-python",
   "name": "python",
   "nbconvert_exporter": "python",
   "pygments_lexer": "ipython3",
   "version": "3.8.5"
  }
 },
 "nbformat": 4,
 "nbformat_minor": 4
}
