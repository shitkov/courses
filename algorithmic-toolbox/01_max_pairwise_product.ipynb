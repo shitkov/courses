{
 "cells": [
  {
   "cell_type": "code",
   "execution_count": null,
   "metadata": {},
   "outputs": [],
   "source": [
    "def max_pairwise_product_0(numbers):\n",
    "    n = len(numbers)\n",
    "    max_product = 0\n",
    "    for first in range(n):\n",
    "        for second in range(first + 1, n):\n",
    "            max_product = max(max_product,\n",
    "                numbers[first] * numbers[second])\n",
    "\n",
    "    return max_product, first, second\n",
    "\n",
    "input_a = '2 9 3 1 9'\n",
    "\n",
    "input_numbers = [int(x) for x in input_a.split()]\n",
    "\n",
    "print(max_pairwise_product_0(input_numbers))"
   ]
  },
  {
   "cell_type": "code",
   "execution_count": null,
   "metadata": {},
   "outputs": [],
   "source": [
    "def max_pairwise_product_1(numbers):\n",
    "    n = len(numbers)\n",
    "    index_1 = 0\n",
    "    for i in range(1, n):\n",
    "        if numbers[i] > numbers[index_1]:\n",
    "            index_1 = i\n",
    "    if index_1 == 0:\n",
    "        index_2 = 1\n",
    "    else:\n",
    "        index_2 = 0\n",
    "        \n",
    "    for i in range(1, n):\n",
    "        if numbers[i] > numbers[index_2]:\n",
    "            if i != index_1:\n",
    "                index_2 = i\n",
    "    max_product = numbers[index_1] * numbers[index_2]\n",
    "    return max_product\n",
    "\n",
    "input_a = '2 9 3 1 9'\n",
    "\n",
    "input_numbers = [int(x) for x in input_a.split()]\n",
    "\n",
    "print(max_pairwise_product_1(input_numbers))"
   ]
  },
  {
   "cell_type": "code",
   "execution_count": null,
   "metadata": {},
   "outputs": [],
   "source": [
    "def max_pairwise_product_2(numbers):\n",
    "    n = len(numbers)\n",
    "    index_1 = 0\n",
    "    for i in range(1, n):\n",
    "        if numbers[i] > numbers[index_1]:\n",
    "            index_1 = i\n",
    "    if index_1 == 0:\n",
    "        index_2 = 1\n",
    "    else:\n",
    "        index_2 = 0\n",
    "        \n",
    "    for i in range(1, n):\n",
    "        if numbers[i] > numbers[index_2]:\n",
    "            if i != index_1:\n",
    "                index_2 = i\n",
    "    max_product = numbers[index_1] * numbers[index_2]\n",
    "    return max_product, index_1, index_2\n",
    "\n",
    "input_a = '68165 87637 74297 2904 32873 86010 87637 66131 82858 82935'\n",
    "\n",
    "input_numbers = [int(x) for x in input_a.split()]\n",
    "\n",
    "print(max_pairwise_product_2(input_numbers))"
   ]
  },
  {
   "cell_type": "code",
   "execution_count": null,
   "metadata": {},
   "outputs": [],
   "source": [
    "A = [i for i in range(1, a_max + 1)]\n",
    "\n",
    "print(max_pairwise_product_2(A))"
   ]
  },
  {
   "cell_type": "code",
   "execution_count": null,
   "metadata": {},
   "outputs": [],
   "source": [
    "import random"
   ]
  },
  {
   "cell_type": "code",
   "execution_count": null,
   "metadata": {},
   "outputs": [],
   "source": [
    "def max_pairwise_naive(numbers):\n",
    "    max_product = 0\n",
    "    index_1 = 0\n",
    "    index_2 = 1\n",
    "    for i in range(len(numbers)):\n",
    "        for j in range(i + 1, len(numbers)):\n",
    "            product = numbers[i] * numbers[j]\n",
    "            if product > max_product:\n",
    "                max_product = product\n",
    "                index_1, index_2 = i, j\n",
    "                \n",
    "    return max_product\n",
    "\n",
    "input_a = '10 6'\n",
    "\n",
    "input_numbers = [int(x) for x in input_a.split()]\n",
    "\n",
    "print(max_pairwise_naive(input_numbers))"
   ]
  },
  {
   "cell_type": "code",
   "execution_count": null,
   "metadata": {},
   "outputs": [],
   "source": [
    "def max_pairwise_reliable(numbers):\n",
    "    index = 0\n",
    "    for i in range(1, len(numbers)):\n",
    "        if numbers[i] > numbers[index]:\n",
    "            index = i\n",
    "    numbers[index], numbers[-1] = numbers[-1], numbers[index]\n",
    "    index = 0\n",
    "    for i in range(1, len(numbers) - 1):\n",
    "        if numbers[i] > numbers[index]:\n",
    "            index = i\n",
    "    numbers[index], numbers[-2] = numbers[-2], numbers[index]\n",
    "    return numbers[-1] * numbers[-2]\n",
    "\n",
    "input_a = '10 6'\n",
    "\n",
    "input_numbers = [int(x) for x in input_a.split()]\n",
    "\n",
    "print(max_pairwise_naive(input_numbers))"
   ]
  },
  {
   "cell_type": "code",
   "execution_count": null,
   "metadata": {},
   "outputs": [],
   "source": [
    "qnt_m = 10\n",
    "qnt_n = 10\n",
    "flag = True\n",
    "while flag:\n",
    "    arr = [random.randint(0, qnt_m) for i in range(random.randint(2, qnt_n))]\n",
    "    res_naive = max_pairwise_naive(arr)\n",
    "    res_test = max_pairwise_reliable(arr)\n",
    "    if res_naive != res_test:\n",
    "        print(arr, res_naive, res_test)\n",
    "        flag = False\n",
    "    else:\n",
    "        flag = True"
   ]
  }
 ],
 "metadata": {
  "kernelspec": {
   "display_name": "Python 3",
   "language": "python",
   "name": "python3"
  },
  "language_info": {
   "codemirror_mode": {
    "name": "ipython",
    "version": 3
   },
   "file_extension": ".py",
   "mimetype": "text/x-python",
   "name": "python",
   "nbconvert_exporter": "python",
   "pygments_lexer": "ipython3",
   "version": "3.8.5"
  }
 },
 "nbformat": 4,
 "nbformat_minor": 4
}
