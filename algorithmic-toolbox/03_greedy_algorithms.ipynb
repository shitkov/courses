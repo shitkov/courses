{
 "cells": [
  {
   "cell_type": "code",
   "execution_count": 1,
   "metadata": {},
   "outputs": [],
   "source": [
    "import random\n",
    "import time"
   ]
  },
  {
   "cell_type": "code",
   "execution_count": 21,
   "metadata": {
    "scrolled": true
   },
   "outputs": [
    {
     "data": {
      "text/plain": [
       "6"
      ]
     },
     "execution_count": 21,
     "metadata": {},
     "output_type": "execute_result"
    }
   ],
   "source": [
    "# 3.1 Money Change\n",
    "def get_change(m):\n",
    "    cnt = 0\n",
    "    while m > 0:\n",
    "        if m >= 10:\n",
    "            m = m - 10\n",
    "        elif m >= 5:\n",
    "            m = m - 5\n",
    "        else:\n",
    "            m = m - 1\n",
    "        cnt += 1\n",
    "    return cnt"
   ]
  },
  {
   "cell_type": "code",
   "execution_count": 27,
   "metadata": {},
   "outputs": [
    {
     "data": {
      "text/plain": [
       "180.0"
      ]
     },
     "execution_count": 27,
     "metadata": {},
     "output_type": "execute_result"
    }
   ],
   "source": [
    "#3.2 Maximum Value of the Loot (Fractional Knapsack)\n",
    "\n",
    "def get_optimal_value(capacity, weights, values):\n",
    "    value = 0.\n",
    "    prices = []\n",
    "    for i in range(len(weights)):\n",
    "        prices.append(values[i]/weights[i])\n",
    "    for _ in range(len(weights)):\n",
    "        i = prices.index(max(prices))\n",
    "        w = weights[i]\n",
    "        if w >= capacity:\n",
    "            return value + capacity * prices[i]\n",
    "        else:\n",
    "            value = value + w * prices[i]\n",
    "            prices[i] = 0\n",
    "            capacity = capacity - w\n",
    "    return value"
   ]
  },
  {
   "cell_type": "code",
   "execution_count": 127,
   "metadata": {},
   "outputs": [
    {
     "data": {
      "text/plain": [
       "2"
      ]
     },
     "execution_count": 127,
     "metadata": {},
     "output_type": "execute_result"
    }
   ],
   "source": [
    "#3.3 Car Fueling\n",
    "\n",
    "def compute_min_refills(distance, tank, stops):\n",
    "    qnt = 0\n",
    "    pos = 0\n",
    "    while pos < distance - tank:\n",
    "        reminder = distance - pos\n",
    "        if tank >= reminder:\n",
    "            return qnt\n",
    "        elif len(stops) == 0:\n",
    "            return -1\n",
    "        else:\n",
    "            for i, stop in enumerate(stops):\n",
    "                # сколько остановок до финиша?\n",
    "                if len(stops) == 1:\n",
    "                    # можем доехать?\n",
    "                    if stop > pos + tank:\n",
    "                        return -1\n",
    "                    else:\n",
    "                        pos = stop\n",
    "                        stops = []\n",
    "                        break\n",
    "                # ищем остановку, до которой можем доехать\n",
    "                else:\n",
    "                    # если не можем доехать\n",
    "                    if stop > pos + tank:\n",
    "                        # проверяем, есть ли те, до которых можем\n",
    "                        if i > 0:\n",
    "                            pos = stops[i - 1]\n",
    "                            stops = stops[i:]\n",
    "                            break\n",
    "                        else:\n",
    "                            return -1\n",
    "                    # если доехали до последней остановки\n",
    "                    elif len(stops) == (i + 1):\n",
    "                        pos = stop\n",
    "                        stops = []\n",
    "                        break\n",
    "            qnt += 1\n",
    "    return qnt"
   ]
  }
 ],
 "metadata": {
  "kernelspec": {
   "display_name": "Python 3",
   "language": "python",
   "name": "python3"
  },
  "language_info": {
   "codemirror_mode": {
    "name": "ipython",
    "version": 3
   },
   "file_extension": ".py",
   "mimetype": "text/x-python",
   "name": "python",
   "nbconvert_exporter": "python",
   "pygments_lexer": "ipython3",
   "version": "3.8.5"
  }
 },
 "nbformat": 4,
 "nbformat_minor": 4
}
