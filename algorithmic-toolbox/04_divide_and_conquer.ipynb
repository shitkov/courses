{
 "cells": [
  {
   "cell_type": "code",
   "execution_count": null,
   "metadata": {},
   "outputs": [],
   "source": [
    "# 4.1 Binary Search\n",
    "\n",
    "def binary_search(keys, query):\n",
    "    low = 0\n",
    "    high = len(keys) - 1\n",
    "    if keys[low] > query:\n",
    "        return -1\n",
    "    elif keys[high] < query:\n",
    "        return -1\n",
    "    else:\n",
    "        while True:\n",
    "            idx = int(low + (high - low)/2)\n",
    "            if (high - low) == 1:\n",
    "                if (keys[low] < query) and (keys[high] > query):\n",
    "                    return -1\n",
    "                elif keys[high] == query:\n",
    "                    return high\n",
    "            if keys[idx] == query:\n",
    "                return idx\n",
    "            elif keys[idx] > query:\n",
    "                high = idx\n",
    "            else:\n",
    "                low = idx       "
   ]
  },
  {
   "cell_type": "code",
   "execution_count": null,
   "metadata": {},
   "outputs": [],
   "source": [
    "# 4.2 Binary Search with Duplicates\n",
    "\n",
    "def binary_search(keys, query):\n",
    "    low = 0\n",
    "    high = len(keys) - 1\n",
    "    if keys[low] > query:\n",
    "        return -1\n",
    "    elif keys[high] < query:\n",
    "        return -1\n",
    "    else:\n",
    "        while True:\n",
    "            idx = int(low + (high - low)/2)\n",
    "            if (high - low) <= 1:\n",
    "                if (keys[low] < query) and (keys[high] > query):\n",
    "                    return -1 \n",
    "                elif keys[low] == query:\n",
    "                    return low\n",
    "                elif keys[high] == query:\n",
    "                    return high\n",
    "            elif keys[idx] >= query:\n",
    "                high = idx\n",
    "            else:\n",
    "                low = idx"
   ]
  },
  {
   "cell_type": "code",
   "execution_count": null,
   "metadata": {},
   "outputs": [],
   "source": [
    "# 4.3 Majority Element\n",
    "\n",
    "def get_majority_element(a, left, right):\n",
    "    if left == right:\n",
    "        return -1\n",
    "    if left + 1 == right:\n",
    "        return a[left]\n",
    "    else:\n",
    "        bound = (right - left) // 2\n",
    "        max_left = get_majority_element(a, left, left + bound)\n",
    "        max_right = get_majority_element(a, left + bound, right)\n",
    "        \n",
    "        cnt_left = 0\n",
    "        cnt_right = 0\n",
    "        for i in a[left:right]:\n",
    "            if i == max_left:\n",
    "                cnt_left += 1\n",
    "            if i == max_right:\n",
    "                cnt_right += 1\n",
    "        if cnt_left > bound and max_left != -1:\n",
    "            return max_left\n",
    "        if cnt_right > bound and max_right != -1:\n",
    "            return cnt_right\n",
    "    return -1"
   ]
  }
 ],
 "metadata": {
  "kernelspec": {
   "display_name": "Python 3",
   "language": "python",
   "name": "python3"
  },
  "language_info": {
   "codemirror_mode": {
    "name": "ipython",
    "version": 3
   },
   "file_extension": ".py",
   "mimetype": "text/x-python",
   "name": "python",
   "nbconvert_exporter": "python",
   "pygments_lexer": "ipython3",
   "version": "3.8.5"
  }
 },
 "nbformat": 4,
 "nbformat_minor": 4
}
