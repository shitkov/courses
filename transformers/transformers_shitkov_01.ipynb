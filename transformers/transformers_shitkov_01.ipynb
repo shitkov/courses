{
  "cells": [
    {
      "cell_type": "markdown",
      "metadata": {
        "id": "view-in-github",
        "colab_type": "text"
      },
      "source": [
        "<a href=\"https://colab.research.google.com/github/shitkov/courses/blob/master/transformers/transformers_shitkov_01.ipynb\" target=\"_parent\"><img src=\"https://colab.research.google.com/assets/colab-badge.svg\" alt=\"Open In Colab\"/></a>"
      ]
    },
    {
      "cell_type": "markdown",
      "id": "b09d7a19-5848-43f4-9d91-f35d4e8614b0",
      "metadata": {
        "id": "b09d7a19-5848-43f4-9d91-f35d4e8614b0"
      },
      "source": [
        "# 1. Information about the submission"
      ]
    },
    {
      "cell_type": "markdown",
      "id": "e37cb5bb-f3d0-4c11-a1dc-2490a208fcd3",
      "metadata": {
        "id": "e37cb5bb-f3d0-4c11-a1dc-2490a208fcd3"
      },
      "source": [
        "## 1.1 Name and number of the assignment "
      ]
    },
    {
      "cell_type": "markdown",
      "id": "4e9d00b8-f3e5-4a44-bcc6-35cdd60767a9",
      "metadata": {
        "id": "4e9d00b8-f3e5-4a44-bcc6-35cdd60767a9"
      },
      "source": [
        "Semantic Role Labelling - #1"
      ]
    },
    {
      "cell_type": "markdown",
      "id": "64ba7f63-66ec-4691-a5d2-17f4679e298d",
      "metadata": {
        "id": "64ba7f63-66ec-4691-a5d2-17f4679e298d"
      },
      "source": [
        "## 1.2 Student name"
      ]
    },
    {
      "cell_type": "markdown",
      "id": "cc8a4e09-62cc-43fd-a7a7-3e9d55ec13b2",
      "metadata": {
        "id": "cc8a4e09-62cc-43fd-a7a7-3e9d55ec13b2"
      },
      "source": [
        "Konstantin Shitkov"
      ]
    },
    {
      "cell_type": "markdown",
      "id": "8a46ab45-d215-41af-b910-63ff4a215a07",
      "metadata": {
        "id": "8a46ab45-d215-41af-b910-63ff4a215a07"
      },
      "source": [
        "## 1.3 Codalab user ID"
      ]
    },
    {
      "cell_type": "markdown",
      "id": "b15cd6b5-8e20-4287-b6ea-a7b0904b355a",
      "metadata": {
        "id": "b15cd6b5-8e20-4287-b6ea-a7b0904b355a"
      },
      "source": [
        "shitkov"
      ]
    },
    {
      "cell_type": "markdown",
      "id": "70456c74-8e1f-4da0-bebe-fbceee169115",
      "metadata": {
        "id": "70456c74-8e1f-4da0-bebe-fbceee169115"
      },
      "source": [
        "## 1.4 Additional comments"
      ]
    },
    {
      "cell_type": "markdown",
      "id": "6b810ac6-7739-4f7f-8bea-dbf1198570ea",
      "metadata": {
        "id": "6b810ac6-7739-4f7f-8bea-dbf1198570ea"
      },
      "source": [
        "-"
      ]
    },
    {
      "cell_type": "markdown",
      "id": "1af498ab-3c00-4d36-a962-c947862fede8",
      "metadata": {
        "id": "1af498ab-3c00-4d36-a962-c947862fede8"
      },
      "source": [
        "# 2. Technical Report"
      ]
    },
    {
      "cell_type": "markdown",
      "id": "061f71b9-114a-4cb0-b531-5711970317bf",
      "metadata": {
        "id": "061f71b9-114a-4cb0-b531-5711970317bf"
      },
      "source": [
        "## 2.1 Methodology "
      ]
    },
    {
      "cell_type": "markdown",
      "source": [
        "Baseline: LSTM\n",
        "\n",
        "Experiments:\n",
        "1.   BERT\n",
        "1.   BERT + BiLSTM\n",
        "1.   BERT + CRF\n",
        "1.   BERT + BiLSTM + CRF\n",
        "1.   RoBERTa + BiLSTM\n",
        "1.   RoBERTa + BiLSTM + CRF"
      ],
      "metadata": {
        "id": "e6Y4xzMhgHQL"
      },
      "id": "e6Y4xzMhgHQL"
    },
    {
      "cell_type": "markdown",
      "id": "afe27e49-10c7-4c12-adea-48b0a05a5681",
      "metadata": {
        "id": "afe27e49-10c7-4c12-adea-48b0a05a5681"
      },
      "source": [
        "## 2.2 Discussion of results"
      ]
    },
    {
      "cell_type": "markdown",
      "source": [
        "Baseline: LSTM\n",
        "\n",
        "Experiments:\n",
        "1.   BERT: 0.67\n",
        "1.   BERT + BiLSTM: 0.69\n",
        "1.   BERT + CRF: 0.72\n",
        "1.   BERT + BiLSTM + CRF: 0.71\n",
        "1.   RoBERTa + BiLSTM: 0.74\n",
        "1.   RoBERTa + BiLSTM + CRF: 0.73\n",
        "\n",
        "Лучшее качество получалось, если учить батчами по 16, но с CRF лучше вышло на единичных предложениях без паддингов - возможно в батчах я криво маскировал. Ну и RoBERTa оказалась на пару пунктов лучше BERT."
      ],
      "metadata": {
        "id": "uLB3JuhmgIJf"
      },
      "id": "uLB3JuhmgIJf"
    },
    {
      "cell_type": "markdown",
      "id": "194fecf1-e044-4210-a54b-aefbf4b4eebe",
      "metadata": {
        "id": "194fecf1-e044-4210-a54b-aefbf4b4eebe"
      },
      "source": [
        "# 3. Preparation"
      ]
    },
    {
      "cell_type": "markdown",
      "id": "1b3c19fa-f883-4675-9506-85c4f02f0af9",
      "metadata": {
        "id": "1b3c19fa-f883-4675-9506-85c4f02f0af9"
      },
      "source": [
        "## 3.1 Download the data"
      ]
    },
    {
      "cell_type": "code",
      "execution_count": null,
      "id": "8f366b0f-7d0b-44e0-bb82-0d82c3ea1bb1",
      "metadata": {
        "id": "8f366b0f-7d0b-44e0-bb82-0d82c3ea1bb1"
      },
      "outputs": [],
      "source": [
        "%%capture\n",
        "!wget https://raw.githubusercontent.com/shitkov/courses/master/transformers/dev.tsv\n",
        "!wget https://raw.githubusercontent.com/shitkov/courses/master/transformers/evaluate_f1_partial.py\n",
        "\n",
        "!wget https://raw.githubusercontent.com/s-nlp/semantic-role-labelling/main/train.tsv\n",
        "!wget https://raw.githubusercontent.com/s-nlp/semantic-role-labelling/main/test_no_answers.tsv\n",
        "!wget https://raw.githubusercontent.com/s-nlp/semantic-role-labelling/main/evaluation/f1_score_partial.py"
      ]
    },
    {
      "cell_type": "markdown",
      "source": [
        "## 3.1 Requirements"
      ],
      "metadata": {
        "id": "qWmSmorMrSa7"
      },
      "id": "qWmSmorMrSa7"
    },
    {
      "cell_type": "code",
      "source": [
        "!pip install transformers -q\n",
        "!pip install pytorch-crf -q"
      ],
      "metadata": {
        "id": "P543yot6ofgV"
      },
      "id": "P543yot6ofgV",
      "execution_count": null,
      "outputs": []
    },
    {
      "cell_type": "code",
      "execution_count": null,
      "id": "b71a4653-86f2-448a-a2c4-17c02c1ba940",
      "metadata": {
        "tags": [],
        "id": "b71a4653-86f2-448a-a2c4-17c02c1ba940"
      },
      "outputs": [],
      "source": [
        "import torch\n",
        "import torch.nn as nn\n",
        "import torch.nn.functional as F\n",
        "import torch.optim as optim\n",
        "from torch.optim import AdamW\n",
        "from torch.utils.data import Dataset\n",
        "from torch.utils.data import DataLoader\n",
        "\n",
        "from tqdm import tqdm\n",
        "from sklearn.metrics import f1_score\n",
        "\n",
        "from evaluate_f1_partial import evaluate_f1\n",
        "\n",
        "from transformers import AutoTokenizer, RobertaModel, BertModel\n",
        "\n",
        "import matplotlib.pyplot as plt\n",
        "\n",
        "from torchcrf import CRF"
      ]
    },
    {
      "cell_type": "markdown",
      "id": "791dc0e7-337d-46ad-96a3-543a732f19e2",
      "metadata": {
        "id": "791dc0e7-337d-46ad-96a3-543a732f19e2"
      },
      "source": [
        "## 3.3 Preprocessing "
      ]
    },
    {
      "cell_type": "code",
      "source": [
        "data_train_path = '/content/train.tsv'\n",
        "data_valid_path = '/content/dev.tsv'\n",
        "data_test_path = '/content/test_no_answers.tsv'"
      ],
      "metadata": {
        "id": "XVieEmMcKGzp"
      },
      "id": "XVieEmMcKGzp",
      "execution_count": null,
      "outputs": []
    },
    {
      "cell_type": "code",
      "source": [
        "def read_dataset(filename, splitter=\"\\t\"):\n",
        "    data = []\n",
        "    sentence = []\n",
        "    tags = []\n",
        "    with open(filename) as f:\n",
        "        for line in f:\n",
        "            if not line.isspace():\n",
        "                word, tag = line.split(splitter)\n",
        "                sentence.append(word)\n",
        "                tags.append(tag.strip())\n",
        "            else:\n",
        "                data.append((sentence, tags))\n",
        "                sentence = []\n",
        "                tags = []\n",
        "    return data"
      ],
      "metadata": {
        "id": "VktuS81SLdMY"
      },
      "id": "VktuS81SLdMY",
      "execution_count": null,
      "outputs": []
    },
    {
      "cell_type": "code",
      "source": [
        "training_data = read_dataset(data_train_path)\n",
        "valid_data = read_dataset(data_valid_path)\n",
        "test_data = read_dataset(data_test_path, splitter=\"\\n\")"
      ],
      "metadata": {
        "id": "u25xL0iTLe66"
      },
      "id": "u25xL0iTLe66",
      "execution_count": null,
      "outputs": []
    },
    {
      "cell_type": "code",
      "source": [
        "MODEL_NAME = 'xlm-roberta-large'\n",
        "\n",
        "EPOCHS = 3\n",
        "BATCH_SIZE = 16\n",
        "LR=1e-5\n",
        "\n",
        "temp_path = '/content/ans.tsv'"
      ],
      "metadata": {
        "id": "SSbA41QThT0v"
      },
      "id": "SSbA41QThT0v",
      "execution_count": null,
      "outputs": []
    },
    {
      "cell_type": "code",
      "source": [
        "device = torch.device(\"cuda:0\" if torch.cuda.is_available() else \"cpu\")"
      ],
      "metadata": {
        "id": "tz9JO3xekwkI"
      },
      "id": "tz9JO3xekwkI",
      "execution_count": null,
      "outputs": []
    },
    {
      "cell_type": "markdown",
      "source": [
        "# 4. BERT + BiLSTM"
      ],
      "metadata": {
        "id": "GBwfLdG_qhd9"
      },
      "id": "GBwfLdG_qhd9"
    },
    {
      "cell_type": "markdown",
      "source": [
        "## 4.1 Data preparation"
      ],
      "metadata": {
        "id": "DIXfxYUPo7NX"
      },
      "id": "DIXfxYUPo7NX"
    },
    {
      "cell_type": "code",
      "source": [
        "tag_to_ix = {\n",
        "    \"O\": 0,\n",
        "    \"B-Object\": 1,\n",
        "    \"I-Object\": 2,\n",
        "    \"B-Aspect\": 3,\n",
        "    \"I-Aspect\": 4,\n",
        "    \"B-Predicate\": 5,\n",
        "    \"I-Predicate\": 6\n",
        "}\n",
        "\n",
        "idx_to_tag = dict(map(reversed, tag_to_ix.items()))\n",
        "\n",
        "tagset_size = len(tag_to_ix)"
      ],
      "metadata": {
        "id": "WHdwoNdVjuf_"
      },
      "id": "WHdwoNdVjuf_",
      "execution_count": null,
      "outputs": []
    },
    {
      "cell_type": "code",
      "source": [
        "tokenizer = AutoTokenizer.from_pretrained(MODEL_NAME)"
      ],
      "metadata": {
        "id": "ky4W70UYj3W0"
      },
      "id": "ky4W70UYj3W0",
      "execution_count": null,
      "outputs": []
    },
    {
      "cell_type": "code",
      "source": [
        "def tokenize_and_align_labels(words, tags, tokenizer, tag_to_ix, label_all_tokens=False):\n",
        "    if BATCH_SIZE > 1:\n",
        "        padding = 'max_length'\n",
        "    else:\n",
        "        padding = 'longest'\n",
        "        \n",
        "    tokenized_inputs = tokenizer(\n",
        "        words,\n",
        "        is_split_into_words=True,\n",
        "        return_tensors='pt',\n",
        "        max_length=128,\n",
        "        padding=padding\n",
        "    )\n",
        "    word_ids = tokenized_inputs.word_ids()\n",
        "    \n",
        "    if tags[0] != '':\n",
        "        previous_word_idx = None\n",
        "        label_ids = []\n",
        "        for word_idx in word_ids:\n",
        "            if word_idx is None:\n",
        "                label_ids.append(-100)\n",
        "            elif word_idx != previous_word_idx:\n",
        "                label_ids.append(tags[word_idx])\n",
        "            else:\n",
        "                label_ids.append(tags[word_idx] if label_all_tokens else -100)\n",
        "            previous_word_idx = word_idx\n",
        "\n",
        "        label_ids = [tag_to_ix[idx] if isinstance(idx, str) else idx for idx in label_ids]\n",
        "        tokenized_inputs[\"labels\"] = torch.LongTensor(label_ids)\n",
        "    word_ids = [i if i is not None else -1 for i in word_ids]    \n",
        "    tokenized_inputs[\"word_ids\"] = word_ids\n",
        "    return tokenized_inputs"
      ],
      "metadata": {
        "id": "nx-NBhnSj69A"
      },
      "id": "nx-NBhnSj69A",
      "execution_count": null,
      "outputs": []
    },
    {
      "cell_type": "code",
      "source": [
        "class NERDataset(Dataset):\n",
        "\n",
        "    def __init__(self, data, tokenizer, tag_to_ix, label_all_tokens, train):\n",
        "        self.texts, self.labels = zip(*data)\n",
        "        self.tokenizer = tokenizer\n",
        "        self.tag_to_ix = tag_to_ix\n",
        "        self.label_all_tokens=label_all_tokens\n",
        "        self.train = train\n",
        "      \n",
        "    def __len__(self):\n",
        "        return len(self.labels)\n",
        "\n",
        "    def __getitem__(self, index):\n",
        "        if self.train:\n",
        "            return tokenize_and_align_labels(\n",
        "                self.texts[index],\n",
        "                self.labels[index],\n",
        "                self.tokenizer,\n",
        "                self.tag_to_ix,\n",
        "                self.label_all_tokens\n",
        "                )\n",
        "        else:\n",
        "            return self.texts[index], tokenize_and_align_labels(\n",
        "                self.texts[index],\n",
        "                self.labels[index],\n",
        "                self.tokenizer,\n",
        "                self.tag_to_ix,\n",
        "                self.label_all_tokens\n",
        "                )"
      ],
      "metadata": {
        "id": "KAQP349pkBoY"
      },
      "id": "KAQP349pkBoY",
      "execution_count": null,
      "outputs": []
    },
    {
      "cell_type": "code",
      "source": [
        "train_dataset = NERDataset(\n",
        "    data=training_data,\n",
        "    tokenizer=tokenizer,\n",
        "    tag_to_ix=tag_to_ix,\n",
        "    label_all_tokens=False,\n",
        "    train=True\n",
        ")"
      ],
      "metadata": {
        "id": "u50xOIM_kHC_"
      },
      "id": "u50xOIM_kHC_",
      "execution_count": null,
      "outputs": []
    },
    {
      "cell_type": "code",
      "source": [
        "valid_dataset = NERDataset(\n",
        "    data=valid_data,\n",
        "    tokenizer=tokenizer,\n",
        "    tag_to_ix=tag_to_ix,\n",
        "    label_all_tokens=False,\n",
        "    train=False\n",
        ")"
      ],
      "metadata": {
        "id": "4_0OSTONkHmc"
      },
      "id": "4_0OSTONkHmc",
      "execution_count": null,
      "outputs": []
    },
    {
      "cell_type": "code",
      "source": [
        "test_dataset = NERDataset(\n",
        "    data=test_data,\n",
        "    tokenizer=tokenizer,\n",
        "    tag_to_ix=tag_to_ix,\n",
        "    label_all_tokens=False,\n",
        "    train=False\n",
        ")"
      ],
      "metadata": {
        "id": "-rudmOmckHoh"
      },
      "id": "-rudmOmckHoh",
      "execution_count": null,
      "outputs": []
    },
    {
      "cell_type": "code",
      "source": [
        "train_dataloader = DataLoader(train_dataset, batch_size=BATCH_SIZE, shuffle=True)"
      ],
      "metadata": {
        "id": "0_SEciYIkur_"
      },
      "id": "0_SEciYIkur_",
      "execution_count": null,
      "outputs": []
    },
    {
      "cell_type": "markdown",
      "source": [
        "## 4.2 Model"
      ],
      "metadata": {
        "id": "83IKEgQ99Uru"
      },
      "id": "83IKEgQ99Uru"
    },
    {
      "cell_type": "code",
      "source": [
        "class BERT_NER(nn.Module):\n",
        "\n",
        "    def __init__(self, model_name, tagset_size):\n",
        "        super(BERT_NER, self).__init__()\n",
        "        self.device = torch.device(\"cuda:0\" if torch.cuda.is_available() else \"cpu\")\n",
        "        self.bert = RobertaModel.from_pretrained(model_name)\n",
        "        self.lstm = nn.LSTM(input_size=1024, hidden_size=1024//2, num_layers=1, bidirectional=True, batch_first=True)\n",
        "        self.fc = nn.Linear(1024, tagset_size)\n",
        "        \n",
        "    def forward(self, input_ids, attention_mask, labels=None):\n",
        "        x = self.bert(\n",
        "            input_ids=input_ids,\n",
        "            attention_mask=attention_mask\n",
        "            ).last_hidden_state\n",
        "        x, _ = self.lstm(x)\n",
        "        x = self.fc(x)\n",
        "        return x"
      ],
      "metadata": {
        "id": "eJh71l_r9X_Z"
      },
      "id": "eJh71l_r9X_Z",
      "execution_count": null,
      "outputs": []
    },
    {
      "cell_type": "code",
      "source": [
        "def get_token_idx(word_ids):\n",
        "    idx_list = []\n",
        "    for i, idx in enumerate(word_ids):\n",
        "        if idx != -1 and idx not in word_ids[:i]:\n",
        "            idx_list.append(i)\n",
        "    return idx_list"
      ],
      "metadata": {
        "id": "lD9g9164kPWa"
      },
      "id": "lD9g9164kPWa",
      "execution_count": null,
      "outputs": []
    },
    {
      "cell_type": "code",
      "source": [
        "def predict_bert(model, dataset, idx_to_tag, filename):\n",
        "    with open(filename, \"w\") as w:\n",
        "        with torch.no_grad():\n",
        "            for words, data in tqdm(dataset):\n",
        "                input_ids = data['input_ids'].to(device)\n",
        "                attention_mask = data['attention_mask'].to(device)\n",
        "                # labels = torch.unsqueeze(data['labels'], 0).to(device)\n",
        "                word_ids = data['word_ids']\n",
        "                tag_scores = model(\n",
        "                    input_ids=input_ids,\n",
        "                    attention_mask=attention_mask,\n",
        "                    )\n",
        "                tag_scores = tag_scores.argmax(dim=-1)\n",
        "                tags_id = torch.squeeze(tag_scores)[get_token_idx(word_ids)]\n",
        "                tags = [idx_to_tag[int(i)] for i in tags_id]\n",
        "                for i, y in zip(words, tags):\n",
        "                    w.write(f\"{i}\\t{y}\\n\")\n",
        "                w.write(\"\\n\")"
      ],
      "metadata": {
        "id": "chcLCKeMkQs5"
      },
      "id": "chcLCKeMkQs5",
      "execution_count": null,
      "outputs": []
    },
    {
      "cell_type": "markdown",
      "source": [
        "## 4.3 Train loop"
      ],
      "metadata": {
        "id": "l4zENLYm9YhO"
      },
      "id": "l4zENLYm9YhO"
    },
    {
      "cell_type": "code",
      "source": [
        "model = BERT_NER(MODEL_NAME, tagset_size)\n",
        "model.train();\n",
        "model.to(device);"
      ],
      "metadata": {
        "id": "jhDEkl_Wkkdj"
      },
      "id": "jhDEkl_Wkkdj",
      "execution_count": null,
      "outputs": []
    },
    {
      "cell_type": "code",
      "source": [
        "loss_function = nn.CrossEntropyLoss().to(device)\n",
        "optimizer = AdamW(model.parameters(), lr=LR)"
      ],
      "metadata": {
        "id": "B1QeyCU_klp6"
      },
      "id": "B1QeyCU_klp6",
      "execution_count": null,
      "outputs": []
    },
    {
      "cell_type": "code",
      "source": [
        "f1_list = []\n",
        "for epoch in range(EPOCHS):\n",
        "    for data in tqdm(train_dataloader):\n",
        "        model.zero_grad()\n",
        "        input_ids = data['input_ids'].to(device)\n",
        "        attention_mask=data['attention_mask'].to(device)\n",
        "        labels = data['labels'].to(device)\n",
        "        dim0 = input_ids.shape[0]\n",
        "        dim1 = input_ids.shape[2]\n",
        "        output = model(\n",
        "            input_ids=input_ids.reshape(dim0, dim1),\n",
        "            attention_mask=attention_mask.reshape(dim0, dim1),\n",
        "            labels = labels\n",
        "            )\n",
        "        loss = loss_function(torch.permute(output, (0, 2, 1)), labels)\n",
        "        loss.backward()\n",
        "        optimizer.step()\n",
        "    predict_bert(model, valid_dataset, idx_to_tag, filename=temp_path)\n",
        "    try:\n",
        "        f1_avg_strict = evaluate_f1(data_valid_path, temp_path, 'results_ans.txt', True)\n",
        "        filename_dev = 'dev_' + str(f1_avg_strict) + '.tsv'\n",
        "        predict_bert(model, valid_dataset, idx_to_tag, filename=filename_dev)\n",
        "        filename_test = 'test_' + str(f1_avg_strict) + '.tsv'\n",
        "        predict_bert(model, test_dataset, idx_to_tag, filename=filename_test)\n",
        "        f1_list.append(f1_avg_strict)\n",
        "    except:\n",
        "        pass"
      ],
      "metadata": {
        "id": "nKL7TQL4k3ol"
      },
      "id": "nKL7TQL4k3ol",
      "execution_count": null,
      "outputs": []
    },
    {
      "cell_type": "code",
      "source": [
        "plt.plot(f1_list)\n",
        "plt.show()"
      ],
      "metadata": {
        "id": "770W2tM5lVh3"
      },
      "id": "770W2tM5lVh3",
      "execution_count": null,
      "outputs": []
    },
    {
      "cell_type": "code",
      "source": [
        "import gc\n",
        "torch.cuda.empty_cache()\n",
        "gc.collect()"
      ],
      "metadata": {
        "id": "x7tyGc-o1tj3"
      },
      "id": "x7tyGc-o1tj3",
      "execution_count": null,
      "outputs": []
    },
    {
      "cell_type": "markdown",
      "source": [
        "# 5. BERT + BiLSTM + CRF"
      ],
      "metadata": {
        "id": "My5En4tIxdhM"
      },
      "id": "My5En4tIxdhM"
    },
    {
      "cell_type": "code",
      "source": [
        "tag_to_ix = {\n",
        "    \"O\": 0,\n",
        "    \"B-Object\": 1,\n",
        "    \"I-Object\": 2,\n",
        "    \"B-Aspect\": 3,\n",
        "    \"I-Aspect\": 4,\n",
        "    \"B-Predicate\": 5,\n",
        "    \"I-Predicate\": 6,\n",
        "    \"START\": 7,\n",
        "    \"STOP\": 8\n",
        "}"
      ],
      "metadata": {
        "id": "s7SmQA5prRaQ"
      },
      "id": "s7SmQA5prRaQ",
      "execution_count": null,
      "outputs": []
    },
    {
      "cell_type": "code",
      "source": [
        "idx_to_tag = dict(map(reversed, tag_to_ix.items()))"
      ],
      "metadata": {
        "id": "j3CvAZhiVUvs"
      },
      "id": "j3CvAZhiVUvs",
      "execution_count": null,
      "outputs": []
    },
    {
      "cell_type": "code",
      "source": [
        "tagset_size = len(tag_to_ix)"
      ],
      "metadata": {
        "id": "Cijr3t3cVV9N"
      },
      "id": "Cijr3t3cVV9N",
      "execution_count": null,
      "outputs": []
    },
    {
      "cell_type": "code",
      "source": [
        "def tokenize_and_align_labels_crf(words, tags, tokenizer, tag_to_ix):\n",
        "    if BATCH_SIZE > 1:\n",
        "        padding = 'max_length'\n",
        "    else:\n",
        "        padding = 'longest'\n",
        "        \n",
        "    tokenized_inputs = tokenizer(\n",
        "        words,\n",
        "        is_split_into_words=True,\n",
        "        return_tensors='pt',\n",
        "        max_length=128,\n",
        "        padding=padding\n",
        "    )\n",
        "    word_ids = tokenized_inputs.word_ids()\n",
        "    if tags[0] != '':\n",
        "        previous_word_idx = None\n",
        "        label_ids = []\n",
        "        for word_idx in word_ids:\n",
        "            if word_idx is None:\n",
        "                label_ids.append(tag_to_ix['STOP'])\n",
        "            elif word_idx != previous_word_idx:\n",
        "                label_ids.append(tags[word_idx])\n",
        "            else:\n",
        "                label_ids.append(tags[word_idx])\n",
        "            previous_word_idx = word_idx\n",
        "\n",
        "        label_ids = [tag_to_ix[idx] if isinstance(idx, str) else idx for idx in label_ids]\n",
        "        label_ids[0] = tag_to_ix['START']\n",
        "        tokenized_inputs[\"labels\"] = torch.LongTensor(label_ids)\n",
        "        \n",
        "    word_ids = [i if i is not None else -1 for i in word_ids]\n",
        "    tokenized_inputs[\"word_ids\"] = word_ids\n",
        "    return tokenized_inputs"
      ],
      "metadata": {
        "id": "a0zmbEWtVYnA"
      },
      "id": "a0zmbEWtVYnA",
      "execution_count": null,
      "outputs": []
    },
    {
      "cell_type": "code",
      "source": [
        "class NERDatasetCRF(Dataset):\n",
        "\n",
        "    def __init__(self, data, tokenizer, tag_to_ix, train):\n",
        "        self.texts, self.labels = zip(*data)\n",
        "        self.tokenizer = tokenizer\n",
        "        self.tag_to_ix = tag_to_ix\n",
        "        self.train = train\n",
        "      \n",
        "    def __len__(self):\n",
        "        return len(self.labels)\n",
        "\n",
        "    def __getitem__(self, index):\n",
        "        if self.train:\n",
        "            return tokenize_and_align_labels_crf(\n",
        "                self.texts[index],\n",
        "                self.labels[index],\n",
        "                self.tokenizer,\n",
        "                self.tag_to_ix\n",
        "                )\n",
        "        else:\n",
        "            return self.texts[index], tokenize_and_align_labels_crf(\n",
        "                self.texts[index],\n",
        "                self.labels[index],\n",
        "                self.tokenizer,\n",
        "                self.tag_to_ix\n",
        "                )"
      ],
      "metadata": {
        "id": "uVNRuTHGV9kc"
      },
      "id": "uVNRuTHGV9kc",
      "execution_count": null,
      "outputs": []
    },
    {
      "cell_type": "code",
      "source": [
        "class BERT_NER_CRF(nn.Module):\n",
        "\n",
        "    def __init__(self, model_name, tagset_size):\n",
        "        super(BERT_NER_CRF, self).__init__()\n",
        "        self.device = torch.device(\"cuda:0\" if torch.cuda.is_available() else \"cpu\")\n",
        "        self.bert = RobertaModel.from_pretrained(model_name)\n",
        "        self.lstm = nn.LSTM(input_size=1024, hidden_size=1024//2, num_layers=1, bidirectional=True, batch_first=True)\n",
        "        self.fc = nn.Linear(1024, tagset_size)\n",
        "        self.crf = CRF(tagset_size, batch_first=True)\n",
        "        \n",
        "    def forward(self, input_ids, attention_mask, labels=None):\n",
        "        x = self.bert(\n",
        "            input_ids=input_ids,\n",
        "            attention_mask=attention_mask\n",
        "            ).last_hidden_state\n",
        "        x, _ = self.lstm(x)\n",
        "        x = self.fc(x)\n",
        "        output = self.crf.decode(x, mask=attention_mask.type(torch.ByteTensor).to(device))\n",
        "        if labels is not None:\n",
        "            loss = self.crf(x, torch.unsqueeze(labels, 0), mask=attention_mask.type(torch.ByteTensor).to(device)) * (-1)\n",
        "            return loss\n",
        "        return output"
      ],
      "metadata": {
        "id": "2Wo-HxEmW0YY"
      },
      "id": "2Wo-HxEmW0YY",
      "execution_count": null,
      "outputs": []
    },
    {
      "cell_type": "code",
      "source": [
        "def get_token_idx(word_ids):\n",
        "    idx_list = []\n",
        "    for i, idx in enumerate(word_ids):\n",
        "        if idx != -1 and idx not in word_ids[:i]:\n",
        "            idx_list.append(i)\n",
        "    return idx_list"
      ],
      "metadata": {
        "id": "XMYM-KdkgElr"
      },
      "id": "XMYM-KdkgElr",
      "execution_count": null,
      "outputs": []
    },
    {
      "cell_type": "code",
      "source": [
        "def predict_bert_crf(model, dataset, idx_to_tag, filename):\n",
        "    with open(filename, \"w\") as w:\n",
        "        with torch.no_grad():\n",
        "            for words, data in tqdm(dataset):\n",
        "                input_ids = data['input_ids'].to(device)\n",
        "                attention_mask = data['attention_mask'].to(device)\n",
        "                word_ids = data['word_ids']\n",
        "                tag_scores = model(\n",
        "                    input_ids=input_ids,\n",
        "                    attention_mask=attention_mask,\n",
        "                    )\n",
        "                tags_id = torch.squeeze(torch.LongTensor(tag_scores))[get_token_idx(word_ids)]\n",
        "                tags = [idx_to_tag[int(i)] for i in tags_id]\n",
        "                for i, y in zip(words, tags):\n",
        "                    w.write(f\"{i}\\t{y}\\n\")\n",
        "                w.write(\"\\n\")"
      ],
      "metadata": {
        "id": "HHnwXydxXxsW"
      },
      "id": "HHnwXydxXxsW",
      "execution_count": null,
      "outputs": []
    },
    {
      "cell_type": "code",
      "source": [
        "tokenizer = AutoTokenizer.from_pretrained(MODEL_NAME)"
      ],
      "metadata": {
        "id": "C2ngp4P_gBcN"
      },
      "id": "C2ngp4P_gBcN",
      "execution_count": null,
      "outputs": []
    },
    {
      "cell_type": "code",
      "source": [
        "train_dataset = NERDatasetCRF(\n",
        "    data=training_data,\n",
        "    tokenizer=tokenizer,\n",
        "    tag_to_ix=tag_to_ix,\n",
        "    train=True\n",
        ")"
      ],
      "metadata": {
        "id": "NVeWxgh0Wj9v"
      },
      "id": "NVeWxgh0Wj9v",
      "execution_count": null,
      "outputs": []
    },
    {
      "cell_type": "code",
      "source": [
        "valid_dataset = NERDatasetCRF(\n",
        "    data=valid_data,\n",
        "    tokenizer=tokenizer,\n",
        "    tag_to_ix=tag_to_ix,\n",
        "    train=False\n",
        ")"
      ],
      "metadata": {
        "id": "hNJcMH-nWtYz"
      },
      "id": "hNJcMH-nWtYz",
      "execution_count": null,
      "outputs": []
    },
    {
      "cell_type": "code",
      "source": [
        "test_dataset = NERDatasetCRF(\n",
        "    data=test_data,\n",
        "    tokenizer=tokenizer,\n",
        "    tag_to_ix=tag_to_ix,\n",
        "    train=False\n",
        ")"
      ],
      "metadata": {
        "id": "XYDVtIa8Ww5f"
      },
      "id": "XYDVtIa8Ww5f",
      "execution_count": null,
      "outputs": []
    },
    {
      "cell_type": "code",
      "source": [
        "model = BERT_NER_CRF(MODEL_NAME, tagset_size)"
      ],
      "metadata": {
        "id": "8eCG6gtzXzAL"
      },
      "id": "8eCG6gtzXzAL",
      "execution_count": null,
      "outputs": []
    },
    {
      "cell_type": "code",
      "source": [
        "model.train();\n",
        "model.to(device);"
      ],
      "metadata": {
        "id": "cQe6SYGGX756"
      },
      "id": "cQe6SYGGX756",
      "execution_count": null,
      "outputs": []
    },
    {
      "cell_type": "code",
      "source": [
        "optimizer = AdamW(model.parameters(), lr=LR)"
      ],
      "metadata": {
        "id": "TpcVlwAlY-RO"
      },
      "id": "TpcVlwAlY-RO",
      "execution_count": null,
      "outputs": []
    },
    {
      "cell_type": "code",
      "source": [
        "f1_list = []\n",
        "for epoch in range(EPOCHS):\n",
        "    for data in tqdm(train_dataset):\n",
        "        model.zero_grad()\n",
        "        input_ids = data['input_ids'].to(device)\n",
        "        attention_mask=data['attention_mask'].to(device)\n",
        "        labels = data['labels'].to(device)\n",
        "        loss = model(\n",
        "            input_ids=input_ids,\n",
        "            attention_mask=attention_mask,\n",
        "            labels = labels\n",
        "            )\n",
        "        loss.backward()\n",
        "        optimizer.step()\n",
        "    predict_bert_crf(model, valid_dataset, idx_to_tag, filename=temp_path)\n",
        "    try:\n",
        "        f1_avg_strict = evaluate_f1(data_valid_path, temp_path, 'results_ans.txt', True)\n",
        "        filename_dev = 'dev_' + str(f1_avg_strict) + '.tsv'\n",
        "        predict_bert_crf(model, valid_dataset, idx_to_tag, filename=filename_dev)\n",
        "        filename_test = 'test_' + str(f1_avg_strict) + '.tsv'\n",
        "        predict_bert_crf(model, test_dataset, idx_to_tag, filename=filename_test)\n",
        "        f1_list.append(f1_avg_strict)\n",
        "    except:\n",
        "        pass"
      ],
      "metadata": {
        "id": "SdTYzbqLZAYQ"
      },
      "id": "SdTYzbqLZAYQ",
      "execution_count": null,
      "outputs": []
    },
    {
      "cell_type": "code",
      "source": [
        "words, data = test_dataset[0]"
      ],
      "metadata": {
        "id": "POSzQkA5phvt"
      },
      "id": "POSzQkA5phvt",
      "execution_count": null,
      "outputs": []
    },
    {
      "cell_type": "code",
      "source": [
        "input_ids = data['input_ids'].to(device)"
      ],
      "metadata": {
        "id": "dyUaZQvxp7XF"
      },
      "id": "dyUaZQvxp7XF",
      "execution_count": null,
      "outputs": []
    },
    {
      "cell_type": "code",
      "source": [
        "attention_mask = data['attention_mask'].to(device)"
      ],
      "metadata": {
        "id": "j_f9kgvzp7Zb"
      },
      "id": "j_f9kgvzp7Zb",
      "execution_count": null,
      "outputs": []
    },
    {
      "cell_type": "code",
      "source": [
        "word_ids = data['word_ids']"
      ],
      "metadata": {
        "id": "9niopfyxqPd0"
      },
      "id": "9niopfyxqPd0",
      "execution_count": null,
      "outputs": []
    },
    {
      "cell_type": "code",
      "source": [
        "word_ids = [i if i is not None else -1 for i in word_ids]"
      ],
      "metadata": {
        "id": "FgsHb4i5qWem"
      },
      "id": "FgsHb4i5qWem",
      "execution_count": null,
      "outputs": []
    },
    {
      "cell_type": "code",
      "source": [
        "tag_scores = model(\n",
        "    input_ids=input_ids,\n",
        "    attention_mask=attention_mask,\n",
        "    )"
      ],
      "metadata": {
        "id": "HmF386QYpe8K"
      },
      "id": "HmF386QYpe8K",
      "execution_count": null,
      "outputs": []
    },
    {
      "cell_type": "code",
      "source": [
        "tags_id = torch.squeeze(torch.LongTensor(tag_scores))[get_token_idx(word_ids)]"
      ],
      "metadata": {
        "id": "AWUPX7dqqSVZ"
      },
      "id": "AWUPX7dqqSVZ",
      "execution_count": null,
      "outputs": []
    },
    {
      "cell_type": "code",
      "source": [
        "tags = [idx_to_tag[int(i)] for i in tags_id]"
      ],
      "metadata": {
        "id": "LxKzkEjPqTN0"
      },
      "id": "LxKzkEjPqTN0",
      "execution_count": null,
      "outputs": []
    }
  ],
  "metadata": {
    "kernelspec": {
      "display_name": "Python 3",
      "language": "python",
      "name": "python3"
    },
    "language_info": {
      "codemirror_mode": {
        "name": "ipython",
        "version": 3
      },
      "file_extension": ".py",
      "mimetype": "text/x-python",
      "name": "python",
      "nbconvert_exporter": "python",
      "pygments_lexer": "ipython3",
      "version": "3.7.10"
    },
    "colab": {
      "provenance": [],
      "include_colab_link": true
    },
    "gpuClass": "standard",
    "accelerator": "GPU"
  },
  "nbformat": 4,
  "nbformat_minor": 5
}