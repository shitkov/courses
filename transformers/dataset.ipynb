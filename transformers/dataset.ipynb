{
  "nbformat": 4,
  "nbformat_minor": 0,
  "metadata": {
    "colab": {
      "provenance": [],
      "authorship_tag": "ABX9TyOgvAWFitDRmgw4C7bm/TcQ",
      "include_colab_link": true
    },
    "kernelspec": {
      "name": "python3",
      "display_name": "Python 3"
    },
    "language_info": {
      "name": "python"
    },
    "accelerator": "GPU",
    "gpuClass": "standard"
  },
  "cells": [
    {
      "cell_type": "markdown",
      "metadata": {
        "id": "view-in-github",
        "colab_type": "text"
      },
      "source": [
        "<a href=\"https://colab.research.google.com/github/shitkov/courses/blob/master/transformers/dataset.ipynb\" target=\"_parent\"><img src=\"https://colab.research.google.com/assets/colab-badge.svg\" alt=\"Open In Colab\"/></a>"
      ]
    },
    {
      "cell_type": "markdown",
      "source": [
        "### Get additional data"
      ],
      "metadata": {
        "id": "-isEqAldcSXn"
      }
    },
    {
      "cell_type": "code",
      "execution_count": null,
      "metadata": {
        "id": "8JK26iAZXKtU"
      },
      "outputs": [],
      "source": [
        "%%capture\n",
        "!wget https://raw.githubusercontent.com/s-nlp/parallel_detoxification_dataset/main/parallel_detoxification_dataset_small.tsv\n",
        "!wget https://raw.githubusercontent.com/s-nlp/russe_detox_2022/main/data/input/train.tsv\n",
        "!wget https://raw.githubusercontent.com/s-nlp/russe_detox_2022/main/data/input/dev.tsv\n",
        "!wget https://raw.githubusercontent.com/s-nlp/russe_detox_2022/main/data/input/test.tsv"
      ]
    },
    {
      "cell_type": "code",
      "source": [
        "import pandas as pd"
      ],
      "metadata": {
        "id": "H6UcVaKqXPHT"
      },
      "execution_count": null,
      "outputs": []
    },
    {
      "cell_type": "code",
      "source": [
        "data = pd.read_csv(\"/content/parallel_detoxification_dataset_small.tsv\", sep='\\t')"
      ],
      "metadata": {
        "id": "MGCv44QXXRun"
      },
      "execution_count": null,
      "outputs": []
    },
    {
      "cell_type": "code",
      "source": [
        "toxic_comments = list(data['toxic_comment'])"
      ],
      "metadata": {
        "id": "snSiNHxHXU6X"
      },
      "execution_count": null,
      "outputs": []
    },
    {
      "cell_type": "code",
      "source": [
        "civil_comments = list(data['civil_comment'])"
      ],
      "metadata": {
        "id": "O5PoOoUqYClc"
      },
      "execution_count": null,
      "outputs": []
    },
    {
      "cell_type": "code",
      "source": [
        "# !pip install googletrans==3.1.0a0"
      ],
      "metadata": {
        "id": "W00ROE_cYHW5"
      },
      "execution_count": null,
      "outputs": []
    },
    {
      "cell_type": "code",
      "source": [
        "from googletrans import Translator"
      ],
      "metadata": {
        "id": "AvDqTdiWY5nF"
      },
      "execution_count": null,
      "outputs": []
    },
    {
      "cell_type": "code",
      "source": [
        "translator = Translator()"
      ],
      "metadata": {
        "id": "UYPQpNZ4ZDyY"
      },
      "execution_count": null,
      "outputs": []
    },
    {
      "cell_type": "code",
      "source": [
        "from tqdm import tqdm"
      ],
      "metadata": {
        "id": "CRiZFdHEcBgU"
      },
      "execution_count": null,
      "outputs": []
    },
    {
      "cell_type": "code",
      "source": [
        "toxic_comments_ru = []\n",
        "civil_comments_ru = []\n",
        "for tox, detox in tqdm(zip(toxic_comments, civil_comments)):\n",
        "    toxic_comments_ru.append(translator.translate(tox, dest='ru').text)\n",
        "    civil_comments_ru.append(translator.translate(detox, dest='ru').text)"
      ],
      "metadata": {
        "id": "8FYXbQq7bUm2"
      },
      "execution_count": null,
      "outputs": []
    },
    {
      "cell_type": "code",
      "source": [
        "df = pd.DataFrame()"
      ],
      "metadata": {
        "id": "-aFzhtTGhunf"
      },
      "execution_count": null,
      "outputs": []
    },
    {
      "cell_type": "code",
      "source": [
        "df['toxic_comment'] = toxic_comments_ru"
      ],
      "metadata": {
        "id": "P_zOrdrriG3D"
      },
      "execution_count": null,
      "outputs": []
    },
    {
      "cell_type": "code",
      "source": [
        "df['civil_comment'] = civil_comments_ru"
      ],
      "metadata": {
        "id": "FghRVejPiKwx"
      },
      "execution_count": null,
      "outputs": []
    },
    {
      "cell_type": "code",
      "source": [
        "df.to_csv('translated.csv')"
      ],
      "metadata": {
        "id": "kGnK4auNiPzZ"
      },
      "execution_count": null,
      "outputs": []
    },
    {
      "cell_type": "code",
      "source": [
        "data = pd.read_csv(\"/content/translated.csv\")"
      ],
      "metadata": {
        "id": "dJy-x2HLwinB"
      },
      "execution_count": null,
      "outputs": []
    },
    {
      "cell_type": "code",
      "source": [
        "toxic_comments = list(data['toxic_comment'])\n",
        "civil_comments = list(data['civil_comment'])"
      ],
      "metadata": {
        "id": "olKu3fIMuaP6"
      },
      "execution_count": null,
      "outputs": []
    },
    {
      "cell_type": "markdown",
      "source": [
        "### Utilities"
      ],
      "metadata": {
        "id": "nFvO0kTf7JEU"
      }
    },
    {
      "cell_type": "code",
      "source": [
        "!pip install transformers sentencepiece --quiet"
      ],
      "metadata": {
        "id": "SnUi4URFww3j"
      },
      "execution_count": null,
      "outputs": []
    },
    {
      "cell_type": "code",
      "source": [
        "import torch\n",
        "from transformers import AutoTokenizer, AutoModelForSequenceClassification"
      ],
      "metadata": {
        "id": "-2cPMkbPw7Qy"
      },
      "execution_count": null,
      "outputs": []
    },
    {
      "cell_type": "code",
      "source": [
        "import gc\n",
        "\n",
        "def cleanup():\n",
        "    gc.collect()\n",
        "    torch.cuda.empty_cache()"
      ],
      "metadata": {
        "id": "MJtwYxgz7Iky"
      },
      "execution_count": null,
      "outputs": []
    },
    {
      "cell_type": "markdown",
      "source": [
        "### Toxic classifier"
      ],
      "metadata": {
        "id": "BifhnWnpuXuV"
      }
    },
    {
      "cell_type": "code",
      "source": [
        "model_checkpoint = 'cointegrated/rubert-tiny-toxicity'\n",
        "tokenizer_cls = AutoTokenizer.from_pretrained(model_checkpoint)\n",
        "model_cls = AutoModelForSequenceClassification.from_pretrained(model_checkpoint)"
      ],
      "metadata": {
        "id": "4Wam1wrPxC3a"
      },
      "execution_count": null,
      "outputs": []
    },
    {
      "cell_type": "code",
      "source": [
        "if torch.cuda.is_available():\n",
        "    model_cls.cuda()"
      ],
      "metadata": {
        "id": "o6Oo6FyxxHJs"
      },
      "execution_count": null,
      "outputs": []
    },
    {
      "cell_type": "code",
      "source": [
        "def text2toxicity(text, model, tokenizer, aggregate=True):\n",
        "    \"\"\" Calculate toxicity of a text (if aggregate=True) or a vector of toxicity aspects (if aggregate=False)\"\"\"\n",
        "    with torch.no_grad():\n",
        "        inputs = tokenizer(text, return_tensors='pt', truncation=True, padding=True).to(model.device)\n",
        "        proba = torch.sigmoid(model(**inputs).logits).cpu().numpy()\n",
        "    if isinstance(text, str):\n",
        "        proba = proba[0]\n",
        "    if aggregate:\n",
        "        return 1 - proba.T[0] * (1 - proba.T[-1])\n",
        "    return proba"
      ],
      "metadata": {
        "id": "ImjstKUhxJvv"
      },
      "execution_count": null,
      "outputs": []
    },
    {
      "cell_type": "code",
      "source": [
        "toxic_labels = text2toxicity(toxic_comments, model_cls, tokenizer_cls, True)"
      ],
      "metadata": {
        "id": "moqtd5prxRKG"
      },
      "execution_count": null,
      "outputs": []
    },
    {
      "cell_type": "code",
      "source": [
        "toxic_labels = [1 if label > 0.8 else 0 for label in toxic_labels]"
      ],
      "metadata": {
        "id": "PGvGr5d9xn7l"
      },
      "execution_count": null,
      "outputs": []
    },
    {
      "cell_type": "code",
      "source": [
        "civil_labels = text2toxicity(civil_comments, True)"
      ],
      "metadata": {
        "id": "Yljve3R3yEMO"
      },
      "execution_count": null,
      "outputs": []
    },
    {
      "cell_type": "code",
      "source": [
        "civil_labels = [1 if label > 0.8 else 0 for label in civil_labels]"
      ],
      "metadata": {
        "id": "9PknwuTjyaxH"
      },
      "execution_count": null,
      "outputs": []
    },
    {
      "cell_type": "code",
      "source": [
        "data['toxic_labell'] = toxic_labels\n",
        "data['civil_label'] = civil_labels"
      ],
      "metadata": {
        "id": "J3hmKmUAyluY"
      },
      "execution_count": null,
      "outputs": []
    },
    {
      "cell_type": "code",
      "source": [
        "df = data[(data['toxic_labell'] == 1) & (data['civil_label'] == 0)]"
      ],
      "metadata": {
        "id": "Vl4efBskyr6g"
      },
      "execution_count": null,
      "outputs": []
    },
    {
      "cell_type": "code",
      "source": [
        "data = pd.DataFrame()\n",
        "\n",
        "data['toxic_comment'] = df['toxic_comment']\n",
        "data['civil_comment'] = df['civil_comment']"
      ],
      "metadata": {
        "id": "IOnrVgnwzaEX"
      },
      "execution_count": null,
      "outputs": []
    },
    {
      "cell_type": "code",
      "source": [
        "data.head()"
      ],
      "metadata": {
        "id": "D-W6v8fAz7h5"
      },
      "execution_count": null,
      "outputs": []
    },
    {
      "cell_type": "code",
      "source": [
        "data.to_csv('train_translated.csv', index=False)"
      ],
      "metadata": {
        "id": "rWQAEu6dz8hR"
      },
      "execution_count": null,
      "outputs": []
    },
    {
      "cell_type": "code",
      "source": [
        "cleanup()"
      ],
      "metadata": {
        "id": "Njs38NXd7arT"
      },
      "execution_count": null,
      "outputs": []
    },
    {
      "cell_type": "markdown",
      "source": [
        "### Toxify data"
      ],
      "metadata": {
        "id": "lcv6d_0264Vo"
      }
    },
    {
      "cell_type": "code",
      "source": [
        "model_name = 'IlyaGusev/rut5_tox'"
      ],
      "metadata": {
        "id": "nwkUxEeC8zGL"
      },
      "execution_count": null,
      "outputs": []
    },
    {
      "cell_type": "code",
      "source": [
        "df = pd.read_csv('train.tsv', sep='\\t', index_col='index')\n",
        "df = df.fillna('')"
      ],
      "metadata": {
        "id": "q5S_aNyuiNwv"
      },
      "execution_count": null,
      "outputs": []
    },
    {
      "cell_type": "code",
      "source": [
        "df_train_toxic = []\n",
        "df_train_neutral = []\n",
        "\n",
        "for index, row in df.iterrows():\n",
        "    references = row[['neutral_comment1', 'neutral_comment2', 'neutral_comment3']].tolist()\n",
        "    \n",
        "    for reference in references:\n",
        "        if len(reference) > 0:\n",
        "            df_train_toxic.append(row['toxic_comment'])\n",
        "            df_train_neutral.append(reference)\n",
        "        else:\n",
        "            break"
      ],
      "metadata": {
        "id": "qECw1ChMi-0T"
      },
      "execution_count": null,
      "outputs": []
    },
    {
      "cell_type": "code",
      "source": [
        "df0 = pd.DataFrame()\n",
        "df0['toxic_comment'] = df_train_toxic\n",
        "df0['civil_comment'] = df_train_neutral"
      ],
      "metadata": {
        "id": "SRdXNFO6jd8K"
      },
      "execution_count": null,
      "outputs": []
    },
    {
      "cell_type": "code",
      "source": [
        "from transformers import T5ForConditionalGeneration"
      ],
      "metadata": {
        "id": "UdpdNR7Z4IDG"
      },
      "execution_count": null,
      "outputs": []
    },
    {
      "cell_type": "code",
      "source": [
        "model = T5ForConditionalGeneration.from_pretrained(model_name).cuda()\n",
        "tokenizer = AutoTokenizer.from_pretrained(model_name)"
      ],
      "metadata": {
        "id": "Mq0gSjY08XFS"
      },
      "execution_count": null,
      "outputs": []
    },
    {
      "cell_type": "code",
      "source": [
        "def paraphrase(text, model, tokenizer, n=None, max_length='auto', temperature=0.0, beams=3):\n",
        "    texts = [text] if isinstance(text, str) else text\n",
        "    inputs = tokenizer(texts, return_tensors='pt', padding=True)['input_ids'].to(model.device)\n",
        "    if max_length == 'auto':\n",
        "        max_length = int(inputs.shape[1] * 1.2) + 10\n",
        "    result = model.generate(\n",
        "        inputs, \n",
        "        num_return_sequences=n or 1, \n",
        "        do_sample=False, \n",
        "        temperature=temperature, \n",
        "        repetition_penalty=3.0, \n",
        "        max_length=max_length,\n",
        "        bad_words_ids=[[2]],  # unk\n",
        "        num_beams=beams,\n",
        "    )\n",
        "    texts = [tokenizer.decode(r, skip_special_tokens=True) for r in result]\n",
        "    if not n and isinstance(text, str):\n",
        "        return texts[0]\n",
        "    return texts"
      ],
      "metadata": {
        "id": "-j-7oIzM8RkC"
      },
      "execution_count": null,
      "outputs": []
    },
    {
      "cell_type": "code",
      "source": [
        "toxic_texts = [paraphrase(text, model, tokenizer) for text in tqdm(df_train_neutral)]"
      ],
      "metadata": {
        "id": "FfYO5ZLB-Pmu"
      },
      "execution_count": null,
      "outputs": []
    },
    {
      "cell_type": "code",
      "source": [
        "len(toxic_texts)"
      ],
      "metadata": {
        "id": "TSsY6E9gMlB6"
      },
      "execution_count": null,
      "outputs": []
    },
    {
      "cell_type": "code",
      "source": [
        "data = pd.DataFrame()\n",
        "data['toxic_comment'] = toxic_texts\n",
        "data['civil_comment'] = df_train_neutral"
      ],
      "metadata": {
        "id": "tEU4f3_5Q-SA"
      },
      "execution_count": null,
      "outputs": []
    },
    {
      "cell_type": "code",
      "source": [
        "data.to_csv('tox_df.csv')"
      ],
      "metadata": {
        "id": "U4LsUKzARNes"
      },
      "execution_count": null,
      "outputs": []
    },
    {
      "cell_type": "code",
      "source": [
        "data = pd.read_csv('tox_df.csv')"
      ],
      "metadata": {
        "id": "CpVObidSekXd"
      },
      "execution_count": null,
      "outputs": []
    },
    {
      "cell_type": "code",
      "source": [
        "toxic_comments = list(data['toxic_comment'])\n",
        "civil_comments = list(data['civil_comment'])"
      ],
      "metadata": {
        "id": "-h9Njy1_fWDf"
      },
      "execution_count": null,
      "outputs": []
    },
    {
      "cell_type": "code",
      "source": [
        "toxic_labels = [text2toxicity(comment, model_cls, tokenizer_cls, True) for comment in tqdm(toxic_comments)]"
      ],
      "metadata": {
        "id": "hVleDQkbfvPL"
      },
      "execution_count": null,
      "outputs": []
    },
    {
      "cell_type": "code",
      "source": [
        "toxic_labels = [1 if label > 0.8 else 0 for label in toxic_labels]"
      ],
      "metadata": {
        "id": "NX1NSKONfvPN"
      },
      "execution_count": null,
      "outputs": []
    },
    {
      "cell_type": "code",
      "source": [
        "civil_labels = [text2toxicity(comment, model_cls, tokenizer_cls, True) for comment in tqdm(civil_comments)]"
      ],
      "metadata": {
        "id": "zz4gkEVLfvPO"
      },
      "execution_count": null,
      "outputs": []
    },
    {
      "cell_type": "code",
      "source": [
        "civil_labels = [1 if label > 0.5 else 0 for label in civil_labels]"
      ],
      "metadata": {
        "id": "D6ARP3DBfvPQ"
      },
      "execution_count": null,
      "outputs": []
    },
    {
      "cell_type": "code",
      "source": [
        "data['toxic_label'] = toxic_labels\n",
        "data['civil_label'] = civil_labels"
      ],
      "metadata": {
        "id": "Ps1SugZ_fvPR"
      },
      "execution_count": null,
      "outputs": []
    },
    {
      "cell_type": "code",
      "source": [
        "df = data[(data['toxic_label'] == 1) & (data['civil_label'] == 0)]"
      ],
      "metadata": {
        "id": "6CyGbaUAfvPS"
      },
      "execution_count": null,
      "outputs": []
    },
    {
      "cell_type": "code",
      "source": [
        "data = pd.DataFrame()\n",
        "\n",
        "data['toxic_comment'] = df['toxic_comment']\n",
        "data['civil_comment'] = df['civil_comment']"
      ],
      "metadata": {
        "id": "NUabAwPlfvPT"
      },
      "execution_count": null,
      "outputs": []
    },
    {
      "cell_type": "code",
      "source": [
        "data.to_csv('train_retox.csv', index=False)"
      ],
      "metadata": {
        "id": "luoYdy7Bg53Z"
      },
      "execution_count": null,
      "outputs": []
    },
    {
      "cell_type": "code",
      "source": [
        "df1 = pd.read_csv('train_retox.csv')\n",
        "df2 = pd.read_csv('train_translated.csv')"
      ],
      "metadata": {
        "id": "pHHa9vdVi0dD"
      },
      "execution_count": null,
      "outputs": []
    },
    {
      "cell_type": "code",
      "source": [
        "df0.head()"
      ],
      "metadata": {
        "id": "ubhUpuigjBlo"
      },
      "execution_count": null,
      "outputs": []
    },
    {
      "cell_type": "code",
      "source": [
        "df = pd.concat([df0, df1, df2])\n",
        "df = df.sample(frac=1)\n",
        "df = df.reset_index(drop=True)"
      ],
      "metadata": {
        "id": "YVHmChlSju0J"
      },
      "execution_count": null,
      "outputs": []
    },
    {
      "cell_type": "code",
      "source": [
        "df.to_csv('train_extended.csv', index=False)"
      ],
      "metadata": {
        "id": "hpJXOWZ_j42k"
      },
      "execution_count": null,
      "outputs": []
    },
    {
      "cell_type": "code",
      "source": [
        "# ruT5\n",
        "# loss: CLS - Labse - metrics\n",
        "# генерация нескольких вариантов, выбор лучшего\n",
        "# Почистить модель\n",
        "# GAN\n",
        "# Фильтрация выхода по словарю"
      ],
      "metadata": {
        "id": "fTy3T8pe-bOU"
      },
      "execution_count": null,
      "outputs": []
    }
  ]
}