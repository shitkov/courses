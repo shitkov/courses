{
  "nbformat": 4,
  "nbformat_minor": 0,
  "metadata": {
    "colab": {
      "provenance": []
    },
    "kernelspec": {
      "name": "python3",
      "display_name": "Python 3"
    },
    "language_info": {
      "name": "python"
    }
  },
  "cells": [
    {
      "cell_type": "code",
      "source": [
        "from google.colab import drive\n",
        "drive.mount('/content/drive')"
      ],
      "metadata": {
        "id": "Qr3kQfz-i7Ak",
        "colab": {
          "base_uri": "https://localhost:8080/"
        },
        "outputId": "06576a2f-4213-4302-bc0a-98c91ad72b6d"
      },
      "execution_count": 1,
      "outputs": [
        {
          "output_type": "stream",
          "name": "stdout",
          "text": [
            "Drive already mounted at /content/drive; to attempt to forcibly remount, call drive.mount(\"/content/drive\", force_remount=True).\n"
          ]
        }
      ]
    },
    {
      "cell_type": "code",
      "source": [
        "# pip install causalml pylift catboost duecredit"
      ],
      "metadata": {
        "id": "pgrF1FlX3yeJ"
      },
      "execution_count": 2,
      "outputs": []
    },
    {
      "cell_type": "code",
      "execution_count": 3,
      "metadata": {
        "id": "lfailnC9Hkbd"
      },
      "outputs": [],
      "source": [
        "import numpy as np\n",
        "import pandas as pd\n",
        "import dask.dataframe as dd\n",
        "import datetime\n",
        "\n",
        "import causalml\n",
        "import causalml.metrics as cmetrics\n",
        "import causalml.inference.tree as ctree\n",
        "import causalml.inference.meta.xlearner as xlearner\n",
        "import causalml.inference.meta.rlearner as rlearner\n",
        "import causalml.inference.meta.tlearner as tlearner\n",
        "\n",
        "import pylift\n",
        "import catboost as cb\n",
        "import lightgbm as lgb\n",
        "\n",
        "from sklearn.metrics import roc_auc_score\n",
        "from sklearn.model_selection import train_test_split"
      ]
    },
    {
      "cell_type": "code",
      "source": [
        "price = 80\n",
        "cost_price = 52\n",
        "communication = 1\n",
        "discount = 40"
      ],
      "metadata": {
        "id": "ToU-dm_WaINO"
      },
      "execution_count": 4,
      "outputs": []
    },
    {
      "cell_type": "code",
      "source": [
        "receipts = dd.read_parquet('/content/drive/MyDrive/ml/receipts.parquet')"
      ],
      "metadata": {
        "id": "3JOWvxgXMO93"
      },
      "execution_count": 5,
      "outputs": []
    },
    {
      "cell_type": "code",
      "source": [
        "receipts = receipts.compute()"
      ],
      "metadata": {
        "id": "scztNwytM8mq"
      },
      "execution_count": 6,
      "outputs": []
    },
    {
      "cell_type": "code",
      "source": [
        "receipts = receipts.reset_index(drop=True)"
      ],
      "metadata": {
        "id": "kWevvNq8NHB4"
      },
      "execution_count": 7,
      "outputs": []
    },
    {
      "cell_type": "code",
      "source": [
        "receipts.head()"
      ],
      "metadata": {
        "id": "3UfUKT1kNkpG",
        "colab": {
          "base_uri": "https://localhost:8080/",
          "height": 206
        },
        "outputId": "1d9e5990-e9ea-4ee1-fb1b-aa2bc60517f8"
      },
      "execution_count": 8,
      "outputs": [
        {
          "output_type": "execute_result",
          "data": {
            "text/plain": [
              "   customer_id  date  purchase_amt  discount  purchase_sum\n",
              "0           26     0     12.125273         0    970.021866\n",
              "1           53     0     34.357035         0   2748.562788\n",
              "2           56     0      8.695825         0    695.666022\n",
              "3           58     0     28.299046         0   2263.923641\n",
              "4           64     0     32.547511         0   2603.800857"
            ],
            "text/html": [
              "\n",
              "  <div id=\"df-b05c05f5-ae75-4abd-9a10-7c542db3847b\">\n",
              "    <div class=\"colab-df-container\">\n",
              "      <div>\n",
              "<style scoped>\n",
              "    .dataframe tbody tr th:only-of-type {\n",
              "        vertical-align: middle;\n",
              "    }\n",
              "\n",
              "    .dataframe tbody tr th {\n",
              "        vertical-align: top;\n",
              "    }\n",
              "\n",
              "    .dataframe thead th {\n",
              "        text-align: right;\n",
              "    }\n",
              "</style>\n",
              "<table border=\"1\" class=\"dataframe\">\n",
              "  <thead>\n",
              "    <tr style=\"text-align: right;\">\n",
              "      <th></th>\n",
              "      <th>customer_id</th>\n",
              "      <th>date</th>\n",
              "      <th>purchase_amt</th>\n",
              "      <th>discount</th>\n",
              "      <th>purchase_sum</th>\n",
              "    </tr>\n",
              "  </thead>\n",
              "  <tbody>\n",
              "    <tr>\n",
              "      <th>0</th>\n",
              "      <td>26</td>\n",
              "      <td>0</td>\n",
              "      <td>12.125273</td>\n",
              "      <td>0</td>\n",
              "      <td>970.021866</td>\n",
              "    </tr>\n",
              "    <tr>\n",
              "      <th>1</th>\n",
              "      <td>53</td>\n",
              "      <td>0</td>\n",
              "      <td>34.357035</td>\n",
              "      <td>0</td>\n",
              "      <td>2748.562788</td>\n",
              "    </tr>\n",
              "    <tr>\n",
              "      <th>2</th>\n",
              "      <td>56</td>\n",
              "      <td>0</td>\n",
              "      <td>8.695825</td>\n",
              "      <td>0</td>\n",
              "      <td>695.666022</td>\n",
              "    </tr>\n",
              "    <tr>\n",
              "      <th>3</th>\n",
              "      <td>58</td>\n",
              "      <td>0</td>\n",
              "      <td>28.299046</td>\n",
              "      <td>0</td>\n",
              "      <td>2263.923641</td>\n",
              "    </tr>\n",
              "    <tr>\n",
              "      <th>4</th>\n",
              "      <td>64</td>\n",
              "      <td>0</td>\n",
              "      <td>32.547511</td>\n",
              "      <td>0</td>\n",
              "      <td>2603.800857</td>\n",
              "    </tr>\n",
              "  </tbody>\n",
              "</table>\n",
              "</div>\n",
              "      <button class=\"colab-df-convert\" onclick=\"convertToInteractive('df-b05c05f5-ae75-4abd-9a10-7c542db3847b')\"\n",
              "              title=\"Convert this dataframe to an interactive table.\"\n",
              "              style=\"display:none;\">\n",
              "        \n",
              "  <svg xmlns=\"http://www.w3.org/2000/svg\" height=\"24px\"viewBox=\"0 0 24 24\"\n",
              "       width=\"24px\">\n",
              "    <path d=\"M0 0h24v24H0V0z\" fill=\"none\"/>\n",
              "    <path d=\"M18.56 5.44l.94 2.06.94-2.06 2.06-.94-2.06-.94-.94-2.06-.94 2.06-2.06.94zm-11 1L8.5 8.5l.94-2.06 2.06-.94-2.06-.94L8.5 2.5l-.94 2.06-2.06.94zm10 10l.94 2.06.94-2.06 2.06-.94-2.06-.94-.94-2.06-.94 2.06-2.06.94z\"/><path d=\"M17.41 7.96l-1.37-1.37c-.4-.4-.92-.59-1.43-.59-.52 0-1.04.2-1.43.59L10.3 9.45l-7.72 7.72c-.78.78-.78 2.05 0 2.83L4 21.41c.39.39.9.59 1.41.59.51 0 1.02-.2 1.41-.59l7.78-7.78 2.81-2.81c.8-.78.8-2.07 0-2.86zM5.41 20L4 18.59l7.72-7.72 1.47 1.35L5.41 20z\"/>\n",
              "  </svg>\n",
              "      </button>\n",
              "      \n",
              "  <style>\n",
              "    .colab-df-container {\n",
              "      display:flex;\n",
              "      flex-wrap:wrap;\n",
              "      gap: 12px;\n",
              "    }\n",
              "\n",
              "    .colab-df-convert {\n",
              "      background-color: #E8F0FE;\n",
              "      border: none;\n",
              "      border-radius: 50%;\n",
              "      cursor: pointer;\n",
              "      display: none;\n",
              "      fill: #1967D2;\n",
              "      height: 32px;\n",
              "      padding: 0 0 0 0;\n",
              "      width: 32px;\n",
              "    }\n",
              "\n",
              "    .colab-df-convert:hover {\n",
              "      background-color: #E2EBFA;\n",
              "      box-shadow: 0px 1px 2px rgba(60, 64, 67, 0.3), 0px 1px 3px 1px rgba(60, 64, 67, 0.15);\n",
              "      fill: #174EA6;\n",
              "    }\n",
              "\n",
              "    [theme=dark] .colab-df-convert {\n",
              "      background-color: #3B4455;\n",
              "      fill: #D2E3FC;\n",
              "    }\n",
              "\n",
              "    [theme=dark] .colab-df-convert:hover {\n",
              "      background-color: #434B5C;\n",
              "      box-shadow: 0px 1px 3px 1px rgba(0, 0, 0, 0.15);\n",
              "      filter: drop-shadow(0px 1px 2px rgba(0, 0, 0, 0.3));\n",
              "      fill: #FFFFFF;\n",
              "    }\n",
              "  </style>\n",
              "\n",
              "      <script>\n",
              "        const buttonEl =\n",
              "          document.querySelector('#df-b05c05f5-ae75-4abd-9a10-7c542db3847b button.colab-df-convert');\n",
              "        buttonEl.style.display =\n",
              "          google.colab.kernel.accessAllowed ? 'block' : 'none';\n",
              "\n",
              "        async function convertToInteractive(key) {\n",
              "          const element = document.querySelector('#df-b05c05f5-ae75-4abd-9a10-7c542db3847b');\n",
              "          const dataTable =\n",
              "            await google.colab.kernel.invokeFunction('convertToInteractive',\n",
              "                                                     [key], {});\n",
              "          if (!dataTable) return;\n",
              "\n",
              "          const docLinkHtml = 'Like what you see? Visit the ' +\n",
              "            '<a target=\"_blank\" href=https://colab.research.google.com/notebooks/data_table.ipynb>data table notebook</a>'\n",
              "            + ' to learn more about interactive tables.';\n",
              "          element.innerHTML = '';\n",
              "          dataTable['output_type'] = 'display_data';\n",
              "          await google.colab.output.renderOutput(dataTable, element);\n",
              "          const docLink = document.createElement('div');\n",
              "          docLink.innerHTML = docLinkHtml;\n",
              "          element.appendChild(docLink);\n",
              "        }\n",
              "      </script>\n",
              "    </div>\n",
              "  </div>\n",
              "  "
            ]
          },
          "metadata": {},
          "execution_count": 8
        }
      ]
    },
    {
      "cell_type": "code",
      "source": [
        "receipts[receipts['discount'] > 0]"
      ],
      "metadata": {
        "id": "K_d4NeLi9dFD",
        "colab": {
          "base_uri": "https://localhost:8080/",
          "height": 423
        },
        "outputId": "83f4189e-9867-4b1f-fd2a-2abf5d9f022c"
      },
      "execution_count": 9,
      "outputs": [
        {
          "output_type": "execute_result",
          "data": {
            "text/plain": [
              "          customer_id  date  purchase_amt  discount  purchase_sum\n",
              "12936924           12   102     14.351911        40   1148.152907\n",
              "12936925           19   102      3.840616        40    307.249242\n",
              "12936926           39   102     12.696186        40   1015.694904\n",
              "12936927           72   102     24.732437        40   1978.594946\n",
              "12936928           86   102     16.100635        40   1288.050801\n",
              "...               ...   ...           ...       ...           ...\n",
              "13755157       499846   108     19.380944        40   1550.475485\n",
              "13755158       499893   108     22.097805        40   1767.824435\n",
              "13755159       499906   108     20.053657        40   1604.292559\n",
              "13755161       499929   108     10.735916        40    858.873243\n",
              "13755163       499975   108     16.552561        40   1324.204908\n",
              "\n",
              "[226525 rows x 5 columns]"
            ],
            "text/html": [
              "\n",
              "  <div id=\"df-cd89272a-b3e3-400f-b9db-44b5f74d115c\">\n",
              "    <div class=\"colab-df-container\">\n",
              "      <div>\n",
              "<style scoped>\n",
              "    .dataframe tbody tr th:only-of-type {\n",
              "        vertical-align: middle;\n",
              "    }\n",
              "\n",
              "    .dataframe tbody tr th {\n",
              "        vertical-align: top;\n",
              "    }\n",
              "\n",
              "    .dataframe thead th {\n",
              "        text-align: right;\n",
              "    }\n",
              "</style>\n",
              "<table border=\"1\" class=\"dataframe\">\n",
              "  <thead>\n",
              "    <tr style=\"text-align: right;\">\n",
              "      <th></th>\n",
              "      <th>customer_id</th>\n",
              "      <th>date</th>\n",
              "      <th>purchase_amt</th>\n",
              "      <th>discount</th>\n",
              "      <th>purchase_sum</th>\n",
              "    </tr>\n",
              "  </thead>\n",
              "  <tbody>\n",
              "    <tr>\n",
              "      <th>12936924</th>\n",
              "      <td>12</td>\n",
              "      <td>102</td>\n",
              "      <td>14.351911</td>\n",
              "      <td>40</td>\n",
              "      <td>1148.152907</td>\n",
              "    </tr>\n",
              "    <tr>\n",
              "      <th>12936925</th>\n",
              "      <td>19</td>\n",
              "      <td>102</td>\n",
              "      <td>3.840616</td>\n",
              "      <td>40</td>\n",
              "      <td>307.249242</td>\n",
              "    </tr>\n",
              "    <tr>\n",
              "      <th>12936926</th>\n",
              "      <td>39</td>\n",
              "      <td>102</td>\n",
              "      <td>12.696186</td>\n",
              "      <td>40</td>\n",
              "      <td>1015.694904</td>\n",
              "    </tr>\n",
              "    <tr>\n",
              "      <th>12936927</th>\n",
              "      <td>72</td>\n",
              "      <td>102</td>\n",
              "      <td>24.732437</td>\n",
              "      <td>40</td>\n",
              "      <td>1978.594946</td>\n",
              "    </tr>\n",
              "    <tr>\n",
              "      <th>12936928</th>\n",
              "      <td>86</td>\n",
              "      <td>102</td>\n",
              "      <td>16.100635</td>\n",
              "      <td>40</td>\n",
              "      <td>1288.050801</td>\n",
              "    </tr>\n",
              "    <tr>\n",
              "      <th>...</th>\n",
              "      <td>...</td>\n",
              "      <td>...</td>\n",
              "      <td>...</td>\n",
              "      <td>...</td>\n",
              "      <td>...</td>\n",
              "    </tr>\n",
              "    <tr>\n",
              "      <th>13755157</th>\n",
              "      <td>499846</td>\n",
              "      <td>108</td>\n",
              "      <td>19.380944</td>\n",
              "      <td>40</td>\n",
              "      <td>1550.475485</td>\n",
              "    </tr>\n",
              "    <tr>\n",
              "      <th>13755158</th>\n",
              "      <td>499893</td>\n",
              "      <td>108</td>\n",
              "      <td>22.097805</td>\n",
              "      <td>40</td>\n",
              "      <td>1767.824435</td>\n",
              "    </tr>\n",
              "    <tr>\n",
              "      <th>13755159</th>\n",
              "      <td>499906</td>\n",
              "      <td>108</td>\n",
              "      <td>20.053657</td>\n",
              "      <td>40</td>\n",
              "      <td>1604.292559</td>\n",
              "    </tr>\n",
              "    <tr>\n",
              "      <th>13755161</th>\n",
              "      <td>499929</td>\n",
              "      <td>108</td>\n",
              "      <td>10.735916</td>\n",
              "      <td>40</td>\n",
              "      <td>858.873243</td>\n",
              "    </tr>\n",
              "    <tr>\n",
              "      <th>13755163</th>\n",
              "      <td>499975</td>\n",
              "      <td>108</td>\n",
              "      <td>16.552561</td>\n",
              "      <td>40</td>\n",
              "      <td>1324.204908</td>\n",
              "    </tr>\n",
              "  </tbody>\n",
              "</table>\n",
              "<p>226525 rows × 5 columns</p>\n",
              "</div>\n",
              "      <button class=\"colab-df-convert\" onclick=\"convertToInteractive('df-cd89272a-b3e3-400f-b9db-44b5f74d115c')\"\n",
              "              title=\"Convert this dataframe to an interactive table.\"\n",
              "              style=\"display:none;\">\n",
              "        \n",
              "  <svg xmlns=\"http://www.w3.org/2000/svg\" height=\"24px\"viewBox=\"0 0 24 24\"\n",
              "       width=\"24px\">\n",
              "    <path d=\"M0 0h24v24H0V0z\" fill=\"none\"/>\n",
              "    <path d=\"M18.56 5.44l.94 2.06.94-2.06 2.06-.94-2.06-.94-.94-2.06-.94 2.06-2.06.94zm-11 1L8.5 8.5l.94-2.06 2.06-.94-2.06-.94L8.5 2.5l-.94 2.06-2.06.94zm10 10l.94 2.06.94-2.06 2.06-.94-2.06-.94-.94-2.06-.94 2.06-2.06.94z\"/><path d=\"M17.41 7.96l-1.37-1.37c-.4-.4-.92-.59-1.43-.59-.52 0-1.04.2-1.43.59L10.3 9.45l-7.72 7.72c-.78.78-.78 2.05 0 2.83L4 21.41c.39.39.9.59 1.41.59.51 0 1.02-.2 1.41-.59l7.78-7.78 2.81-2.81c.8-.78.8-2.07 0-2.86zM5.41 20L4 18.59l7.72-7.72 1.47 1.35L5.41 20z\"/>\n",
              "  </svg>\n",
              "      </button>\n",
              "      \n",
              "  <style>\n",
              "    .colab-df-container {\n",
              "      display:flex;\n",
              "      flex-wrap:wrap;\n",
              "      gap: 12px;\n",
              "    }\n",
              "\n",
              "    .colab-df-convert {\n",
              "      background-color: #E8F0FE;\n",
              "      border: none;\n",
              "      border-radius: 50%;\n",
              "      cursor: pointer;\n",
              "      display: none;\n",
              "      fill: #1967D2;\n",
              "      height: 32px;\n",
              "      padding: 0 0 0 0;\n",
              "      width: 32px;\n",
              "    }\n",
              "\n",
              "    .colab-df-convert:hover {\n",
              "      background-color: #E2EBFA;\n",
              "      box-shadow: 0px 1px 2px rgba(60, 64, 67, 0.3), 0px 1px 3px 1px rgba(60, 64, 67, 0.15);\n",
              "      fill: #174EA6;\n",
              "    }\n",
              "\n",
              "    [theme=dark] .colab-df-convert {\n",
              "      background-color: #3B4455;\n",
              "      fill: #D2E3FC;\n",
              "    }\n",
              "\n",
              "    [theme=dark] .colab-df-convert:hover {\n",
              "      background-color: #434B5C;\n",
              "      box-shadow: 0px 1px 3px 1px rgba(0, 0, 0, 0.15);\n",
              "      filter: drop-shadow(0px 1px 2px rgba(0, 0, 0, 0.3));\n",
              "      fill: #FFFFFF;\n",
              "    }\n",
              "  </style>\n",
              "\n",
              "      <script>\n",
              "        const buttonEl =\n",
              "          document.querySelector('#df-cd89272a-b3e3-400f-b9db-44b5f74d115c button.colab-df-convert');\n",
              "        buttonEl.style.display =\n",
              "          google.colab.kernel.accessAllowed ? 'block' : 'none';\n",
              "\n",
              "        async function convertToInteractive(key) {\n",
              "          const element = document.querySelector('#df-cd89272a-b3e3-400f-b9db-44b5f74d115c');\n",
              "          const dataTable =\n",
              "            await google.colab.kernel.invokeFunction('convertToInteractive',\n",
              "                                                     [key], {});\n",
              "          if (!dataTable) return;\n",
              "\n",
              "          const docLinkHtml = 'Like what you see? Visit the ' +\n",
              "            '<a target=\"_blank\" href=https://colab.research.google.com/notebooks/data_table.ipynb>data table notebook</a>'\n",
              "            + ' to learn more about interactive tables.';\n",
              "          element.innerHTML = '';\n",
              "          dataTable['output_type'] = 'display_data';\n",
              "          await google.colab.output.renderOutput(dataTable, element);\n",
              "          const docLink = document.createElement('div');\n",
              "          docLink.innerHTML = docLinkHtml;\n",
              "          element.appendChild(docLink);\n",
              "        }\n",
              "      </script>\n",
              "    </div>\n",
              "  </div>\n",
              "  "
            ]
          },
          "metadata": {},
          "execution_count": 9
        }
      ]
    },
    {
      "cell_type": "code",
      "source": [
        "receipts['date'].max()"
      ],
      "metadata": {
        "id": "OF-hgABcYoZ3",
        "colab": {
          "base_uri": "https://localhost:8080/"
        },
        "outputId": "6907b6e0-7d63-43b4-c99a-6461aecbaded"
      },
      "execution_count": 10,
      "outputs": [
        {
          "output_type": "execute_result",
          "data": {
            "text/plain": [
              "249"
            ]
          },
          "metadata": {},
          "execution_count": 10
        }
      ]
    },
    {
      "cell_type": "code",
      "source": [
        "len(receipts)"
      ],
      "metadata": {
        "id": "sZJD89BvNmXS",
        "colab": {
          "base_uri": "https://localhost:8080/"
        },
        "outputId": "13c5566e-d2a5-4588-b85a-6c3bef3f7048"
      },
      "execution_count": 11,
      "outputs": [
        {
          "output_type": "execute_result",
          "data": {
            "text/plain": [
              "31741769"
            ]
          },
          "metadata": {},
          "execution_count": 11
        }
      ]
    },
    {
      "cell_type": "code",
      "source": [
        "customers_list = receipts['customer_id'].unique()"
      ],
      "metadata": {
        "id": "Zpr4iTU7NmfK"
      },
      "execution_count": 12,
      "outputs": []
    },
    {
      "cell_type": "code",
      "source": [
        "len(customers_list)"
      ],
      "metadata": {
        "id": "e4wB_7gMN1xZ",
        "colab": {
          "base_uri": "https://localhost:8080/"
        },
        "outputId": "2f2fcd8d-e6c9-47de-e229-ede1449f63be"
      },
      "execution_count": 13,
      "outputs": [
        {
          "output_type": "execute_result",
          "data": {
            "text/plain": [
              "1998286"
            ]
          },
          "metadata": {},
          "execution_count": 13
        }
      ]
    },
    {
      "cell_type": "code",
      "source": [
        "customers = pd.read_csv('/content/drive/MyDrive/ml/customers.csv')"
      ],
      "metadata": {
        "id": "nnj0mPkhMyg5"
      },
      "execution_count": 14,
      "outputs": []
    },
    {
      "cell_type": "code",
      "source": [
        "customers = customers.drop(columns=['Unnamed: 0'])"
      ],
      "metadata": {
        "id": "DWpl35KKN9QF"
      },
      "execution_count": 15,
      "outputs": []
    },
    {
      "cell_type": "code",
      "source": [
        "len(customers)"
      ],
      "metadata": {
        "id": "SP_iVKg2O73e",
        "colab": {
          "base_uri": "https://localhost:8080/"
        },
        "outputId": "921ebe0c-a8ab-49a8-ea87-feeb82b8bed9"
      },
      "execution_count": 16,
      "outputs": [
        {
          "output_type": "execute_result",
          "data": {
            "text/plain": [
              "2000000"
            ]
          },
          "metadata": {},
          "execution_count": 16
        }
      ]
    },
    {
      "cell_type": "code",
      "source": [
        "customers.head()"
      ],
      "metadata": {
        "id": "xn_cEXiOOhAi",
        "colab": {
          "base_uri": "https://localhost:8080/",
          "height": 206
        },
        "outputId": "a9fbc4e2-b294-4790-e2c2-1b5c47792f1d"
      },
      "execution_count": 17,
      "outputs": [
        {
          "output_type": "execute_result",
          "data": {
            "text/plain": [
              "   customer_id  age      location\n",
              "0            0   56      Oxenfurt\n",
              "1            1   53  Hindarsfjall\n",
              "2            2   41  Hindarsfjall\n",
              "3            3   60   Kaer_Trolde\n",
              "4            4   22     Spikeroog"
            ],
            "text/html": [
              "\n",
              "  <div id=\"df-b95dbe5e-ffd2-482f-a085-110336fd1c85\">\n",
              "    <div class=\"colab-df-container\">\n",
              "      <div>\n",
              "<style scoped>\n",
              "    .dataframe tbody tr th:only-of-type {\n",
              "        vertical-align: middle;\n",
              "    }\n",
              "\n",
              "    .dataframe tbody tr th {\n",
              "        vertical-align: top;\n",
              "    }\n",
              "\n",
              "    .dataframe thead th {\n",
              "        text-align: right;\n",
              "    }\n",
              "</style>\n",
              "<table border=\"1\" class=\"dataframe\">\n",
              "  <thead>\n",
              "    <tr style=\"text-align: right;\">\n",
              "      <th></th>\n",
              "      <th>customer_id</th>\n",
              "      <th>age</th>\n",
              "      <th>location</th>\n",
              "    </tr>\n",
              "  </thead>\n",
              "  <tbody>\n",
              "    <tr>\n",
              "      <th>0</th>\n",
              "      <td>0</td>\n",
              "      <td>56</td>\n",
              "      <td>Oxenfurt</td>\n",
              "    </tr>\n",
              "    <tr>\n",
              "      <th>1</th>\n",
              "      <td>1</td>\n",
              "      <td>53</td>\n",
              "      <td>Hindarsfjall</td>\n",
              "    </tr>\n",
              "    <tr>\n",
              "      <th>2</th>\n",
              "      <td>2</td>\n",
              "      <td>41</td>\n",
              "      <td>Hindarsfjall</td>\n",
              "    </tr>\n",
              "    <tr>\n",
              "      <th>3</th>\n",
              "      <td>3</td>\n",
              "      <td>60</td>\n",
              "      <td>Kaer_Trolde</td>\n",
              "    </tr>\n",
              "    <tr>\n",
              "      <th>4</th>\n",
              "      <td>4</td>\n",
              "      <td>22</td>\n",
              "      <td>Spikeroog</td>\n",
              "    </tr>\n",
              "  </tbody>\n",
              "</table>\n",
              "</div>\n",
              "      <button class=\"colab-df-convert\" onclick=\"convertToInteractive('df-b95dbe5e-ffd2-482f-a085-110336fd1c85')\"\n",
              "              title=\"Convert this dataframe to an interactive table.\"\n",
              "              style=\"display:none;\">\n",
              "        \n",
              "  <svg xmlns=\"http://www.w3.org/2000/svg\" height=\"24px\"viewBox=\"0 0 24 24\"\n",
              "       width=\"24px\">\n",
              "    <path d=\"M0 0h24v24H0V0z\" fill=\"none\"/>\n",
              "    <path d=\"M18.56 5.44l.94 2.06.94-2.06 2.06-.94-2.06-.94-.94-2.06-.94 2.06-2.06.94zm-11 1L8.5 8.5l.94-2.06 2.06-.94-2.06-.94L8.5 2.5l-.94 2.06-2.06.94zm10 10l.94 2.06.94-2.06 2.06-.94-2.06-.94-.94-2.06-.94 2.06-2.06.94z\"/><path d=\"M17.41 7.96l-1.37-1.37c-.4-.4-.92-.59-1.43-.59-.52 0-1.04.2-1.43.59L10.3 9.45l-7.72 7.72c-.78.78-.78 2.05 0 2.83L4 21.41c.39.39.9.59 1.41.59.51 0 1.02-.2 1.41-.59l7.78-7.78 2.81-2.81c.8-.78.8-2.07 0-2.86zM5.41 20L4 18.59l7.72-7.72 1.47 1.35L5.41 20z\"/>\n",
              "  </svg>\n",
              "      </button>\n",
              "      \n",
              "  <style>\n",
              "    .colab-df-container {\n",
              "      display:flex;\n",
              "      flex-wrap:wrap;\n",
              "      gap: 12px;\n",
              "    }\n",
              "\n",
              "    .colab-df-convert {\n",
              "      background-color: #E8F0FE;\n",
              "      border: none;\n",
              "      border-radius: 50%;\n",
              "      cursor: pointer;\n",
              "      display: none;\n",
              "      fill: #1967D2;\n",
              "      height: 32px;\n",
              "      padding: 0 0 0 0;\n",
              "      width: 32px;\n",
              "    }\n",
              "\n",
              "    .colab-df-convert:hover {\n",
              "      background-color: #E2EBFA;\n",
              "      box-shadow: 0px 1px 2px rgba(60, 64, 67, 0.3), 0px 1px 3px 1px rgba(60, 64, 67, 0.15);\n",
              "      fill: #174EA6;\n",
              "    }\n",
              "\n",
              "    [theme=dark] .colab-df-convert {\n",
              "      background-color: #3B4455;\n",
              "      fill: #D2E3FC;\n",
              "    }\n",
              "\n",
              "    [theme=dark] .colab-df-convert:hover {\n",
              "      background-color: #434B5C;\n",
              "      box-shadow: 0px 1px 3px 1px rgba(0, 0, 0, 0.15);\n",
              "      filter: drop-shadow(0px 1px 2px rgba(0, 0, 0, 0.3));\n",
              "      fill: #FFFFFF;\n",
              "    }\n",
              "  </style>\n",
              "\n",
              "      <script>\n",
              "        const buttonEl =\n",
              "          document.querySelector('#df-b95dbe5e-ffd2-482f-a085-110336fd1c85 button.colab-df-convert');\n",
              "        buttonEl.style.display =\n",
              "          google.colab.kernel.accessAllowed ? 'block' : 'none';\n",
              "\n",
              "        async function convertToInteractive(key) {\n",
              "          const element = document.querySelector('#df-b95dbe5e-ffd2-482f-a085-110336fd1c85');\n",
              "          const dataTable =\n",
              "            await google.colab.kernel.invokeFunction('convertToInteractive',\n",
              "                                                     [key], {});\n",
              "          if (!dataTable) return;\n",
              "\n",
              "          const docLinkHtml = 'Like what you see? Visit the ' +\n",
              "            '<a target=\"_blank\" href=https://colab.research.google.com/notebooks/data_table.ipynb>data table notebook</a>'\n",
              "            + ' to learn more about interactive tables.';\n",
              "          element.innerHTML = '';\n",
              "          dataTable['output_type'] = 'display_data';\n",
              "          await google.colab.output.renderOutput(dataTable, element);\n",
              "          const docLink = document.createElement('div');\n",
              "          docLink.innerHTML = docLinkHtml;\n",
              "          element.appendChild(docLink);\n",
              "        }\n",
              "      </script>\n",
              "    </div>\n",
              "  </div>\n",
              "  "
            ]
          },
          "metadata": {},
          "execution_count": 17
        }
      ]
    },
    {
      "cell_type": "code",
      "source": [
        "len(customers['customer_id'].unique())"
      ],
      "metadata": {
        "id": "Zff5jhBvOl7e",
        "colab": {
          "base_uri": "https://localhost:8080/"
        },
        "outputId": "4491ee4d-9636-416b-9429-023a0a31dc12"
      },
      "execution_count": 18,
      "outputs": [
        {
          "output_type": "execute_result",
          "data": {
            "text/plain": [
              "2000000"
            ]
          },
          "metadata": {},
          "execution_count": 18
        }
      ]
    },
    {
      "cell_type": "code",
      "source": [
        "min(customers['age'].tolist()), max(customers['age'].tolist())"
      ],
      "metadata": {
        "id": "H9TGUsWHnCFU",
        "colab": {
          "base_uri": "https://localhost:8080/"
        },
        "outputId": "ea8de510-bc2f-4756-d8e1-4469d2e2d61b"
      },
      "execution_count": 19,
      "outputs": [
        {
          "output_type": "execute_result",
          "data": {
            "text/plain": [
              "(20, 69)"
            ]
          },
          "metadata": {},
          "execution_count": 19
        }
      ]
    },
    {
      "cell_type": "code",
      "source": [
        "campaigns = pd.read_csv('/content/drive/MyDrive/ml/campaigns.csv').drop(columns=['Unnamed: 0'])"
      ],
      "metadata": {
        "id": "rN14M-b_Ms2x"
      },
      "execution_count": 20,
      "outputs": []
    },
    {
      "cell_type": "code",
      "source": [
        "campaigns.head()"
      ],
      "metadata": {
        "id": "EUiUETAXN6rZ",
        "colab": {
          "base_uri": "https://localhost:8080/",
          "height": 206
        },
        "outputId": "b46bb470-92cd-470a-a5e2-98f77e150c30"
      },
      "execution_count": 21,
      "outputs": [
        {
          "output_type": "execute_result",
          "data": {
            "text/plain": [
              "   customer_id  n_offer_days  date  target_group_flag\n",
              "0            0             7   102                  1\n",
              "1            1             7   102                  1\n",
              "2            2             7   102                  1\n",
              "3            3             7   102                  1\n",
              "4            4             7   102                  1"
            ],
            "text/html": [
              "\n",
              "  <div id=\"df-0ed1db53-8e07-4580-98a6-452cd84be577\">\n",
              "    <div class=\"colab-df-container\">\n",
              "      <div>\n",
              "<style scoped>\n",
              "    .dataframe tbody tr th:only-of-type {\n",
              "        vertical-align: middle;\n",
              "    }\n",
              "\n",
              "    .dataframe tbody tr th {\n",
              "        vertical-align: top;\n",
              "    }\n",
              "\n",
              "    .dataframe thead th {\n",
              "        text-align: right;\n",
              "    }\n",
              "</style>\n",
              "<table border=\"1\" class=\"dataframe\">\n",
              "  <thead>\n",
              "    <tr style=\"text-align: right;\">\n",
              "      <th></th>\n",
              "      <th>customer_id</th>\n",
              "      <th>n_offer_days</th>\n",
              "      <th>date</th>\n",
              "      <th>target_group_flag</th>\n",
              "    </tr>\n",
              "  </thead>\n",
              "  <tbody>\n",
              "    <tr>\n",
              "      <th>0</th>\n",
              "      <td>0</td>\n",
              "      <td>7</td>\n",
              "      <td>102</td>\n",
              "      <td>1</td>\n",
              "    </tr>\n",
              "    <tr>\n",
              "      <th>1</th>\n",
              "      <td>1</td>\n",
              "      <td>7</td>\n",
              "      <td>102</td>\n",
              "      <td>1</td>\n",
              "    </tr>\n",
              "    <tr>\n",
              "      <th>2</th>\n",
              "      <td>2</td>\n",
              "      <td>7</td>\n",
              "      <td>102</td>\n",
              "      <td>1</td>\n",
              "    </tr>\n",
              "    <tr>\n",
              "      <th>3</th>\n",
              "      <td>3</td>\n",
              "      <td>7</td>\n",
              "      <td>102</td>\n",
              "      <td>1</td>\n",
              "    </tr>\n",
              "    <tr>\n",
              "      <th>4</th>\n",
              "      <td>4</td>\n",
              "      <td>7</td>\n",
              "      <td>102</td>\n",
              "      <td>1</td>\n",
              "    </tr>\n",
              "  </tbody>\n",
              "</table>\n",
              "</div>\n",
              "      <button class=\"colab-df-convert\" onclick=\"convertToInteractive('df-0ed1db53-8e07-4580-98a6-452cd84be577')\"\n",
              "              title=\"Convert this dataframe to an interactive table.\"\n",
              "              style=\"display:none;\">\n",
              "        \n",
              "  <svg xmlns=\"http://www.w3.org/2000/svg\" height=\"24px\"viewBox=\"0 0 24 24\"\n",
              "       width=\"24px\">\n",
              "    <path d=\"M0 0h24v24H0V0z\" fill=\"none\"/>\n",
              "    <path d=\"M18.56 5.44l.94 2.06.94-2.06 2.06-.94-2.06-.94-.94-2.06-.94 2.06-2.06.94zm-11 1L8.5 8.5l.94-2.06 2.06-.94-2.06-.94L8.5 2.5l-.94 2.06-2.06.94zm10 10l.94 2.06.94-2.06 2.06-.94-2.06-.94-.94-2.06-.94 2.06-2.06.94z\"/><path d=\"M17.41 7.96l-1.37-1.37c-.4-.4-.92-.59-1.43-.59-.52 0-1.04.2-1.43.59L10.3 9.45l-7.72 7.72c-.78.78-.78 2.05 0 2.83L4 21.41c.39.39.9.59 1.41.59.51 0 1.02-.2 1.41-.59l7.78-7.78 2.81-2.81c.8-.78.8-2.07 0-2.86zM5.41 20L4 18.59l7.72-7.72 1.47 1.35L5.41 20z\"/>\n",
              "  </svg>\n",
              "      </button>\n",
              "      \n",
              "  <style>\n",
              "    .colab-df-container {\n",
              "      display:flex;\n",
              "      flex-wrap:wrap;\n",
              "      gap: 12px;\n",
              "    }\n",
              "\n",
              "    .colab-df-convert {\n",
              "      background-color: #E8F0FE;\n",
              "      border: none;\n",
              "      border-radius: 50%;\n",
              "      cursor: pointer;\n",
              "      display: none;\n",
              "      fill: #1967D2;\n",
              "      height: 32px;\n",
              "      padding: 0 0 0 0;\n",
              "      width: 32px;\n",
              "    }\n",
              "\n",
              "    .colab-df-convert:hover {\n",
              "      background-color: #E2EBFA;\n",
              "      box-shadow: 0px 1px 2px rgba(60, 64, 67, 0.3), 0px 1px 3px 1px rgba(60, 64, 67, 0.15);\n",
              "      fill: #174EA6;\n",
              "    }\n",
              "\n",
              "    [theme=dark] .colab-df-convert {\n",
              "      background-color: #3B4455;\n",
              "      fill: #D2E3FC;\n",
              "    }\n",
              "\n",
              "    [theme=dark] .colab-df-convert:hover {\n",
              "      background-color: #434B5C;\n",
              "      box-shadow: 0px 1px 3px 1px rgba(0, 0, 0, 0.15);\n",
              "      filter: drop-shadow(0px 1px 2px rgba(0, 0, 0, 0.3));\n",
              "      fill: #FFFFFF;\n",
              "    }\n",
              "  </style>\n",
              "\n",
              "      <script>\n",
              "        const buttonEl =\n",
              "          document.querySelector('#df-0ed1db53-8e07-4580-98a6-452cd84be577 button.colab-df-convert');\n",
              "        buttonEl.style.display =\n",
              "          google.colab.kernel.accessAllowed ? 'block' : 'none';\n",
              "\n",
              "        async function convertToInteractive(key) {\n",
              "          const element = document.querySelector('#df-0ed1db53-8e07-4580-98a6-452cd84be577');\n",
              "          const dataTable =\n",
              "            await google.colab.kernel.invokeFunction('convertToInteractive',\n",
              "                                                     [key], {});\n",
              "          if (!dataTable) return;\n",
              "\n",
              "          const docLinkHtml = 'Like what you see? Visit the ' +\n",
              "            '<a target=\"_blank\" href=https://colab.research.google.com/notebooks/data_table.ipynb>data table notebook</a>'\n",
              "            + ' to learn more about interactive tables.';\n",
              "          element.innerHTML = '';\n",
              "          dataTable['output_type'] = 'display_data';\n",
              "          await google.colab.output.renderOutput(dataTable, element);\n",
              "          const docLink = document.createElement('div');\n",
              "          docLink.innerHTML = docLinkHtml;\n",
              "          element.appendChild(docLink);\n",
              "        }\n",
              "      </script>\n",
              "    </div>\n",
              "  </div>\n",
              "  "
            ]
          },
          "metadata": {},
          "execution_count": 21
        }
      ]
    },
    {
      "cell_type": "code",
      "source": [
        "len(campaigns)"
      ],
      "metadata": {
        "id": "oRcGEfoZNKvQ",
        "colab": {
          "base_uri": "https://localhost:8080/"
        },
        "outputId": "3a19e2de-0665-4a59-cbba-07bf46107138"
      },
      "execution_count": 22,
      "outputs": [
        {
          "output_type": "execute_result",
          "data": {
            "text/plain": [
              "500000"
            ]
          },
          "metadata": {},
          "execution_count": 22
        }
      ]
    },
    {
      "cell_type": "code",
      "source": [
        "len(campaigns[campaigns['target_group_flag'] == 1])"
      ],
      "metadata": {
        "id": "UpKEOCWzPHMZ",
        "colab": {
          "base_uri": "https://localhost:8080/"
        },
        "outputId": "c0548827-68a5-467f-aa04-2e0be8d6de32"
      },
      "execution_count": 23,
      "outputs": [
        {
          "output_type": "execute_result",
          "data": {
            "text/plain": [
              "500000"
            ]
          },
          "metadata": {},
          "execution_count": 23
        }
      ]
    },
    {
      "cell_type": "code",
      "source": [
        "customer_ids_target = campaigns['customer_id'].tolist()"
      ],
      "metadata": {
        "id": "e2HsWGHpYTdH"
      },
      "execution_count": 24,
      "outputs": []
    },
    {
      "cell_type": "code",
      "source": [
        "def get_features(\n",
        "    receipts,\n",
        "    date,\n",
        "    days,\n",
        "    id\n",
        "):\n",
        "    data = receipts[receipts['customer_id'] == id]\n",
        "    data = data[\n",
        "        (data['date'] >= (date - days)) & (data['date'] < (date))\n",
        "        ]\n",
        "    \n",
        "    qnt = len(data)\n",
        "    if qnt == 0:\n",
        "        return 0, 0, 0\n",
        "\n",
        "    avg = np.mean(data['purchase_sum'].tolist())\n",
        "\n",
        "    if qnt == 1:\n",
        "        interval = 0\n",
        "    else:\n",
        "        dates = data['date'].tolist()\n",
        "        dates.sort(reverse=True)\n",
        "        intervals = []\n",
        "        for i in range(len(dates) - 1):\n",
        "            intervals.append(dates[i] - dates[i + 1])\n",
        "        interval = np.mean(intervals)\n",
        "    return qnt, avg, interval"
      ],
      "metadata": {
        "id": "v2N11Jhh620-"
      },
      "execution_count": 25,
      "outputs": []
    },
    {
      "cell_type": "code",
      "source": [
        "# X_train\n",
        "N = int(1e3)\n",
        "\n",
        "df = customers.sample(N).copy()\n",
        "\n",
        "ids = df['customer_id'].tolist()\n",
        "\n",
        "date = 102\n",
        "days_list = [10, 20, 30, 60, 90]\n",
        "for days in days_list:\n",
        "    ans = [get_features(receipts, date, days, id) for id in ids]\n",
        "    qnt, avg, interval = zip(*ans)\n",
        "\n",
        "    df['qnt_' + str(days)] = qnt\n",
        "    df['avg_' + str(days)] = avg\n",
        "    df['int_' + str(days)] = interval"
      ],
      "metadata": {
        "id": "4RQV-9ZLPC_Z"
      },
      "execution_count": 27,
      "outputs": []
    },
    {
      "cell_type": "code",
      "source": [
        "# treatment\n",
        "treatment = []\n",
        "for id in ids:\n",
        "    if id in campaigns['customer_id'].tolist():\n",
        "        treatment.append(1)\n",
        "    else:\n",
        "        treatment.append(0)\n",
        "\n",
        "df['treatment'] = treatment"
      ],
      "metadata": {
        "id": "FaoCzPg0XJQw"
      },
      "execution_count": 28,
      "outputs": []
    },
    {
      "cell_type": "code",
      "source": [
        "# target\n",
        "date = 102\n",
        "days = 30\n",
        "\n",
        "target = []\n",
        "for id in ids:\n",
        "    data = receipts[receipts['customer_id'] == id]\n",
        "    data = data[\n",
        "        (data['date'] >= date) & (data['date'] < (date + days))\n",
        "        ]\n",
        "    purchase_sum = sum(data['purchase_sum'].tolist())\n",
        "    if id in customer_ids_target:\n",
        "        purchase_sum = purchase_sum - communication\n",
        "    if purchase_sum + communication > price:\n",
        "        purchase_sum = purchase_sum - sum(data['discount'].tolist())\n",
        "    purchase_sum = purchase_sum - (sum(data['purchase_amt'].tolist()) * cost_price)\n",
        "    target.append(purchase_sum)\n",
        "\n",
        "df['target'] = target"
      ],
      "metadata": {
        "id": "aNjX0D80SzIF"
      },
      "execution_count": 29,
      "outputs": []
    },
    {
      "cell_type": "code",
      "source": [
        "col_target = 'target'\n",
        "col_treatment = 'treatment'\n",
        "cols_features = [\n",
        "    'age',\n",
        "    'location',\n",
        "    'qnt_10',\n",
        "    'avg_10',\n",
        "    'int_10',\n",
        "    'qnt_20',\n",
        "    'avg_20',\n",
        "    'int_20',\n",
        "    'qnt_30',\n",
        "    'avg_30',\n",
        "    'int_30',\n",
        "    'qnt_60',\n",
        "    'avg_60',\n",
        "    'int_60',\n",
        "    'qnt_90',\n",
        "    'avg_90',\n",
        "    'int_90'\n",
        "]"
      ],
      "metadata": {
        "id": "e3qAihgMhnJx"
      },
      "execution_count": 30,
      "outputs": []
    },
    {
      "cell_type": "code",
      "source": [
        "# convert categorical data: [age, location]\n",
        "def get_age_cat(ages):\n",
        "    ages_cat = []\n",
        "    for age in ages:\n",
        "        if age < 20:\n",
        "            ages_cat.append(0)\n",
        "        elif age >= 20 and age < 30:\n",
        "            ages_cat.append(1)\n",
        "        elif age >= 30 and age < 40:\n",
        "            ages_cat.append(2)\n",
        "        elif age >= 40 and age < 50:\n",
        "            ages_cat.append(3)\n",
        "        elif age >= 50 and age < 60:\n",
        "            ages_cat.append(4)\n",
        "        elif age >= 60 and age < 70:\n",
        "            ages_cat.append(5)\n",
        "        else:\n",
        "            ages_cat.append(6)\n",
        "    return ages_cat"
      ],
      "metadata": {
        "id": "KWE4weQGmf1M"
      },
      "execution_count": 31,
      "outputs": []
    },
    {
      "cell_type": "code",
      "source": [
        "locations_dict = {\n",
        "    'Oxenfurt': 0,\n",
        "    'Hindarsfjall': 1,\n",
        "    'Kaer_Trolde': 2,\n",
        "    'Spikeroog': 3,\n",
        "    'Novigrad': 4,\n",
        "    'Beauclair' :5,\n",
        "    'Crows_perch': 6\n",
        "    }\n",
        "\n",
        "def get_loc_cat(locations):\n",
        "    locations_cat = []\n",
        "    for location in locations:\n",
        "        locations_cat.append(locations_dict[location])\n",
        "    return locations_cat"
      ],
      "metadata": {
        "id": "a3qiegNSqthU"
      },
      "execution_count": 32,
      "outputs": []
    },
    {
      "cell_type": "code",
      "source": [
        "df['age'] = get_age_cat(df['age'].tolist())"
      ],
      "metadata": {
        "id": "tjGnf1bpnY1u"
      },
      "execution_count": 33,
      "outputs": []
    },
    {
      "cell_type": "code",
      "source": [
        "df['location'] = get_loc_cat(df['location'].tolist())"
      ],
      "metadata": {
        "id": "V5FSLAn7swTC"
      },
      "execution_count": 34,
      "outputs": []
    },
    {
      "cell_type": "code",
      "source": [
        "df['age'] = df['age'].astype('category')\n",
        "df['location'] = df['location'].astype('category')"
      ],
      "metadata": {
        "id": "XVYEX2GVbwjP"
      },
      "execution_count": 35,
      "outputs": []
    },
    {
      "cell_type": "code",
      "source": [
        "fit_index, val_index = train_test_split(df.index, test_size=0.5, random_state=165)"
      ],
      "metadata": {
        "id": "CjN9rjIHAiOY"
      },
      "execution_count": 36,
      "outputs": []
    },
    {
      "cell_type": "code",
      "source": [
        "_p_score_const = df.loc[fit_index,'treatment'].value_counts(normalize=True).loc[1]"
      ],
      "metadata": {
        "id": "94v1pipJjlyA"
      },
      "execution_count": 37,
      "outputs": []
    },
    {
      "cell_type": "code",
      "source": [
        "_p_scores = pd.Series(data=_p_score_const, index=fit_index)"
      ],
      "metadata": {
        "id": "WBbhFF7imMil"
      },
      "execution_count": 38,
      "outputs": []
    },
    {
      "cell_type": "code",
      "source": [
        "# model\n",
        "model_n1 = rlearner.BaseRRegressor(\n",
        "    learner=lgb.LGBMRegressor(),\n",
        "    control_name=0,\n",
        "    n_fold=4,\n",
        "    random_state=165\n",
        ")"
      ],
      "metadata": {
        "id": "a2IfcQcqhBDs"
      },
      "execution_count": 39,
      "outputs": []
    },
    {
      "cell_type": "code",
      "source": [
        "model_n1.fit(\n",
        "    X=df.loc[fit_index, cols_features].values,\n",
        "    treatment=df.loc[fit_index, col_treatment].values,\n",
        "    y=df.loc[fit_index, col_target].values,\n",
        "    p=_p_scores\n",
        ")"
      ],
      "metadata": {
        "id": "iEcgXnxSmRJu"
      },
      "execution_count": 40,
      "outputs": []
    },
    {
      "cell_type": "code",
      "source": [
        "len(df.loc[fit_index, cols_features])"
      ],
      "metadata": {
        "colab": {
          "base_uri": "https://localhost:8080/"
        },
        "id": "HMFb2tW3D89u",
        "outputId": "ea7a0cb5-ca19-4708-8faf-da716239887a"
      },
      "execution_count": 41,
      "outputs": [
        {
          "output_type": "execute_result",
          "data": {
            "text/plain": [
              "500"
            ]
          },
          "metadata": {},
          "execution_count": 41
        }
      ]
    },
    {
      "cell_type": "code",
      "source": [
        "_eval_data = df.loc[val_index, cols_features + [col_treatment, col_target]]\n",
        "_eval_data['score'] = model_n1.predict(_eval_data[cols_features])\n",
        "_eval_data = _eval_data[['score', col_treatment, col_target]]"
      ],
      "metadata": {
        "id": "RhyhEQh4BK2F"
      },
      "execution_count": 42,
      "outputs": []
    },
    {
      "cell_type": "code",
      "source": [
        "_eval_data['score'].describe()"
      ],
      "metadata": {
        "colab": {
          "base_uri": "https://localhost:8080/"
        },
        "id": "LCRB6cE4PyaK",
        "outputId": "49fc8183-b187-4725-f941-f8f623f37c76"
      },
      "execution_count": 43,
      "outputs": [
        {
          "output_type": "execute_result",
          "data": {
            "text/plain": [
              "count     500.000000\n",
              "mean      -71.670606\n",
              "std       587.603423\n",
              "min     -2741.331464\n",
              "25%      -419.247816\n",
              "50%       -69.076779\n",
              "75%       276.380617\n",
              "max      1633.563277\n",
              "Name: score, dtype: float64"
            ]
          },
          "metadata": {},
          "execution_count": 43
        }
      ]
    },
    {
      "cell_type": "code",
      "source": [
        "cmetrics.plot_gain(\n",
        "    _eval_data,\n",
        "    treatment_col=col_treatment,\n",
        "    outcome_col=col_target,\n",
        ")"
      ],
      "metadata": {
        "colab": {
          "base_uri": "https://localhost:8080/",
          "height": 542
        },
        "id": "1aveAmq8BeJM",
        "outputId": "41f2b3e9-1407-4c6a-8565-11f58790a5bd"
      },
      "execution_count": 44,
      "outputs": [
        {
          "output_type": "display_data",
          "data": {
            "text/plain": [
              "<Figure size 576x576 with 1 Axes>"
            ],
            "image/png": "[encoded data removed]"
          },
          "metadata": {}
        }
      ]
    },
    {
      "cell_type": "code",
      "source": [
        "threshold = np.percentile(_eval_data['score'], 85)"
      ],
      "metadata": {
        "id": "xzaYj0PdQgD2"
      },
      "execution_count": 45,
      "outputs": []
    }
  ]
}
