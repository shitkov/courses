{
 "cells": [
  {
   "cell_type": "code",
   "execution_count": 1,
   "id": "7ebf7c50",
   "metadata": {},
   "outputs": [],
   "source": [
    "# pip install --trusted-host pypi.org --trusted-host pypi.python.org --trusted-host files.pythonhosted.org install --upgrade pip setuptools"
   ]
  },
  {
   "cell_type": "code",
   "execution_count": null,
   "id": "7484c052",
   "metadata": {},
   "outputs": [],
   "source": []
  },
  {
   "cell_type": "code",
   "execution_count": 2,
   "id": "61c06e8c",
   "metadata": {},
   "outputs": [],
   "source": [
    "# pip install --trusted-host pypi.org --trusted-host pypi.python.org --trusted-host files.pythonhosted.org install --upgrade install scikit-learn"
   ]
  },
  {
   "cell_type": "code",
   "execution_count": 3,
   "id": "57d95285",
   "metadata": {},
   "outputs": [],
   "source": [
    "# pip install --trusted-host pypi.org --trusted-host pypi.python.org --trusted-host files.pythonhosted.org install Cython"
   ]
  },
  {
   "cell_type": "code",
   "execution_count": 4,
   "id": "01aae433",
   "metadata": {},
   "outputs": [],
   "source": [
    "# pip install --trusted-host pypi.org --trusted-host pypi.python.org --trusted-host files.pythonhosted.org install lightgbm"
   ]
  },
  {
   "cell_type": "code",
   "execution_count": 5,
   "id": "f49dbe81",
   "metadata": {},
   "outputs": [],
   "source": [
    "# pip install --trusted-host pypi.org --trusted-host pypi.python.org --trusted-host files.pythonhosted.org install dask sidetable matplotlib"
   ]
  },
  {
   "cell_type": "code",
   "execution_count": 6,
   "id": "2687b618",
   "metadata": {},
   "outputs": [],
   "source": [
    "# pip install --trusted-host pypi.org --trusted-host pypi.python.org --trusted-host files.pythonhosted.org install causalml"
   ]
  },
  {
   "cell_type": "code",
   "execution_count": 7,
   "id": "c5c45115",
   "metadata": {},
   "outputs": [],
   "source": [
    "# pip install --trusted-host pypi.org --trusted-host pypi.python.org --trusted-host files.pythonhosted.org install duecredit ipywidgets"
   ]
  },
  {
   "cell_type": "code",
   "execution_count": 8,
   "id": "f227ec18",
   "metadata": {},
   "outputs": [],
   "source": [
    "# pip install --trusted-host pypi.org --trusted-host pypi.python.org --trusted-host files.pythonhosted.org install pyarrow"
   ]
  },
  {
   "cell_type": "code",
   "execution_count": 9,
   "id": "3156f154",
   "metadata": {},
   "outputs": [],
   "source": [
    "import os\n",
    "import sys\n",
    "import pandas as pd\n",
    "import dask.dataframe as dd\n",
    "import sidetable\n",
    "import numpy as np\n",
    "\n",
    "import matplotlib.pyplot as plt\n",
    "import importlib\n",
    "from typing import List, Dict, Union\n",
    "import lightgbm as lgb\n",
    "\n",
    "import causalml\n",
    "import causalml.metrics as cmetrics\n",
    "import causalml.inference.tree as ctree\n",
    "import causalml.inference.meta.rlearner as rlearner"
   ]
  },
  {
   "cell_type": "code",
   "execution_count": 10,
   "id": "10765577",
   "metadata": {},
   "outputs": [],
   "source": [
    "import featurelib as fl"
   ]
  },
  {
   "cell_type": "code",
   "execution_count": 11,
   "id": "09b4aeb5",
   "metadata": {},
   "outputs": [],
   "source": [
    "def dask_groupby(\n",
    "    data: dd.DataFrame,\n",
    "    by: List[str],\n",
    "    config: Dict[str, Union[str, List[str]]]\n",
    ") -> dd.DataFrame:\n",
    "    data_ = data.copy()\n",
    "    dask_agg_config = dict()\n",
    "\n",
    "    for col, aggs in config.items():\n",
    "        aggs = aggs if isinstance(aggs, list) else [aggs]\n",
    "        for agg in aggs:\n",
    "            fictious_col = f'{col}_{agg}'\n",
    "            data_ = data_.assign(**{fictious_col: lambda d: d[col]})\n",
    "            dask_agg_config[fictious_col] = agg\n",
    "\n",
    "    result = data_.groupby(by=by).agg(dask_agg_config)\n",
    "    return result"
   ]
  },
  {
   "cell_type": "code",
   "execution_count": 12,
   "id": "e70dceb1",
   "metadata": {},
   "outputs": [],
   "source": [
    "class ReceiptsBasicFeatureCalcer(fl.DateFeatureCalcer):\n",
    "    name = 'receipts_basic'\n",
    "    keys = ['customer_id']\n",
    "\n",
    "    def __init__(self, delta: int, **kwargs):\n",
    "        self.delta = delta\n",
    "        super().__init__(**kwargs)\n",
    "\n",
    "    def compute(self) -> dd.DataFrame:\n",
    "        receipts = self.engine.get_table('receipts')\n",
    "        \n",
    "        date_from = self.date_to - self.delta\n",
    "        date_mask = (receipts['date'] >= date_from) & (receipts['date'] < self.date_to)\n",
    "\n",
    "        features = receipts.loc[date_mask]\n",
    "        features = dask_groupby(\n",
    "            features,\n",
    "            by=['customer_id'],\n",
    "            config={\n",
    "                \"purchase_sum\": [\"sum\", \"max\", \"min\", \"mean\"],\n",
    "                \"discount\": [\"sum\"],\n",
    "                \"date\": [\"min\", \"max\", \"count\"],\n",
    "            }\n",
    "        )\n",
    "        features = (\n",
    "            features\n",
    "            .assign(\n",
    "                mean_time_interval=lambda d: (\n",
    "                    (d['date_max'] - d['date_min']) / (d['date_count'] - 1)\n",
    "                )\n",
    "            )\n",
    "            .assign(time_since_last=lambda d: self.date_to - d['date_max'])\n",
    "        )\n",
    "\n",
    "        features = features.reset_index()\n",
    "        features = features.rename(columns={\n",
    "            col: col + f'__{self.delta}d' for col in features.columns if col not in self.keys\n",
    "        })\n",
    "\n",
    "        return features"
   ]
  },
  {
   "cell_type": "code",
   "execution_count": 13,
   "id": "cbdcdffe",
   "metadata": {},
   "outputs": [],
   "source": [
    "class AgeGeoCalcer(fl.FeatureCalcer):\n",
    "    name = 'age_geo'\n",
    "    keys = ['customer_id']\n",
    "\n",
    "    def compute(self) -> dd.DataFrame:\n",
    "        customers_info = self.engine.get_table('customers')\n",
    "        return customers_info[self.keys + ['age', 'location']]"
   ]
  },
  {
   "cell_type": "code",
   "execution_count": 14,
   "id": "d9b909ba",
   "metadata": {},
   "outputs": [],
   "source": [
    "class CampaignInfoCalcer(fl.DateFeatureCalcer):\n",
    "    name = 'campaigns_info'\n",
    "    keys = ['customer_id']\n",
    "    \n",
    "    def compute(self) -> dd.DataFrame:\n",
    "        campaigns = self.engine.get_table('campaigns')\n",
    "        date_mask = campaigns['date'] == self.date_to\n",
    "\n",
    "        result = (\n",
    "            self.engine.get_table('campaigns')\n",
    "            .loc[date_mask]\n",
    "            [[\n",
    "                'customer_id',\n",
    "                'n_offer_days', 'target_group_flag', 'date'\n",
    "            ]]\n",
    "            .rename(columns={'date': 'campaign_date'})\n",
    "        )\n",
    "        return result\n"
   ]
  },
  {
   "cell_type": "code",
   "execution_count": 15,
   "id": "4a4fa1d0",
   "metadata": {},
   "outputs": [],
   "source": [
    "fl.register_calcer(ReceiptsBasicFeatureCalcer)\n",
    "fl.register_calcer(AgeGeoCalcer)\n",
    "fl.register_calcer(CampaignInfoCalcer)"
   ]
  },
  {
   "cell_type": "code",
   "execution_count": 16,
   "id": "425b4a0e",
   "metadata": {},
   "outputs": [],
   "source": [
    "engine = fl.Engine(tables={\n",
    "    'receipts': dd.read_parquet('receipts.parquet'),\n",
    "    'customers': dd.read_csv('customers.csv'),\n",
    "    'campaigns': dd.read_csv('campaigns.csv'),\n",
    "})"
   ]
  },
  {
   "cell_type": "code",
   "execution_count": 17,
   "id": "1b3b6b6c",
   "metadata": {},
   "outputs": [],
   "source": [
    "calcers_config = [\n",
    "    {\n",
    "        'name': 'receipts_basic',\n",
    "        'args': {\n",
    "            'date_to': 102, 'delta': 5\n",
    "        }\n",
    "    },\n",
    "    {\n",
    "        'name': 'receipts_basic',\n",
    "        'args': {\n",
    "            'date_to': 102, 'delta': 15\n",
    "        }\n",
    "    },\n",
    "    {\n",
    "        'name': 'receipts_basic',\n",
    "        'args': {\n",
    "            'date_to': 102, 'delta': 50\n",
    "        }\n",
    "    },\n",
    "    {\n",
    "        'name': 'receipts_basic',\n",
    "        'args': {\n",
    "            'date_to': 102, 'delta': 100\n",
    "        }\n",
    "    },\n",
    "    { # target period\n",
    "        'name': 'receipts_basic',\n",
    "        'args': {\n",
    "            'date_to': 132, 'delta': 30\n",
    "        }\n",
    "    },\n",
    "    { # offer period\n",
    "        'name': 'receipts_basic',\n",
    "        'args': {\n",
    "            'date_to': 109, 'delta': 7\n",
    "        }\n",
    "    },\n",
    "    {\n",
    "        'name': 'age_geo',\n",
    "        'args': {}\n",
    "    },\n",
    "    {\n",
    "        'name': 'campaigns_info',\n",
    "        'args': {'date_to': 102}\n",
    "    }\n",
    "]"
   ]
  },
  {
   "cell_type": "code",
   "execution_count": 18,
   "id": "0d7cebfb",
   "metadata": {},
   "outputs": [],
   "source": [
    "raw_data_train = fl.compute_features(engine, features_config=calcers_config)"
   ]
  },
  {
   "cell_type": "code",
   "execution_count": 19,
   "id": "ec9e98a0",
   "metadata": {},
   "outputs": [],
   "source": [
    "raw_data_train = raw_data_train.compute()"
   ]
  },
  {
   "cell_type": "code",
   "execution_count": 20,
   "id": "3f6d1424",
   "metadata": {},
   "outputs": [
    {
     "data": {
      "text/plain": [
       "(2000000, 66)"
      ]
     },
     "execution_count": 20,
     "metadata": {},
     "output_type": "execute_result"
    }
   ],
   "source": [
    "raw_data_train.shape"
   ]
  },
  {
   "cell_type": "code",
   "execution_count": 21,
   "id": "5a200ca6",
   "metadata": {},
   "outputs": [],
   "source": [
    "def fix_column_names(data: pd.DataFrame) -> pd.DataFrame:\n",
    "    for _days in [30, 7]:\n",
    "        for col_name in [\n",
    "            f'purchase_sum_sum__{_days}d',\n",
    "            f'purchase_sum_max__{_days}d',\n",
    "            f'purchase_sum_min__{_days}d',\n",
    "            f'purchase_sum_mean__{_days}d',\n",
    "            f'discount_sum__{_days}d',\n",
    "            f'date_min__{_days}d',\n",
    "            f'date_max__{_days}d',\n",
    "            f'date_count__{_days}d',\n",
    "            f'mean_time_interval__{_days}d',\n",
    "            f'time_since_last__{_days}d'\n",
    "        ]:\n",
    "            data = data.rename(columns={col_name: 'target__' + col_name})\n",
    "    return data"
   ]
  },
  {
   "cell_type": "code",
   "execution_count": 22,
   "id": "d943252d",
   "metadata": {},
   "outputs": [],
   "source": [
    "MARGIN_RATE = 0.35\n",
    "MESSAGE_COST = 1.0\n",
    "\n",
    "\n",
    "def _transform(data: pd.DataFrame) -> pd.DataFrame:\n",
    "    data.fillna({'target_group_flag': 0}, inplace=True)\n",
    "    data['target_profit'] = (\n",
    "        MARGIN_RATE * data['target__purchase_sum_sum__30d'].fillna(0.0)\n",
    "        - MESSAGE_COST * data['target_group_flag'].fillna(0)\n",
    "        - data['target__discount_sum__30d'].fillna(0)\n",
    "    )\n",
    "    return data"
   ]
  },
  {
   "cell_type": "code",
   "execution_count": 23,
   "id": "797cab03",
   "metadata": {},
   "outputs": [],
   "source": [
    "data_train = fix_column_names(raw_data_train)\n",
    "data_train = _transform(data_train)"
   ]
  },
  {
   "cell_type": "code",
   "execution_count": 24,
   "id": "23d9144c",
   "metadata": {},
   "outputs": [],
   "source": [
    "from sklearn.model_selection import train_test_split"
   ]
  },
  {
   "cell_type": "code",
   "execution_count": 25,
   "id": "a7b2ad11",
   "metadata": {},
   "outputs": [],
   "source": [
    "fit_index, val_index = train_test_split(data_train.index, test_size=0.5, random_state=165)"
   ]
  },
  {
   "cell_type": "code",
   "execution_count": 26,
   "id": "1d6fd828",
   "metadata": {},
   "outputs": [],
   "source": [
    "calcers_config = [\n",
    "    {\n",
    "        'name': 'receipts_basic',\n",
    "        'args': {\n",
    "            'date_to': 250, 'delta': 5\n",
    "        }\n",
    "    },\n",
    "    {\n",
    "        'name': 'receipts_basic',\n",
    "        'args': {\n",
    "            'date_to': 250, 'delta': 15\n",
    "        }\n",
    "    },\n",
    "    {\n",
    "        'name': 'receipts_basic',\n",
    "        'args': {\n",
    "            'date_to': 250, 'delta': 50\n",
    "        }\n",
    "    },\n",
    "    {\n",
    "        'name': 'receipts_basic',\n",
    "        'args': {\n",
    "            'date_to': 250, 'delta': 100\n",
    "        }\n",
    "    },\n",
    "#     { # target period\n",
    "#         'name': 'receipts_basic',\n",
    "#         'args': {\n",
    "#             'date_to': 132, 'delta': 30\n",
    "#         }\n",
    "#     },\n",
    "#     { # offer period\n",
    "#         'name': 'receipts_basic',\n",
    "#         'args': {\n",
    "#             'date_to': 109, 'delta': 7\n",
    "#         }\n",
    "#     },\n",
    "    {\n",
    "        'name': 'age_geo',\n",
    "        'args': {}\n",
    "    },\n",
    "#     {\n",
    "#         'name': 'campaigns_info',\n",
    "#         'args': {'date_to': 102}\n",
    "#     }\n",
    "]"
   ]
  },
  {
   "cell_type": "code",
   "execution_count": 27,
   "id": "8fe67ca3",
   "metadata": {},
   "outputs": [],
   "source": [
    "raw_data_serve = fl.compute_features(engine, features_config=calcers_config)"
   ]
  },
  {
   "cell_type": "code",
   "execution_count": 28,
   "id": "62576e7d",
   "metadata": {},
   "outputs": [],
   "source": [
    "raw_data_serve = raw_data_serve.compute()"
   ]
  },
  {
   "cell_type": "code",
   "execution_count": 29,
   "id": "e75c2ccd",
   "metadata": {},
   "outputs": [],
   "source": [
    "data_serve = fix_column_names(raw_data_serve)"
   ]
  },
  {
   "cell_type": "code",
   "execution_count": 30,
   "id": "c62aae47",
   "metadata": {},
   "outputs": [],
   "source": [
    "cols_features_n1 = [\n",
    "    'date_count__100d',\n",
    "    'purchase_sum_sum__100d',\n",
    "    'purchase_sum_max__100d',\n",
    "    'purchase_sum_min__100d',\n",
    "    'purchase_sum_mean__100d',\n",
    "    'mean_time_interval__100d',\n",
    "    'time_since_last__100d',\n",
    "    'date_count__5d',\n",
    "    'purchase_sum_sum__5d',\n",
    "    'purchase_sum_max__5d',\n",
    "    'purchase_sum_min__5d',\n",
    "    'purchase_sum_mean__5d',\n",
    "    'mean_time_interval__5d',\n",
    "    'age'\n",
    "]"
   ]
  },
  {
   "cell_type": "code",
   "execution_count": 31,
   "id": "a4cdff9f",
   "metadata": {},
   "outputs": [
    {
     "data": {
      "text/html": [
       "<div>\n",
       "<style scoped>\n",
       "    .dataframe tbody tr th:only-of-type {\n",
       "        vertical-align: middle;\n",
       "    }\n",
       "\n",
       "    .dataframe tbody tr th {\n",
       "        vertical-align: top;\n",
       "    }\n",
       "\n",
       "    .dataframe thead th {\n",
       "        text-align: right;\n",
       "    }\n",
       "</style>\n",
       "<table border=\"1\" class=\"dataframe\">\n",
       "  <thead>\n",
       "    <tr style=\"text-align: right;\">\n",
       "      <th></th>\n",
       "      <th>target_profit</th>\n",
       "      <th>target__purchase_sum_sum__30d</th>\n",
       "      <th>target__discount_sum__30d</th>\n",
       "      <th>customer_id</th>\n",
       "    </tr>\n",
       "    <tr>\n",
       "      <th>target_group_flag</th>\n",
       "      <th></th>\n",
       "      <th></th>\n",
       "      <th></th>\n",
       "      <th></th>\n",
       "    </tr>\n",
       "  </thead>\n",
       "  <tbody>\n",
       "    <tr>\n",
       "      <th>0.0</th>\n",
       "      <td>877.42898</td>\n",
       "      <td>3085.956567</td>\n",
       "      <td>0.000000</td>\n",
       "      <td>750708</td>\n",
       "    </tr>\n",
       "    <tr>\n",
       "      <th>1.0</th>\n",
       "      <td>874.89113</td>\n",
       "      <td>3084.030186</td>\n",
       "      <td>21.925679</td>\n",
       "      <td>249292</td>\n",
       "    </tr>\n",
       "  </tbody>\n",
       "</table>\n",
       "</div>"
      ],
      "text/plain": [
       "                   target_profit  target__purchase_sum_sum__30d  \\\n",
       "target_group_flag                                                 \n",
       "0.0                    877.42898                    3085.956567   \n",
       "1.0                    874.89113                    3084.030186   \n",
       "\n",
       "                   target__discount_sum__30d  customer_id  \n",
       "target_group_flag                                          \n",
       "0.0                                 0.000000       750708  \n",
       "1.0                                21.925679       249292  "
      ]
     },
     "execution_count": 31,
     "metadata": {},
     "output_type": "execute_result"
    }
   ],
   "source": [
    "data_train.loc[fit_index].groupby(by=['target_group_flag']).agg({\n",
    "    'target_profit': 'mean',\n",
    "    'target__purchase_sum_sum__30d': 'mean',\n",
    "    'target__discount_sum__30d': 'mean',\n",
    "    'customer_id': 'count',\n",
    "})"
   ]
  },
  {
   "cell_type": "code",
   "execution_count": 32,
   "id": "6313d00d",
   "metadata": {},
   "outputs": [],
   "source": [
    "col_target = 'target_profit'\n",
    "col_treatment = 'target_group_flag'"
   ]
  },
  {
   "cell_type": "code",
   "execution_count": 33,
   "id": "d1963cd0",
   "metadata": {},
   "outputs": [],
   "source": [
    "cols_features = cols_features_n1"
   ]
  },
  {
   "cell_type": "code",
   "execution_count": 34,
   "id": "f596bf1e",
   "metadata": {},
   "outputs": [],
   "source": [
    "model_n1 = rlearner.BaseRRegressor(\n",
    "    learner=lgb.LGBMRegressor(),\n",
    "    control_name=0,\n",
    "    n_fold=4,\n",
    "    random_state=165\n",
    ")"
   ]
  },
  {
   "cell_type": "code",
   "execution_count": 35,
   "id": "14a6ac7b",
   "metadata": {},
   "outputs": [],
   "source": [
    "_p_score_const = data_train.loc[fit_index, col_treatment].value_counts(normalize=True).loc[1]\n",
    "_p_scores = pd.Series(data=_p_score_const, index=fit_index)\n",
    "model_n1.fit(\n",
    "    X=data_train.loc[fit_index, cols_features].fillna(0).values,\n",
    "    treatment=data_train.loc[fit_index, col_treatment].values,\n",
    "    y=data_train.loc[fit_index, col_target].values,\n",
    "    p=_p_scores\n",
    ")"
   ]
  },
  {
   "cell_type": "code",
   "execution_count": 36,
   "id": "6f92ab2a",
   "metadata": {},
   "outputs": [],
   "source": [
    "_eval_data = data_train.loc[val_index, cols_features + [col_treatment, col_target]]\n",
    "_eval_data['score'] = model_n1.predict(_eval_data[cols_features])\n",
    "_eval_data = _eval_data[['score', col_treatment, col_target]]"
   ]
  },
  {
   "cell_type": "code",
   "execution_count": 37,
   "id": "4cf07636",
   "metadata": {},
   "outputs": [
    {
     "data": {
      "image/png": "[encoded data removed]",
      "text/plain": [
       "<Figure size 1000x600 with 1 Axes>"
      ]
     },
     "metadata": {},
     "output_type": "display_data"
    }
   ],
   "source": [
    "plt.figure(figsize=(10, 6))\n",
    "plt.hist(_eval_data['score'], bins=20)\n",
    "plt.show()"
   ]
  },
  {
   "cell_type": "code",
   "execution_count": 38,
   "id": "52f1fa16",
   "metadata": {},
   "outputs": [
    {
     "data": {
      "image/png": "[encoded data removed]",
      "text/plain": [
       "<Figure size 1000x600 with 1 Axes>"
      ]
     },
     "metadata": {},
     "output_type": "display_data"
    }
   ],
   "source": [
    "plt.figure(figsize=(10, 6))\n",
    "plt.hist(_eval_data['score'], bins=100, range=(-50, 50))\n",
    "plt.show()"
   ]
  },
  {
   "cell_type": "code",
   "execution_count": 39,
   "id": "ac92a148",
   "metadata": {},
   "outputs": [
    {
     "data": {
      "text/plain": [
       "-31.719384391051946"
      ]
     },
     "execution_count": 39,
     "metadata": {},
     "output_type": "execute_result"
    }
   ],
   "source": [
    "np.percentile(_eval_data['score'], 5)"
   ]
  },
  {
   "cell_type": "code",
   "execution_count": 40,
   "id": "7666f264",
   "metadata": {},
   "outputs": [
    {
     "data": {
      "text/plain": [
       "23.170024412933266"
      ]
     },
     "execution_count": 40,
     "metadata": {},
     "output_type": "execute_result"
    }
   ],
   "source": [
    "np.percentile(_eval_data['score'], 95)"
   ]
  },
  {
   "cell_type": "code",
   "execution_count": 41,
   "id": "6e99510f",
   "metadata": {},
   "outputs": [
    {
     "data": {
      "text/plain": [
       "count    1000000.000000\n",
       "mean          -1.981109\n",
       "std           31.332788\n",
       "min         -802.790302\n",
       "25%          -16.126859\n",
       "50%           -0.692813\n",
       "75%           12.265208\n",
       "max         1398.041739\n",
       "Name: score, dtype: float64"
      ]
     },
     "execution_count": 41,
     "metadata": {},
     "output_type": "execute_result"
    }
   ],
   "source": [
    "_eval_data['score'].describe()"
   ]
  },
  {
   "cell_type": "code",
   "execution_count": 42,
   "id": "c044e097",
   "metadata": {},
   "outputs": [
    {
     "data": {
      "image/png": "[encoded data removed]",
      "text/plain": [
       "<Figure size 800x800 with 1 Axes>"
      ]
     },
     "metadata": {},
     "output_type": "display_data"
    }
   ],
   "source": [
    "cmetrics.plot_gain(\n",
    "    _eval_data,\n",
    "    treatment_col=col_treatment,\n",
    "    outcome_col=col_target,\n",
    ")"
   ]
  },
  {
   "cell_type": "code",
   "execution_count": 43,
   "id": "7522d603",
   "metadata": {},
   "outputs": [],
   "source": [
    "data_serve['model_n1_pred'] = model_n1.predict(data_serve[cols_features_n1])"
   ]
  },
  {
   "cell_type": "code",
   "execution_count": 44,
   "id": "235d5f51",
   "metadata": {},
   "outputs": [
    {
     "data": {
      "text/plain": [
       "count    2.000000e+06\n",
       "mean    -1.997854e+00\n",
       "std      3.133558e+01\n",
       "min     -9.362994e+02\n",
       "25%     -1.612686e+01\n",
       "50%     -7.660856e-01\n",
       "75%      1.226521e+01\n",
       "max      1.423888e+03\n",
       "Name: model_n1_pred, dtype: float64"
      ]
     },
     "execution_count": 44,
     "metadata": {},
     "output_type": "execute_result"
    }
   ],
   "source": [
    "data_serve['model_n1_pred'].describe()"
   ]
  },
  {
   "cell_type": "code",
   "execution_count": 45,
   "id": "80f4f2b8",
   "metadata": {},
   "outputs": [
    {
     "data": {
      "image/png": "[encoded data removed]",
      "text/plain": [
       "<Figure size 1000x600 with 1 Axes>"
      ]
     },
     "metadata": {},
     "output_type": "display_data"
    }
   ],
   "source": [
    "plt.figure(figsize=(10, 6))\n",
    "plt.hist(data_serve['model_n1_pred'], bins=100, range=(-50, 50))\n",
    "plt.show()"
   ]
  },
  {
   "cell_type": "code",
   "execution_count": 46,
   "id": "eb14089e",
   "metadata": {},
   "outputs": [
    {
     "data": {
      "text/plain": [
       "0.4151065"
      ]
     },
     "execution_count": 46,
     "metadata": {},
     "output_type": "execute_result"
    }
   ],
   "source": [
    "(data_serve['model_n1_pred'] > 5.0).mean()"
   ]
  },
  {
   "cell_type": "code",
   "execution_count": 47,
   "id": "d6609c2d",
   "metadata": {},
   "outputs": [],
   "source": [
    "data_serve[data_serve['model_n1_pred'] > 5.0]['customer_id'].to_csv('submission_n1.csv', index=None)"
   ]
  }
 ],
 "metadata": {
  "kernelspec": {
   "display_name": "Python 3 (ipykernel)",
   "language": "python",
   "name": "python3"
  },
  "language_info": {
   "codemirror_mode": {
    "name": "ipython",
    "version": 3
   },
   "file_extension": ".py",
   "mimetype": "text/x-python",
   "name": "python",
   "nbconvert_exporter": "python",
   "pygments_lexer": "ipython3",
   "version": "3.7.16"
  }
 },
 "nbformat": 4,
 "nbformat_minor": 5
}
