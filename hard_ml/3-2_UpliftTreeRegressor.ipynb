{
 "cells": [
  {
   "cell_type": "markdown",
   "metadata": {},
   "source": [
    "# Алгоритм построения uplift-дерева"
   ]
  },
  {
   "cell_type": "markdown",
   "metadata": {},
   "source": [
    "https://towardsdatascience.com/decision-tree-from-scratch-in-python-46e99dfea775\n",
    "https://anderfernandez.com/en/blog/code-decision-tree-python-from-scratch/"
   ]
  },
  {
   "cell_type": "markdown",
   "metadata": {},
   "source": [
    "Критерий разбиения: DeltaDeltaP\n",
    "\n",
    "Оценка uplift в вершине дерева: разность средних значений целевой переменной Y в целевой и контрольной группах"
   ]
  },
  {
   "cell_type": "code",
   "execution_count": 1,
   "metadata": {},
   "outputs": [],
   "source": [
    "import numpy as np\n",
    "import pandas as pd\n",
    "import time"
   ]
  },
  {
   "cell_type": "markdown",
   "metadata": {},
   "source": [
    "### Delta-delta-p example"
   ]
  },
  {
   "cell_type": "code",
   "execution_count": 2,
   "metadata": {},
   "outputs": [],
   "source": [
    "data = pd.read_excel('test_1k.xlsx')"
   ]
  },
  {
   "cell_type": "code",
   "execution_count": 3,
   "metadata": {
    "scrolled": true
   },
   "outputs": [],
   "source": [
    "data = data.sample(frac=1).reset_index(drop=True)"
   ]
  },
  {
   "cell_type": "code",
   "execution_count": 4,
   "metadata": {},
   "outputs": [],
   "source": [
    "X = np.array(data['x'])\n",
    "y = np.array(data['y'])\n",
    "treatment = np.array(data['t'])"
   ]
  },
  {
   "cell_type": "code",
   "execution_count": 5,
   "metadata": {},
   "outputs": [],
   "source": [
    "threshold = .3"
   ]
  },
  {
   "cell_type": "code",
   "execution_count": 6,
   "metadata": {},
   "outputs": [],
   "source": [
    "control = [1-t for t in treatment]"
   ]
  },
  {
   "cell_type": "code",
   "execution_count": 7,
   "metadata": {},
   "outputs": [],
   "source": [
    "left = [1 if x <= threshold else 0 for x in X]\n",
    "right = [1 if l == 0 else 0 for l in left]"
   ]
  },
  {
   "cell_type": "code",
   "execution_count": 8,
   "metadata": {},
   "outputs": [],
   "source": [
    "left_t = np.array(left) * np.array(treatment)\n",
    "left_c = np.array(left) * np.array(control)\n",
    "\n",
    "right_t = np.array(right) * np.array(treatment)\n",
    "right_c = np.array(right) * np.array(control)"
   ]
  },
  {
   "cell_type": "code",
   "execution_count": 9,
   "metadata": {},
   "outputs": [],
   "source": [
    "left_t_value = y * left_t\n",
    "left_c_value = y * left_c\n",
    "right_t_value = y * right_t\n",
    "right_c_value = y * right_c"
   ]
  },
  {
   "cell_type": "code",
   "execution_count": 10,
   "metadata": {},
   "outputs": [],
   "source": [
    "left_t_sum = sum(left_t_value)\n",
    "left_c_sum = sum(left_c_value)\n",
    "right_t_sum = sum(right_t_value)\n",
    "right_c_sum = sum(right_c_value)"
   ]
  },
  {
   "cell_type": "code",
   "execution_count": 11,
   "metadata": {},
   "outputs": [],
   "source": [
    "left_t_count = sum(left_t)\n",
    "left_c_count = sum(left_c)\n",
    "right_t_count = sum(right_t)\n",
    "right_c_count = sum(right_c)"
   ]
  },
  {
   "cell_type": "code",
   "execution_count": 12,
   "metadata": {},
   "outputs": [
    {
     "data": {
      "text/plain": [
       "1000"
      ]
     },
     "execution_count": 12,
     "metadata": {},
     "output_type": "execute_result"
    }
   ],
   "source": [
    "left_t_count + left_c_count + right_t_count + right_c_count"
   ]
  },
  {
   "cell_type": "code",
   "execution_count": 13,
   "metadata": {},
   "outputs": [],
   "source": [
    "uplift_left = (left_t_sum / left_t_count) - (left_c_sum / left_c_count)\n",
    "uplift_right = (right_t_sum / right_t_count) - (right_c_sum / right_c_count)"
   ]
  },
  {
   "cell_type": "code",
   "execution_count": 14,
   "metadata": {},
   "outputs": [
    {
     "data": {
      "text/plain": [
       "0.007138491416129655"
      ]
     },
     "execution_count": 14,
     "metadata": {},
     "output_type": "execute_result"
    }
   ],
   "source": [
    "uplift_left"
   ]
  },
  {
   "cell_type": "code",
   "execution_count": 15,
   "metadata": {},
   "outputs": [
    {
     "data": {
      "text/plain": [
       "0.10650265594186581"
      ]
     },
     "execution_count": 15,
     "metadata": {},
     "output_type": "execute_result"
    }
   ],
   "source": [
    "uplift_right"
   ]
  },
  {
   "cell_type": "code",
   "execution_count": 16,
   "metadata": {},
   "outputs": [],
   "source": [
    "delta_delta = np.abs(uplift_left - uplift_right)"
   ]
  },
  {
   "cell_type": "code",
   "execution_count": 17,
   "metadata": {},
   "outputs": [
    {
     "data": {
      "text/plain": [
       "0.09936416452573615"
      ]
     },
     "execution_count": 17,
     "metadata": {},
     "output_type": "execute_result"
    }
   ],
   "source": [
    "delta_delta"
   ]
  },
  {
   "cell_type": "markdown",
   "metadata": {},
   "source": [
    "### Get thresholds list"
   ]
  },
  {
   "cell_type": "code",
   "execution_count": 18,
   "metadata": {},
   "outputs": [],
   "source": [
    "X = np.load('example_X.npy')\n",
    "treatment = np.load('example_treatment.npy')\n",
    "y = np.load('example_y.npy')\n",
    "\n",
    "example_preds = np.load('example_preds.npy')"
   ]
  },
  {
   "cell_type": "code",
   "execution_count": 19,
   "metadata": {},
   "outputs": [],
   "source": [
    "n_features = X.shape[1]"
   ]
  },
  {
   "cell_type": "markdown",
   "metadata": {},
   "source": [
    "### Find best thr"
   ]
  },
  {
   "cell_type": "code",
   "execution_count": 20,
   "metadata": {},
   "outputs": [
    {
     "name": "stdout",
     "output_type": "stream",
     "text": [
      "0 -0.8343029365043767 1.7339620108477065\n",
      "0 0.8428329389786856 1.7676766601226297\n",
      "######\n",
      "######\n",
      "######\n",
      "######\n",
      "######\n",
      "0 0.8428329389786856 1.7676766601226297\n"
     ]
    }
   ],
   "source": [
    "min_samples_leaf = 6000\n",
    "min_samples_leaf_treated = 2500\n",
    "min_samples_leaf_control = 2500\n",
    "\n",
    "delta_delta_best = 0\n",
    "threshold_best = 0\n",
    "idx_best = 0\n",
    "\n",
    "for idx in range(n_features):\n",
    "    column_values = np.array(X[:, idx])\n",
    "\n",
    "    unique_values = np.unique(column_values)\n",
    "    if len(unique_values) > 10:\n",
    "        percentiles = np.percentile(column_values, [3, 5, 10, 20, 30, 50, 70, 80, 90, 95, 97])\n",
    "    else:\n",
    "        percentiles = np.percentile(unique_values, [10, 50, 90])\n",
    "\n",
    "    threshold_options = np.unique(percentiles)\n",
    "\n",
    "    for threshold in threshold_options:\n",
    "        control = [1-t for t in treatment]\n",
    "\n",
    "        left = [1 if x <= threshold else 0 for x in column_values]\n",
    "        right = [1 if l == 0 else 0 for l in left]\n",
    "\n",
    "        left_t = np.array(left) * np.array(treatment)\n",
    "        left_c = np.array(left) * np.array(control)\n",
    "\n",
    "        right_t = np.array(right) * np.array(treatment)\n",
    "        right_c = np.array(right) * np.array(control)\n",
    "\n",
    "        left_t_value = y * left_t\n",
    "        left_c_value = y * left_c\n",
    "        right_t_value = y * right_t\n",
    "        right_c_value = y * right_c\n",
    "\n",
    "        left_t_sum = sum(left_t_value)\n",
    "        left_c_sum = sum(left_c_value)\n",
    "        right_t_sum = sum(right_t_value)\n",
    "        right_c_sum = sum(right_c_value)\n",
    "\n",
    "        left_t_count = sum(left_t)\n",
    "        left_c_count = sum(left_c)\n",
    "        right_t_count = sum(right_t)\n",
    "        right_c_count = sum(right_c)\n",
    "\n",
    "        uplift_left = (left_t_sum / left_t_count) - (left_c_sum / left_c_count)\n",
    "        uplift_right = (right_t_sum / right_t_count) - (right_c_sum / right_c_count)\n",
    "\n",
    "        delta_delta = np.abs(uplift_left - uplift_right)\n",
    "        \n",
    "        if delta_delta > delta_delta_best:\n",
    "            if  left_t_count + left_c_count > min_samples_leaf and \\\n",
    "                right_t_count + right_c_count > min_samples_leaf and \\\n",
    "                left_t_count > min_samples_leaf_treated and \\\n",
    "                right_t_count > min_samples_leaf_treated and \\\n",
    "                left_c_count > min_samples_leaf_control and \\\n",
    "                right_c_count > min_samples_leaf_control:\n",
    "                \n",
    "                    delta_delta_best = delta_delta\n",
    "                    threshold_best = threshold\n",
    "                    idx_best = idx_best\n",
    "                    print(idx_best, threshold_best, delta_delta_best)\n",
    "    print('######')\n",
    "print(idx_best, threshold_best, delta_delta_best)"
   ]
  },
  {
   "cell_type": "markdown",
   "metadata": {},
   "source": [
    "### Test"
   ]
  },
  {
   "cell_type": "code",
   "execution_count": 21,
   "metadata": {},
   "outputs": [
    {
     "name": "stdout",
     "output_type": "stream",
     "text": [
      "0.8428329389786856 1.7676766601226297\n"
     ]
    }
   ],
   "source": [
    "X = np.load('example_X.npy')\n",
    "treatment = np.load('example_treatment.npy')\n",
    "y = np.load('example_y.npy')\n",
    "\n",
    "column_values = X[:, 0]\n",
    "threshold =  0.8428329389786856\n",
    "\n",
    "control = [1-t for t in treatment]\n",
    "\n",
    "left = [1 if x <= threshold else 0 for x in column_values]\n",
    "right = [1 if l == 0 else 0 for l in left]\n",
    "\n",
    "left_t = np.array(left) * np.array(treatment)\n",
    "left_c = np.array(left) * np.array(control)\n",
    "\n",
    "right_t = np.array(right) * np.array(treatment)\n",
    "right_c = np.array(right) * np.array(control)\n",
    "\n",
    "left_t_value = [i * lt for i, lt in list(zip(y, left_t))]\n",
    "left_c_value = [i * lc for i, lc in list(zip(y, left_c))]\n",
    "right_t_value = [i * rt for i, rt in list(zip(y, right_t))]\n",
    "right_c_value = [i * rc for i, rc in list(zip(y, right_c))]\n",
    "\n",
    "left_t_sum = sum(left_t_value)\n",
    "left_c_sum = sum(left_c_value)\n",
    "right_t_sum = sum(right_t_value)\n",
    "right_c_sum = sum(right_c_value)\n",
    "\n",
    "left_t_count = sum(left_t)\n",
    "left_c_count = sum(left_c)\n",
    "right_t_count = sum(right_t)\n",
    "right_c_count = sum(right_c)\n",
    "\n",
    "uplift_left = (left_t_sum / left_t_count) - (left_c_sum / left_c_count)\n",
    "uplift_right = (right_t_sum / right_t_count) - (right_c_sum / right_c_count)\n",
    "\n",
    "delta_delta = np.abs(uplift_left - uplift_right)\n",
    "\n",
    "print(threshold, delta_delta)"
   ]
  },
  {
   "cell_type": "markdown",
   "metadata": {},
   "source": [
    "### Load data"
   ]
  },
  {
   "cell_type": "code",
   "execution_count": 22,
   "metadata": {},
   "outputs": [],
   "source": [
    "# load data\n",
    "X = np.load('example_X.npy')\n",
    "treatment = np.load('example_treatment.npy')\n",
    "y = np.load('example_y.npy')"
   ]
  },
  {
   "cell_type": "markdown",
   "metadata": {},
   "source": [
    "### Model"
   ]
  },
  {
   "cell_type": "code",
   "execution_count": 23,
   "metadata": {},
   "outputs": [],
   "source": [
    "import numpy as np\n",
    "\n",
    "class Node:\n",
    "    def __init__(self, predicted_class):\n",
    "        self.predicted_class = predicted_class\n",
    "        self.feature_index = 0\n",
    "        self.threshold = 0\n",
    "        self.left = None\n",
    "        self.right = None\n",
    "\n",
    "\n",
    "class UpliftTreeRegressor:\n",
    "    \n",
    "    def __init__(\n",
    "        self,\n",
    "        max_depth: int = 3,\n",
    "        min_samples_leaf: int = 1000,\n",
    "        min_samples_leaf_treated: int = 300,\n",
    "        min_samples_leaf_control: int = 300,\n",
    "    ):\n",
    "        self.max_depth = max_depth\n",
    "        self.min_samples_leaf = min_samples_leaf\n",
    "        self.min_samples_leaf_treated = min_samples_leaf_treated\n",
    "        self.min_samples_leaf_control = min_samples_leaf_control\n",
    "        \n",
    "    def fit(self, X, treatment, y):\n",
    "        self.n_classes_ = len(set(treatment))\n",
    "        self.n_features_ = X.shape[1]\n",
    "        self.tree_ = self._grow_tree(X, y, treatment)\n",
    "\n",
    "    def predict(self, X):\n",
    "        return [self._predict(inputs) for inputs in X]\n",
    "\n",
    "    def _best_split(self, X, treatment, y):\n",
    "        if treatment.size <= 1:\n",
    "            return None, None\n",
    "        \n",
    "        delta_delta_best = 0\n",
    "        best_thr = None\n",
    "        best_idx = None\n",
    "        \n",
    "        for idx in range(self.n_features_):\n",
    "            column_values = np.array(X[:, idx])\n",
    "\n",
    "            unique_values = np.unique(column_values)\n",
    "\n",
    "            if len(unique_values) > 10:\n",
    "                percentiles = np.percentile(column_values, [3, 5, 10, 20, 30, 50, 70, 80, 90, 95, 97])\n",
    "            else:\n",
    "                percentiles = np.percentile(unique_values, [10, 50, 90])\n",
    "\n",
    "            threshold_options = np.unique(percentiles)\n",
    "\n",
    "            for threshold in threshold_options:              \n",
    "                control = (treatment - 1) * (-1)\n",
    "\n",
    "                left = np.array([1 if x <= threshold else 0 for x in column_values])\n",
    "                right = (left - 1) * -1\n",
    "\n",
    "                left_t = left * treatment\n",
    "                left_c = left * control\n",
    "\n",
    "                right_t = right * treatment\n",
    "                right_c = right * control\n",
    "\n",
    "                left_t_sum = sum(y * left_t)\n",
    "                left_c_sum = sum(y * left_c)\n",
    "                right_t_sum = sum(y * right_t)\n",
    "                right_c_sum = sum(y * right_c)\n",
    "\n",
    "                left_t_count = sum(left_t)\n",
    "                left_c_count = sum(left_c)\n",
    "                right_t_count = sum(right_t)\n",
    "                right_c_count = sum(right_c)\n",
    "\n",
    "                uplift_left = (left_t_sum / left_t_count) - (left_c_sum / left_c_count)\n",
    "                uplift_right = (right_t_sum / right_t_count) - (right_c_sum / right_c_count)\n",
    "\n",
    "                delta_delta = np.abs(uplift_left - uplift_right)\n",
    "                \n",
    "                if delta_delta > delta_delta_best:\n",
    "                    if  ((left_t_count + left_c_count) >= self.min_samples_leaf) and \\\n",
    "                        ((right_t_count + right_c_count) >= self.min_samples_leaf) and \\\n",
    "                        (left_t_count >= self.min_samples_leaf_treated) and \\\n",
    "                        (right_t_count >= self.min_samples_leaf_treated) and \\\n",
    "                        (left_c_count >= self.min_samples_leaf_control) and \\\n",
    "                        (right_c_count >= self.min_samples_leaf_control):\n",
    "                        \n",
    "                        delta_delta_best = delta_delta\n",
    "                        best_thr = threshold\n",
    "                        best_idx = idx\n",
    "                        \n",
    "        return best_idx, best_thr\n",
    "\n",
    "    def _grow_tree(self, X, y, treatment, depth=0):\n",
    "        control = np.array([1 if t == 0 else 0 for t in treatment])\n",
    "        predicted_class = sum(y * treatment)/sum(treatment) - sum(y * control)/sum(control)\n",
    "        node = Node(predicted_class=predicted_class)\n",
    "        if depth < self.max_depth:\n",
    "            idx, thr = self._best_split(X, treatment, y)\n",
    "            if idx is not None:\n",
    "                indices_left = X[:, idx] < thr\n",
    "                X_left, t_left, y_left = X[indices_left], treatment[indices_left], y[indices_left]\n",
    "                X_right, t_right, y_right = X[~indices_left], treatment[~indices_left], y[~indices_left]\n",
    "                node.feature_index = idx\n",
    "                node.threshold = thr\n",
    "                node.left = self._grow_tree(X_left, y_left, t_left, depth + 1)\n",
    "                node.right = self._grow_tree(X_right, y_right, t_right, depth + 1)\n",
    "        return node\n",
    "\n",
    "    def _predict(self, inputs):\n",
    "        node = self.tree_\n",
    "        while node.left:\n",
    "            if inputs[node.feature_index] < node.threshold:\n",
    "                node = node.left\n",
    "            else:\n",
    "                node = node.right\n",
    "        return node.predicted_class"
   ]
  },
  {
   "cell_type": "code",
   "execution_count": 24,
   "metadata": {},
   "outputs": [],
   "source": [
    "model_params = {\n",
    "    'max_depth': 3,\n",
    "    'min_samples_leaf': 6000,\n",
    "    'min_samples_leaf_treated': 2500,\n",
    "    'min_samples_leaf_control': 2500\n",
    "}"
   ]
  },
  {
   "cell_type": "code",
   "execution_count": 25,
   "metadata": {},
   "outputs": [],
   "source": [
    "model = UpliftTreeRegressor(\n",
    "    max_depth = 3,\n",
    "    min_samples_leaf = 6000,\n",
    "    min_samples_leaf_treated = 2500,\n",
    "    min_samples_leaf_control = 2500\n",
    ")"
   ]
  },
  {
   "cell_type": "code",
   "execution_count": 26,
   "metadata": {},
   "outputs": [
    {
     "name": "stdout",
     "output_type": "stream",
     "text": [
      "--- 4.76221489906311 seconds ---\n"
     ]
    }
   ],
   "source": [
    "start_time = time.time()\n",
    "model.fit(X, treatment, y)\n",
    "print(\"--- %s seconds ---\" % (time.time() - start_time))"
   ]
  },
  {
   "cell_type": "code",
   "execution_count": 27,
   "metadata": {},
   "outputs": [],
   "source": [
    "predicted = model.predict(X)"
   ]
  },
  {
   "cell_type": "code",
   "execution_count": 28,
   "metadata": {},
   "outputs": [],
   "source": [
    "example_preds = np.load('example_preds_new.npy')"
   ]
  },
  {
   "cell_type": "code",
   "execution_count": 29,
   "metadata": {},
   "outputs": [
    {
     "data": {
      "text/plain": [
       "50000"
      ]
     },
     "execution_count": 29,
     "metadata": {},
     "output_type": "execute_result"
    }
   ],
   "source": [
    "sum(predicted == example_preds)"
   ]
  },
  {
   "cell_type": "code",
   "execution_count": 30,
   "metadata": {},
   "outputs": [
    {
     "name": "stdout",
     "output_type": "stream",
     "text": [
      "0.8428329389786856\n",
      "-0.9878097589516122\n",
      "0.8401218986161384\n"
     ]
    }
   ],
   "source": [
    "print(model.tree_.threshold)\n",
    "print(model.tree_.left.threshold)\n",
    "print(model.tree_.left.right.threshold)"
   ]
  },
  {
   "cell_type": "markdown",
   "metadata": {},
   "source": [
    "### Debug test_3"
   ]
  },
  {
   "cell_type": "code",
   "execution_count": 31,
   "metadata": {},
   "outputs": [],
   "source": [
    "import pickle\n",
    "with open('test_3.pkl', 'rb') as ifile:\n",
    "    test_3 = pickle.load(ifile)"
   ]
  },
  {
   "cell_type": "code",
   "execution_count": 32,
   "metadata": {},
   "outputs": [],
   "source": [
    "X = test_3['X']\n",
    "treatment = test_3['treatment']\n",
    "y = test_3['y']\n",
    "\n",
    "X_test = test_3['X_test']\n",
    "pred_right = test_3['pred_right']\n",
    "\n",
    "model = UpliftTreeRegressor(\n",
    "    max_depth = 4,\n",
    "    min_samples_leaf = 1000,\n",
    "    min_samples_leaf_treated = 400,\n",
    "    min_samples_leaf_control = 400\n",
    ")"
   ]
  },
  {
   "cell_type": "code",
   "execution_count": 33,
   "metadata": {},
   "outputs": [],
   "source": [
    "model.fit(X, treatment, y)"
   ]
  },
  {
   "cell_type": "code",
   "execution_count": 34,
   "metadata": {},
   "outputs": [],
   "source": [
    "preds = model.predict(X_test)"
   ]
  },
  {
   "cell_type": "code",
   "execution_count": 35,
   "metadata": {},
   "outputs": [
    {
     "data": {
      "text/plain": [
       "{-1.176776584810562,\n",
       " -0.20841180375754276,\n",
       " 0.7477398752496119,\n",
       " 1.9453517933449174,\n",
       " 2.165655294969757,\n",
       " 2.739893609566705}"
      ]
     },
     "execution_count": 35,
     "metadata": {},
     "output_type": "execute_result"
    }
   ],
   "source": [
    "set(preds)"
   ]
  },
  {
   "cell_type": "code",
   "execution_count": 36,
   "metadata": {},
   "outputs": [
    {
     "data": {
      "text/plain": [
       "{-1.176776584810562,\n",
       " -0.20841180375754276,\n",
       " 0.7477398752496119,\n",
       " 1.9453517933449174,\n",
       " 2.165655294969757,\n",
       " 2.739893609566705}"
      ]
     },
     "execution_count": 36,
     "metadata": {},
     "output_type": "execute_result"
    }
   ],
   "source": [
    "set(pred_right)"
   ]
  }
 ],
 "metadata": {
  "kernelspec": {
   "display_name": "Python 3",
   "language": "python",
   "name": "python3"
  },
  "language_info": {
   "codemirror_mode": {
    "name": "ipython",
    "version": 3
   },
   "file_extension": ".py",
   "mimetype": "text/x-python",
   "name": "python",
   "nbconvert_exporter": "python",
   "pygments_lexer": "ipython3",
   "version": "3.8.5"
  }
 },
 "nbformat": 4,
 "nbformat_minor": 4
}
