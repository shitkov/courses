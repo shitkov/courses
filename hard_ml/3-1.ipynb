{
 "cells": [
  {
   "cell_type": "code",
   "execution_count": 1,
   "metadata": {},
   "outputs": [],
   "source": [
    "import pandas as pd"
   ]
  },
  {
   "cell_type": "code",
   "execution_count": 2,
   "metadata": {},
   "outputs": [],
   "source": [
    "data = pd.read_csv(\"minethatdata_womens_train.csv\")"
   ]
  },
  {
   "cell_type": "code",
   "execution_count": 3,
   "metadata": {},
   "outputs": [
    {
     "data": {
      "text/html": [
       "<div>\n",
       "<style scoped>\n",
       "    .dataframe tbody tr th:only-of-type {\n",
       "        vertical-align: middle;\n",
       "    }\n",
       "\n",
       "    .dataframe tbody tr th {\n",
       "        vertical-align: top;\n",
       "    }\n",
       "\n",
       "    .dataframe thead th {\n",
       "        text-align: right;\n",
       "    }\n",
       "</style>\n",
       "<table border=\"1\" class=\"dataframe\">\n",
       "  <thead>\n",
       "    <tr style=\"text-align: right;\">\n",
       "      <th></th>\n",
       "      <th>index</th>\n",
       "      <th>recency</th>\n",
       "      <th>history_segment</th>\n",
       "      <th>history</th>\n",
       "      <th>mens</th>\n",
       "      <th>womens</th>\n",
       "      <th>zip_code</th>\n",
       "      <th>newbie</th>\n",
       "      <th>channel</th>\n",
       "      <th>segment</th>\n",
       "      <th>visit</th>\n",
       "      <th>conversion</th>\n",
       "      <th>spend</th>\n",
       "    </tr>\n",
       "  </thead>\n",
       "  <tbody>\n",
       "    <tr>\n",
       "      <th>0</th>\n",
       "      <td>54222</td>\n",
       "      <td>10</td>\n",
       "      <td>1) $0 - $100</td>\n",
       "      <td>29.99</td>\n",
       "      <td>0</td>\n",
       "      <td>1</td>\n",
       "      <td>Surburban</td>\n",
       "      <td>1</td>\n",
       "      <td>Phone</td>\n",
       "      <td>No E-Mail</td>\n",
       "      <td>0</td>\n",
       "      <td>0</td>\n",
       "      <td>0.0</td>\n",
       "    </tr>\n",
       "    <tr>\n",
       "      <th>1</th>\n",
       "      <td>30074</td>\n",
       "      <td>6</td>\n",
       "      <td>3) $200 - $350</td>\n",
       "      <td>292.39</td>\n",
       "      <td>0</td>\n",
       "      <td>1</td>\n",
       "      <td>Rural</td>\n",
       "      <td>0</td>\n",
       "      <td>Phone</td>\n",
       "      <td>Womens E-Mail</td>\n",
       "      <td>0</td>\n",
       "      <td>0</td>\n",
       "      <td>0.0</td>\n",
       "    </tr>\n",
       "    <tr>\n",
       "      <th>2</th>\n",
       "      <td>2725</td>\n",
       "      <td>8</td>\n",
       "      <td>1) $0 - $100</td>\n",
       "      <td>35.57</td>\n",
       "      <td>1</td>\n",
       "      <td>0</td>\n",
       "      <td>Surburban</td>\n",
       "      <td>0</td>\n",
       "      <td>Phone</td>\n",
       "      <td>No E-Mail</td>\n",
       "      <td>0</td>\n",
       "      <td>0</td>\n",
       "      <td>0.0</td>\n",
       "    </tr>\n",
       "    <tr>\n",
       "      <th>3</th>\n",
       "      <td>52884</td>\n",
       "      <td>1</td>\n",
       "      <td>1) $0 - $100</td>\n",
       "      <td>75.64</td>\n",
       "      <td>1</td>\n",
       "      <td>0</td>\n",
       "      <td>Surburban</td>\n",
       "      <td>1</td>\n",
       "      <td>Web</td>\n",
       "      <td>No E-Mail</td>\n",
       "      <td>0</td>\n",
       "      <td>0</td>\n",
       "      <td>0.0</td>\n",
       "    </tr>\n",
       "    <tr>\n",
       "      <th>4</th>\n",
       "      <td>42004</td>\n",
       "      <td>4</td>\n",
       "      <td>1) $0 - $100</td>\n",
       "      <td>29.99</td>\n",
       "      <td>1</td>\n",
       "      <td>0</td>\n",
       "      <td>Surburban</td>\n",
       "      <td>1</td>\n",
       "      <td>Web</td>\n",
       "      <td>Womens E-Mail</td>\n",
       "      <td>0</td>\n",
       "      <td>0</td>\n",
       "      <td>0.0</td>\n",
       "    </tr>\n",
       "  </tbody>\n",
       "</table>\n",
       "</div>"
      ],
      "text/plain": [
       "   index  recency history_segment  history  mens  womens   zip_code  newbie  \\\n",
       "0  54222       10    1) $0 - $100    29.99     0       1  Surburban       1   \n",
       "1  30074        6  3) $200 - $350   292.39     0       1      Rural       0   \n",
       "2   2725        8    1) $0 - $100    35.57     1       0  Surburban       0   \n",
       "3  52884        1    1) $0 - $100    75.64     1       0  Surburban       1   \n",
       "4  42004        4    1) $0 - $100    29.99     1       0  Surburban       1   \n",
       "\n",
       "  channel        segment  visit  conversion  spend  \n",
       "0   Phone      No E-Mail      0           0    0.0  \n",
       "1   Phone  Womens E-Mail      0           0    0.0  \n",
       "2   Phone      No E-Mail      0           0    0.0  \n",
       "3     Web      No E-Mail      0           0    0.0  \n",
       "4     Web  Womens E-Mail      0           0    0.0  "
      ]
     },
     "execution_count": 3,
     "metadata": {},
     "output_type": "execute_result"
    }
   ],
   "source": [
    "data.head()"
   ]
  },
  {
   "cell_type": "markdown",
   "metadata": {},
   "source": [
    "## 1. Сравнение групп"
   ]
  },
  {
   "cell_type": "code",
   "execution_count": 4,
   "metadata": {},
   "outputs": [
    {
     "data": {
      "text/plain": [
       "Womens E-Mail    10709\n",
       "No E-Mail        10637\n",
       "Name: segment, dtype: int64"
      ]
     },
     "execution_count": 4,
     "metadata": {},
     "output_type": "execute_result"
    }
   ],
   "source": [
    "data['segment'].value_counts()"
   ]
  },
  {
   "cell_type": "code",
   "execution_count": 5,
   "metadata": {},
   "outputs": [],
   "source": [
    "data_trgt = data[data['segment'] == 'Womens E-Mail'].reset_index(drop=True)\n",
    "data_ctrl = data[data['segment'] == 'No E-Mail'].reset_index(drop=True)"
   ]
  },
  {
   "cell_type": "code",
   "execution_count": 6,
   "metadata": {},
   "outputs": [],
   "source": [
    "mean_control_list = []\n",
    "mean_treated_list = []\n",
    "ate_list = []\n",
    "relative_change_list = []"
   ]
  },
  {
   "cell_type": "code",
   "execution_count": 7,
   "metadata": {},
   "outputs": [],
   "source": [
    "mean_control_list.append(data_ctrl['visit'].mean())\n",
    "mean_control_list.append(data_ctrl['conversion'].mean())\n",
    "mean_control_list.append(data_ctrl['spend'].mean())"
   ]
  },
  {
   "cell_type": "code",
   "execution_count": 8,
   "metadata": {},
   "outputs": [],
   "source": [
    "mean_treated_list.append(data_trgt['visit'].mean())\n",
    "mean_treated_list.append(data_trgt['conversion'].mean())\n",
    "mean_treated_list.append(data_trgt['spend'].mean())"
   ]
  },
  {
   "cell_type": "code",
   "execution_count": 9,
   "metadata": {},
   "outputs": [],
   "source": [
    "ate_list = [i - j for i, j in zip(mean_treated_list, mean_control_list)]"
   ]
  },
  {
   "cell_type": "code",
   "execution_count": 10,
   "metadata": {},
   "outputs": [],
   "source": [
    "relative_change_list = [i/j for i, j in zip(mean_treated_list, mean_control_list)]"
   ]
  },
  {
   "cell_type": "code",
   "execution_count": 11,
   "metadata": {},
   "outputs": [],
   "source": [
    "df = pd.DataFrame()\n",
    "df['variable'] = ['visit', 'conversion', 'spend']\n",
    "df['mean_control'] = mean_control_list\n",
    "df['mean_treated'] = mean_treated_list\n",
    "df['ate'] = ate_list\n",
    "df['relative_change'] = relative_change_list\n",
    "\n",
    "df.to_csv('3-1-7_v0.csv', index=False)"
   ]
  },
  {
   "cell_type": "code",
   "execution_count": 12,
   "metadata": {},
   "outputs": [
    {
     "data": {
      "text/html": [
       "<div>\n",
       "<style scoped>\n",
       "    .dataframe tbody tr th:only-of-type {\n",
       "        vertical-align: middle;\n",
       "    }\n",
       "\n",
       "    .dataframe tbody tr th {\n",
       "        vertical-align: top;\n",
       "    }\n",
       "\n",
       "    .dataframe thead th {\n",
       "        text-align: right;\n",
       "    }\n",
       "</style>\n",
       "<table border=\"1\" class=\"dataframe\">\n",
       "  <thead>\n",
       "    <tr style=\"text-align: right;\">\n",
       "      <th></th>\n",
       "      <th>variable</th>\n",
       "      <th>mean_control</th>\n",
       "      <th>mean_treated</th>\n",
       "      <th>ate</th>\n",
       "      <th>relative_change</th>\n",
       "    </tr>\n",
       "  </thead>\n",
       "  <tbody>\n",
       "    <tr>\n",
       "      <th>0</th>\n",
       "      <td>visit</td>\n",
       "      <td>0.101720</td>\n",
       "      <td>0.148193</td>\n",
       "      <td>0.046473</td>\n",
       "      <td>1.456867</td>\n",
       "    </tr>\n",
       "    <tr>\n",
       "      <th>1</th>\n",
       "      <td>conversion</td>\n",
       "      <td>0.004983</td>\n",
       "      <td>0.008498</td>\n",
       "      <td>0.003515</td>\n",
       "      <td>1.705437</td>\n",
       "    </tr>\n",
       "    <tr>\n",
       "      <th>2</th>\n",
       "      <td>spend</td>\n",
       "      <td>0.583971</td>\n",
       "      <td>1.131093</td>\n",
       "      <td>0.547121</td>\n",
       "      <td>1.936898</td>\n",
       "    </tr>\n",
       "  </tbody>\n",
       "</table>\n",
       "</div>"
      ],
      "text/plain": [
       "     variable  mean_control  mean_treated       ate  relative_change\n",
       "0       visit      0.101720      0.148193  0.046473         1.456867\n",
       "1  conversion      0.004983      0.008498  0.003515         1.705437\n",
       "2       spend      0.583971      1.131093  0.547121         1.936898"
      ]
     },
     "execution_count": 12,
     "metadata": {},
     "output_type": "execute_result"
    }
   ],
   "source": [
    "df.head()"
   ]
  },
  {
   "cell_type": "markdown",
   "metadata": {},
   "source": [
    "## 2. Волатильность метрик\n",
    "\n",
    "https://docs.scipy.org/doc/scipy/reference/generated/scipy.stats.bootstrap.html"
   ]
  },
  {
   "cell_type": "code",
   "execution_count": 13,
   "metadata": {},
   "outputs": [],
   "source": [
    "import numpy as np\n",
    "from scipy.stats import t\n",
    "import numpy as np, scipy.stats as st\n",
    "from tqdm import tqdm"
   ]
  },
  {
   "cell_type": "code",
   "execution_count": 14,
   "metadata": {},
   "outputs": [],
   "source": [
    "def get_sample(data_trgt, data_ctrl, name='visit', n=100):\n",
    "    var_list = []\n",
    "    for _ in tqdm(range(n)):\n",
    "        mean_treated = (1.0 * np.random.choice(np.array(data_trgt[name].tolist()), len(data_trgt), replace=True)).mean()\n",
    "        mean_control = (1.0 * np.random.choice(np.array(data_ctrl[name].tolist()), len(data_ctrl), replace=True)).mean()\n",
    "        var = mean_treated - mean_control\n",
    "        var_list.append(var)\n",
    "    return var_list"
   ]
  },
  {
   "cell_type": "code",
   "execution_count": 15,
   "metadata": {},
   "outputs": [
    {
     "name": "stderr",
     "output_type": "stream",
     "text": [
      "100%|██████████| 1000/1000 [00:01<00:00, 522.36it/s]\n"
     ]
    },
    {
     "data": {
      "text/plain": [
       "(0.03863467570515822, 0.0539360347858414)"
      ]
     },
     "execution_count": 15,
     "metadata": {},
     "output_type": "execute_result"
    }
   ],
   "source": [
    "sample = get_sample(data_trgt, data_ctrl, name='visit', n=1000)\n",
    "np.percentile(sample, 5), np.percentile(sample, 95)"
   ]
  },
  {
   "cell_type": "code",
   "execution_count": 16,
   "metadata": {},
   "outputs": [
    {
     "name": "stderr",
     "output_type": "stream",
     "text": [
      "100%|██████████| 1000/1000 [00:01<00:00, 591.57it/s]\n"
     ]
    },
    {
     "data": {
      "text/plain": [
       "(0.001832128945074469, 0.005385665922285567)"
      ]
     },
     "execution_count": 16,
     "metadata": {},
     "output_type": "execute_result"
    }
   ],
   "source": [
    "sample = get_sample(data_trgt, data_ctrl, name='conversion', n=1000)\n",
    "np.percentile(sample, 5), np.percentile(sample, 95)"
   ]
  },
  {
   "cell_type": "code",
   "execution_count": 17,
   "metadata": {},
   "outputs": [
    {
     "name": "stderr",
     "output_type": "stream",
     "text": [
      "100%|██████████| 1000/1000 [00:01<00:00, 585.42it/s]\n"
     ]
    },
    {
     "data": {
      "text/plain": [
       "(0.25678864887311387, 0.845674364123109)"
      ]
     },
     "execution_count": 17,
     "metadata": {},
     "output_type": "execute_result"
    }
   ],
   "source": [
    "sample = get_sample(data_trgt, data_ctrl, name='spend', n=1000)\n",
    "np.percentile(sample, 5), np.percentile(sample, 95)"
   ]
  },
  {
   "cell_type": "code",
   "execution_count": 18,
   "metadata": {},
   "outputs": [],
   "source": [
    "def get_sample_rc(data_trgt, data_ctrl, name='visit', n=100):\n",
    "    var_list = []\n",
    "    for _ in tqdm(range(n)):\n",
    "        mean_treated = (1.0 * np.random.choice(np.array(data_trgt[name].tolist()), len(data_trgt), replace=True)).mean()\n",
    "        mean_control = (1.0 * np.random.choice(np.array(data_ctrl[name].tolist()), len(data_ctrl), replace=True)).mean()\n",
    "        var = mean_treated/mean_control\n",
    "        var_list.append(var)\n",
    "    return var_list"
   ]
  },
  {
   "cell_type": "code",
   "execution_count": 19,
   "metadata": {},
   "outputs": [
    {
     "name": "stderr",
     "output_type": "stream",
     "text": [
      "100%|██████████| 1000/1000 [00:01<00:00, 580.13it/s]\n"
     ]
    },
    {
     "data": {
      "text/plain": [
       "(1.3746882372088434, 1.5505380279724938)"
      ]
     },
     "execution_count": 19,
     "metadata": {},
     "output_type": "execute_result"
    }
   ],
   "source": [
    "sample = get_sample_rc(data_trgt, data_ctrl, name='visit', n=1000)\n",
    "np.percentile(sample, 5), np.percentile(sample, 95)"
   ]
  },
  {
   "cell_type": "code",
   "execution_count": 20,
   "metadata": {},
   "outputs": [
    {
     "name": "stderr",
     "output_type": "stream",
     "text": [
      "100%|██████████| 1000/1000 [00:01<00:00, 592.31it/s]\n"
     ]
    },
    {
     "data": {
      "text/plain": [
       "(1.318911563584483, 2.2597837049965928)"
      ]
     },
     "execution_count": 20,
     "metadata": {},
     "output_type": "execute_result"
    }
   ],
   "source": [
    "sample = get_sample_rc(data_trgt, data_ctrl, name='conversion', n=1000)\n",
    "np.percentile(sample, 5), np.percentile(sample, 95)"
   ]
  },
  {
   "cell_type": "code",
   "execution_count": 21,
   "metadata": {},
   "outputs": [
    {
     "name": "stderr",
     "output_type": "stream",
     "text": [
      "100%|██████████| 1000/1000 [00:01<00:00, 591.46it/s]\n"
     ]
    },
    {
     "data": {
      "text/plain": [
       "(1.3607711793173793, 2.8944681166099175)"
      ]
     },
     "execution_count": 21,
     "metadata": {},
     "output_type": "execute_result"
    }
   ],
   "source": [
    "sample = get_sample_rc(data_trgt, data_ctrl, name='spend', n=1000)\n",
    "np.percentile(sample, 5), np.percentile(sample, 95)"
   ]
  },
  {
   "cell_type": "markdown",
   "metadata": {},
   "source": [
    "## 3. Прогнозирование uplift"
   ]
  },
  {
   "cell_type": "code",
   "execution_count": 22,
   "metadata": {},
   "outputs": [],
   "source": [
    "import catboost as cb\n",
    "from typing import List\n",
    "from sklearn.model_selection import train_test_split"
   ]
  },
  {
   "cell_type": "code",
   "execution_count": 53,
   "metadata": {},
   "outputs": [],
   "source": [
    "data = pd.read_csv(\"minethatdata_womens_train.csv\")\n",
    "test = pd.read_csv(\"minethatdata_womens_test_no_answers.csv\")"
   ]
  },
  {
   "cell_type": "code",
   "execution_count": 54,
   "metadata": {},
   "outputs": [
    {
     "data": {
      "text/html": [
       "<div>\n",
       "<style scoped>\n",
       "    .dataframe tbody tr th:only-of-type {\n",
       "        vertical-align: middle;\n",
       "    }\n",
       "\n",
       "    .dataframe tbody tr th {\n",
       "        vertical-align: top;\n",
       "    }\n",
       "\n",
       "    .dataframe thead th {\n",
       "        text-align: right;\n",
       "    }\n",
       "</style>\n",
       "<table border=\"1\" class=\"dataframe\">\n",
       "  <thead>\n",
       "    <tr style=\"text-align: right;\">\n",
       "      <th></th>\n",
       "      <th>index</th>\n",
       "      <th>recency</th>\n",
       "      <th>history_segment</th>\n",
       "      <th>history</th>\n",
       "      <th>mens</th>\n",
       "      <th>womens</th>\n",
       "      <th>zip_code</th>\n",
       "      <th>newbie</th>\n",
       "      <th>channel</th>\n",
       "      <th>segment</th>\n",
       "    </tr>\n",
       "  </thead>\n",
       "  <tbody>\n",
       "    <tr>\n",
       "      <th>0</th>\n",
       "      <td>61726</td>\n",
       "      <td>2</td>\n",
       "      <td>1) $0 - $100</td>\n",
       "      <td>74.04</td>\n",
       "      <td>0</td>\n",
       "      <td>1</td>\n",
       "      <td>Urban</td>\n",
       "      <td>0</td>\n",
       "      <td>Phone</td>\n",
       "      <td>No E-Mail</td>\n",
       "    </tr>\n",
       "    <tr>\n",
       "      <th>1</th>\n",
       "      <td>57540</td>\n",
       "      <td>3</td>\n",
       "      <td>4) $350 - $500</td>\n",
       "      <td>435.14</td>\n",
       "      <td>1</td>\n",
       "      <td>0</td>\n",
       "      <td>Urban</td>\n",
       "      <td>1</td>\n",
       "      <td>Multichannel</td>\n",
       "      <td>Womens E-Mail</td>\n",
       "    </tr>\n",
       "    <tr>\n",
       "      <th>2</th>\n",
       "      <td>58265</td>\n",
       "      <td>3</td>\n",
       "      <td>2) $100 - $200</td>\n",
       "      <td>112.96</td>\n",
       "      <td>0</td>\n",
       "      <td>1</td>\n",
       "      <td>Surburban</td>\n",
       "      <td>0</td>\n",
       "      <td>Web</td>\n",
       "      <td>Womens E-Mail</td>\n",
       "    </tr>\n",
       "    <tr>\n",
       "      <th>3</th>\n",
       "      <td>46218</td>\n",
       "      <td>8</td>\n",
       "      <td>1) $0 - $100</td>\n",
       "      <td>29.99</td>\n",
       "      <td>1</td>\n",
       "      <td>0</td>\n",
       "      <td>Urban</td>\n",
       "      <td>1</td>\n",
       "      <td>Phone</td>\n",
       "      <td>No E-Mail</td>\n",
       "    </tr>\n",
       "    <tr>\n",
       "      <th>4</th>\n",
       "      <td>60139</td>\n",
       "      <td>7</td>\n",
       "      <td>3) $200 - $350</td>\n",
       "      <td>219.81</td>\n",
       "      <td>1</td>\n",
       "      <td>0</td>\n",
       "      <td>Rural</td>\n",
       "      <td>0</td>\n",
       "      <td>Multichannel</td>\n",
       "      <td>No E-Mail</td>\n",
       "    </tr>\n",
       "  </tbody>\n",
       "</table>\n",
       "</div>"
      ],
      "text/plain": [
       "   index  recency history_segment  history  mens  womens   zip_code  newbie  \\\n",
       "0  61726        2    1) $0 - $100    74.04     0       1      Urban       0   \n",
       "1  57540        3  4) $350 - $500   435.14     1       0      Urban       1   \n",
       "2  58265        3  2) $100 - $200   112.96     0       1  Surburban       0   \n",
       "3  46218        8    1) $0 - $100    29.99     1       0      Urban       1   \n",
       "4  60139        7  3) $200 - $350   219.81     1       0      Rural       0   \n",
       "\n",
       "        channel        segment  \n",
       "0         Phone      No E-Mail  \n",
       "1  Multichannel  Womens E-Mail  \n",
       "2           Web  Womens E-Mail  \n",
       "3         Phone      No E-Mail  \n",
       "4  Multichannel      No E-Mail  "
      ]
     },
     "execution_count": 54,
     "metadata": {},
     "output_type": "execute_result"
    }
   ],
   "source": [
    "test.head()"
   ]
  },
  {
   "cell_type": "markdown",
   "metadata": {},
   "source": [
    "### Transform"
   ]
  },
  {
   "cell_type": "code",
   "execution_count": 25,
   "metadata": {},
   "outputs": [],
   "source": [
    "def one_hot_encode(data: pd.DataFrame, cols: List[str] = None) -> pd.DataFrame:\n",
    "    if cols is None:\n",
    "        cols = data.columns\n",
    "    result = pd.concat([data, pd.get_dummies(data[cols])], axis=1)\n",
    "    return result"
   ]
  },
  {
   "cell_type": "code",
   "execution_count": 26,
   "metadata": {},
   "outputs": [],
   "source": [
    "def transform_(data: pd.DataFrame) -> pd.DataFrame:\n",
    "    zipcode_num_dict = {\n",
    "        'Urban': 0,\n",
    "        'Surburban': 1,\n",
    "        'Rural': 2\n",
    "    }\n",
    "    data['zip_code_num'] = data['zip_code'].apply(lambda s: zipcode_num_dict[s])\n",
    "    \n",
    "    channel_num_dict = {\n",
    "        'Web': 0,\n",
    "        'Multichannel': 1,\n",
    "        'Phone': 2\n",
    "    }\n",
    "    data['channel_num'] = data['channel'].apply(lambda s: channel_num_dict[s])\n",
    "    data['history_segment_label'] = data['history_segment'].apply(lambda s: s[0])\n",
    "    data = one_hot_encode(data, cols=['zip_code', 'channel', 'history_segment_label'])\n",
    "    return data"
   ]
  },
  {
   "cell_type": "code",
   "execution_count": 27,
   "metadata": {},
   "outputs": [],
   "source": [
    "data = transform_(data)\n",
    "test = transform_(test)"
   ]
  },
  {
   "cell_type": "code",
   "execution_count": 43,
   "metadata": {},
   "outputs": [
    {
     "data": {
      "text/html": [
       "<div>\n",
       "<style scoped>\n",
       "    .dataframe tbody tr th:only-of-type {\n",
       "        vertical-align: middle;\n",
       "    }\n",
       "\n",
       "    .dataframe tbody tr th {\n",
       "        vertical-align: top;\n",
       "    }\n",
       "\n",
       "    .dataframe thead th {\n",
       "        text-align: right;\n",
       "    }\n",
       "</style>\n",
       "<table border=\"1\" class=\"dataframe\">\n",
       "  <thead>\n",
       "    <tr style=\"text-align: right;\">\n",
       "      <th></th>\n",
       "      <th>index</th>\n",
       "      <th>recency</th>\n",
       "      <th>history_segment</th>\n",
       "      <th>history</th>\n",
       "      <th>mens</th>\n",
       "      <th>womens</th>\n",
       "      <th>zip_code</th>\n",
       "      <th>newbie</th>\n",
       "      <th>channel</th>\n",
       "      <th>segment</th>\n",
       "      <th>...</th>\n",
       "      <th>channel_Multichannel</th>\n",
       "      <th>channel_Phone</th>\n",
       "      <th>channel_Web</th>\n",
       "      <th>history_segment_label_1</th>\n",
       "      <th>history_segment_label_2</th>\n",
       "      <th>history_segment_label_3</th>\n",
       "      <th>history_segment_label_4</th>\n",
       "      <th>history_segment_label_5</th>\n",
       "      <th>history_segment_label_6</th>\n",
       "      <th>history_segment_label_7</th>\n",
       "    </tr>\n",
       "  </thead>\n",
       "  <tbody>\n",
       "    <tr>\n",
       "      <th>0</th>\n",
       "      <td>61726</td>\n",
       "      <td>2</td>\n",
       "      <td>1) $0 - $100</td>\n",
       "      <td>74.04</td>\n",
       "      <td>0</td>\n",
       "      <td>1</td>\n",
       "      <td>Urban</td>\n",
       "      <td>0</td>\n",
       "      <td>Phone</td>\n",
       "      <td>No E-Mail</td>\n",
       "      <td>...</td>\n",
       "      <td>0</td>\n",
       "      <td>1</td>\n",
       "      <td>0</td>\n",
       "      <td>1</td>\n",
       "      <td>0</td>\n",
       "      <td>0</td>\n",
       "      <td>0</td>\n",
       "      <td>0</td>\n",
       "      <td>0</td>\n",
       "      <td>0</td>\n",
       "    </tr>\n",
       "    <tr>\n",
       "      <th>1</th>\n",
       "      <td>57540</td>\n",
       "      <td>3</td>\n",
       "      <td>4) $350 - $500</td>\n",
       "      <td>435.14</td>\n",
       "      <td>1</td>\n",
       "      <td>0</td>\n",
       "      <td>Urban</td>\n",
       "      <td>1</td>\n",
       "      <td>Multichannel</td>\n",
       "      <td>Womens E-Mail</td>\n",
       "      <td>...</td>\n",
       "      <td>1</td>\n",
       "      <td>0</td>\n",
       "      <td>0</td>\n",
       "      <td>0</td>\n",
       "      <td>0</td>\n",
       "      <td>0</td>\n",
       "      <td>1</td>\n",
       "      <td>0</td>\n",
       "      <td>0</td>\n",
       "      <td>0</td>\n",
       "    </tr>\n",
       "    <tr>\n",
       "      <th>2</th>\n",
       "      <td>58265</td>\n",
       "      <td>3</td>\n",
       "      <td>2) $100 - $200</td>\n",
       "      <td>112.96</td>\n",
       "      <td>0</td>\n",
       "      <td>1</td>\n",
       "      <td>Surburban</td>\n",
       "      <td>0</td>\n",
       "      <td>Web</td>\n",
       "      <td>Womens E-Mail</td>\n",
       "      <td>...</td>\n",
       "      <td>0</td>\n",
       "      <td>0</td>\n",
       "      <td>1</td>\n",
       "      <td>0</td>\n",
       "      <td>1</td>\n",
       "      <td>0</td>\n",
       "      <td>0</td>\n",
       "      <td>0</td>\n",
       "      <td>0</td>\n",
       "      <td>0</td>\n",
       "    </tr>\n",
       "    <tr>\n",
       "      <th>3</th>\n",
       "      <td>46218</td>\n",
       "      <td>8</td>\n",
       "      <td>1) $0 - $100</td>\n",
       "      <td>29.99</td>\n",
       "      <td>1</td>\n",
       "      <td>0</td>\n",
       "      <td>Urban</td>\n",
       "      <td>1</td>\n",
       "      <td>Phone</td>\n",
       "      <td>No E-Mail</td>\n",
       "      <td>...</td>\n",
       "      <td>0</td>\n",
       "      <td>1</td>\n",
       "      <td>0</td>\n",
       "      <td>1</td>\n",
       "      <td>0</td>\n",
       "      <td>0</td>\n",
       "      <td>0</td>\n",
       "      <td>0</td>\n",
       "      <td>0</td>\n",
       "      <td>0</td>\n",
       "    </tr>\n",
       "    <tr>\n",
       "      <th>4</th>\n",
       "      <td>60139</td>\n",
       "      <td>7</td>\n",
       "      <td>3) $200 - $350</td>\n",
       "      <td>219.81</td>\n",
       "      <td>1</td>\n",
       "      <td>0</td>\n",
       "      <td>Rural</td>\n",
       "      <td>0</td>\n",
       "      <td>Multichannel</td>\n",
       "      <td>No E-Mail</td>\n",
       "      <td>...</td>\n",
       "      <td>1</td>\n",
       "      <td>0</td>\n",
       "      <td>0</td>\n",
       "      <td>0</td>\n",
       "      <td>0</td>\n",
       "      <td>1</td>\n",
       "      <td>0</td>\n",
       "      <td>0</td>\n",
       "      <td>0</td>\n",
       "      <td>0</td>\n",
       "    </tr>\n",
       "  </tbody>\n",
       "</table>\n",
       "<p>5 rows × 26 columns</p>\n",
       "</div>"
      ],
      "text/plain": [
       "   index  recency history_segment  history  mens  womens   zip_code  newbie  \\\n",
       "0  61726        2    1) $0 - $100    74.04     0       1      Urban       0   \n",
       "1  57540        3  4) $350 - $500   435.14     1       0      Urban       1   \n",
       "2  58265        3  2) $100 - $200   112.96     0       1  Surburban       0   \n",
       "3  46218        8    1) $0 - $100    29.99     1       0      Urban       1   \n",
       "4  60139        7  3) $200 - $350   219.81     1       0      Rural       0   \n",
       "\n",
       "        channel        segment  ...  channel_Multichannel  channel_Phone  \\\n",
       "0         Phone      No E-Mail  ...                     0              1   \n",
       "1  Multichannel  Womens E-Mail  ...                     1              0   \n",
       "2           Web  Womens E-Mail  ...                     0              0   \n",
       "3         Phone      No E-Mail  ...                     0              1   \n",
       "4  Multichannel      No E-Mail  ...                     1              0   \n",
       "\n",
       "  channel_Web  history_segment_label_1  history_segment_label_2  \\\n",
       "0           0                        1                        0   \n",
       "1           0                        0                        0   \n",
       "2           1                        0                        1   \n",
       "3           0                        1                        0   \n",
       "4           0                        0                        0   \n",
       "\n",
       "   history_segment_label_3  history_segment_label_4  history_segment_label_5  \\\n",
       "0                        0                        0                        0   \n",
       "1                        0                        1                        0   \n",
       "2                        0                        0                        0   \n",
       "3                        0                        0                        0   \n",
       "4                        1                        0                        0   \n",
       "\n",
       "   history_segment_label_6  history_segment_label_7  \n",
       "0                        0                        0  \n",
       "1                        0                        0  \n",
       "2                        0                        0  \n",
       "3                        0                        0  \n",
       "4                        0                        0  \n",
       "\n",
       "[5 rows x 26 columns]"
      ]
     },
     "execution_count": 43,
     "metadata": {},
     "output_type": "execute_result"
    }
   ],
   "source": [
    "test.head()"
   ]
  },
  {
   "cell_type": "code",
   "execution_count": 28,
   "metadata": {},
   "outputs": [],
   "source": [
    "data['treatment'] = [1 if i == 'Womens E-Mail' else 0 for i in data['segment']]"
   ]
  },
  {
   "cell_type": "code",
   "execution_count": 29,
   "metadata": {},
   "outputs": [
    {
     "data": {
      "text/plain": [
       "Index(['index', 'recency', 'history_segment', 'history', 'mens', 'womens',\n",
       "       'zip_code', 'newbie', 'channel', 'segment', 'visit', 'conversion',\n",
       "       'spend', 'zip_code_num', 'channel_num', 'history_segment_label',\n",
       "       'zip_code_Rural', 'zip_code_Surburban', 'zip_code_Urban',\n",
       "       'channel_Multichannel', 'channel_Phone', 'channel_Web',\n",
       "       'history_segment_label_1', 'history_segment_label_2',\n",
       "       'history_segment_label_3', 'history_segment_label_4',\n",
       "       'history_segment_label_5', 'history_segment_label_6',\n",
       "       'history_segment_label_7', 'treatment'],\n",
       "      dtype='object')"
      ]
     },
     "execution_count": 29,
     "metadata": {},
     "output_type": "execute_result"
    }
   ],
   "source": [
    "data.columns"
   ]
  },
  {
   "cell_type": "markdown",
   "metadata": {},
   "source": [
    "### Split"
   ]
  },
  {
   "cell_type": "code",
   "execution_count": 30,
   "metadata": {},
   "outputs": [],
   "source": [
    "fit_index, val_index = train_test_split(data.index, test_size=0.1, random_state=42)"
   ]
  },
  {
   "cell_type": "markdown",
   "metadata": {},
   "source": [
    "### Columns"
   ]
  },
  {
   "cell_type": "code",
   "execution_count": 31,
   "metadata": {},
   "outputs": [],
   "source": [
    "column_set_n1 = [\n",
    "    'recency',\n",
    "    'history',\n",
    "    'mens',\n",
    "    'womens',\n",
    "    'zip_code_num',\n",
    "    'channel_num'\n",
    "]"
   ]
  },
  {
   "cell_type": "code",
   "execution_count": 32,
   "metadata": {},
   "outputs": [],
   "source": [
    "column_set_n2 = [\n",
    "    'recency',\n",
    "    'mens',\n",
    "    'womens',\n",
    "    'zip_code_Rural', 'zip_code_Surburban', 'zip_code_Urban',\n",
    "    'channel_Multichannel', 'channel_Phone', 'channel_Web',\n",
    "    'history_segment__label_1', 'history_segment__label_2',\n",
    "    'history_segment__label_3', 'history_segment__label_4',\n",
    "    'history_segment__label_5', 'history_segment__label_6',\n",
    "    'history_segment__label_7'\n",
    "]"
   ]
  },
  {
   "cell_type": "markdown",
   "metadata": {},
   "source": [
    "### Modeling"
   ]
  },
  {
   "cell_type": "code",
   "execution_count": 33,
   "metadata": {},
   "outputs": [],
   "source": [
    "# pip install --trusted-ho?st pypi.org --trusted-host pypi.python.org --trusted-host files.pythonhosted.org pylift\n",
    "\n",
    "import pylift"
   ]
  },
  {
   "cell_type": "code",
   "execution_count": 44,
   "metadata": {},
   "outputs": [
    {
     "data": {
      "text/html": [
       "<div>\n",
       "<style scoped>\n",
       "    .dataframe tbody tr th:only-of-type {\n",
       "        vertical-align: middle;\n",
       "    }\n",
       "\n",
       "    .dataframe tbody tr th {\n",
       "        vertical-align: top;\n",
       "    }\n",
       "\n",
       "    .dataframe thead th {\n",
       "        text-align: right;\n",
       "    }\n",
       "</style>\n",
       "<table border=\"1\" class=\"dataframe\">\n",
       "  <thead>\n",
       "    <tr style=\"text-align: right;\">\n",
       "      <th></th>\n",
       "      <th>recency</th>\n",
       "      <th>history</th>\n",
       "      <th>mens</th>\n",
       "      <th>womens</th>\n",
       "      <th>zip_code_num</th>\n",
       "      <th>channel_num</th>\n",
       "      <th>treatment</th>\n",
       "      <th>visit</th>\n",
       "    </tr>\n",
       "  </thead>\n",
       "  <tbody>\n",
       "    <tr>\n",
       "      <th>10075</th>\n",
       "      <td>12</td>\n",
       "      <td>175.68</td>\n",
       "      <td>0</td>\n",
       "      <td>1</td>\n",
       "      <td>0</td>\n",
       "      <td>2</td>\n",
       "      <td>1</td>\n",
       "      <td>0</td>\n",
       "    </tr>\n",
       "    <tr>\n",
       "      <th>2150</th>\n",
       "      <td>9</td>\n",
       "      <td>284.04</td>\n",
       "      <td>1</td>\n",
       "      <td>1</td>\n",
       "      <td>2</td>\n",
       "      <td>1</td>\n",
       "      <td>0</td>\n",
       "      <td>0</td>\n",
       "    </tr>\n",
       "    <tr>\n",
       "      <th>6909</th>\n",
       "      <td>3</td>\n",
       "      <td>397.24</td>\n",
       "      <td>1</td>\n",
       "      <td>1</td>\n",
       "      <td>0</td>\n",
       "      <td>0</td>\n",
       "      <td>1</td>\n",
       "      <td>0</td>\n",
       "    </tr>\n",
       "    <tr>\n",
       "      <th>4356</th>\n",
       "      <td>8</td>\n",
       "      <td>67.97</td>\n",
       "      <td>0</td>\n",
       "      <td>1</td>\n",
       "      <td>1</td>\n",
       "      <td>0</td>\n",
       "      <td>0</td>\n",
       "      <td>0</td>\n",
       "    </tr>\n",
       "    <tr>\n",
       "      <th>6978</th>\n",
       "      <td>2</td>\n",
       "      <td>41.24</td>\n",
       "      <td>1</td>\n",
       "      <td>0</td>\n",
       "      <td>1</td>\n",
       "      <td>2</td>\n",
       "      <td>0</td>\n",
       "      <td>0</td>\n",
       "    </tr>\n",
       "  </tbody>\n",
       "</table>\n",
       "</div>"
      ],
      "text/plain": [
       "       recency  history  mens  womens  zip_code_num  channel_num  treatment  \\\n",
       "10075       12   175.68     0       1             0            2          1   \n",
       "2150         9   284.04     1       1             2            1          0   \n",
       "6909         3   397.24     1       1             0            0          1   \n",
       "4356         8    67.97     0       1             1            0          0   \n",
       "6978         2    41.24     1       0             1            2          0   \n",
       "\n",
       "       visit  \n",
       "10075      0  \n",
       "2150       0  \n",
       "6909       0  \n",
       "4356       0  \n",
       "6978       0  "
      ]
     },
     "execution_count": 44,
     "metadata": {},
     "output_type": "execute_result"
    }
   ],
   "source": [
    "data.loc[fit_index, column_set_n1 + ['treatment', 'visit']].head()"
   ]
  },
  {
   "cell_type": "code",
   "execution_count": 34,
   "metadata": {},
   "outputs": [],
   "source": [
    "upmodel_n0 = pylift.TransformedOutcome(\n",
    "    data.loc[fit_index, column_set_n1 + ['treatment', 'visit']],\n",
    "    col_treatment='treatment', col_outcome='visit',\n",
    "    test_size=2\n",
    ")"
   ]
  },
  {
   "cell_type": "code",
   "execution_count": 35,
   "metadata": {},
   "outputs": [
    {
     "name": "stderr",
     "output_type": "stream",
     "text": [
      "/Users/19587293/.local/lib/python3.8/site-packages/pylift/eval.py:474: RuntimeWarning: invalid value encountered in double_scalars\n",
      "  scores['q1_qini'] = scores['Q_qini']/scores['Q_max']\n",
      "/Users/19587293/.local/lib/python3.8/site-packages/pylift/eval.py:475: RuntimeWarning: invalid value encountered in double_scalars\n",
      "  scores['q2_qini'] = scores['Q_qini']/scores['Q_practical_max']\n",
      "/Users/19587293/.local/lib/python3.8/site-packages/pylift/eval.py:479: RuntimeWarning: invalid value encountered in double_scalars\n",
      "  scores['q1_cgains'] = scores['Q_cgains']/scores['Q_max']\n",
      "/Users/19587293/.local/lib/python3.8/site-packages/pylift/eval.py:480: RuntimeWarning: invalid value encountered in double_scalars\n",
      "  scores['q2_cgains'] = scores['Q_cgains']/scores['Q_practical_max']\n",
      "/Users/19587293/.local/lib/python3.8/site-packages/pylift/eval.py:484: RuntimeWarning: invalid value encountered in double_scalars\n",
      "  scores['q1_aqini'] = scores['Q_aqini']/scores['Q_max']\n",
      "/Users/19587293/.local/lib/python3.8/site-packages/pylift/eval.py:485: RuntimeWarning: invalid value encountered in double_scalars\n",
      "  scores['q2_aqini'] = scores['Q_aqini']/scores['Q_practical_max']\n"
     ]
    }
   ],
   "source": [
    "upmodel_n0.fit()"
   ]
  },
  {
   "cell_type": "code",
   "execution_count": 36,
   "metadata": {},
   "outputs": [],
   "source": [
    "eval_data = data.loc[val_index, column_set_n1 + ['treatment', 'visit']]\n",
    "eval_data['score'] = upmodel_n0.model.predict(eval_data[column_set_n1])\n",
    "eval_data = eval_data[['score', 'treatment', 'visit']]"
   ]
  },
  {
   "cell_type": "code",
   "execution_count": 40,
   "metadata": {},
   "outputs": [
    {
     "data": {
      "image/png": "[encoded data removed]",
      "text/plain": [
       "<Figure size 720x432 with 1 Axes>"
      ]
     },
     "metadata": {
      "needs_background": "light"
     },
     "output_type": "display_data"
    }
   ],
   "source": [
    "import matplotlib.pyplot as plt\n",
    "import seaborn as sns\n",
    "\n",
    "plt.figure(figsize=(10, 6))\n",
    "sns.histplot(eval_data['score'])\n",
    "plt.show()"
   ]
  },
  {
   "cell_type": "code",
   "execution_count": 48,
   "metadata": {},
   "outputs": [],
   "source": [
    "test_data = test.loc[:, column_set_n1]\n",
    "test_data['score'] = upmodel_n0.model.predict(test_data[column_set_n1])"
   ]
  },
  {
   "cell_type": "code",
   "execution_count": 49,
   "metadata": {},
   "outputs": [
    {
     "data": {
      "text/html": [
       "<div>\n",
       "<style scoped>\n",
       "    .dataframe tbody tr th:only-of-type {\n",
       "        vertical-align: middle;\n",
       "    }\n",
       "\n",
       "    .dataframe tbody tr th {\n",
       "        vertical-align: top;\n",
       "    }\n",
       "\n",
       "    .dataframe thead th {\n",
       "        text-align: right;\n",
       "    }\n",
       "</style>\n",
       "<table border=\"1\" class=\"dataframe\">\n",
       "  <thead>\n",
       "    <tr style=\"text-align: right;\">\n",
       "      <th></th>\n",
       "      <th>recency</th>\n",
       "      <th>history</th>\n",
       "      <th>mens</th>\n",
       "      <th>womens</th>\n",
       "      <th>zip_code_num</th>\n",
       "      <th>channel_num</th>\n",
       "      <th>score</th>\n",
       "    </tr>\n",
       "  </thead>\n",
       "  <tbody>\n",
       "    <tr>\n",
       "      <th>0</th>\n",
       "      <td>2</td>\n",
       "      <td>74.04</td>\n",
       "      <td>0</td>\n",
       "      <td>1</td>\n",
       "      <td>0</td>\n",
       "      <td>2</td>\n",
       "      <td>-0.011630</td>\n",
       "    </tr>\n",
       "    <tr>\n",
       "      <th>1</th>\n",
       "      <td>3</td>\n",
       "      <td>435.14</td>\n",
       "      <td>1</td>\n",
       "      <td>0</td>\n",
       "      <td>0</td>\n",
       "      <td>1</td>\n",
       "      <td>-0.045405</td>\n",
       "    </tr>\n",
       "    <tr>\n",
       "      <th>2</th>\n",
       "      <td>3</td>\n",
       "      <td>112.96</td>\n",
       "      <td>0</td>\n",
       "      <td>1</td>\n",
       "      <td>1</td>\n",
       "      <td>0</td>\n",
       "      <td>0.095305</td>\n",
       "    </tr>\n",
       "    <tr>\n",
       "      <th>3</th>\n",
       "      <td>8</td>\n",
       "      <td>29.99</td>\n",
       "      <td>1</td>\n",
       "      <td>0</td>\n",
       "      <td>0</td>\n",
       "      <td>2</td>\n",
       "      <td>0.039941</td>\n",
       "    </tr>\n",
       "    <tr>\n",
       "      <th>4</th>\n",
       "      <td>7</td>\n",
       "      <td>219.81</td>\n",
       "      <td>1</td>\n",
       "      <td>0</td>\n",
       "      <td>2</td>\n",
       "      <td>1</td>\n",
       "      <td>-0.386855</td>\n",
       "    </tr>\n",
       "    <tr>\n",
       "      <th>...</th>\n",
       "      <td>...</td>\n",
       "      <td>...</td>\n",
       "      <td>...</td>\n",
       "      <td>...</td>\n",
       "      <td>...</td>\n",
       "      <td>...</td>\n",
       "      <td>...</td>\n",
       "    </tr>\n",
       "    <tr>\n",
       "      <th>21342</th>\n",
       "      <td>10</td>\n",
       "      <td>137.06</td>\n",
       "      <td>1</td>\n",
       "      <td>0</td>\n",
       "      <td>2</td>\n",
       "      <td>2</td>\n",
       "      <td>0.018665</td>\n",
       "    </tr>\n",
       "    <tr>\n",
       "      <th>21343</th>\n",
       "      <td>3</td>\n",
       "      <td>217.11</td>\n",
       "      <td>0</td>\n",
       "      <td>1</td>\n",
       "      <td>0</td>\n",
       "      <td>2</td>\n",
       "      <td>0.028894</td>\n",
       "    </tr>\n",
       "    <tr>\n",
       "      <th>21344</th>\n",
       "      <td>1</td>\n",
       "      <td>502.67</td>\n",
       "      <td>1</td>\n",
       "      <td>0</td>\n",
       "      <td>1</td>\n",
       "      <td>1</td>\n",
       "      <td>0.082508</td>\n",
       "    </tr>\n",
       "    <tr>\n",
       "      <th>21345</th>\n",
       "      <td>10</td>\n",
       "      <td>29.99</td>\n",
       "      <td>1</td>\n",
       "      <td>0</td>\n",
       "      <td>2</td>\n",
       "      <td>0</td>\n",
       "      <td>0.001941</td>\n",
       "    </tr>\n",
       "    <tr>\n",
       "      <th>21346</th>\n",
       "      <td>4</td>\n",
       "      <td>117.11</td>\n",
       "      <td>1</td>\n",
       "      <td>0</td>\n",
       "      <td>0</td>\n",
       "      <td>2</td>\n",
       "      <td>-0.000509</td>\n",
       "    </tr>\n",
       "  </tbody>\n",
       "</table>\n",
       "<p>21347 rows × 7 columns</p>\n",
       "</div>"
      ],
      "text/plain": [
       "       recency  history  mens  womens  zip_code_num  channel_num     score\n",
       "0            2    74.04     0       1             0            2 -0.011630\n",
       "1            3   435.14     1       0             0            1 -0.045405\n",
       "2            3   112.96     0       1             1            0  0.095305\n",
       "3            8    29.99     1       0             0            2  0.039941\n",
       "4            7   219.81     1       0             2            1 -0.386855\n",
       "...        ...      ...   ...     ...           ...          ...       ...\n",
       "21342       10   137.06     1       0             2            2  0.018665\n",
       "21343        3   217.11     0       1             0            2  0.028894\n",
       "21344        1   502.67     1       0             1            1  0.082508\n",
       "21345       10    29.99     1       0             2            0  0.001941\n",
       "21346        4   117.11     1       0             0            2 -0.000509\n",
       "\n",
       "[21347 rows x 7 columns]"
      ]
     },
     "execution_count": 49,
     "metadata": {},
     "output_type": "execute_result"
    }
   ],
   "source": [
    "test_data"
   ]
  },
  {
   "cell_type": "code",
   "execution_count": 50,
   "metadata": {},
   "outputs": [],
   "source": [
    "test_data = test_data[['score']]"
   ]
  },
  {
   "cell_type": "code",
   "execution_count": 60,
   "metadata": {},
   "outputs": [
    {
     "name": "stderr",
     "output_type": "stream",
     "text": [
      "<ipython-input-60-74f655787b00>:1: SettingWithCopyWarning: \n",
      "A value is trying to be set on a copy of a slice from a DataFrame.\n",
      "Try using .loc[row_indexer,col_indexer] = value instead\n",
      "\n",
      "See the caveats in the documentation: https://pandas.pydata.org/pandas-docs/stable/user_guide/indexing.html#returning-a-view-versus-a-copy\n",
      "  test_data['index'] = test[['index']]\n"
     ]
    }
   ],
   "source": [
    "test_data['index'] = test[['index']]"
   ]
  },
  {
   "cell_type": "code",
   "execution_count": 62,
   "metadata": {},
   "outputs": [],
   "source": [
    "test_data.to_csv('results3.csv', index=False)"
   ]
  }
 ],
 "metadata": {
  "kernelspec": {
   "display_name": "Python 3",
   "language": "python",
   "name": "python3"
  },
  "language_info": {
   "codemirror_mode": {
    "name": "ipython",
    "version": 3
   },
   "file_extension": ".py",
   "mimetype": "text/x-python",
   "name": "python",
   "nbconvert_exporter": "python",
   "pygments_lexer": "ipython3",
   "version": "3.8.5"
  }
 },
 "nbformat": 4,
 "nbformat_minor": 4
}
