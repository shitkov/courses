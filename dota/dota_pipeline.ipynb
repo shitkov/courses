{
  "nbformat": 4,
  "nbformat_minor": 0,
  "metadata": {
    "kernelspec": {
      "language": "python",
      "display_name": "Python 3",
      "name": "python3"
    },
    "language_info": {
      "pygments_lexer": "ipython3",
      "nbconvert_exporter": "python",
      "version": "3.6.4",
      "file_extension": ".py",
      "codemirror_mode": {
        "name": "ipython",
        "version": 3
      },
      "name": "python",
      "mimetype": "text/x-python"
    },
    "colab": {
      "name": "dota_SKL_pipe_v5.ipynb",
      "provenance": [],
      "collapsed_sections": []
    }
  },
  "cells": [
    {
      "cell_type": "code",
      "metadata": {
        "id": "KVxxRdRY2IY8",
        "colab_type": "code",
        "outputId": "e0fb938a-6f50-447f-8a23-d5a52dadb816",
        "colab": {
          "base_uri": "https://localhost:8080/",
          "height": 36
        }
      },
      "source": [
        "from google.colab import drive\n",
        "drive.mount('/content/gdrive')"
      ],
      "execution_count": 0,
      "outputs": [
        {
          "output_type": "stream",
          "text": [
            "Drive already mounted at /content/gdrive; to attempt to forcibly remount, call drive.mount(\"/content/gdrive\", force_remount=True).\n"
          ],
          "name": "stdout"
        }
      ]
    },
    {
      "cell_type": "code",
      "metadata": {
        "_uuid": "8f2839f25d086af736a60e9eeb907d3b93b6e0e5",
        "_cell_guid": "b1076dfc-b9ad-4769-8c92-a6c4dae69d19",
        "trusted": true,
        "id": "Ma45fBEi148w",
        "colab_type": "code",
        "colab": {}
      },
      "source": [
        "import numpy as np\n",
        "import pandas as pd"
      ],
      "execution_count": 0,
      "outputs": []
    },
    {
      "cell_type": "code",
      "metadata": {
        "_uuid": "d629ff2d2480ee46fbb7e2d37f6b5fab8052498a",
        "_cell_guid": "79c7e3d0-c299-4dcb-8224-4455121ee9b0",
        "trusted": true,
        "id": "7sOPdt0f148_",
        "colab_type": "code",
        "outputId": "2415ee3b-b913-4fe2-a559-7e3820e597d6",
        "colab": {
          "base_uri": "https://localhost:8080/",
          "height": 168
        }
      },
      "source": [
        "import os\n",
        "\n",
        "PATH_TO_DATA = '/content/gdrive/My Drive/mlcourse/dota/2019-11-12/'\n",
        "\n",
        "for dirname, _, filenames in os.walk(PATH_TO_DATA):\n",
        "    for filename in filenames:\n",
        "        print(os.path.join(dirname, filename))"
      ],
      "execution_count": 0,
      "outputs": [
        {
          "output_type": "stream",
          "text": [
            "/content/gdrive/My Drive/mlcourse/dota/2019-11-12/df_test_features_ext.csv\n",
            "/content/gdrive/My Drive/mlcourse/dota/2019-11-12/df_train_features_ext.csv\n",
            "/content/gdrive/My Drive/mlcourse/dota/2019-11-12/df_train_targets.csv\n",
            "/content/gdrive/My Drive/mlcourse/dota/2019-11-12/submission_2019-11-12_18-31-47.csv\n",
            "/content/gdrive/My Drive/mlcourse/dota/2019-11-12/dota_SKL_pipe_v4.ipynb\n",
            "/content/gdrive/My Drive/mlcourse/dota/2019-11-12/skl-json-v6.ipynb\n",
            "/content/gdrive/My Drive/mlcourse/dota/2019-11-12/dota_SKL_pipe_v5.ipynb\n",
            "/content/gdrive/My Drive/mlcourse/dota/2019-11-12/submission_2019-11-13_06-31-05.csv\n"
          ],
          "name": "stdout"
        }
      ]
    },
    {
      "cell_type": "markdown",
      "metadata": {
        "id": "4NxLTzHK149K",
        "colab_type": "text"
      },
      "source": [
        "**1. Download data**"
      ]
    },
    {
      "cell_type": "code",
      "metadata": {
        "trusted": true,
        "id": "SBjwFoBE149M",
        "colab_type": "code",
        "colab": {}
      },
      "source": [
        "df_train_features = pd.read_csv(PATH_TO_DATA + 'df_train_features_ext.csv', index_col = 'match_id_hash')"
      ],
      "execution_count": 0,
      "outputs": []
    },
    {
      "cell_type": "code",
      "metadata": {
        "id": "b2lDuX5iv9gZ",
        "colab_type": "code",
        "outputId": "fcaf8809-8a61-4f06-bdf6-7e54380ca469",
        "colab": {
          "base_uri": "https://localhost:8080/",
          "height": 36
        }
      },
      "source": [
        "(len(df_train_features.columns) - 8)/10"
      ],
      "execution_count": 0,
      "outputs": [
        {
          "output_type": "execute_result",
          "data": {
            "text/plain": [
              "85.0"
            ]
          },
          "metadata": {
            "tags": []
          },
          "execution_count": 48
        }
      ]
    },
    {
      "cell_type": "code",
      "metadata": {
        "trusted": true,
        "id": "bTBN1K68149U",
        "colab_type": "code",
        "colab": {}
      },
      "source": [
        "df_train_targets = pd.read_csv(PATH_TO_DATA + 'df_train_targets.csv', index_col='match_id_hash')"
      ],
      "execution_count": 0,
      "outputs": []
    },
    {
      "cell_type": "code",
      "metadata": {
        "id": "bstkLQRjiD_C",
        "colab_type": "code",
        "colab": {}
      },
      "source": [
        "#features:\n",
        "PLAYER_FIELDS = [\n",
        "#baseline\n",
        "    'hero_id',\n",
        "    \n",
        "    'kills',\n",
        "    'deaths',\n",
        "    'assists',\n",
        "    'denies',\n",
        "    \n",
        "    'gold',\n",
        "    'lh',\n",
        "    'xp',\n",
        "    'health',\n",
        "    'max_health',\n",
        "    'max_mana',\n",
        "    'level',\n",
        "\n",
        "    'x',\n",
        "    'y',\n",
        "    \n",
        "    'stuns',\n",
        "    'creeps_stacked',\n",
        "    'camps_stacked',\n",
        "    'rune_pickups',\n",
        "    'firstblood_claimed',\n",
        "    'teamfight_participation',\n",
        "    'towers_killed',\n",
        "    'roshans_killed',\n",
        "    'obs_placed',\n",
        "    'sen_placed',\n",
        "#add new\n",
        "    'observers_placed',\n",
        "    'nearby_creep_death_count',\n",
        "#levels\n",
        "    'ability_upgrades'\n",
        "\n",
        "#dict sum\n",
        "    'purchase',\n",
        "    'killed',\n",
        "    'item_uses',\n",
        "    'ability_uses',\n",
        "    'hero_hits',\n",
        "    'damage',\n",
        "    'damage_taken',\n",
        "    'damage_inflictor',\n",
        "    'killed_by',\n",
        "    'multi_kills',\n",
        "    'healing',\n",
        "    'damage_inflictor_received',\n",
        "#time\n",
        "    'gold_t',\n",
        "    'lh_t',\n",
        "    'dn_t',\n",
        "    'xp_t',    \n",
        "]\n",
        "\n",
        "MATCH_FIELDS = [\n",
        "    'radiant_tower_kills',\n",
        "    'dire_tower_kills',\n",
        "    'diff_tower_kills',\n",
        "]"
      ],
      "execution_count": 0,
      "outputs": []
    },
    {
      "cell_type": "code",
      "metadata": {
        "id": "PWb8ezFwkDGZ",
        "colab_type": "code",
        "colab": {}
      },
      "source": [
        "def make_col(features):\n",
        "  columns = []\n",
        "  for c in features:\n",
        "    columns.append('r_total_' + c)\n",
        "    columns.append('d_total_' + c)\n",
        "    columns.append('total_'   + c + '_ratio')\n",
        "\n",
        "    columns.append('r_std_' + c)\n",
        "    columns.append('d_std_' + c)\n",
        "    columns.append('std_'   + c + '_ratio')\n",
        "\n",
        "    columns.append('r_mean_' + c)\n",
        "    columns.append('d_mean_' + c)\n",
        "    columns.append('mean_'   + c + '_ratio')\n",
        "\n",
        "    columns.append('r_min_' + c)\n",
        "    columns.append('d_min_' + c)\n",
        "    columns.append('min_'   + c + '_ratio')\n",
        "\n",
        "    columns.append('r_max_' + c)\n",
        "    columns.append('d_max_' + c)\n",
        "    columns.append('max_'   + c + '_ratio')\n",
        "  return columns"
      ],
      "execution_count": 0,
      "outputs": []
    },
    {
      "cell_type": "code",
      "metadata": {
        "id": "CjsyBHx6tVm3",
        "colab_type": "code",
        "colab": {}
      },
      "source": [
        "features = [\n",
        "            'kills',\n",
        "            ]\n",
        "new_col = make_col(features)"
      ],
      "execution_count": 0,
      "outputs": []
    },
    {
      "cell_type": "code",
      "metadata": {
        "id": "ps7f66Oztqcs",
        "colab_type": "code",
        "outputId": "fbb6b3ab-6a50-4c0c-b33e-866bb0a008eb",
        "colab": {
          "base_uri": "https://localhost:8080/",
          "height": 300
        }
      },
      "source": [
        "new_col"
      ],
      "execution_count": 0,
      "outputs": [
        {
          "output_type": "execute_result",
          "data": {
            "text/plain": [
              "['r_total_kills',\n",
              " 'd_total_kills',\n",
              " 'total_kills_ratio',\n",
              " 'r_std_kills',\n",
              " 'd_std_kills',\n",
              " 'std_kills_ratio',\n",
              " 'r_mean_kills',\n",
              " 'd_mean_kills',\n",
              " 'mean_kills_ratio',\n",
              " 'r_min_kills',\n",
              " 'd_min_kills',\n",
              " 'min_kills_ratio',\n",
              " 'r_max_kills',\n",
              " 'd_max_kills',\n",
              " 'max_kills_ratio']"
            ]
          },
          "metadata": {
            "tags": []
          },
          "execution_count": 76
        }
      ]
    },
    {
      "cell_type": "code",
      "metadata": {
        "id": "HjWexqpuuAKm",
        "colab_type": "code",
        "outputId": "2dd5f0c8-4c24-4b76-ab51-f34bf4cc63e6",
        "colab": {
          "base_uri": "https://localhost:8080/",
          "height": 36
        }
      },
      "source": [
        "len(df_train_features[df_train_features['d_max_kills'] == 0].index)"
      ],
      "execution_count": 0,
      "outputs": [
        {
          "output_type": "execute_result",
          "data": {
            "text/plain": [
              "3299"
            ]
          },
          "metadata": {
            "tags": []
          },
          "execution_count": 77
        }
      ]
    },
    {
      "cell_type": "code",
      "metadata": {
        "id": "lgzVh6YOFnyB",
        "colab_type": "code",
        "outputId": "b6ea397a-ebe6-4a2f-fd9e-151832926443",
        "colab": {
          "base_uri": "https://localhost:8080/",
          "height": 36
        }
      },
      "source": [
        "len((df_train_features['d_max_kills'] <= 0).index)"
      ],
      "execution_count": 0,
      "outputs": [
        {
          "output_type": "execute_result",
          "data": {
            "text/plain": [
              "39675"
            ]
          },
          "metadata": {
            "tags": []
          },
          "execution_count": 79
        }
      ]
    },
    {
      "cell_type": "code",
      "metadata": {
        "id": "IbRF-kS4tv9m",
        "colab_type": "code",
        "colab": {}
      },
      "source": [
        "df_train = df_train_features[new_col]"
      ],
      "execution_count": 0,
      "outputs": []
    },
    {
      "cell_type": "markdown",
      "metadata": {
        "id": "1puwdiXq149b",
        "colab_type": "text"
      },
      "source": [
        "**2. Create training data**"
      ]
    },
    {
      "cell_type": "code",
      "metadata": {
        "id": "3z7RiTwauJH6",
        "colab_type": "code",
        "colab": {}
      },
      "source": [
        "from sklearn.preprocessing import StandardScaler\n",
        "scaler = StandardScaler(copy=True, with_mean=True, with_std=True)"
      ],
      "execution_count": 0,
      "outputs": []
    },
    {
      "cell_type": "code",
      "metadata": {
        "trusted": true,
        "id": "LXlNm6yv149e",
        "colab_type": "code",
        "colab": {}
      },
      "source": [
        "#X = df_train_features.values\n",
        "X = scaler.fit_transform(df_train_features)\n",
        "y = df_train_targets['radiant_win'].values"
      ],
      "execution_count": 0,
      "outputs": []
    },
    {
      "cell_type": "markdown",
      "metadata": {
        "id": "tN9Mywkv149m",
        "colab_type": "text"
      },
      "source": [
        "**3. Create model**"
      ]
    },
    {
      "cell_type": "code",
      "metadata": {
        "id": "QF8ppxsisxtB",
        "colab_type": "code",
        "colab": {}
      },
      "source": [
        "# from sklearn.ensemble import RandomForestClassifier\n",
        "# model = RandomForestClassifier(n_estimators=100,\n",
        "#                                n_jobs=-1, random_state=17)\n",
        "\n",
        "from sklearn.linear_model import LogisticRegression\n",
        "model = LogisticRegression(random_state=17)"
      ],
      "execution_count": 0,
      "outputs": []
    },
    {
      "cell_type": "markdown",
      "metadata": {
        "id": "FX0nNqIE149u",
        "colab_type": "text"
      },
      "source": [
        "**4. Cross-validation**"
      ]
    },
    {
      "cell_type": "code",
      "metadata": {
        "trusted": true,
        "id": "sDZqzf75149x",
        "colab_type": "code",
        "colab": {}
      },
      "source": [
        "from sklearn.model_selection import ShuffleSplit, KFold\n",
        "cv = ShuffleSplit(n_splits=5, test_size=0.3, random_state=17)"
      ],
      "execution_count": 0,
      "outputs": []
    },
    {
      "cell_type": "code",
      "metadata": {
        "trusted": true,
        "id": "2SuHLPA71495",
        "colab_type": "code",
        "colab": {}
      },
      "source": [
        "from sklearn.model_selection import cross_val_score"
      ],
      "execution_count": 0,
      "outputs": []
    },
    {
      "cell_type": "code",
      "metadata": {
        "trusted": true,
        "id": "hYCma3wj14-A",
        "colab_type": "code",
        "outputId": "8b57d782-143d-492b-c1b9-5a9e96edcfcf",
        "colab": {
          "base_uri": "https://localhost:8080/",
          "height": 36
        }
      },
      "source": [
        "cv_score = cross_val_score(model, X, y, cv=cv, scoring='roc_auc', n_jobs=-1)\n",
        "print(round(cv_score.mean(), 5))"
      ],
      "execution_count": 0,
      "outputs": [
        {
          "output_type": "stream",
          "text": [
            "0.81835\n"
          ],
          "name": "stdout"
        }
      ]
    },
    {
      "cell_type": "code",
      "metadata": {
        "id": "WwCNiQh_byP7",
        "colab_type": "code",
        "colab": {}
      },
      "source": [
        "#RF:              0.78552 -> 0.79204;\n",
        "#RF:              0.78850 -> 0.79255; delta ~0.0030, improve ~ 0.0005\n",
        "#LR(Scaled data): 0.81273 -> 0.82582; delta ~0.0240, improve ~ 0.0333\n",
        "#LR             : 0.81316 -> 0.82662; delta ~0.0004, improve ~ 0.0008\n",
        "#LR             : 0.81835 -> 0.83197; delta ~0.0052, improve ~ 0.0053"
      ],
      "execution_count": 0,
      "outputs": []
    },
    {
      "cell_type": "markdown",
      "metadata": {
        "id": "qMFzrtdf14-P",
        "colab_type": "text"
      },
      "source": [
        "**6. GridSearch**"
      ]
    },
    {
      "cell_type": "markdown",
      "metadata": {
        "id": "mOvKlB9n14-R",
        "colab_type": "text"
      },
      "source": [
        "**7. Make submission**"
      ]
    },
    {
      "cell_type": "code",
      "metadata": {
        "id": "0DphTYyS4VLh",
        "colab_type": "code",
        "outputId": "b1dfbdf2-49b3-4386-8409-efe7ba24e697",
        "colab": {
          "base_uri": "https://localhost:8080/",
          "height": 149
        }
      },
      "source": [
        "model.fit(X, y)"
      ],
      "execution_count": 0,
      "outputs": [
        {
          "output_type": "stream",
          "text": [
            "/usr/local/lib/python3.6/dist-packages/sklearn/linear_model/logistic.py:432: FutureWarning: Default solver will be changed to 'lbfgs' in 0.22. Specify a solver to silence this warning.\n",
            "  FutureWarning)\n"
          ],
          "name": "stderr"
        },
        {
          "output_type": "execute_result",
          "data": {
            "text/plain": [
              "LogisticRegression(C=1.0, class_weight=None, dual=False, fit_intercept=True,\n",
              "                   intercept_scaling=1, l1_ratio=None, max_iter=100,\n",
              "                   multi_class='warn', n_jobs=None, penalty='l2',\n",
              "                   random_state=17, solver='warn', tol=0.0001, verbose=0,\n",
              "                   warm_start=False)"
            ]
          },
          "metadata": {
            "tags": []
          },
          "execution_count": 9
        }
      ]
    },
    {
      "cell_type": "code",
      "metadata": {
        "trusted": true,
        "id": "ttGsMFlT14-S",
        "colab_type": "code",
        "colab": {}
      },
      "source": [
        "df_test_features = pd.read_csv(PATH_TO_DATA + 'df_test_features_ext.csv', index_col='match_id_hash')"
      ],
      "execution_count": 0,
      "outputs": []
    },
    {
      "cell_type": "code",
      "metadata": {
        "id": "BL3X8x9kvTrv",
        "colab_type": "code",
        "colab": {}
      },
      "source": [
        "df_test_features_scaled = scaler.transform(df_test_features)"
      ],
      "execution_count": 0,
      "outputs": []
    },
    {
      "cell_type": "code",
      "metadata": {
        "trusted": true,
        "id": "_yThxHBe14-Z",
        "colab_type": "code",
        "colab": {}
      },
      "source": [
        "#X_test = df_test_features.values\n",
        "X_test = df_test_features_scaled\n",
        "y_test_pred = model.predict_proba(X_test)[:, 1]"
      ],
      "execution_count": 0,
      "outputs": []
    },
    {
      "cell_type": "code",
      "metadata": {
        "trusted": true,
        "id": "lrTNvL-014-e",
        "colab_type": "code",
        "colab": {}
      },
      "source": [
        "df_submission = pd.DataFrame({'radiant_win_prob': y_test_pred}, index=df_test_features.index)"
      ],
      "execution_count": 0,
      "outputs": []
    },
    {
      "cell_type": "markdown",
      "metadata": {
        "id": "2hFJfgxI14-k",
        "colab_type": "text"
      },
      "source": [
        "**8. Export submission**"
      ]
    },
    {
      "cell_type": "code",
      "metadata": {
        "trusted": true,
        "id": "PJJchO6d14-n",
        "colab_type": "code",
        "outputId": "a50483be-0d76-4fba-cf8f-744e99af4957",
        "colab": {
          "base_uri": "https://localhost:8080/",
          "height": 36
        }
      },
      "source": [
        "import datetime\n",
        "submission_filename = 'submission_{}.csv'.format(\n",
        "    datetime.datetime.now().strftime('%Y-%m-%d_%H-%M-%S'))\n",
        "df_submission.to_csv(PATH_TO_DATA + submission_filename)\n",
        "print('Submission saved to {}'.format(submission_filename))"
      ],
      "execution_count": 0,
      "outputs": [
        {
          "output_type": "stream",
          "text": [
            "Submission saved to submission_2019-11-13_06-31-05.csv\n"
          ],
          "name": "stdout"
        }
      ]
    }
  ]
}