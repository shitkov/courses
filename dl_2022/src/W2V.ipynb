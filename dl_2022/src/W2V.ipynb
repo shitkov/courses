{
  "cells": [
    {
      "cell_type": "markdown",
      "metadata": {
        "id": "n76lW1klzm9c"
      },
      "source": [
        "# Word 2 vec basic\n",
        "\n",
        "Создание простейшей вариации W2V в простейшей реализации (без Negative sampling)"
      ]
    },
    {
      "cell_type": "code",
      "execution_count": null,
      "metadata": {
        "id": "3FpT5vzVzdOx"
      },
      "outputs": [],
      "source": [
        "# для отрисовки данных\n",
        "from sklearn.decomposition import PCA "
      ]
    },
    {
      "cell_type": "code",
      "execution_count": null,
      "metadata": {
        "id": "CWimeUbNz8Tr"
      },
      "outputs": [],
      "source": [
        "import os\n",
        "import numpy as np\n",
        "import pandas as pd\n",
        "import matplotlib.pyplot as plt"
      ]
    },
    {
      "cell_type": "code",
      "execution_count": null,
      "metadata": {
        "id": "gXSWkQZ20Akq"
      },
      "outputs": [],
      "source": [
        "# все то же на торче, но с нег семплированием\n",
        "import torch\n",
        "import torch.nn as nn\n",
        "import torch.optim as optim\n",
        "from torch.utils.data import Dataset"
      ]
    },
    {
      "cell_type": "markdown",
      "metadata": {
        "id": "pr_V1atd34On"
      },
      "source": [
        "### Загрузка данных"
      ]
    },
    {
      "cell_type": "markdown",
      "metadata": {
        "id": "LDSsVIGq2B-L"
      },
      "source": [
        "Возьмем набор данных твиттера \n",
        "https://study.mokoron.com/"
      ]
    },
    {
      "cell_type": "code",
      "execution_count": null,
      "metadata": {
        "id": "8DW_deqR0GL5"
      },
      "outputs": [],
      "source": [
        "pos = pd.read_csv('http://dl.dropboxusercontent.com/s/fnpq3z4bcnoktiv/positive.csv?dl=0', encoding='utf8', sep=';', header=None)\n",
        "neg = pd.read_csv('http://dl.dropboxusercontent.com/s/r6u59ljhhjdg6j0/negative.csv?dl=0', encoding='utf8', sep=';', header=None)"
      ]
    },
    {
      "cell_type": "code",
      "execution_count": null,
      "metadata": {
        "colab": {
          "base_uri": "https://localhost:8080/",
          "height": 389
        },
        "id": "v0vKLlku2OKK",
        "outputId": "c094c362-8a9c-433e-f469-377a7604dbb6"
      },
      "outputs": [
        {
          "data": {
            "text/html": [
              "\n",
              "  <div id=\"df-eebb1b43-2a0c-495d-9ff4-5f6d845649a5\">\n",
              "    <div class=\"colab-df-container\">\n",
              "      <div>\n",
              "<style scoped>\n",
              "    .dataframe tbody tr th:only-of-type {\n",
              "        vertical-align: middle;\n",
              "    }\n",
              "\n",
              "    .dataframe tbody tr th {\n",
              "        vertical-align: top;\n",
              "    }\n",
              "\n",
              "    .dataframe thead th {\n",
              "        text-align: right;\n",
              "    }\n",
              "</style>\n",
              "<table border=\"1\" class=\"dataframe\">\n",
              "  <thead>\n",
              "    <tr style=\"text-align: right;\">\n",
              "      <th></th>\n",
              "      <th>0</th>\n",
              "      <th>1</th>\n",
              "      <th>2</th>\n",
              "      <th>3</th>\n",
              "      <th>4</th>\n",
              "      <th>5</th>\n",
              "      <th>6</th>\n",
              "      <th>7</th>\n",
              "      <th>8</th>\n",
              "      <th>9</th>\n",
              "      <th>10</th>\n",
              "      <th>11</th>\n",
              "    </tr>\n",
              "  </thead>\n",
              "  <tbody>\n",
              "    <tr>\n",
              "      <th>0</th>\n",
              "      <td>408906692374446080</td>\n",
              "      <td>1386325927</td>\n",
              "      <td>pleease_shut_up</td>\n",
              "      <td>@first_timee хоть я и школота, но поверь, у на...</td>\n",
              "      <td>1</td>\n",
              "      <td>0</td>\n",
              "      <td>0</td>\n",
              "      <td>0</td>\n",
              "      <td>7569</td>\n",
              "      <td>62</td>\n",
              "      <td>61</td>\n",
              "      <td>0</td>\n",
              "    </tr>\n",
              "    <tr>\n",
              "      <th>1</th>\n",
              "      <td>408906692693221377</td>\n",
              "      <td>1386325927</td>\n",
              "      <td>alinakirpicheva</td>\n",
              "      <td>Да, все-таки он немного похож на него. Но мой ...</td>\n",
              "      <td>1</td>\n",
              "      <td>0</td>\n",
              "      <td>0</td>\n",
              "      <td>0</td>\n",
              "      <td>11825</td>\n",
              "      <td>59</td>\n",
              "      <td>31</td>\n",
              "      <td>2</td>\n",
              "    </tr>\n",
              "    <tr>\n",
              "      <th>2</th>\n",
              "      <td>408906695083954177</td>\n",
              "      <td>1386325927</td>\n",
              "      <td>EvgeshaRe</td>\n",
              "      <td>RT @KatiaCheh: Ну ты идиотка) я испугалась за ...</td>\n",
              "      <td>1</td>\n",
              "      <td>0</td>\n",
              "      <td>1</td>\n",
              "      <td>0</td>\n",
              "      <td>1273</td>\n",
              "      <td>26</td>\n",
              "      <td>27</td>\n",
              "      <td>0</td>\n",
              "    </tr>\n",
              "    <tr>\n",
              "      <th>3</th>\n",
              "      <td>408906695356973056</td>\n",
              "      <td>1386325927</td>\n",
              "      <td>ikonnikova_21</td>\n",
              "      <td>RT @digger2912: \"Кто то в углу сидит и погибае...</td>\n",
              "      <td>1</td>\n",
              "      <td>0</td>\n",
              "      <td>1</td>\n",
              "      <td>0</td>\n",
              "      <td>1549</td>\n",
              "      <td>19</td>\n",
              "      <td>17</td>\n",
              "      <td>0</td>\n",
              "    </tr>\n",
              "    <tr>\n",
              "      <th>4</th>\n",
              "      <td>408906761416867842</td>\n",
              "      <td>1386325943</td>\n",
              "      <td>JumpyAlex</td>\n",
              "      <td>@irina_dyshkant Вот что значит страшилка :D\\nН...</td>\n",
              "      <td>1</td>\n",
              "      <td>0</td>\n",
              "      <td>0</td>\n",
              "      <td>0</td>\n",
              "      <td>597</td>\n",
              "      <td>16</td>\n",
              "      <td>23</td>\n",
              "      <td>1</td>\n",
              "    </tr>\n",
              "  </tbody>\n",
              "</table>\n",
              "</div>\n",
              "      <button class=\"colab-df-convert\" onclick=\"convertToInteractive('df-eebb1b43-2a0c-495d-9ff4-5f6d845649a5')\"\n",
              "              title=\"Convert this dataframe to an interactive table.\"\n",
              "              style=\"display:none;\">\n",
              "        \n",
              "  <svg xmlns=\"http://www.w3.org/2000/svg\" height=\"24px\"viewBox=\"0 0 24 24\"\n",
              "       width=\"24px\">\n",
              "    <path d=\"M0 0h24v24H0V0z\" fill=\"none\"/>\n",
              "    <path d=\"M18.56 5.44l.94 2.06.94-2.06 2.06-.94-2.06-.94-.94-2.06-.94 2.06-2.06.94zm-11 1L8.5 8.5l.94-2.06 2.06-.94-2.06-.94L8.5 2.5l-.94 2.06-2.06.94zm10 10l.94 2.06.94-2.06 2.06-.94-2.06-.94-.94-2.06-.94 2.06-2.06.94z\"/><path d=\"M17.41 7.96l-1.37-1.37c-.4-.4-.92-.59-1.43-.59-.52 0-1.04.2-1.43.59L10.3 9.45l-7.72 7.72c-.78.78-.78 2.05 0 2.83L4 21.41c.39.39.9.59 1.41.59.51 0 1.02-.2 1.41-.59l7.78-7.78 2.81-2.81c.8-.78.8-2.07 0-2.86zM5.41 20L4 18.59l7.72-7.72 1.47 1.35L5.41 20z\"/>\n",
              "  </svg>\n",
              "      </button>\n",
              "      \n",
              "  <style>\n",
              "    .colab-df-container {\n",
              "      display:flex;\n",
              "      flex-wrap:wrap;\n",
              "      gap: 12px;\n",
              "    }\n",
              "\n",
              "    .colab-df-convert {\n",
              "      background-color: #E8F0FE;\n",
              "      border: none;\n",
              "      border-radius: 50%;\n",
              "      cursor: pointer;\n",
              "      display: none;\n",
              "      fill: #1967D2;\n",
              "      height: 32px;\n",
              "      padding: 0 0 0 0;\n",
              "      width: 32px;\n",
              "    }\n",
              "\n",
              "    .colab-df-convert:hover {\n",
              "      background-color: #E2EBFA;\n",
              "      box-shadow: 0px 1px 2px rgba(60, 64, 67, 0.3), 0px 1px 3px 1px rgba(60, 64, 67, 0.15);\n",
              "      fill: #174EA6;\n",
              "    }\n",
              "\n",
              "    [theme=dark] .colab-df-convert {\n",
              "      background-color: #3B4455;\n",
              "      fill: #D2E3FC;\n",
              "    }\n",
              "\n",
              "    [theme=dark] .colab-df-convert:hover {\n",
              "      background-color: #434B5C;\n",
              "      box-shadow: 0px 1px 3px 1px rgba(0, 0, 0, 0.15);\n",
              "      filter: drop-shadow(0px 1px 2px rgba(0, 0, 0, 0.3));\n",
              "      fill: #FFFFFF;\n",
              "    }\n",
              "  </style>\n",
              "\n",
              "      <script>\n",
              "        const buttonEl =\n",
              "          document.querySelector('#df-eebb1b43-2a0c-495d-9ff4-5f6d845649a5 button.colab-df-convert');\n",
              "        buttonEl.style.display =\n",
              "          google.colab.kernel.accessAllowed ? 'block' : 'none';\n",
              "\n",
              "        async function convertToInteractive(key) {\n",
              "          const element = document.querySelector('#df-eebb1b43-2a0c-495d-9ff4-5f6d845649a5');\n",
              "          const dataTable =\n",
              "            await google.colab.kernel.invokeFunction('convertToInteractive',\n",
              "                                                     [key], {});\n",
              "          if (!dataTable) return;\n",
              "\n",
              "          const docLinkHtml = 'Like what you see? Visit the ' +\n",
              "            '<a target=\"_blank\" href=https://colab.research.google.com/notebooks/data_table.ipynb>data table notebook</a>'\n",
              "            + ' to learn more about interactive tables.';\n",
              "          element.innerHTML = '';\n",
              "          dataTable['output_type'] = 'display_data';\n",
              "          await google.colab.output.renderOutput(dataTable, element);\n",
              "          const docLink = document.createElement('div');\n",
              "          docLink.innerHTML = docLinkHtml;\n",
              "          element.appendChild(docLink);\n",
              "        }\n",
              "      </script>\n",
              "    </div>\n",
              "  </div>\n",
              "  "
            ],
            "text/plain": [
              "                   0           1                2   \\\n",
              "0  408906692374446080  1386325927  pleease_shut_up   \n",
              "1  408906692693221377  1386325927  alinakirpicheva   \n",
              "2  408906695083954177  1386325927        EvgeshaRe   \n",
              "3  408906695356973056  1386325927    ikonnikova_21   \n",
              "4  408906761416867842  1386325943        JumpyAlex   \n",
              "\n",
              "                                                  3   4   5   6   7      8   \\\n",
              "0  @first_timee хоть я и школота, но поверь, у на...   1   0   0   0   7569   \n",
              "1  Да, все-таки он немного похож на него. Но мой ...   1   0   0   0  11825   \n",
              "2  RT @KatiaCheh: Ну ты идиотка) я испугалась за ...   1   0   1   0   1273   \n",
              "3  RT @digger2912: \"Кто то в углу сидит и погибае...   1   0   1   0   1549   \n",
              "4  @irina_dyshkant Вот что значит страшилка :D\\nН...   1   0   0   0    597   \n",
              "\n",
              "   9   10  11  \n",
              "0  62  61   0  \n",
              "1  59  31   2  \n",
              "2  26  27   0  \n",
              "3  19  17   0  \n",
              "4  16  23   1  "
            ]
          },
          "execution_count": 5,
          "metadata": {},
          "output_type": "execute_result"
        }
      ],
      "source": [
        "pos.head()"
      ]
    },
    {
      "cell_type": "code",
      "execution_count": null,
      "metadata": {
        "colab": {
          "base_uri": "https://localhost:8080/",
          "height": 424
        },
        "id": "JsefJWpY2PaI",
        "outputId": "948f3ad9-3de2-4cb6-abcb-39d132b3ea45"
      },
      "outputs": [
        {
          "data": {
            "text/html": [
              "\n",
              "  <div id=\"df-51bef3bc-b142-4a15-878c-b4de7273f763\">\n",
              "    <div class=\"colab-df-container\">\n",
              "      <div>\n",
              "<style scoped>\n",
              "    .dataframe tbody tr th:only-of-type {\n",
              "        vertical-align: middle;\n",
              "    }\n",
              "\n",
              "    .dataframe tbody tr th {\n",
              "        vertical-align: top;\n",
              "    }\n",
              "\n",
              "    .dataframe thead th {\n",
              "        text-align: right;\n",
              "    }\n",
              "</style>\n",
              "<table border=\"1\" class=\"dataframe\">\n",
              "  <thead>\n",
              "    <tr style=\"text-align: right;\">\n",
              "      <th></th>\n",
              "      <th>0</th>\n",
              "      <th>1</th>\n",
              "      <th>2</th>\n",
              "      <th>3</th>\n",
              "      <th>4</th>\n",
              "      <th>5</th>\n",
              "      <th>6</th>\n",
              "      <th>7</th>\n",
              "      <th>8</th>\n",
              "      <th>9</th>\n",
              "      <th>10</th>\n",
              "      <th>11</th>\n",
              "    </tr>\n",
              "  </thead>\n",
              "  <tbody>\n",
              "    <tr>\n",
              "      <th>0</th>\n",
              "      <td>408906762813579264</td>\n",
              "      <td>1386325944</td>\n",
              "      <td>dugarchikbellko</td>\n",
              "      <td>на работе был полный пиддес :| и так каждое за...</td>\n",
              "      <td>-1</td>\n",
              "      <td>0</td>\n",
              "      <td>0</td>\n",
              "      <td>0</td>\n",
              "      <td>8064</td>\n",
              "      <td>111</td>\n",
              "      <td>94</td>\n",
              "      <td>2</td>\n",
              "    </tr>\n",
              "    <tr>\n",
              "      <th>1</th>\n",
              "      <td>408906818262687744</td>\n",
              "      <td>1386325957</td>\n",
              "      <td>nugemycejela</td>\n",
              "      <td>Коллеги сидят рубятся в Urban terror, а я из-з...</td>\n",
              "      <td>-1</td>\n",
              "      <td>0</td>\n",
              "      <td>0</td>\n",
              "      <td>0</td>\n",
              "      <td>26</td>\n",
              "      <td>42</td>\n",
              "      <td>39</td>\n",
              "      <td>0</td>\n",
              "    </tr>\n",
              "    <tr>\n",
              "      <th>2</th>\n",
              "      <td>408906858515398656</td>\n",
              "      <td>1386325966</td>\n",
              "      <td>4post21</td>\n",
              "      <td>@elina_4post как говорят обещаного три года жд...</td>\n",
              "      <td>-1</td>\n",
              "      <td>0</td>\n",
              "      <td>0</td>\n",
              "      <td>0</td>\n",
              "      <td>718</td>\n",
              "      <td>49</td>\n",
              "      <td>249</td>\n",
              "      <td>0</td>\n",
              "    </tr>\n",
              "    <tr>\n",
              "      <th>3</th>\n",
              "      <td>408906914437685248</td>\n",
              "      <td>1386325980</td>\n",
              "      <td>Poliwake</td>\n",
              "      <td>Желаю хорошего полёта и удачной посадки,я буду...</td>\n",
              "      <td>-1</td>\n",
              "      <td>0</td>\n",
              "      <td>0</td>\n",
              "      <td>0</td>\n",
              "      <td>10628</td>\n",
              "      <td>207</td>\n",
              "      <td>200</td>\n",
              "      <td>0</td>\n",
              "    </tr>\n",
              "    <tr>\n",
              "      <th>4</th>\n",
              "      <td>408906914723295232</td>\n",
              "      <td>1386325980</td>\n",
              "      <td>capyvixowe</td>\n",
              "      <td>Обновил за каким-то лешим surf, теперь не рабо...</td>\n",
              "      <td>-1</td>\n",
              "      <td>0</td>\n",
              "      <td>0</td>\n",
              "      <td>0</td>\n",
              "      <td>35</td>\n",
              "      <td>17</td>\n",
              "      <td>34</td>\n",
              "      <td>0</td>\n",
              "    </tr>\n",
              "  </tbody>\n",
              "</table>\n",
              "</div>\n",
              "      <button class=\"colab-df-convert\" onclick=\"convertToInteractive('df-51bef3bc-b142-4a15-878c-b4de7273f763')\"\n",
              "              title=\"Convert this dataframe to an interactive table.\"\n",
              "              style=\"display:none;\">\n",
              "        \n",
              "  <svg xmlns=\"http://www.w3.org/2000/svg\" height=\"24px\"viewBox=\"0 0 24 24\"\n",
              "       width=\"24px\">\n",
              "    <path d=\"M0 0h24v24H0V0z\" fill=\"none\"/>\n",
              "    <path d=\"M18.56 5.44l.94 2.06.94-2.06 2.06-.94-2.06-.94-.94-2.06-.94 2.06-2.06.94zm-11 1L8.5 8.5l.94-2.06 2.06-.94-2.06-.94L8.5 2.5l-.94 2.06-2.06.94zm10 10l.94 2.06.94-2.06 2.06-.94-2.06-.94-.94-2.06-.94 2.06-2.06.94z\"/><path d=\"M17.41 7.96l-1.37-1.37c-.4-.4-.92-.59-1.43-.59-.52 0-1.04.2-1.43.59L10.3 9.45l-7.72 7.72c-.78.78-.78 2.05 0 2.83L4 21.41c.39.39.9.59 1.41.59.51 0 1.02-.2 1.41-.59l7.78-7.78 2.81-2.81c.8-.78.8-2.07 0-2.86zM5.41 20L4 18.59l7.72-7.72 1.47 1.35L5.41 20z\"/>\n",
              "  </svg>\n",
              "      </button>\n",
              "      \n",
              "  <style>\n",
              "    .colab-df-container {\n",
              "      display:flex;\n",
              "      flex-wrap:wrap;\n",
              "      gap: 12px;\n",
              "    }\n",
              "\n",
              "    .colab-df-convert {\n",
              "      background-color: #E8F0FE;\n",
              "      border: none;\n",
              "      border-radius: 50%;\n",
              "      cursor: pointer;\n",
              "      display: none;\n",
              "      fill: #1967D2;\n",
              "      height: 32px;\n",
              "      padding: 0 0 0 0;\n",
              "      width: 32px;\n",
              "    }\n",
              "\n",
              "    .colab-df-convert:hover {\n",
              "      background-color: #E2EBFA;\n",
              "      box-shadow: 0px 1px 2px rgba(60, 64, 67, 0.3), 0px 1px 3px 1px rgba(60, 64, 67, 0.15);\n",
              "      fill: #174EA6;\n",
              "    }\n",
              "\n",
              "    [theme=dark] .colab-df-convert {\n",
              "      background-color: #3B4455;\n",
              "      fill: #D2E3FC;\n",
              "    }\n",
              "\n",
              "    [theme=dark] .colab-df-convert:hover {\n",
              "      background-color: #434B5C;\n",
              "      box-shadow: 0px 1px 3px 1px rgba(0, 0, 0, 0.15);\n",
              "      filter: drop-shadow(0px 1px 2px rgba(0, 0, 0, 0.3));\n",
              "      fill: #FFFFFF;\n",
              "    }\n",
              "  </style>\n",
              "\n",
              "      <script>\n",
              "        const buttonEl =\n",
              "          document.querySelector('#df-51bef3bc-b142-4a15-878c-b4de7273f763 button.colab-df-convert');\n",
              "        buttonEl.style.display =\n",
              "          google.colab.kernel.accessAllowed ? 'block' : 'none';\n",
              "\n",
              "        async function convertToInteractive(key) {\n",
              "          const element = document.querySelector('#df-51bef3bc-b142-4a15-878c-b4de7273f763');\n",
              "          const dataTable =\n",
              "            await google.colab.kernel.invokeFunction('convertToInteractive',\n",
              "                                                     [key], {});\n",
              "          if (!dataTable) return;\n",
              "\n",
              "          const docLinkHtml = 'Like what you see? Visit the ' +\n",
              "            '<a target=\"_blank\" href=https://colab.research.google.com/notebooks/data_table.ipynb>data table notebook</a>'\n",
              "            + ' to learn more about interactive tables.';\n",
              "          element.innerHTML = '';\n",
              "          dataTable['output_type'] = 'display_data';\n",
              "          await google.colab.output.renderOutput(dataTable, element);\n",
              "          const docLink = document.createElement('div');\n",
              "          docLink.innerHTML = docLinkHtml;\n",
              "          element.appendChild(docLink);\n",
              "        }\n",
              "      </script>\n",
              "    </div>\n",
              "  </div>\n",
              "  "
            ],
            "text/plain": [
              "                   0           1                2   \\\n",
              "0  408906762813579264  1386325944  dugarchikbellko   \n",
              "1  408906818262687744  1386325957     nugemycejela   \n",
              "2  408906858515398656  1386325966          4post21   \n",
              "3  408906914437685248  1386325980         Poliwake   \n",
              "4  408906914723295232  1386325980       capyvixowe   \n",
              "\n",
              "                                                  3   4   5   6   7      8   \\\n",
              "0  на работе был полный пиддес :| и так каждое за...  -1   0   0   0   8064   \n",
              "1  Коллеги сидят рубятся в Urban terror, а я из-з...  -1   0   0   0     26   \n",
              "2  @elina_4post как говорят обещаного три года жд...  -1   0   0   0    718   \n",
              "3  Желаю хорошего полёта и удачной посадки,я буду...  -1   0   0   0  10628   \n",
              "4  Обновил за каким-то лешим surf, теперь не рабо...  -1   0   0   0     35   \n",
              "\n",
              "    9    10  11  \n",
              "0  111   94   2  \n",
              "1   42   39   0  \n",
              "2   49  249   0  \n",
              "3  207  200   0  \n",
              "4   17   34   0  "
            ]
          },
          "execution_count": 6,
          "metadata": {},
          "output_type": "execute_result"
        }
      ],
      "source": [
        "neg.head()"
      ]
    },
    {
      "cell_type": "code",
      "execution_count": null,
      "metadata": {
        "colab": {
          "base_uri": "https://localhost:8080/"
        },
        "id": "4DYwJGrv2Qbw",
        "outputId": "fc6b8c4f-d989-4721-eb94-a60ad1363c12"
      },
      "outputs": [
        {
          "data": {
            "text/plain": [
              "0    НУ ШТО ТЕБЕ СКАЗААТЬ. Я ЛЮБЛЮ ТЕБЯ ЗМЗМЗИЗЗИЗИ...\n",
              "1    @y_dasha20 ууу ты что сказали после нг ну он в...\n",
              "2    Неожиданно. Вечер депрессивной музыки. Все, ка...\n",
              "3      весь день выходного почти убили на этот плакат(\n",
              "4    Пришли на танцы \" позанимались \" 9 минут , и п...\n",
              "Name: 3, dtype: object"
            ]
          },
          "execution_count": 7,
          "metadata": {},
          "output_type": "execute_result"
        }
      ],
      "source": [
        "# сконкатинируем тексты, перемешаем и выберем колонку с текстами\n",
        "df = pd.concat((pos, neg), axis=0).sample(frac=1).reset_index(drop=True)[3]\n",
        "df.head()"
      ]
    },
    {
      "cell_type": "code",
      "execution_count": null,
      "metadata": {
        "colab": {
          "base_uri": "https://localhost:8080/"
        },
        "id": "3u7_hJlK2hcv",
        "outputId": "03fe5eef-a6c2-4e7f-be87-fc9f3f675d36"
      },
      "outputs": [
        {
          "data": {
            "text/plain": [
              "226834"
            ]
          },
          "execution_count": 8,
          "metadata": {},
          "output_type": "execute_result"
        }
      ],
      "source": [
        "# многовато данных\n",
        "len(df)"
      ]
    },
    {
      "cell_type": "code",
      "execution_count": null,
      "metadata": {
        "colab": {
          "base_uri": "https://localhost:8080/"
        },
        "id": "4dL413E12mrv",
        "outputId": "0a8f0ebb-9083-46ca-9cb0-85511bf5e91c"
      },
      "outputs": [
        {
          "data": {
            "text/plain": [
              "0       НУ ШТО ТЕБЕ СКАЗААТЬ. Я ЛЮБЛЮ ТЕБЯ ЗМЗМЗИЗЗИЗИ...\n",
              "1       @y_dasha20 ууу ты что сказали после нг ну он в...\n",
              "2       Неожиданно. Вечер депрессивной музыки. Все, ка...\n",
              "3         весь день выходного почти убили на этот плакат(\n",
              "4       Пришли на танцы \" позанимались \" 9 минут , и п...\n",
              "                              ...                        \n",
              "4995    RT @Oleg_Ilchenko: Прогресс помаленьку проника...\n",
              "4996    @long_tail_lucia ага=( по ним и поняла,что пох...\n",
              "4997    ты стала совсем другимм человеком...ты изменил...\n",
              "4998    RT @linamelkaya: простудилась я(( температура,...\n",
              "4999    @Nastya_1018 да ну тебя, зато по телефону с од...\n",
              "Name: 3, Length: 5000, dtype: object"
            ]
          },
          "execution_count": 9,
          "metadata": {},
          "output_type": "execute_result"
        }
      ],
      "source": [
        "df = df[:5000]\n",
        "df"
      ]
    },
    {
      "cell_type": "markdown",
      "metadata": {
        "id": "JGeo3hy53xri"
      },
      "source": [
        "### Случайный контекст\n",
        "cгенерируем случайный контекст со стратегией выборки, описанной в оригинальной статье\n",
        "https://papers.nips.cc/paper/5021-distributed-representations-of-words-and-phrases-and-their-compositionality.pdf"
      ]
    },
    {
      "cell_type": "code",
      "execution_count": null,
      "metadata": {
        "id": "CNj0bHJM4EMU"
      },
      "outputs": [],
      "source": [
        "import string\n",
        "# реализуем предобработку\n",
        "def preprocess(doc):\n",
        "    # к нижнему регистру\n",
        "    doc = doc.lower()\n",
        "    # убираем пунктуацию, пробелы, прочее\n",
        "    for p in string.punctuation + string.whitespace + 'http':\n",
        "        doc = doc.replace(p, ' ')\n",
        "    # убираем лишние пробелы, объединяем обратно\n",
        "    doc = doc.strip()\n",
        "    doc = ' '.join([w for w in doc.split(' ') if w != ''])\n",
        "    return doc"
      ]
    },
    {
      "cell_type": "code",
      "execution_count": null,
      "metadata": {
        "id": "MK-WpBLb5mxW"
      },
      "outputs": [],
      "source": [
        "df = df.map(preprocess)"
      ]
    },
    {
      "cell_type": "code",
      "execution_count": null,
      "metadata": {
        "colab": {
          "base_uri": "https://localhost:8080/"
        },
        "id": "-T-5YuLW50u6",
        "outputId": "6d9a6179-a2c1-46c7-cf31-c430c51b55b5"
      },
      "outputs": [
        {
          "data": {
            "text/plain": [
              "0    ну што тебе сказаать я люблю тебя змзмзиззизи ...\n",
              "1    y das a20 ууу ты что сказали после нг ну он вп...\n",
              "2    неожиданно вечер депрессивной музыки все как я...\n",
              "3       весь день выходного почти убили на этот плакат\n",
              "4    пришли на танцы позанимались 9 минут и пошли с...\n",
              "Name: 3, dtype: object"
            ]
          },
          "execution_count": 12,
          "metadata": {},
          "output_type": "execute_result"
        }
      ],
      "source": [
        "df.head()"
      ]
    },
    {
      "cell_type": "code",
      "execution_count": null,
      "metadata": {
        "colab": {
          "base_uri": "https://localhost:8080/"
        },
        "id": "K1ESXWZs5wZ7",
        "outputId": "8903c7da-64a6-482b-a269-716fa516638f"
      },
      "outputs": [
        {
          "name": "stdout",
          "output_type": "stream",
          "text": [
            "ну што тебе сказаать я люблю тебя змзмзиззизи — иихихиих спасибо co yqsvvfeikx\n",
            "Все токены и их частоты: {'ну': 1, 'што': 1, 'тебе': 1, 'сказаать': 1, 'я': 1, 'люблю': 1, 'тебя': 1, 'змзмзиззизи': 1, '—': 1, 'иихихиих': 1, 'спасибо': 1, 'co': 1, 'yqsvvfeikx': 1}\n",
            "Список всех токенов: ['ну', 'што', 'тебе', 'сказаать', 'я', 'люблю', 'тебя', 'змзмзиззизи', '—', 'иихихиих', 'спасибо', 'co', 'yqsvvfeikx']\n",
            "Токены и их индексы: {'ну': 0, 'што': 1, 'тебе': 2, 'сказаать': 3, 'я': 4, 'люблю': 5, 'тебя': 6, 'змзмзиззизи': 7, '—': 8, 'иихихиих': 9, 'спасибо': 10, 'co': 11, 'yqsvvfeikx': 12}\n"
          ]
        }
      ],
      "source": [
        "# прогрессбар\n",
        "from tqdm import tqdm\n",
        "\n",
        "# частоты токенов\n",
        "token_freq = {}\n",
        "\n",
        "# два обратных - индексы по токенам и токены по индекса\n",
        "tokens_index = []\n",
        "index_tokens = {}\n",
        "\n",
        "for i in range(len(df)):\n",
        "    print(df.iloc[i])\n",
        "    for word in df.iloc[i].split():\n",
        "        if word in token_freq:\n",
        "            token_freq[word] += 1\n",
        "        else:\n",
        "            # добавляем слово как новый токен и считаем кол-во вхождений\n",
        "            token_freq[word] = 1\n",
        "            index_tokens[word] = len(tokens_index) # номер индекса\n",
        "            tokens_index.append(word) # просто добавили уникальное слово в список токенов\n",
        "    print('Все токены и их частоты:', token_freq)\n",
        "    print('Список всех токенов:', tokens_index)\n",
        "    print('Токены и их индексы:', index_tokens)\n",
        "    break"
      ]
    },
    {
      "cell_type": "code",
      "execution_count": null,
      "metadata": {
        "colab": {
          "base_uri": "https://localhost:8080/"
        },
        "id": "4xrArwzI8Nun",
        "outputId": "8d722ea1-2e80-4072-fb0f-98b6fb400a09"
      },
      "outputs": [
        {
          "name": "stderr",
          "output_type": "stream",
          "text": [
            "100%|██████████| 5000/5000 [00:00<00:00, 56741.13it/s]\n"
          ]
        }
      ],
      "source": [
        "# прогрессбар\n",
        "from tqdm import tqdm\n",
        "\n",
        "# частоты токенов\n",
        "token_freq = {}\n",
        "\n",
        "# два обратных - индексы по токенам и токены по индекса\n",
        "tokens_index = []\n",
        "index_tokens = {}\n",
        "\n",
        "for i in tqdm(range(len(df))):\n",
        "    for word in df.iloc[i].split():\n",
        "        if word in token_freq:\n",
        "            token_freq[word] += 1\n",
        "        else:\n",
        "            # добавляем слово как новый токен и считаем кол-во вхождений\n",
        "            token_freq[word] = 1\n",
        "            index_tokens[word] = len(tokens_index) # номер индекса\n",
        "            tokens_index.append(word) # просто добавили уникальное слово в список токенов\n"
      ]
    },
    {
      "cell_type": "code",
      "execution_count": null,
      "metadata": {
        "colab": {
          "base_uri": "https://localhost:8080/"
        },
        "id": "iF29LgB8_juB",
        "outputId": "26950af1-64d2-4dfb-a562-bedceb671494"
      },
      "outputs": [
        {
          "data": {
            "text/plain": [
              "('Всего токенов', 20331)"
            ]
          },
          "execution_count": 15,
          "metadata": {},
          "output_type": "execute_result"
        }
      ],
      "source": [
        "'Всего токенов', len(tokens_index)"
      ]
    },
    {
      "cell_type": "code",
      "execution_count": null,
      "metadata": {
        "colab": {
          "base_uri": "https://localhost:8080/"
        },
        "id": "57s3gLZz8pNV",
        "outputId": "8d454870-0196-40a8-f019-707c3f002bf8"
      },
      "outputs": [
        {
          "data": {
            "text/plain": [
              "array([4.11578065e-03, 4.48994253e-05, 1.96060824e-03, 1.49664751e-05,\n",
              "       2.26592433e-02])"
            ]
          },
          "execution_count": 16,
          "metadata": {},
          "output_type": "execute_result"
        }
      ],
      "source": [
        "words_count = np.array([token_freq[token] for token in tokens_index])\n",
        "words_freq = words_count / np.sum(words_count)\n",
        "words_freq[:5]"
      ]
    },
    {
      "cell_type": "code",
      "execution_count": null,
      "metadata": {
        "colab": {
          "base_uri": "https://localhost:8080/"
        },
        "id": "r3HvOPN19JGR",
        "outputId": "379f6675-c59f-48ad-8192-52b72d999e1f"
      },
      "outputs": [
        {
          "data": {
            "text/plain": [
              "array([0.95070829, 0.5280678 , 0.92858251, ..., 0.18258945, 0.18258945,\n",
              "       0.18258945])"
            ]
          },
          "execution_count": 17,
          "metadata": {},
          "output_type": "execute_result"
        }
      ],
      "source": [
        "rej_by_index = 1 - np.sqrt(1e-5 / words_freq)\n",
        "rej_by_index"
      ]
    },
    {
      "cell_type": "code",
      "execution_count": null,
      "metadata": {
        "id": "sg0esokY-BCN"
      },
      "outputs": [],
      "source": [
        "# проверяем больше ли случ. чем значение по массиву отклонения индекса\n",
        "check_for_reject = lambda word: np.random.rand() > rej_by_index[index_tokens[word]]    "
      ]
    },
    {
      "cell_type": "code",
      "execution_count": null,
      "metadata": {
        "id": "xFIJPCCH9W3U"
      },
      "outputs": [],
      "source": [
        "# возвращаем случайный контекст - слово и его контекст\n",
        "def get_random_context(df, context_length=5):\n",
        "    sentence_sampled = []\n",
        "    while len(sentence_sampled) <= 2:\n",
        "        sentence_index = np.random.randint(len(df)) # берем случайный индекс\n",
        "        sentence = df.iloc[sentence_index].split() # по нему находим нужное предложение\n",
        "        sentence_sampled = [word for word in sentence if check_for_reject(word)] # семплируем нужные слова\n",
        "        \n",
        "    center_word_index = np.random.randint(len(sentence_sampled)) # индекс центрального\n",
        "        \n",
        "    words_before = sentence_sampled[max(center_word_index - context_length//2,0):center_word_index] # слова до\n",
        "    words_after = sentence_sampled[center_word_index+1: center_word_index+1+context_length//2] # слова после\n",
        "        \n",
        "    return sentence_sampled[center_word_index], words_before+words_after # возвращаем слово и его контекст"
      ]
    },
    {
      "cell_type": "code",
      "execution_count": null,
      "metadata": {
        "colab": {
          "base_uri": "https://localhost:8080/"
        },
        "id": "6Z0paoR1_vBt",
        "outputId": "589e9de4-cbd8-4248-d45e-d05362a29b59"
      },
      "outputs": [
        {
          "name": "stdout",
          "output_type": "stream",
          "text": [
            "('эммммм', ['догстаеться', 'долбаебам', 'долбаеб'])\n",
            "('скинуть', ['музыки', 'стену', 'кабзона', 'кпдышевой'])\n",
            "('делать', ['ysuqocyq', 'очепятки'])\n",
            "('ero', ['затормозилась', 'интерес'])\n",
            "('диетический', ['любимушки', 'и', 'праздничный', 'финская…'])\n"
          ]
        }
      ],
      "source": [
        "for i in range(5):\n",
        "    print(get_random_context(df))"
      ]
    },
    {
      "cell_type": "markdown",
      "metadata": {
        "id": "cyVHIrxyBoAj"
      },
      "source": [
        "Функция должна сгенерировать много случайных контекстов и превратить их в сэмплы для тренировки.\n",
        "\n",
        "Word2vec модель получает на вход One-hot вектор слова и тренирует простую сеть для предсказания на его основе соседних слов. Из набора слово-контекст создается N сэмплов (где N - количество слов в контексте):\n",
        "\n",
        "Например:\n",
        "\n",
        "Слово: orders и контекст: ['love', 'nicest', 'to', '50-year'] создадут 4 сэмпла:\n",
        "\n",
        "* input: orders, target: love\n",
        "* input: orders, target: nicest\n",
        "* input: orders, target: to\n",
        "* input: orders, target: 50-year\n",
        "\n",
        "Все слова на входе и на выходе закодированы через one-hot encoding, с размером вектора равным количеству токенов."
      ]
    },
    {
      "cell_type": "code",
      "execution_count": null,
      "metadata": {
        "id": "5R7h-NTcBHhU"
      },
      "outputs": [],
      "source": [
        "class w2v_basic():\n",
        "    # Аргументы: данные - твиттер \n",
        "    # datalen - количество случайных контекстов для использования при создании набора данных\n",
        "    def __init__(self, data, datalen=40000):\n",
        "        self.data = data\n",
        "        self.datalen = datalen\n",
        "        self.one_hot_df = []\n",
        "    \n",
        "    def generate_dataset(self):\n",
        "        self.one_hot_df = []\n",
        "        for _ in range(self.datalen):\n",
        "            center_word, other_words = get_random_context(self.data, np.random.randint(10))\n",
        "            one_hot_index = index_tokens[center_word]\n",
        "            for word in other_words:\n",
        "                self.one_hot_df.append((one_hot_index, index_tokens[word]))\n",
        "\n",
        "    def __getitem__(self, index):\n",
        "        '''\n",
        "        Переопределим получения i-го семпла\n",
        "        \n",
        "        input_vector - torch.Tensor - one-hot векторная репрезентация\n",
        "        output_index - индекс слова \n",
        "        '''\n",
        "        one_hot_vector = np.zeros(len(tokens_index))\n",
        "        one_hot_vector[self.one_hot_df[index][0]] = 1\n",
        "        return torch.Tensor(one_hot_vector), self.one_hot_df[index][1]\n",
        "\n",
        "    # кол-во семлов\n",
        "    def __len__(self):\n",
        "        return len(tokens_index)\n",
        "    \n",
        "data = w2v_basic(df, 5)\n",
        "data.generate_dataset()"
      ]
    },
    {
      "cell_type": "code",
      "execution_count": null,
      "metadata": {
        "id": "iNsWK1VnENbQ"
      },
      "outputs": [],
      "source": [
        "input_vector, target = data[3]"
      ]
    },
    {
      "cell_type": "code",
      "execution_count": null,
      "metadata": {
        "colab": {
          "base_uri": "https://localhost:8080/"
        },
        "id": "-HF7EUXyEmkM",
        "outputId": "56ae264a-cad3-4068-e4a2-59e0adc80d92"
      },
      "outputs": [
        {
          "data": {
            "text/plain": [
              "tensor([0., 0., 0.,  ..., 0., 0., 0.])"
            ]
          },
          "execution_count": 25,
          "metadata": {},
          "output_type": "execute_result"
        }
      ],
      "source": [
        "input_vector"
      ]
    },
    {
      "cell_type": "code",
      "execution_count": null,
      "metadata": {
        "colab": {
          "base_uri": "https://localhost:8080/"
        },
        "id": "mPr6xg7oEw65",
        "outputId": "852f4974-45f3-4860-df95-6fd195349c04"
      },
      "outputs": [
        {
          "data": {
            "text/plain": [
              "6619"
            ]
          },
          "execution_count": 26,
          "metadata": {},
          "output_type": "execute_result"
        }
      ],
      "source": [
        "target"
      ]
    },
    {
      "cell_type": "code",
      "execution_count": null,
      "metadata": {
        "colab": {
          "base_uri": "https://localhost:8080/"
        },
        "id": "USA5pQzwEx1y",
        "outputId": "e23ad2d0-8e27-4127-d402-fba3e85df0ee"
      },
      "outputs": [
        {
          "data": {
            "text/plain": [
              "tensor(True)"
            ]
          },
          "execution_count": 27,
          "metadata": {},
          "output_type": "execute_result"
        }
      ],
      "source": [
        "torch.sum(input_vector) == 1.0"
      ]
    },
    {
      "cell_type": "code",
      "execution_count": null,
      "metadata": {
        "colab": {
          "base_uri": "https://localhost:8080/"
        },
        "id": "8_GQ4OgZE2BR",
        "outputId": "fcd1c899-ee47-418c-8691-4fbc53f4e333"
      },
      "outputs": [
        {
          "data": {
            "text/plain": [
              "True"
            ]
          },
          "execution_count": 28,
          "metadata": {},
          "output_type": "execute_result"
        }
      ],
      "source": [
        "input_vector.shape[0] == len(tokens_index)"
      ]
    },
    {
      "cell_type": "markdown",
      "metadata": {
        "id": "fp9qpYO7Fago"
      },
      "source": [
        "### Создаем модель и тренируем ее"
      ]
    },
    {
      "cell_type": "code",
      "execution_count": null,
      "metadata": {
        "id": "a9R2_4rfE6MZ"
      },
      "outputs": [],
      "source": [
        "dataset = w2v_basic(df, 40000)\n",
        "dataset.generate_dataset()"
      ]
    },
    {
      "cell_type": "code",
      "execution_count": null,
      "metadata": {
        "id": "7On0eHUfFkwL"
      },
      "outputs": [],
      "source": [
        "# размерность пространства w2v - 10\n",
        "dim = 10"
      ]
    },
    {
      "cell_type": "code",
      "execution_count": null,
      "metadata": {
        "id": "IM7WvD6wFn4n"
      },
      "outputs": [],
      "source": [
        "nn_model = nn.Sequential(\n",
        "            nn.Linear(len(tokens_index), dim, bias=False),\n",
        "            nn.Linear(dim, len(tokens_index), bias=False), \n",
        "         )"
      ]
    },
    {
      "cell_type": "code",
      "execution_count": null,
      "metadata": {
        "colab": {
          "base_uri": "https://localhost:8080/"
        },
        "id": "M2Aqh8Z_FsAV",
        "outputId": "a1f2539a-d9b4-47a5-eabd-9b46561488c2"
      },
      "outputs": [
        {
          "data": {
            "text/plain": [
              "Sequential(\n",
              "  (0): Linear(in_features=20331, out_features=10, bias=False)\n",
              "  (1): Linear(in_features=10, out_features=20331, bias=False)\n",
              ")"
            ]
          },
          "execution_count": 32,
          "metadata": {},
          "output_type": "execute_result"
        }
      ],
      "source": [
        "nn_model.type(torch.FloatTensor)"
      ]
    },
    {
      "cell_type": "code",
      "execution_count": null,
      "metadata": {
        "id": "AqUDTb38Fz1N"
      },
      "outputs": [],
      "source": [
        "def word_vectors(model):\n",
        "    inp = model[0].weight.data.clone()\n",
        "    out = model[1].weight.data.clone()\n",
        "    return torch.t(inp), out"
      ]
    },
    {
      "cell_type": "code",
      "execution_count": null,
      "metadata": {
        "id": "0BaxEEHKGVmS"
      },
      "outputs": [],
      "source": [
        "ntrained_input_vectors, untrained_output_vectors = word_vectors(nn_model)"
      ]
    },
    {
      "cell_type": "code",
      "execution_count": null,
      "metadata": {
        "colab": {
          "base_uri": "https://localhost:8080/"
        },
        "id": "Y1My-yWrGb1C",
        "outputId": "cbff0af1-76b4-48a4-e7df-0debd9486c85"
      },
      "outputs": [
        {
          "data": {
            "text/plain": [
              "torch.Size([20331, 10])"
            ]
          },
          "execution_count": 35,
          "metadata": {},
          "output_type": "execute_result"
        }
      ],
      "source": [
        "untrained_output_vectors.shape"
      ]
    },
    {
      "cell_type": "code",
      "execution_count": null,
      "metadata": {
        "id": "4KilzCbOGhz_"
      },
      "outputs": [],
      "source": [
        "def train_model(model, dataset, train_loader, optimizer, scheduler, num_epochs):\n",
        "    # Тренируем w2v модель используя в качестве лосса кросс-энтропию, создавая новый набор данных на каждой эпохе\n",
        "    \n",
        "    loss = nn.CrossEntropyLoss().type(torch.FloatTensor)\n",
        "    loss_history = []\n",
        "    train_history = []\n",
        "    for epoch in range(num_epochs):\n",
        "        model.train()\n",
        "        loss_accum = 0\n",
        "        correct_samples = 0\n",
        "        total_samples = 0\n",
        "        scheduler.step()\n",
        "        for i_step, (x, y) in enumerate(train_loader):\n",
        "            prediction = model(x)\n",
        "            loss_value = loss(prediction, y)\n",
        "            optimizer.zero_grad()\n",
        "            loss_value.backward()\n",
        "            optimizer.step()\n",
        "            \n",
        "            _, indices = torch.max(prediction, 1)\n",
        "            correct_samples += torch.sum(indices == y)\n",
        "            total_samples += y.shape[0]\n",
        "            \n",
        "            loss_accum += loss_value.item()\n",
        "            \n",
        "        avg_loss = loss_accum / i_step\n",
        "        train_accuracy = float(correct_samples) / total_samples\n",
        "        loss_history.append(float(avg_loss))\n",
        "        train_history.append(train_accuracy)\n",
        "        dataset.generate_dataset()\n",
        "\n",
        "        print(f'Epoch {epoch}, Average loss: {avg_loss}, Train accuracy: {train_accuracy}')\n",
        "    return loss_history, train_history"
      ]
    },
    {
      "cell_type": "code",
      "execution_count": null,
      "metadata": {
        "colab": {
          "base_uri": "https://localhost:8080/"
        },
        "id": "3dqzCeg0H5yX",
        "outputId": "5421f7f7-a956-4662-e3d3-7abbe30d3f8e"
      },
      "outputs": [
        {
          "data": {
            "text/plain": [
              "(tensor([0., 0., 0.,  ..., 0., 0., 0.]), 20309)"
            ]
          },
          "execution_count": 37,
          "metadata": {},
          "output_type": "execute_result"
        }
      ],
      "source": [
        "dataset[0]"
      ]
    },
    {
      "cell_type": "code",
      "execution_count": null,
      "metadata": {
        "colab": {
          "base_uri": "https://localhost:8080/"
        },
        "id": "sTHRz_sKHGIc",
        "outputId": "4e1d08de-a684-4eca-8229-9c94ea8c1c55"
      },
      "outputs": [
        {
          "name": "stderr",
          "output_type": "stream",
          "text": [
            "/usr/local/lib/python3.7/dist-packages/torch/optim/lr_scheduler.py:136: UserWarning: Detected call of `lr_scheduler.step()` before `optimizer.step()`. In PyTorch 1.1.0 and later, you should call them in the opposite order: `optimizer.step()` before `lr_scheduler.step()`.  Failure to do this will result in PyTorch skipping the first value of the learning rate schedule. See more details at https://pytorch.org/docs/stable/optim.html#how-to-adjust-learning-rate\n",
            "  \"https://pytorch.org/docs/stable/optim.html#how-to-adjust-learning-rate\", UserWarning)\n"
          ]
        },
        {
          "name": "stdout",
          "output_type": "stream",
          "text": [
            "Epoch 0, Average loss: 9.92532196382838, Train accuracy: 0.001426393192661453\n",
            "Epoch 1, Average loss: 9.914983521296284, Train accuracy: 0.002606856524519207\n",
            "Epoch 2, Average loss: 9.902998425829129, Train accuracy: 0.0031479022182873445\n",
            "Epoch 3, Average loss: 9.88918471711827, Train accuracy: 0.002803600413162166\n",
            "Epoch 4, Average loss: 9.860679477218568, Train accuracy: 0.0025576705523584673\n",
            "Epoch 5, Average loss: 9.837493102381549, Train accuracy: 0.0022625547193940287\n",
            "Epoch 6, Average loss: 9.794673703786895, Train accuracy: 0.003000344301805125\n",
            "Epoch 7, Average loss: 9.751214245172935, Train accuracy: 0.002459298608036988\n",
            "Epoch 8, Average loss: 9.671181211321374, Train accuracy: 0.00413162166150214\n",
            "Epoch 9, Average loss: 9.579600253912407, Train accuracy: 0.005213713049038414\n",
            "Epoch 10, Average loss: 9.463380390734184, Train accuracy: 0.007082779991146525\n",
            "Epoch 11, Average loss: 9.408938201393669, Train accuracy: 0.008459987211647238\n",
            "Epoch 12, Average loss: 9.3211394445164, Train accuracy: 0.010870099847523487\n",
            "Epoch 13, Average loss: 9.252941122674567, Train accuracy: 0.011509517485613104\n",
            "Epoch 14, Average loss: 9.18372894694486, Train accuracy: 0.0122473070680242\n",
            "Epoch 15, Average loss: 9.104402252069608, Train accuracy: 0.013624514288524913\n",
            "Epoch 16, Average loss: 8.982450979901111, Train accuracy: 0.017903693866509272\n",
            "Epoch 17, Average loss: 8.920006362471993, Train accuracy: 0.016969160395455218\n",
            "Epoch 18, Average loss: 8.830933870762353, Train accuracy: 0.018051251782991492\n",
            "Epoch 19, Average loss: 8.75929625297156, Train accuracy: 0.02046136441886774\n",
            "Epoch 20, Average loss: 8.668525525904077, Train accuracy: 0.022035315528011412\n",
            "Epoch 21, Average loss: 8.581832271391951, Train accuracy: 0.022920663026904726\n",
            "Epoch 22, Average loss: 8.48542894904069, Train accuracy: 0.025724263440066893\n",
            "Epoch 23, Average loss: 8.412610036181652, Train accuracy: 0.03010181496237273\n",
            "Epoch 24, Average loss: 8.342004358768463, Train accuracy: 0.030790418572623088\n",
            "Epoch 25, Average loss: 8.295271421042015, Train accuracy: 0.033200531208499334\n",
            "Epoch 26, Average loss: 8.255059211272894, Train accuracy: 0.03418425065171413\n",
            "Epoch 27, Average loss: 8.19808184302698, Train accuracy: 0.035413899955732624\n",
            "Epoch 28, Average loss: 8.1774624933408, Train accuracy: 0.0333972750971423\n",
            "Epoch 29, Average loss: 8.124107583301274, Train accuracy: 0.03718459495351926\n",
            "Epoch 30, Average loss: 8.129387812820946, Train accuracy: 0.03472529634548227\n",
            "Epoch 31, Average loss: 8.02194872662777, Train accuracy: 0.037725640647287395\n",
            "Epoch 32, Average loss: 7.9889157559927995, Train accuracy: 0.03954552161723476\n",
            "Epoch 33, Average loss: 7.965038820983857, Train accuracy: 0.0403324971718066\n",
            "Epoch 34, Average loss: 7.906975798719511, Train accuracy: 0.04166051842014657\n",
            "Epoch 35, Average loss: 7.837205405310383, Train accuracy: 0.04362795730657616\n",
            "Epoch 36, Average loss: 7.7862869951668685, Train accuracy: 0.0451527224435591\n",
            "Epoch 37, Average loss: 7.791669810381461, Train accuracy: 0.045644582165166495\n",
            "Epoch 38, Average loss: 7.750075075100726, Train accuracy: 0.04652992966405981\n",
            "Epoch 39, Average loss: 7.727569838208477, Train accuracy: 0.04957945993802568\n"
          ]
        }
      ],
      "source": [
        "optimizer = optim.SGD(nn_model.parameters(), lr=5, weight_decay=0)\n",
        "scheduler = optim.lr_scheduler.StepLR(optimizer, step_size=12, gamma=0.5)\n",
        "\n",
        "train_loader = torch.utils.data.DataLoader(dataset, batch_size=20)\n",
        "loss_history, train_history = train_model(nn_model, dataset, train_loader, optimizer, scheduler, 40)"
      ]
    },
    {
      "cell_type": "code",
      "execution_count": null,
      "metadata": {
        "colab": {
          "base_uri": "https://localhost:8080/",
          "height": 282
        },
        "id": "ACPljxM6HNkf",
        "outputId": "f93f6002-b95e-4b0f-ff3c-9a789fe78e1e"
      },
      "outputs": [
        {
          "data": {
            "text/plain": [
              "[<matplotlib.lines.Line2D at 0x7ff4f7142f50>]"
            ]
          },
          "execution_count": 39,
          "metadata": {},
          "output_type": "execute_result"
        },
        {
          "data": {
            "image/png": "[encoded data removed]",
            "text/plain": [
              "<Figure size 432x288 with 1 Axes>"
            ]
          },
          "metadata": {},
          "output_type": "display_data"
        }
      ],
      "source": [
        "plt.plot(train_history)"
      ]
    },
    {
      "cell_type": "code",
      "execution_count": null,
      "metadata": {
        "colab": {
          "base_uri": "https://localhost:8080/",
          "height": 283
        },
        "id": "7cPiNnDtxkgh",
        "outputId": "413ae504-c661-4209-b9bb-539604035416"
      },
      "outputs": [
        {
          "data": {
            "text/plain": [
              "[<matplotlib.lines.Line2D at 0x7ff4f6bb86d0>]"
            ]
          },
          "execution_count": 41,
          "metadata": {},
          "output_type": "execute_result"
        },
        {
          "data": {
            "image/png": "[encoded data removed]",
            "text/plain": [
              "<Figure size 432x288 with 1 Axes>"
            ]
          },
          "metadata": {},
          "output_type": "display_data"
        }
      ],
      "source": [
        "plt.plot(loss_history)"
      ]
    },
    {
      "cell_type": "markdown",
      "metadata": {
        "id": "YcoooWLAKIk8"
      },
      "source": [
        "В случае успешной тренировки можно посмотреть, как вектора слов разных типов разделяются семантически."
      ]
    },
    {
      "cell_type": "code",
      "execution_count": null,
      "metadata": {
        "id": "BOL1X1SrKER1"
      },
      "outputs": [],
      "source": [
        "trained_input_vectors, trained_output_vectors = word_vectors(nn_model)\n",
        "\n",
        "wordvec_embedding = PCA(n_components=2).fit_transform(torch.cat((trained_input_vectors, trained_output_vectors), 0))"
      ]
    },
    {
      "cell_type": "code",
      "execution_count": null,
      "metadata": {
        "colab": {
          "base_uri": "https://localhost:8080/",
          "height": 428
        },
        "id": "lnH-ynHYK_vy",
        "outputId": "ef9cfe8f-d540-4241-bd3e-5da405ea77e4"
      },
      "outputs": [
        {
          "data": {
            "image/png": "[encoded data removed]",
            "text/plain": [
              "<Figure size 504x504 with 1 Axes>"
            ]
          },
          "metadata": {},
          "output_type": "display_data"
        }
      ],
      "source": [
        "words_to_viz = {'green': ['что', 'и', 'потому', 'в'], 'blue': ['россия', 'вперед']}\n",
        "\n",
        "plt.figure(figsize=(7,7))\n",
        "for color, words in words_to_viz.items():\n",
        "    points = np.array([wordvec_embedding[index_tokens[w]] for w in words])\n",
        "    for i, word in enumerate(words):\n",
        "        plt.text(points[i, 0], points[i, 1], word, color=color,horizontalalignment='center')\n",
        "    plt.scatter(points[:, 0], points[:, 1], c=color, alpha=0.3, s=0.5)"
      ]
    },
    {
      "cell_type": "markdown",
      "metadata": {
        "id": "F-JOacMPN-gw"
      },
      "source": [
        "## Готовые решения"
      ]
    },
    {
      "cell_type": "code",
      "execution_count": null,
      "metadata": {
        "colab": {
          "base_uri": "https://localhost:8080/"
        },
        "id": "jClyWAUjL_V-",
        "outputId": "90a0ece7-38a3-4c22-93cd-4ba9fbabbaf8"
      },
      "outputs": [
        {
          "name": "stdout",
          "output_type": "stream",
          "text": [
            "Collecting navec\n",
            "  Downloading navec-0.10.0-py3-none-any.whl (23 kB)\n",
            "Requirement already satisfied: numpy in /usr/local/lib/python3.7/dist-packages (from navec) (1.21.6)\n",
            "Installing collected packages: navec\n",
            "Successfully installed navec-0.10.0\n"
          ]
        }
      ],
      "source": [
        "!pip install navec"
      ]
    },
    {
      "cell_type": "code",
      "execution_count": null,
      "metadata": {
        "colab": {
          "base_uri": "https://localhost:8080/"
        },
        "id": "ScUAWvHIM6tx",
        "outputId": "7e7497b7-e37a-472d-d13c-fbc980f12d02"
      },
      "outputs": [
        {
          "name": "stdout",
          "output_type": "stream",
          "text": [
            "--2022-05-12 17:11:59--  https://storage.yandexcloud.net/natasha-navec/packs/navec_hudlit_v1_12B_500K_300d_100q.tar\n",
            "Resolving storage.yandexcloud.net (storage.yandexcloud.net)... 213.180.193.243, 2a02:6b8::1d9\n",
            "Connecting to storage.yandexcloud.net (storage.yandexcloud.net)|213.180.193.243|:443... connected.\n",
            "HTTP request sent, awaiting response... 200 OK\n",
            "Length: 53012480 (51M) [application/x-tar]\n",
            "Saving to: ‘navec_hudlit_v1_12B_500K_300d_100q.tar’\n",
            "\n",
            "navec_hudlit_v1_12B 100%[===================>]  50.56M  39.3MB/s    in 1.3s    \n",
            "\n",
            "2022-05-12 17:12:00 (39.3 MB/s) - ‘navec_hudlit_v1_12B_500K_300d_100q.tar’ saved [53012480/53012480]\n",
            "\n"
          ]
        }
      ],
      "source": [
        "!wget https://storage.yandexcloud.net/natasha-navec/packs/navec_hudlit_v1_12B_500K_300d_100q.tar"
      ]
    },
    {
      "cell_type": "code",
      "execution_count": null,
      "metadata": {
        "id": "wN2eS1E-M8PX"
      },
      "outputs": [],
      "source": [
        "from navec import Navec\n",
        "navec = Navec.load('/content/navec_hudlit_v1_12B_500K_300d_100q.tar')"
      ]
    },
    {
      "cell_type": "code",
      "execution_count": null,
      "metadata": {
        "colab": {
          "base_uri": "https://localhost:8080/"
        },
        "id": "ew5VhaUQNDnW",
        "outputId": "ed4f5398-c206-492e-da56-c590fe5d4a6b"
      },
      "outputs": [
        {
          "data": {
            "text/plain": [
              "array([-0.14197442,  0.01595282, -0.11622857,  0.19758469, -0.54093564,\n",
              "       -0.23015393,  0.2083324 ,  0.20733036, -0.46802008, -0.43609178,\n",
              "       -0.12699111,  0.11630419, -0.25389975, -0.2675142 ,  0.32111672,\n",
              "        0.09095071, -0.31486326, -0.23365863, -0.1914287 , -0.2472466 ,\n",
              "       -0.35027468, -0.02377667, -0.49100557,  0.7579114 ,  0.43025348,\n",
              "        0.33716568, -0.30256617, -0.31430617, -0.7097412 , -0.19473657,\n",
              "       -0.20919581, -0.3833087 ,  0.15386088,  0.28161135,  0.09251209,\n",
              "        0.15977159, -0.04214252,  0.23746091,  0.37219337,  0.07557444,\n",
              "       -0.06280387, -0.32926294,  0.4910019 , -0.48998028, -0.36470553,\n",
              "        0.02416045,  0.00712121,  0.07632633, -0.36364338, -0.05238971,\n",
              "        0.28933373,  0.3203861 ,  0.3046747 ,  0.36945623,  0.5994971 ,\n",
              "       -0.17325711, -0.31948823,  0.2167263 ,  0.7109235 ,  0.6527332 ,\n",
              "        0.16617548, -0.64993405,  0.4042312 , -0.12316786,  0.37892154,\n",
              "        0.24959418,  0.26957294,  0.36229745, -0.49809262, -0.3193923 ,\n",
              "        0.23791096, -0.12030542,  0.5422617 , -0.47040468, -0.09436974,\n",
              "       -0.22883385, -0.0969087 ,  0.21722084, -0.05386123, -0.57260716,\n",
              "       -0.42365953,  0.19588375, -0.5210754 ,  0.06845329,  0.11236007,\n",
              "        0.02589613,  0.19509402, -0.393235  , -0.23342018, -0.31051734,\n",
              "        0.21737155, -0.00195635, -0.5026244 ,  0.17543413, -0.11338978,\n",
              "       -0.16071971, -0.7872457 ,  0.23556899,  0.26451442,  0.17621435,\n",
              "        0.6047796 ,  0.25347826, -0.3878845 , -0.5142244 ,  0.25564903,\n",
              "        0.03955082, -0.35579786, -0.6764927 ,  0.11195725, -0.07116009,\n",
              "       -0.5510675 ,  0.1733218 , -0.18073153,  0.19852227,  0.18351784,\n",
              "       -0.68524396, -0.05194744,  0.2972229 , -0.65649074, -0.31041467,\n",
              "        0.3878332 ,  0.02985512, -0.19981453,  0.09126441,  0.03328555,\n",
              "        0.3007665 , -0.5997568 , -0.36194977, -0.34262797,  0.40267038,\n",
              "        0.76801443, -0.2414486 , -0.2677803 , -0.17091303,  0.25734684,\n",
              "       -0.13528922,  0.57950133,  0.2567703 ,  0.10673613,  0.58996123,\n",
              "       -0.115614  ,  0.08525188, -0.18418314, -0.13983305, -0.4869092 ,\n",
              "       -0.00612918, -0.31115997, -0.27946007,  0.0571009 ,  0.12070953,\n",
              "       -0.0629856 , -0.1457244 ,  0.06409042, -0.58315814, -0.35676244,\n",
              "       -0.58359987,  0.41531935, -0.387291  ,  0.19877203,  0.25338992,\n",
              "       -0.75894326, -0.10203934,  0.5087908 , -0.0900529 , -0.2833221 ,\n",
              "       -0.04512785, -0.07081524, -0.00964756,  0.0597441 ,  0.7737825 ,\n",
              "        0.373659  ,  0.71111995,  0.39178458,  0.09375329,  0.06408188,\n",
              "       -0.00430874,  0.09025475,  0.05536648, -0.06192597, -0.0491356 ,\n",
              "       -0.1617141 ,  0.27053517, -0.6131915 ,  0.18719923, -0.07879864,\n",
              "       -0.39020923, -0.14012867,  0.03460302,  0.11632852,  0.8786224 ,\n",
              "       -0.81047416, -0.4003438 , -0.21503982, -0.39509034,  0.12037606,\n",
              "        0.05858395, -0.25080383,  0.2178003 ,  0.14821951,  0.1144538 ,\n",
              "       -0.6082519 , -0.219677  ,  0.1771663 ,  0.4171873 , -0.06984136,\n",
              "        0.12795854, -0.35146433,  0.25381747,  0.4177679 ,  0.04748937,\n",
              "        0.17019121,  0.566294  , -0.41209286, -0.26959127, -0.32808033,\n",
              "       -0.00550062, -0.44417465, -0.13397641,  0.23819046,  0.31639567,\n",
              "       -0.44769347, -0.03938314,  0.16112645, -0.5459634 , -0.26334244,\n",
              "       -0.3254282 , -0.4130358 ,  0.03987524, -0.5502257 , -0.40970606,\n",
              "        0.58236814,  0.06746469, -0.3219053 , -0.0243425 , -0.32982892,\n",
              "        0.5337309 ,  0.07445738, -0.3308282 ,  0.26559836,  0.28549945,\n",
              "        0.11153799, -0.6277896 , -0.11611227, -0.26418498,  0.66739535,\n",
              "        0.31483936, -0.05987866,  0.45116803,  0.1740229 , -0.00699647,\n",
              "        0.0877431 ,  0.37133503,  0.13197933,  0.40309933,  0.3760241 ,\n",
              "        0.23030582, -0.19824257, -0.47527352,  0.00718786,  0.12886909,\n",
              "        0.18970026, -0.2772727 , -0.4487085 ,  0.5804262 ,  0.35107267,\n",
              "       -0.10869958,  0.5919679 ,  0.20829502, -0.21929649,  0.51735944,\n",
              "       -0.28719434,  0.07992002,  0.40200317,  0.6914268 , -0.26939765,\n",
              "        0.14880607, -0.3982775 , -0.26832622, -0.02393426,  0.33612707,\n",
              "       -0.06827974,  0.17615916, -0.30728662,  0.36691153,  0.14570853,\n",
              "        0.05731701, -0.18647057, -0.11732648,  0.26985842,  0.10528383,\n",
              "       -0.49959967,  0.28047198, -0.0305197 ,  0.6637668 , -0.1561309 ,\n",
              "       -0.3049588 ,  0.3832569 ,  0.04086073, -0.08164492, -0.46073464],\n",
              "      dtype=float32)"
            ]
          },
          "execution_count": 49,
          "metadata": {},
          "output_type": "execute_result"
        }
      ],
      "source": [
        "navec.get('привет')"
      ]
    },
    {
      "cell_type": "markdown",
      "metadata": {
        "id": "_pA3csIu1N0i"
      },
      "source": [
        "## W2V negative sampling"
      ]
    },
    {
      "cell_type": "code",
      "execution_count": null,
      "metadata": {
        "id": "JKXnzk7NNHt-"
      },
      "outputs": [],
      "source": [
        "from sklearn.utils import shuffle\n",
        "\n",
        "class w2v_neg_sample(Dataset):\n",
        "    # Аргументы: данные - твиттер \n",
        "    # datalen - количество случайных контекстов для использования при создании набора данных\n",
        "    def __init__(self, data, neg_sample, datalen=40000):\n",
        "        self.data = data\n",
        "        self.datalen = datalen\n",
        "        self.one_hot_df = []\n",
        "        self.neg_samples = neg_sample\n",
        "        # print(self.neg_samples)\n",
        "\n",
        "    def generate_dataset(self):\n",
        "        self.one_hot_df = []\n",
        "        for _ in range(self.datalen):\n",
        "            center_word, other_words = get_random_context(self.data, np.random.randint(self.neg_samples))\n",
        "            one_hot_index = index_tokens[center_word]\n",
        "            for word in other_words:\n",
        "                random_samples = []\n",
        "                random_samples.append(index_tokens[word])\n",
        "                for temp in range(self.neg_samples):\n",
        "                    neg_word, _ = get_random_context(self.data, np.random.randint(2))\n",
        "                    random_samples.append(index_tokens[neg_word])\n",
        "                self.one_hot_df.append((one_hot_index, random_samples))\n",
        "\n",
        "    def __getitem__(self, index):\n",
        "        '''\n",
        "        Переопределим получения i-го семпла\n",
        "        \n",
        "        input_vector - torch.Tensor - one-hot векторная репрезентация\n",
        "        output_index - индекс слова \n",
        "        '''\n",
        "\n",
        "        input_index, output_indexes = self.one_hot_df[index]\n",
        "        output = np.zeros_like(output_indexes)\n",
        "        output[0] = 1\n",
        "        output_index, output = shuffle(output_indexes, output)\n",
        "        # на выход подаем\n",
        "        # индекс входного слова\n",
        "        # тензор индексов таргет значений \n",
        "        # тензор для обучения - 1 где верный ответ и 0 для каждого элемента из one_hot_df - массив negative sampling-a\n",
        "        return input_index, torch.Tensor(output_indexes), torch.Tensor(output)\n",
        "\n",
        "    # кол-во семлов\n",
        "    def __len__(self):\n",
        "        return len(self.one_hot_df)\n",
        "\n",
        "data_gen = w2v_neg_sample(df, 20, 5)\n",
        "data_gen.generate_dataset()"
      ]
    },
    {
      "cell_type": "code",
      "execution_count": null,
      "metadata": {
        "id": "bSyLVWv34mKi"
      },
      "outputs": [],
      "source": [
        "input_vector, output_indexes, target = data_gen[3]"
      ]
    },
    {
      "cell_type": "code",
      "execution_count": null,
      "metadata": {
        "colab": {
          "base_uri": "https://localhost:8080/"
        },
        "id": "g6Iu1Fzy4xc-",
        "outputId": "07f1bcaa-2f87-4bde-ac92-14e77ddd25e1"
      },
      "outputs": [
        {
          "data": {
            "text/plain": [
              "13590"
            ]
          },
          "execution_count": 52,
          "metadata": {},
          "output_type": "execute_result"
        }
      ],
      "source": [
        "input_vector"
      ]
    },
    {
      "cell_type": "code",
      "execution_count": null,
      "metadata": {
        "colab": {
          "base_uri": "https://localhost:8080/"
        },
        "id": "vzw0TMzT6Ro5",
        "outputId": "f70fa178-bacb-4d76-80c0-d76b191c6912"
      },
      "outputs": [
        {
          "data": {
            "text/plain": [
              "tensor([1.0000e+01, 4.5500e+02, 1.9841e+04, 9.8200e+03, 1.3802e+04, 1.2019e+04,\n",
              "        2.5650e+03, 9.5040e+03, 5.9590e+03, 3.6210e+03, 3.3720e+03, 6.4500e+02,\n",
              "        1.7440e+03, 6.0840e+03, 2.7200e+02, 7.5100e+02, 1.7127e+04, 8.4620e+03,\n",
              "        1.7852e+04, 4.5890e+03, 1.1071e+04])"
            ]
          },
          "execution_count": 53,
          "metadata": {},
          "output_type": "execute_result"
        }
      ],
      "source": [
        "output_indexes"
      ]
    },
    {
      "cell_type": "code",
      "execution_count": null,
      "metadata": {
        "colab": {
          "base_uri": "https://localhost:8080/"
        },
        "id": "VWgRIqaRDPkn",
        "outputId": "77ff93ac-388d-4523-c944-05a6d70eb829"
      },
      "outputs": [
        {
          "data": {
            "text/plain": [
              "21"
            ]
          },
          "execution_count": 54,
          "metadata": {},
          "output_type": "execute_result"
        }
      ],
      "source": [
        "len(output_indexes) # 20 негативных, от которых отталкиваемся + 1 верный"
      ]
    },
    {
      "cell_type": "code",
      "execution_count": null,
      "metadata": {
        "colab": {
          "base_uri": "https://localhost:8080/"
        },
        "id": "P7WHjfVq6Tbn",
        "outputId": "ea986a27-4bbd-4a61-e8f5-0b509c1a1c2d"
      },
      "outputs": [
        {
          "data": {
            "text/plain": [
              "tensor([0., 0., 0., 0., 0., 0., 0., 0., 0., 0., 0., 0., 0., 0., 0., 0., 0., 0.,\n",
              "        0., 0., 1.])"
            ]
          },
          "execution_count": 55,
          "metadata": {},
          "output_type": "execute_result"
        }
      ],
      "source": [
        "target"
      ]
    },
    {
      "cell_type": "code",
      "execution_count": null,
      "metadata": {
        "colab": {
          "base_uri": "https://localhost:8080/"
        },
        "id": "mYwOz_hnIvoT",
        "outputId": "e293c350-add7-427b-e89f-44e4d90f9d87"
      },
      "outputs": [
        {
          "data": {
            "text/plain": [
              "21"
            ]
          },
          "execution_count": 56,
          "metadata": {},
          "output_type": "execute_result"
        }
      ],
      "source": [
        "len(target)"
      ]
    },
    {
      "cell_type": "markdown",
      "metadata": {
        "id": "h8y_3gcwA6GO"
      },
      "source": [
        "## Создание модели w2v для негативного семплировния"
      ]
    },
    {
      "cell_type": "code",
      "execution_count": null,
      "metadata": {
        "colab": {
          "base_uri": "https://localhost:8080/"
        },
        "id": "fvD8mSpW6YfF",
        "outputId": "43b57d39-e433-4c36-9c0a-0271a002b6d4"
      },
      "outputs": [
        {
          "data": {
            "text/plain": [
              "w2v_neg_sample_train(\n",
              "  (input): Linear(in_features=20331, out_features=10, bias=False)\n",
              "  (output): Linear(in_features=10, out_features=20331, bias=False)\n",
              ")"
            ]
          },
          "execution_count": 57,
          "metadata": {},
          "output_type": "execute_result"
        }
      ],
      "source": [
        "class w2v_neg_sample_train(nn.Module):\n",
        "    def __init__(self, token_num):\n",
        "        super(w2v_neg_sample_train, self).__init__()\n",
        "\n",
        "        self.input = nn.Linear(token_num, 10, bias=False)\n",
        "        self.output = nn.Linear(10, token_num, bias=False)\n",
        "\n",
        "    # прямой проход по данным, получаем на вход индекс входного слова и набор индексов для выходных слов\n",
        "    def forward(self, inp_index, out_index):\n",
        "        preds = torch.cuda.FloatTensor([])\n",
        "        # проходимся по батчам и их индексам\n",
        "        for i, input_index in enumerate(inp_index):\n",
        "            result = torch.cuda.FloatTensor(out_index.shape[1])\n",
        "            inp_weights = self.input.weight[:, input_index]\n",
        "            # проходимся по выходам\n",
        "            for ind, output_index in enumerate(out_index[i]):\n",
        "                out_weights = self.output.weight[int(output_index)]\n",
        "                # скалярно перемножаем веса входные и выходные\n",
        "                result[ind] = torch.dot(inp_weights, out_weights)\n",
        "            # приводим к нужному размерну\n",
        "            result = torch.reshape(result, (1, len(result)))\n",
        "            preds = torch.cat((preds, result), 0) # конкратинация для нужного числа измерений\n",
        "        return preds            \n",
        "\n",
        "NN = w2v_neg_sample_train(len(tokens_index))\n",
        "NN.type(torch.cuda.FloatTensor)"
      ]
    },
    {
      "cell_type": "code",
      "execution_count": null,
      "metadata": {
        "id": "ZMnKWjH69VTN"
      },
      "outputs": [],
      "source": [
        "device = torch.device('cuda' if torch.cuda.is_available() else 'cpu')"
      ]
    },
    {
      "cell_type": "code",
      "execution_count": null,
      "metadata": {
        "colab": {
          "base_uri": "https://localhost:8080/"
        },
        "id": "rO5GiLN6_Dvk",
        "outputId": "b3bd7248-8c6d-4a8e-8ce0-e4c64e63acd8"
      },
      "outputs": [
        {
          "data": {
            "text/plain": [
              "device(type='cuda')"
            ]
          },
          "execution_count": 59,
          "metadata": {},
          "output_type": "execute_result"
        }
      ],
      "source": [
        "device"
      ]
    },
    {
      "cell_type": "code",
      "execution_count": null,
      "metadata": {
        "colab": {
          "base_uri": "https://localhost:8080/"
        },
        "id": "ejNv6AVMADAV",
        "outputId": "bd242bd3-f77a-4adc-90fe-0ba61bf8668f"
      },
      "outputs": [
        {
          "data": {
            "text/plain": [
              "w2v_neg_sample_train(\n",
              "  (input): Linear(in_features=20331, out_features=10, bias=False)\n",
              "  (output): Linear(in_features=10, out_features=20331, bias=False)\n",
              ")"
            ]
          },
          "execution_count": 60,
          "metadata": {},
          "output_type": "execute_result"
        }
      ],
      "source": [
        "NN.to(device)"
      ]
    },
    {
      "cell_type": "code",
      "execution_count": null,
      "metadata": {
        "id": "1Gu-H1ZD_qlW"
      },
      "outputs": [],
      "source": [
        "def word_vectors(model):\n",
        "    # немного поменял способ доступа к данным, тупо получаем веса\n",
        "    inp = model.input.weight.data.clone()\n",
        "    out = model.output.weight.data.clone()\n",
        "    return torch.t(inp), out"
      ]
    },
    {
      "cell_type": "markdown",
      "metadata": {
        "id": "UIl85HdzBAKl"
      },
      "source": [
        "## Обучение модели"
      ]
    },
    {
      "cell_type": "code",
      "execution_count": null,
      "metadata": {
        "id": "CHXxs1UM_qi5"
      },
      "outputs": [],
      "source": [
        "def train_w2v_neg(model, dataset, train_loader, optimizer, scheduler, num_epochs):\n",
        "    # стабильнее классической сигмоиды\n",
        "    # https://pytorch.org/docs/stable/generated/torch.nn.BCEWithLogitsLoss.html\n",
        "    loss = nn.BCEWithLogitsLoss().type(torch.cuda.FloatTensor)\n",
        "\n",
        "    loss_history = []\n",
        "    train_history = []\n",
        "    \n",
        "    for epoch in range(num_epochs):\n",
        "        model.train()\n",
        "        loss_accum = 0\n",
        "        correct_samples = 0\n",
        "        total_samples = 0\n",
        "        \n",
        "\n",
        "        for i_step, (to , x, y) in enumerate(train_loader):\n",
        "            to_gpu = to.to(device)\n",
        "            x_gpu = x.to(device)\n",
        "            y_gpu = y.to(device)\n",
        "            prediction = model(to_gpu, x_gpu)\n",
        "            loss_value = loss(prediction, y_gpu)\n",
        "            optimizer.zero_grad()\n",
        "            loss_value.backward()\n",
        "            optimizer.step()\n",
        "            \n",
        "            temp, indexes = torch.max(prediction, 1)\n",
        "            temp, indexes_y = torch.max(y_gpu, 1)\n",
        "            correct_samples += torch.sum(indexes == indexes_y)\n",
        "            total_samples += indexes_y.shape[0]\n",
        "            \n",
        "            loss_accum += loss_value\n",
        "        \n",
        "        scheduler.step()\n",
        "        \n",
        "        avg_loss = loss_accum / i_step\n",
        "        train_accuracy = float(correct_samples) / total_samples\n",
        "        loss_history.append(float(avg_loss))\n",
        "        train_history.append(train_accuracy)\n",
        "\n",
        "        dataset.generate_dataset()\n",
        "        print(f'Epoch {epoch}, Average loss: {avg_loss}, Train accuracy: {train_accuracy}')\n",
        "        \n",
        "    return loss_history, train_history"
      ]
    },
    {
      "cell_type": "code",
      "execution_count": null,
      "metadata": {
        "colab": {
          "background_save": true
        },
        "id": "vSC2lyqtaxmy"
      },
      "outputs": [],
      "source": [
        "data_gen = w2v_neg_sample(df, 20, 40000)\n",
        "data_gen.generate_dataset()"
      ]
    },
    {
      "cell_type": "code",
      "execution_count": null,
      "metadata": {
        "colab": {
          "background_save": true
        },
        "id": "yK-9_d3Y_ErJ"
      },
      "outputs": [],
      "source": [
        "optimizer = optim.Adam(NN.parameters(), lr=5, weight_decay=0)\n",
        "scheduler = optim.lr_scheduler.StepLR(optimizer, step_size=5, gamma=0.8)\n",
        "\n",
        "train_loader = torch.utils.data.DataLoader(data_gen, batch_size=40)"
      ]
    },
    {
      "cell_type": "code",
      "execution_count": null,
      "metadata": {
        "colab": {
          "base_uri": "https://localhost:8080/"
        },
        "id": "nCNNi1ukBQTx",
        "outputId": "8f23d1e9-60fb-4bc1-aa2c-6f2639fda660"
      },
      "outputs": [
        {
          "name": "stdout",
          "output_type": "stream",
          "text": [
            "Epoch 0, Average loss: 2286.78515625, Train accuracy: 0.04741430318330638\n"
          ]
        }
      ],
      "source": [
        "loss_history, train_history = train_w2v_neg(NN, data_gen, train_loader, optimizer, scheduler, 40)"
      ]
    },
    {
      "cell_type": "code",
      "execution_count": null,
      "metadata": {
        "id": "ZM54PPRuBeH_"
      },
      "outputs": [],
      "source": [
        ""
      ]
    }
  ],
  "metadata": {
    "accelerator": "GPU",
    "colab": {
      "collapsed_sections": [],
      "name": "W2V.ipynb",
      "provenance": []
    },
    "kernelspec": {
      "display_name": "Python 3",
      "name": "python3"
    }
  },
  "nbformat": 4,
  "nbformat_minor": 0
}