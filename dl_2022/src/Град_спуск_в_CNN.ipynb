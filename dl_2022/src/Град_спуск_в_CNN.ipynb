{
  "nbformat": 4,
  "nbformat_minor": 0,
  "metadata": {
    "colab": {
      "name": "Град спуск в CNN.ipynb",
      "provenance": [],
      "collapsed_sections": [],
      "toc_visible": true
    },
    "kernelspec": {
      "name": "python3",
      "display_name": "Python 3"
    },
    "language_info": {
      "name": "python"
    }
  },
  "cells": [
    {
      "cell_type": "markdown",
      "source": [
        "# Фукнции необходимые для прямого и обратного прохода в сверточных нейросетях"
      ],
      "metadata": {
        "id": "-ekxdqzev77D"
      }
    },
    {
      "cell_type": "markdown",
      "source": [
        "## Взаимнокорреляционная функция"
      ],
      "metadata": {
        "id": "Zd4Pcvk3gBfm"
      }
    },
    {
      "cell_type": "markdown",
      "source": [
        "Взаимнокорреляционная функция или кросс-корреляция (/взаимная операция корреляция), операция обозначается символом **$\\star$**  (закрашенная звездочка)"
      ],
      "metadata": {
        "id": "z7WmQZNfgEZs"
      }
    },
    {
      "cell_type": "code",
      "source": [
        "from scipy import signal\n",
        "\n",
        "input = np.array([[1, 6, 2],\n",
        "                 [5, 3, 1],\n",
        "                 [7, 0, 4]])\n",
        "kernel = np.array([[1, 2],\n",
        "                   [-1, 0]])\n",
        "\n",
        "signal.correlate2d(input, kernel, 'valid')"
      ],
      "metadata": {
        "colab": {
          "base_uri": "https://localhost:8080/"
        },
        "id": "BjNBUPuHeVVo",
        "outputId": "14bbaf0b-c2fb-412a-fd14-9532683ac363"
      },
      "execution_count": null,
      "outputs": [
        {
          "output_type": "execute_result",
          "data": {
            "text/plain": [
              "array([[8, 7],\n",
              "       [4, 5]])"
            ]
          },
          "metadata": {},
          "execution_count": 37
        }
      ]
    },
    {
      "cell_type": "code",
      "source": [
        "from scipy import signal\n",
        "\n",
        "input = np.array([[1, 6, 2],\n",
        "                 [5, 3, 1],\n",
        "                 [7, 0, 4]])\n",
        "kernel = np.array([[1, 2],\n",
        "                   [-1, 0]])\n",
        "\n",
        "signal.correlate2d(input, kernel, 'full')"
      ],
      "metadata": {
        "colab": {
          "base_uri": "https://localhost:8080/"
        },
        "id": "5xsyTSnataOQ",
        "outputId": "6c410528-d854-4f91-c600-3b52531b859b"
      },
      "execution_count": null,
      "outputs": [
        {
          "output_type": "execute_result",
          "data": {
            "text/plain": [
              "array([[ 0, -1, -6, -2],\n",
              "       [ 2,  8,  7,  1],\n",
              "       [10,  4,  5, -3],\n",
              "       [14,  7,  8,  4]])"
            ]
          },
          "metadata": {},
          "execution_count": 31
        }
      ]
    },
    {
      "cell_type": "markdown",
      "source": [
        "## Операция свертки\n",
        "\n",
        "Операция свертки - все то же, но ядро развернуто на 180°\n",
        "\n",
        "Обозначается символом **$\\ast$**  (звездочка)"
      ],
      "metadata": {
        "id": "KYy1cdNYq4GI"
      }
    },
    {
      "cell_type": "code",
      "source": [
        "from scipy import signal\n",
        "\n",
        "input = np.array([[1, 6, 2],\n",
        "                 [5, 3, 1],\n",
        "                 [7, 0, 4]])\n",
        "kernel = np.array([[1, 2],\n",
        "                   [-1, 0]])\n",
        "\n",
        "signal.convolve2d(input, kernel, 'full')"
      ],
      "metadata": {
        "colab": {
          "base_uri": "https://localhost:8080/"
        },
        "id": "MkVG2r9_sM-N",
        "outputId": "98f611cf-9854-4f10-ff6a-b3d485c1b7fc"
      },
      "execution_count": null,
      "outputs": [
        {
          "output_type": "execute_result",
          "data": {
            "text/plain": [
              "array([[ 1,  8, 14,  4],\n",
              "       [ 4,  7,  5,  2],\n",
              "       [ 2, 11,  3,  8],\n",
              "       [-7,  0, -4,  0]])"
            ]
          },
          "metadata": {},
          "execution_count": 42
        }
      ]
    },
    {
      "cell_type": "code",
      "source": [
        "# для большинства преобразований\n",
        "import numpy as np\n",
        "# для более быстрой реализации операций кросс-корреляции и свертки\n",
        "from scipy import signal"
      ],
      "metadata": {
        "id": "OiwSJNNle8_o"
      },
      "execution_count": null,
      "outputs": []
    },
    {
      "cell_type": "markdown",
      "source": [
        "# Выпрямление"
      ],
      "metadata": {
        "id": "-44SNP9Y6Uy0"
      }
    },
    {
      "cell_type": "code",
      "source": [
        "'''\n",
        "Модуль \"выпрямления\"\n",
        "подробнее см. https://youtu.be/Lakz2MoHy6o?t=1648\n",
        "На основе формы входного и выходного тензора выпрямляет вход при прямом проходе и градиент при обратном проходе\n",
        "'''\n",
        "class Reshape():\n",
        "    '''\n",
        "    input_shape: форма входного тензора\n",
        "    output_shape: форма выходного тензора\n",
        "    '''\n",
        "    def __init__(self, input_shape, output_shape):\n",
        "        self.input_shape = input_shape\n",
        "        self.output_shape = output_shape\n",
        "    '''\n",
        "    input - np.array входной вектор данных\n",
        "    преобразует входные данные из (формы входа) в (форму выхода)\n",
        "    '''\n",
        "    def forward(self, input):\n",
        "        return np.reshape(input, self.output_shape)\n",
        "\n",
        "    # преобразует градиент из в размер (формы выхода)\n",
        "    def backward(self, output_gradient, learning_rate):\n",
        "        return np.reshape(output_gradient, self.input_shape)"
      ],
      "metadata": {
        "id": "fjD-vL1QsWjs"
      },
      "execution_count": null,
      "outputs": []
    },
    {
      "cell_type": "markdown",
      "source": [
        "# Активации"
      ],
      "metadata": {
        "id": "5Sbe21-n6W8k"
      }
    },
    {
      "cell_type": "markdown",
      "source": [
        "## Сигмоидальная"
      ],
      "metadata": {
        "id": "xaqU1qBt6Y7C"
      }
    },
    {
      "cell_type": "code",
      "source": [
        "'''\n",
        "Класс сигмоидальной активации\n",
        "Реализует прямой и обратный проход\n",
        "На основе https://youtu.be/Lakz2MoHy6o?t=1791\n",
        "'''\n",
        "class Sigmoid():\n",
        "    # прямой проход по формуле сигмоиды\n",
        "    # сохраняем вход для расчета вектора градиента по нему\n",
        "    def forward(self, x):\n",
        "        self.input = x\n",
        "        return 1 / (1 + np.exp(-x))\n",
        "\n",
        "    '''\n",
        "    output gradient - np.array вектор градиента распространенный от слов перед ним\n",
        "    learning_rate - float скорость обучения\n",
        "    '''\n",
        "    def backward(self, output_gradient, learning_rate):\n",
        "        s = self.forward(self.input)\n",
        "        # вывод производной сигмоиды https://hausetutorials.netlify.app/posts/2019-12-01-neural-networks-deriving-the-sigmoid-derivative/#:~:text=The%20derivative%20of%20the%20sigmoid%20function%20%CF%83(x)%20is%20the,1%E2%88%92%CF%83(x).\n",
        "        sigmoid_grad = s * (1 - s)\n",
        "        # градиент от поэлементной функциии (любая активация) - диагональная\n",
        "        # можем просто засунуть выходной градиент в производную от заданной функции активации\n",
        "        # (почему это так см. https://youtu.be/pauPCy_s0Ok?t=1248)\n",
        "        return np.multiply(output_gradient, sigmoid_grad)"
      ],
      "metadata": {
        "id": "ujrEQjuf6bQ-"
      },
      "execution_count": null,
      "outputs": []
    },
    {
      "cell_type": "markdown",
      "source": [
        "## Функция активации гиперболический тангенс"
      ],
      "metadata": {
        "id": "uegZKknd6cig"
      }
    },
    {
      "cell_type": "code",
      "source": [
        "'''\n",
        "Класс активации гиперболического тангенса\n",
        "Реализует прямой и обратный проход\n",
        "подробнее см. https://youtu.be/pauPCy_s0Ok?t=1350\n",
        "'''\n",
        "class Tanh():\n",
        "    # прямой проход по формуле гиперболического тангенса\n",
        "    # сохраняем вход для расчета вектора градиента по нему\n",
        "    def forward(self, x):\n",
        "        self.input = x\n",
        "        return np.tanh(x)\n",
        "    '''\n",
        "    output gradient - np.array вектор градиента распространенный от слов перед ним\n",
        "    learning_rate - float скорость обучения\n",
        "    '''\n",
        "    def backward(self, output_gradient, learning_rate):\n",
        "        # вывод производной гиперболического тангенса\n",
        "        # https://stackoverflow.com/questions/62634073/why-gradient-of-tanh-in-tensorflow-is-grad-dy-1-yy\n",
        "        tanh_grad = 1 - np.tanh(self.input) ** 2\n",
        "        # почему так см. примечания сигмоды\n",
        "        return np.multiply(output_gradient, tanh_grad)"
      ],
      "metadata": {
        "id": "MOPvos2P6ilN"
      },
      "execution_count": null,
      "outputs": []
    },
    {
      "cell_type": "markdown",
      "source": [
        "## Функция активации softmax"
      ],
      "metadata": {
        "id": "3wYWsQbV6jFN"
      }
    },
    {
      "cell_type": "code",
      "source": [
        "'''\n",
        "Класс активации софтмакса\n",
        "Реализует прямой и обратный проход\n",
        "На основе https://youtu.be/AbLvJVwySEo\n",
        "'''\n",
        "class Softmax():\n",
        "    def forward(self, input):\n",
        "        tmp = np.exp(input)\n",
        "        self.output = tmp / np.sum(tmp)\n",
        "        return self.output\n",
        "    \n",
        "    def backward(self, output_gradient, learning_rate):\n",
        "        # размер входа\n",
        "        n = np.size(self.output)\n",
        "        # см. на основе или https://towardsdatascience.com/derivative-of-the-softmax-function-and-the-categorical-cross-entropy-loss-ffceefc081d1\n",
        "        return np.dot((np.identity(n) - self.output.T) * self.output, output_gradient)"
      ],
      "metadata": {
        "id": "axoc4nRtvSrs"
      },
      "execution_count": null,
      "outputs": []
    },
    {
      "cell_type": "markdown",
      "source": [
        "# Бинарная кросс-энтропия"
      ],
      "metadata": {
        "id": "JXAajZIP6mnA"
      }
    },
    {
      "cell_type": "code",
      "source": [
        "'''\n",
        "Формула бинарной кросс энтропии справедлива если\n",
        "целевая переменная 1 или 0\n",
        "Фукнции прямого и обратного прохода вынесены \n",
        "в отдельные модули для более ясного выделения градиента\n",
        "и его отправки в backward методы прочих активаций и слоев\n",
        "На основе https://youtu.be/Lakz2MoHy6o?t=1674\n",
        "'''\n",
        "def binary_cross_entropy(y_true, y_pred):\n",
        "    return np.mean(-y_true * np.log(y_pred) - (1 - y_true) * np.log(1 - y_pred))\n",
        "# градиент по бинарной кросс-энтропии, см https://youtu.be/Lakz2MoHy6o?t=1674\n",
        "def binary_cross_entropy_prime(y_true, y_pred):\n",
        "    return ((1 - y_true) / (1 - y_pred) - y_true / y_pred) / np.size(y_true)"
      ],
      "metadata": {
        "id": "8ArvHwoOzgJm"
      },
      "execution_count": null,
      "outputs": []
    },
    {
      "cell_type": "markdown",
      "source": [
        "# Классы слоев"
      ],
      "metadata": {
        "id": "WrZ0ok2c6pEy"
      }
    },
    {
      "cell_type": "markdown",
      "source": [
        "## Полносвязный слой"
      ],
      "metadata": {
        "id": "_aJfLjRx6rEM"
      }
    },
    {
      "cell_type": "code",
      "source": [
        "'''\n",
        "Класс полносвязного слоя\n",
        "Реализует прямой и обратный проход\n",
        "На основе https://youtu.be/Lakz2MoHy6o\n",
        "'''\n",
        "class Dense():\n",
        "    '''\n",
        "    Конструктор класса инициализирует веса слоя\n",
        "    input_shape: typle - форма входного тензора\n",
        "    output_shape: typle - форма выходного тензора\n",
        "    '''\n",
        "    def __init__(self, input_size, output_size):\n",
        "        self.weights = np.random.randn(output_size, input_size)\n",
        "        self.bias = np.random.randn(output_size, 1)\n",
        "    '''\n",
        "    input: входные данные (вектор)\n",
        "    Прямой проход - действие матрицы весов на входные данные y = WX + b\n",
        "    '''\n",
        "    def forward(self, input):\n",
        "        self.input = input\n",
        "        return np.dot(self.weights, self.input) + self.bias\n",
        "    '''\n",
        "    output gradient - np.array вектор градиента распространенный от слов перед ним\n",
        "    learning_rate - float скорость обучения\n",
        "    Реализует обратный проход по полносвязному слою, находя производные \n",
        "    по входам (чтобы распространить сигнал потерь в предшествующие слои), весам слоя и смещениям\n",
        "    На основе https://youtu.be/pauPCy_s0Ok?t=1102\n",
        "    '''\n",
        "    def backward(self, output_gradient, learning_rate):\n",
        "        # производная по весам слоя - скаляреное произведелние между гражиентов слоя перед\n",
        "        # и транспонированным входом (см. https://youtu.be/pauPCy_s0Ok?t=683)\n",
        "        weights_gradient = np.dot(output_gradient, self.input.T)\n",
        "        # градиент по входам - скалярное между транспонированными весами и градиентов слоя перед\n",
        "        # необходим, чтобы рассчитать градиент более ранних слоев\n",
        "        # (см. https://youtu.be/pauPCy_s0Ok?t=988)\n",
        "        input_gradient = np.dot(self.weights.T, output_gradient)\n",
        "        # шаг град спуска\n",
        "        self.weights -= learning_rate * weights_gradient\n",
        "        # градиент по смещениям = градиента слоя перед (см. https://youtu.be/pauPCy_s0Ok?t=899)\n",
        "        # делаем шаг по минус градиенту с заданной скоростью\n",
        "        self.bias -= learning_rate * output_gradient\n",
        "        # возвращаем градиент по входам для распространения сигнала градиента в предшествующие слои\n",
        "        return input_gradient"
      ],
      "metadata": {
        "id": "a2Ygl8cbzzlL"
      },
      "execution_count": null,
      "outputs": []
    },
    {
      "cell_type": "markdown",
      "source": [
        "## Сверточный слой"
      ],
      "metadata": {
        "id": "fgMxvuwQ67Wb"
      }
    },
    {
      "cell_type": "code",
      "source": [
        "'''\n",
        "Класс сверточного слоя\n",
        "Реализует прямой и обратный проход\n",
        "На основе https://youtu.be/Lakz2MoHy6o\n",
        "'''\n",
        "class Convolutional():\n",
        "    '''\n",
        "    Конструктор класса инициализирует веса слоя\n",
        "    input_shape: typle - форма входного тензора (например картинка 1*28*28) - глубина, высота, ширина\n",
        "    kernel_size: int - размер квадратного ядра свертки\n",
        "    depth: int - количество выходных каналов == количество карт активаций == количество сверточных нейронов\n",
        "    '''\n",
        "    def __init__(self, input_shape, kernel_size, depth):\n",
        "        # распаковываем входную форму на глубину (кол-во входных каналов), высоту и ширину изображения / карт активаций прошлых сверточных слоев\n",
        "        input_depth, input_height, input_width = input_shape\n",
        "        # количество выходных каналов == количество карт активаций == количество сверточных нейронов\n",
        "        self.depth = depth\n",
        "        # размер входных данных\n",
        "        self.input_shape = input_shape\n",
        "        # количество каналов на вход\n",
        "        self.input_depth = input_depth\n",
        "        # форма выходных карт активации (с учетом размера ядра)\n",
        "        self.output_shape = (depth, input_height - kernel_size + 1, input_width - kernel_size + 1)\n",
        "        # размер ядра\n",
        "        self.kernels_shape = (depth, input_depth, kernel_size, kernel_size)\n",
        "        # случайные значения - веса сверточных нейронов слоя\n",
        "        self.kernels = np.random.randn(*self.kernels_shape)\n",
        "        # случайные значения - смещения\n",
        "        self.biases = np.random.randn(*self.output_shape)\n",
        "\n",
        "    '''\n",
        "    input: входные данные (вектор)\n",
        "    Прямой проход - действие матрицы весов на входные данные y = W*X + b\n",
        "    Только вместо скаляров в W стоят ядра свертки (i) для каждого канала (j)\n",
        "    Вместо x стоят входные данные (j входных каналов)\n",
        "    Вместо произведения * стоит кросс корреляция valid\n",
        "    '''\n",
        "    def forward(self, input):\n",
        "        # сохраняем входы и выходы для вычисления градиента по слою после\n",
        "        self.input = input\n",
        "        self.output = np.copy(self.biases)\n",
        "        # итерируемся по всем сверточным нейронам слоя (количество карт активаций)\n",
        "        for i in range(self.depth):\n",
        "            # итерируемся по всех входам (каналам)\n",
        "            for j in range(self.input_depth):\n",
        "                # valid кросс-корреляция\n",
        "                self.output[i] += signal.correlate2d(self.input[j], self.kernels[i, j], \"valid\")\n",
        "        return self.output\n",
        "\n",
        "    '''\n",
        "    output gradient - np.array вектор градиента распространенный от слов перед ним\n",
        "    learning_rate - float скорость обучения\n",
        "    Реализует обратный проход по сверточному слою, находя производные \n",
        "    по входам (чтобы распространить сигнал потерь в предшествующие слои), весам слоя и смещениям\n",
        "    На основе https://youtu.be/Lakz2MoHy6o?t=1424\n",
        "    '''\n",
        "    def backward(self, output_gradient, learning_rate):\n",
        "        # инициализируем нулями градиенты по ядрам свертки и входам\n",
        "        kernels_gradient = np.zeros(self.kernels_shape)\n",
        "        input_gradient = np.zeros(self.input_shape)\n",
        "        # итерируемся по всем сверточным нейронам слоя (количество карт активаций)\n",
        "        for i in range(self.depth):\n",
        "            # итерируемся по всех входам\n",
        "            for j in range(self.input_depth):\n",
        "                # находим производные по весам см. https://youtu.be/Lakz2MoHy6o?t=828\n",
        "                kernels_gradient[i, j] = signal.correlate2d(self.input[j], output_gradient[i], \"valid\")\n",
        "                # находим производные по входам см. https://youtu.be/Lakz2MoHy6o?t=1202\n",
        "                input_gradient[j] += signal.convolve2d(output_gradient[i], self.kernels[i, j], \"full\")\n",
        "\n",
        "        # делаем шаг по минус градиенту с заданной скоростью\n",
        "        self.kernels -= learning_rate * kernels_gradient\n",
        "        # градиент по смещениям = градиента слоя перед (см. https://youtu.be/Lakz2MoHy6o?t=1094)\n",
        "        # делаем шаг по минус градиенту с заданной скоростью\n",
        "        self.biases -= learning_rate * output_gradient\n",
        "        # возвращаем градиент по входам для распространения сигнала градиента в предшествующие слои\n",
        "        return input_gradient"
      ],
      "metadata": {
        "id": "9CcepwGGsa2J"
      },
      "execution_count": null,
      "outputs": []
    },
    {
      "cell_type": "markdown",
      "source": [
        "# Фукнция подготовки данных"
      ],
      "metadata": {
        "id": "_XwWPbuD6981"
      }
    },
    {
      "cell_type": "code",
      "source": [
        "from keras.datasets import mnist\n",
        "from keras.utils import np_utils\n",
        "\n",
        "'''\n",
        "Ограничиват данные только двумя классами MNIST, создавая подвыборку\n",
        "'''\n",
        "def preprocess_data(x, y, limit):\n",
        "    # находит индексы класса 0 в выборке, обрезает под заданный размер подвыборки\n",
        "    zero_index = np.where(y == 0)[0][:limit]\n",
        "    # находит индексы класса 1 в выборке, обрезает под заданный размер подвыборки\n",
        "    one_index = np.where(y == 1)[0][:limit]\n",
        "    # собирает их вместе \n",
        "    all_indices = np.hstack((zero_index, one_index))\n",
        "    # перемешивает\n",
        "    all_indices = np.random.permutation(all_indices)\n",
        "    # выбирает их из всего набора\n",
        "    x, y = x[all_indices], y[all_indices]\n",
        "    # переформатирует под размер изображения\n",
        "    x = x.reshape(len(x), 1, 28, 28)\n",
        "    # нормализует путем /255 т.к. яркости - int от 0 до 255\n",
        "    x = x.astype(\"float32\") / 255\n",
        "    # создает one-hot encoding ответов для соответсвия размера выходов вектора бинарной CE\n",
        "    # 0 -> [1, 0], 1 -> [0, 1]\n",
        "    y = np_utils.to_categorical(y)\n",
        "    # dense ожидает не 0, 1, 2 а one-hot encoding ответов\n",
        "    y = y.reshape(len(y), 2, 1)\n",
        "    return x, y\n",
        "\n",
        "# загржает MNIST из keras\n",
        "(x_train, y_train), (x_test, y_test) = mnist.load_data()\n",
        "x_train, y_train = preprocess_data(x_train, y_train, 2000)\n",
        "x_test, y_test = preprocess_data(x_test, y_test, 2000)"
      ],
      "metadata": {
        "id": "3YFo1wKemQ59"
      },
      "execution_count": null,
      "outputs": []
    },
    {
      "cell_type": "code",
      "source": [
        "# форма train\n",
        "x_train.shape, y_train.shape"
      ],
      "metadata": {
        "colab": {
          "base_uri": "https://localhost:8080/"
        },
        "id": "KJN5HeT9mShk",
        "outputId": "5202973f-dc13-47ff-a118-25c2cd6dcfa8"
      },
      "execution_count": null,
      "outputs": [
        {
          "output_type": "execute_result",
          "data": {
            "text/plain": [
              "((4000, 1, 28, 28), (4000, 2, 1))"
            ]
          },
          "metadata": {},
          "execution_count": 85
        }
      ]
    },
    {
      "cell_type": "code",
      "source": [
        "# форма test\n",
        "x_test.shape, y_test.shape"
      ],
      "metadata": {
        "colab": {
          "base_uri": "https://localhost:8080/"
        },
        "id": "aq6n0iCGmvJT",
        "outputId": "b0515357-a777-4208-dc57-ba9fef52c2f8"
      },
      "execution_count": null,
      "outputs": [
        {
          "output_type": "execute_result",
          "data": {
            "text/plain": [
              "((800, 1, 28, 28), (800, 2, 1))"
            ]
          },
          "metadata": {},
          "execution_count": 86
        }
      ]
    },
    {
      "cell_type": "markdown",
      "source": [
        "# Функция обучения"
      ],
      "metadata": {
        "id": "ZgTeJsoI7FeS"
      }
    },
    {
      "cell_type": "code",
      "source": [
        "\n",
        "def predict(network, input):\n",
        "    output = input\n",
        "    for layer in network:\n",
        "        output = layer.forward(output)\n",
        "    return output\n",
        "\n",
        "'''\n",
        "Функция тренировки\n",
        "network - список из самописных слоев с прямым (forward) и обратным проходом\n",
        "loss - функция прямого (forward) прохода функции потерь (принимает на вектора ответов и прогнозов)\n",
        "loss_prime - функция обратного  (backward) прохода функции потерь (принимает на вектора ответов и прогнозов)\n",
        "x_train - входные данные (изображения)\n",
        "у_train - ответы (one-hot вектора для классификации)\n",
        "epoch - количество эпох (полного показывания всех точек данных)\n",
        "learning_rate - скорость обучения\n",
        "verbose - отображать ли loss при обучении\n",
        "'''\n",
        "def train(network, loss, loss_prime, x_train, y_train, epochs = 1000, learning_rate = 0.01, verbose = True):\n",
        "    # итерируемся по всем эпохам\n",
        "    for e in range(epochs):\n",
        "        # считаем ошибку\n",
        "        error = 0\n",
        "        # распаковываем картинки и их one-hot ответы\n",
        "        for x, y in zip(x_train, y_train):\n",
        "            # прямой проход\n",
        "            output = predict(network, x)\n",
        "            # значения функции потерь\n",
        "            error += loss(y, output)\n",
        "            # градиент функции потерь\n",
        "            grad = loss_prime(y, output)\n",
        "            # идет от выходов к входам\n",
        "            for layer in reversed(network):\n",
        "                # вызывая метод backward каждого элемента, подавая градиент по входам с прошлых шагов\n",
        "                # на первом шаге это градиент функции потерь\n",
        "                grad = layer.backward(grad, learning_rate)\n",
        "        # усредняем ошибку для всей эпохи\n",
        "        error /= len(x_train)\n",
        "        # отображаем, если включено\n",
        "        if verbose:\n",
        "            print(f\"{e + 1}/{epochs}, error={error}\")"
      ],
      "metadata": {
        "id": "HhJq7VlUmyce"
      },
      "execution_count": null,
      "outputs": []
    },
    {
      "cell_type": "markdown",
      "source": [
        "# Инициализация сети и обучение"
      ],
      "metadata": {
        "id": "DKTDWan57Hp_"
      }
    },
    {
      "cell_type": "code",
      "source": [
        "# инициализируем двуслойную сверточную нейросеть\n",
        "network = [\n",
        "    Convolutional((1, 28, 28), 3, 10),\n",
        "    Tanh(),\n",
        "    Convolutional((10, 26, 26), 3, 5),\n",
        "    Tanh(),\n",
        "    Reshape((5, 24, 24), (5 * 24 * 24, 1)),\n",
        "    Dense(5 * 24 * 24, 100),\n",
        "    Sigmoid(),\n",
        "    Dense(100, 2),\n",
        "    Sigmoid()\n",
        "]\n",
        "\n",
        "# вызываем функцию обучени\n",
        "train(\n",
        "    network,\n",
        "    binary_cross_entropy,\n",
        "    binary_cross_entropy_prime,\n",
        "    x_train,\n",
        "    y_train,\n",
        "    epochs=5,\n",
        "    learning_rate=0.003\n",
        ")"
      ],
      "metadata": {
        "colab": {
          "base_uri": "https://localhost:8080/"
        },
        "id": "-2CTTY-Fm61i",
        "outputId": "a5055bb6-817d-4702-c2db-b40c71636d4c"
      },
      "execution_count": null,
      "outputs": [
        {
          "output_type": "stream",
          "name": "stdout",
          "text": [
            "1/5, error=0.233487239060428\n",
            "2/5, error=0.047244159486240875\n",
            "3/5, error=0.028422261412998587\n",
            "4/5, error=0.020045096008148654\n",
            "5/5, error=0.015657393695199556\n"
          ]
        }
      ]
    },
    {
      "cell_type": "code",
      "source": [
        "x_test[:2]"
      ],
      "metadata": {
        "colab": {
          "base_uri": "https://localhost:8080/"
        },
        "id": "BHpF1ItHd_7b",
        "outputId": "a9abca61-d9d4-4fc4-c3c7-d4e750275e6e"
      },
      "execution_count": null,
      "outputs": [
        {
          "output_type": "execute_result",
          "data": {
            "text/plain": [
              "array([[[[0., 0., 0., ..., 0., 0., 0.],\n",
              "         [0., 0., 0., ..., 0., 0., 0.],\n",
              "         [0., 0., 0., ..., 0., 0., 0.],\n",
              "         ...,\n",
              "         [0., 0., 0., ..., 0., 0., 0.],\n",
              "         [0., 0., 0., ..., 0., 0., 0.],\n",
              "         [0., 0., 0., ..., 0., 0., 0.]]],\n",
              "\n",
              "\n",
              "       [[[0., 0., 0., ..., 0., 0., 0.],\n",
              "         [0., 0., 0., ..., 0., 0., 0.],\n",
              "         [0., 0., 0., ..., 0., 0., 0.],\n",
              "         ...,\n",
              "         [0., 0., 0., ..., 0., 0., 0.],\n",
              "         [0., 0., 0., ..., 0., 0., 0.],\n",
              "         [0., 0., 0., ..., 0., 0., 0.]]]], dtype=float32)"
            ]
          },
          "metadata": {},
          "execution_count": 56
        }
      ]
    },
    {
      "cell_type": "code",
      "source": [
        "import matplotlib.pyplot as plt\n",
        "\n",
        "plt.figure(figsize=(6, 6))\n",
        "plt.title(f'Реальный ответ: {np.argmax(y_test[0])}', fontdict={'fontsize':18})\n",
        "plt.imshow(x_test[0].reshape((28, 28)), cmap='gray')"
      ],
      "metadata": {
        "colab": {
          "base_uri": "https://localhost:8080/",
          "height": 411
        },
        "id": "ioz4cUcEehoY",
        "outputId": "a742dbdd-6e06-4922-e007-d6a0c4cf67ff"
      },
      "execution_count": null,
      "outputs": [
        {
          "output_type": "execute_result",
          "data": {
            "text/plain": [
              "<matplotlib.image.AxesImage at 0x7fec28eb2f90>"
            ]
          },
          "metadata": {},
          "execution_count": 65
        },
        {
          "output_type": "display_data",
          "data": {
            "image/png": "[encoded data removed]",
            "text/plain": [
              "<Figure size 432x432 with 1 Axes>"
            ]
          },
          "metadata": {
            "needs_background": "light"
          }
        }
      ]
    },
    {
      "cell_type": "code",
      "source": [
        "y_test[:2]"
      ],
      "metadata": {
        "colab": {
          "base_uri": "https://localhost:8080/"
        },
        "id": "ocpN536qedSR",
        "outputId": "9044ba54-5211-411b-ac59-2f80554368b7"
      },
      "execution_count": null,
      "outputs": [
        {
          "output_type": "execute_result",
          "data": {
            "text/plain": [
              "array([[[1.],\n",
              "        [0.]],\n",
              "\n",
              "       [[1.],\n",
              "        [0.]]], dtype=float32)"
            ]
          },
          "metadata": {},
          "execution_count": 57
        }
      ]
    },
    {
      "cell_type": "code",
      "source": [
        "x_test[:2].shape"
      ],
      "metadata": {
        "colab": {
          "base_uri": "https://localhost:8080/"
        },
        "id": "JoN6m2ArfWwa",
        "outputId": "28456cd2-4491-4320-e9e9-a3dc7278e858"
      },
      "execution_count": null,
      "outputs": [
        {
          "output_type": "execute_result",
          "data": {
            "text/plain": [
              "(2, 1, 28, 28)"
            ]
          },
          "metadata": {},
          "execution_count": 67
        }
      ]
    },
    {
      "cell_type": "code",
      "source": [
        "preds = [predict(network, x_test[i]) for i in range(len(x_test))]\n",
        "np.array(preds).shape"
      ],
      "metadata": {
        "colab": {
          "base_uri": "https://localhost:8080/"
        },
        "id": "UkeQk_vtnn5Q",
        "outputId": "9786ca17-c3cf-4d84-d982-05c9cbb88f90"
      },
      "execution_count": null,
      "outputs": [
        {
          "output_type": "execute_result",
          "data": {
            "text/plain": [
              "(2115, 2, 1)"
            ]
          },
          "metadata": {},
          "execution_count": 108
        }
      ]
    },
    {
      "cell_type": "code",
      "source": [
        "preds = np.argmax(np.array(preds), axis=1)\n",
        "preds.shape"
      ],
      "metadata": {
        "colab": {
          "base_uri": "https://localhost:8080/"
        },
        "id": "Q7dM2qt3fMM7",
        "outputId": "fa7e05be-bf78-4a23-8813-52994bc29a07"
      },
      "execution_count": null,
      "outputs": [
        {
          "output_type": "execute_result",
          "data": {
            "text/plain": [
              "(2115, 1)"
            ]
          },
          "metadata": {},
          "execution_count": 109
        }
      ]
    },
    {
      "cell_type": "code",
      "source": [
        "real = np.argmax(y_test, axis=1)\n",
        "real.shape"
      ],
      "metadata": {
        "colab": {
          "base_uri": "https://localhost:8080/"
        },
        "id": "-RXdOP1CfubK",
        "outputId": "8cca43b2-e644-43ce-fe59-51be16d10d19"
      },
      "execution_count": null,
      "outputs": [
        {
          "output_type": "execute_result",
          "data": {
            "text/plain": [
              "(2115, 1)"
            ]
          },
          "metadata": {},
          "execution_count": 110
        }
      ]
    },
    {
      "cell_type": "code",
      "source": [
        "from sklearn.metrics import classification_report\n",
        "\n",
        "print(classification_report(real, preds))"
      ],
      "metadata": {
        "colab": {
          "base_uri": "https://localhost:8080/"
        },
        "id": "Tl84yvVTgDOx",
        "outputId": "68e89205-4832-4837-87e6-8c7213121a0e"
      },
      "execution_count": null,
      "outputs": [
        {
          "output_type": "stream",
          "name": "stdout",
          "text": [
            "              precision    recall  f1-score   support\n",
            "\n",
            "           0       0.99      1.00      0.99       980\n",
            "           1       1.00      0.99      0.99      1135\n",
            "\n",
            "    accuracy                           0.99      2115\n",
            "   macro avg       0.99      0.99      0.99      2115\n",
            "weighted avg       0.99      0.99      0.99      2115\n",
            "\n"
          ]
        }
      ]
    },
    {
      "cell_type": "code",
      "source": [
        "import matplotlib.pyplot as plt\n",
        "\n",
        "# картинки на которых зафейлилась нейронка\n",
        "for wrong_id in np.where(real != preds)[0]:\n",
        "    plt.figure(figsize=(6, 6))\n",
        "    plt.title(f'Реальный ответ: {np.argmax(y_test[wrong_id])}', fontdict={'fontsize':18})\n",
        "    plt.imshow(x_test[wrong_id].reshape((28, 28)), cmap='gray')"
      ],
      "metadata": {
        "colab": {
          "base_uri": "https://localhost:8080/",
          "height": 1000
        },
        "id": "gv3eFqUPgRKY",
        "outputId": "a46a5137-0ddd-4fc7-85e8-1ddad5f604fb"
      },
      "execution_count": null,
      "outputs": [
        {
          "output_type": "display_data",
          "data": {
            "image/png": "[encoded data removed]",
            "text/plain": [
              "<Figure size 432x432 with 1 Axes>"
            ]
          },
          "metadata": {
            "needs_background": "light"
          }
        },
        {
          "output_type": "display_data",
          "data": {
            "image/png": "[encoded data removed]",
            "text/plain": [
              "<Figure size 432x432 with 1 Axes>"
            ]
          },
          "metadata": {
            "needs_background": "light"
          }
        },
        {
          "output_type": "display_data",
          "data": {
            "image/png": "[encoded data removed]",
            "text/plain": [
              "<Figure size 432x432 with 1 Axes>"
            ]
          },
          "metadata": {
            "needs_background": "light"
          }
        },
        {
          "output_type": "display_data",
          "data": {
            "image/png": "[encoded data removed]",
            "text/plain": [
              "<Figure size 432x432 with 1 Axes>"
            ]
          },
          "metadata": {
            "needs_background": "light"
          }
        },
        {
          "output_type": "display_data",
          "data": {
            "image/png": "[encoded data removed]",
            "text/plain": [
              "<Figure size 432x432 with 1 Axes>"
            ]
          },
          "metadata": {
            "needs_background": "light"
          }
        },
        {
          "output_type": "display_data",
          "data": {
            "image/png": "[encoded data removed]",
            "text/plain": [
              "<Figure size 432x432 with 1 Axes>"
            ]
          },
          "metadata": {
            "needs_background": "light"
          }
        },
        {
          "output_type": "display_data",
          "data": {
            "image/png": "[encoded data removed]",
            "text/plain": [
              "<Figure size 432x432 with 1 Axes>"
            ]
          },
          "metadata": {
            "needs_background": "light"
          }
        },
        {
          "output_type": "display_data",
          "data": {
            "image/png": "[encoded data removed]",
            "text/plain": [
              "<Figure size 432x432 with 1 Axes>"
            ]
          },
          "metadata": {
            "needs_background": "light"
          }
        },
        {
          "output_type": "display_data",
          "data": {
            "image/png": "[encoded data removed]",
            "text/plain": [
              "<Figure size 432x432 with 1 Axes>"
            ]
          },
          "metadata": {
            "needs_background": "light"
          }
        },
        {
          "output_type": "display_data",
          "data": {
            "image/png": "[encoded data removed]",
            "text/plain": [
              "<Figure size 432x432 with 1 Axes>"
            ]
          },
          "metadata": {
            "needs_background": "light"
          }
        },
        {
          "output_type": "display_data",
          "data": {
            "image/png": "[encoded data removed]",
            "text/plain": [
              "<Figure size 432x432 with 1 Axes>"
            ]
          },
          "metadata": {
            "needs_background": "light"
          }
        },
        {
          "output_type": "display_data",
          "data": {
            "image/png": "[encoded data removed]",
            "text/plain": [
              "<Figure size 432x432 with 1 Axes>"
            ]
          },
          "metadata": {
            "needs_background": "light"
          }
        },
        {
          "output_type": "display_data",
          "data": {
            "image/png": "[encoded data removed]",
            "text/plain": [
              "<Figure size 432x432 with 1 Axes>"
            ]
          },
          "metadata": {
            "needs_background": "light"
          }
        },
        {
          "output_type": "display_data",
          "data": {
            "image/png": "[encoded data removed]",
            "text/plain": [
              "<Figure size 432x432 with 1 Axes>"
            ]
          },
          "metadata": {
            "needs_background": "light"
          }
        }
      ]
    },
    {
      "cell_type": "code",
      "source": [
        ""
      ],
      "metadata": {
        "id": "63M7nwu6jTrs"
      },
      "execution_count": null,
      "outputs": []
    }
  ]
}