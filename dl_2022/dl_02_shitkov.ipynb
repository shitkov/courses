{
  "nbformat": 4,
  "nbformat_minor": 0,
  "metadata": {
    "colab": {
      "name": "dl_02_shitkov.ipynb",
      "provenance": [],
      "collapsed_sections": []
    },
    "kernelspec": {
      "name": "python3",
      "display_name": "Python 3"
    },
    "language_info": {
      "name": "python"
    },
    "accelerator": "GPU",
    "widgets": {
      "application/vnd.jupyter.widget-state+json": {
        "7c30daabcb90405593c64b78db6b9c06": {
          "model_module": "@jupyter-widgets/controls",
          "model_name": "HBoxModel",
          "model_module_version": "1.5.0",
          "state": {
            "_dom_classes": [],
            "_model_module": "@jupyter-widgets/controls",
            "_model_module_version": "1.5.0",
            "_model_name": "HBoxModel",
            "_view_count": null,
            "_view_module": "@jupyter-widgets/controls",
            "_view_module_version": "1.5.0",
            "_view_name": "HBoxView",
            "box_style": "",
            "children": [
              "IPY_MODEL_d3ad143b4a3b41cfa8798b1eb8d08b3b",
              "IPY_MODEL_42f1ef482b8440ee859170debe473c7c",
              "IPY_MODEL_4a46bbb795b24376b2faa388f8693460"
            ],
            "layout": "IPY_MODEL_2771cb47e0f94a169bb35bb1b32e8098"
          }
        },
        "d3ad143b4a3b41cfa8798b1eb8d08b3b": {
          "model_module": "@jupyter-widgets/controls",
          "model_name": "HTMLModel",
          "model_module_version": "1.5.0",
          "state": {
            "_dom_classes": [],
            "_model_module": "@jupyter-widgets/controls",
            "_model_module_version": "1.5.0",
            "_model_name": "HTMLModel",
            "_view_count": null,
            "_view_module": "@jupyter-widgets/controls",
            "_view_module_version": "1.5.0",
            "_view_name": "HTMLView",
            "description": "",
            "description_tooltip": null,
            "layout": "IPY_MODEL_ba38cddce73746978499042ff7f788cd",
            "placeholder": "​",
            "style": "IPY_MODEL_065e7af37f43452eac809af7b7a9fbc4",
            "value": "100%"
          }
        },
        "42f1ef482b8440ee859170debe473c7c": {
          "model_module": "@jupyter-widgets/controls",
          "model_name": "FloatProgressModel",
          "model_module_version": "1.5.0",
          "state": {
            "_dom_classes": [],
            "_model_module": "@jupyter-widgets/controls",
            "_model_module_version": "1.5.0",
            "_model_name": "FloatProgressModel",
            "_view_count": null,
            "_view_module": "@jupyter-widgets/controls",
            "_view_module_version": "1.5.0",
            "_view_name": "ProgressView",
            "bar_style": "success",
            "description": "",
            "description_tooltip": null,
            "layout": "IPY_MODEL_d9dc2ab7dd5e464f92a6f777840d6804",
            "max": 46830571,
            "min": 0,
            "orientation": "horizontal",
            "style": "IPY_MODEL_722e1a4fac544c85ba2e7dfea5f3e533",
            "value": 46830571
          }
        },
        "4a46bbb795b24376b2faa388f8693460": {
          "model_module": "@jupyter-widgets/controls",
          "model_name": "HTMLModel",
          "model_module_version": "1.5.0",
          "state": {
            "_dom_classes": [],
            "_model_module": "@jupyter-widgets/controls",
            "_model_module_version": "1.5.0",
            "_model_name": "HTMLModel",
            "_view_count": null,
            "_view_module": "@jupyter-widgets/controls",
            "_view_module_version": "1.5.0",
            "_view_name": "HTMLView",
            "description": "",
            "description_tooltip": null,
            "layout": "IPY_MODEL_d3ea3544c71c440da6c4a7fe7053c10b",
            "placeholder": "​",
            "style": "IPY_MODEL_69d6d187c28e4e76a841f89ef3aad027",
            "value": " 44.7M/44.7M [00:00&lt;00:00, 65.1MB/s]"
          }
        },
        "2771cb47e0f94a169bb35bb1b32e8098": {
          "model_module": "@jupyter-widgets/base",
          "model_name": "LayoutModel",
          "model_module_version": "1.2.0",
          "state": {
            "_model_module": "@jupyter-widgets/base",
            "_model_module_version": "1.2.0",
            "_model_name": "LayoutModel",
            "_view_count": null,
            "_view_module": "@jupyter-widgets/base",
            "_view_module_version": "1.2.0",
            "_view_name": "LayoutView",
            "align_content": null,
            "align_items": null,
            "align_self": null,
            "border": null,
            "bottom": null,
            "display": null,
            "flex": null,
            "flex_flow": null,
            "grid_area": null,
            "grid_auto_columns": null,
            "grid_auto_flow": null,
            "grid_auto_rows": null,
            "grid_column": null,
            "grid_gap": null,
            "grid_row": null,
            "grid_template_areas": null,
            "grid_template_columns": null,
            "grid_template_rows": null,
            "height": null,
            "justify_content": null,
            "justify_items": null,
            "left": null,
            "margin": null,
            "max_height": null,
            "max_width": null,
            "min_height": null,
            "min_width": null,
            "object_fit": null,
            "object_position": null,
            "order": null,
            "overflow": null,
            "overflow_x": null,
            "overflow_y": null,
            "padding": null,
            "right": null,
            "top": null,
            "visibility": null,
            "width": null
          }
        },
        "ba38cddce73746978499042ff7f788cd": {
          "model_module": "@jupyter-widgets/base",
          "model_name": "LayoutModel",
          "model_module_version": "1.2.0",
          "state": {
            "_model_module": "@jupyter-widgets/base",
            "_model_module_version": "1.2.0",
            "_model_name": "LayoutModel",
            "_view_count": null,
            "_view_module": "@jupyter-widgets/base",
            "_view_module_version": "1.2.0",
            "_view_name": "LayoutView",
            "align_content": null,
            "align_items": null,
            "align_self": null,
            "border": null,
            "bottom": null,
            "display": null,
            "flex": null,
            "flex_flow": null,
            "grid_area": null,
            "grid_auto_columns": null,
            "grid_auto_flow": null,
            "grid_auto_rows": null,
            "grid_column": null,
            "grid_gap": null,
            "grid_row": null,
            "grid_template_areas": null,
            "grid_template_columns": null,
            "grid_template_rows": null,
            "height": null,
            "justify_content": null,
            "justify_items": null,
            "left": null,
            "margin": null,
            "max_height": null,
            "max_width": null,
            "min_height": null,
            "min_width": null,
            "object_fit": null,
            "object_position": null,
            "order": null,
            "overflow": null,
            "overflow_x": null,
            "overflow_y": null,
            "padding": null,
            "right": null,
            "top": null,
            "visibility": null,
            "width": null
          }
        },
        "065e7af37f43452eac809af7b7a9fbc4": {
          "model_module": "@jupyter-widgets/controls",
          "model_name": "DescriptionStyleModel",
          "model_module_version": "1.5.0",
          "state": {
            "_model_module": "@jupyter-widgets/controls",
            "_model_module_version": "1.5.0",
            "_model_name": "DescriptionStyleModel",
            "_view_count": null,
            "_view_module": "@jupyter-widgets/base",
            "_view_module_version": "1.2.0",
            "_view_name": "StyleView",
            "description_width": ""
          }
        },
        "d9dc2ab7dd5e464f92a6f777840d6804": {
          "model_module": "@jupyter-widgets/base",
          "model_name": "LayoutModel",
          "model_module_version": "1.2.0",
          "state": {
            "_model_module": "@jupyter-widgets/base",
            "_model_module_version": "1.2.0",
            "_model_name": "LayoutModel",
            "_view_count": null,
            "_view_module": "@jupyter-widgets/base",
            "_view_module_version": "1.2.0",
            "_view_name": "LayoutView",
            "align_content": null,
            "align_items": null,
            "align_self": null,
            "border": null,
            "bottom": null,
            "display": null,
            "flex": null,
            "flex_flow": null,
            "grid_area": null,
            "grid_auto_columns": null,
            "grid_auto_flow": null,
            "grid_auto_rows": null,
            "grid_column": null,
            "grid_gap": null,
            "grid_row": null,
            "grid_template_areas": null,
            "grid_template_columns": null,
            "grid_template_rows": null,
            "height": null,
            "justify_content": null,
            "justify_items": null,
            "left": null,
            "margin": null,
            "max_height": null,
            "max_width": null,
            "min_height": null,
            "min_width": null,
            "object_fit": null,
            "object_position": null,
            "order": null,
            "overflow": null,
            "overflow_x": null,
            "overflow_y": null,
            "padding": null,
            "right": null,
            "top": null,
            "visibility": null,
            "width": null
          }
        },
        "722e1a4fac544c85ba2e7dfea5f3e533": {
          "model_module": "@jupyter-widgets/controls",
          "model_name": "ProgressStyleModel",
          "model_module_version": "1.5.0",
          "state": {
            "_model_module": "@jupyter-widgets/controls",
            "_model_module_version": "1.5.0",
            "_model_name": "ProgressStyleModel",
            "_view_count": null,
            "_view_module": "@jupyter-widgets/base",
            "_view_module_version": "1.2.0",
            "_view_name": "StyleView",
            "bar_color": null,
            "description_width": ""
          }
        },
        "d3ea3544c71c440da6c4a7fe7053c10b": {
          "model_module": "@jupyter-widgets/base",
          "model_name": "LayoutModel",
          "model_module_version": "1.2.0",
          "state": {
            "_model_module": "@jupyter-widgets/base",
            "_model_module_version": "1.2.0",
            "_model_name": "LayoutModel",
            "_view_count": null,
            "_view_module": "@jupyter-widgets/base",
            "_view_module_version": "1.2.0",
            "_view_name": "LayoutView",
            "align_content": null,
            "align_items": null,
            "align_self": null,
            "border": null,
            "bottom": null,
            "display": null,
            "flex": null,
            "flex_flow": null,
            "grid_area": null,
            "grid_auto_columns": null,
            "grid_auto_flow": null,
            "grid_auto_rows": null,
            "grid_column": null,
            "grid_gap": null,
            "grid_row": null,
            "grid_template_areas": null,
            "grid_template_columns": null,
            "grid_template_rows": null,
            "height": null,
            "justify_content": null,
            "justify_items": null,
            "left": null,
            "margin": null,
            "max_height": null,
            "max_width": null,
            "min_height": null,
            "min_width": null,
            "object_fit": null,
            "object_position": null,
            "order": null,
            "overflow": null,
            "overflow_x": null,
            "overflow_y": null,
            "padding": null,
            "right": null,
            "top": null,
            "visibility": null,
            "width": null
          }
        },
        "69d6d187c28e4e76a841f89ef3aad027": {
          "model_module": "@jupyter-widgets/controls",
          "model_name": "DescriptionStyleModel",
          "model_module_version": "1.5.0",
          "state": {
            "_model_module": "@jupyter-widgets/controls",
            "_model_module_version": "1.5.0",
            "_model_name": "DescriptionStyleModel",
            "_view_count": null,
            "_view_module": "@jupyter-widgets/base",
            "_view_module_version": "1.2.0",
            "_view_name": "StyleView",
            "description_width": ""
          }
        }
      }
    }
  },
  "cells": [
    {
      "cell_type": "markdown",
      "source": [
        "#Домашнее задание №2\n",
        "\n",
        "Источник данных:\n",
        "https://www.kaggle.com/andrewmvd/animal-faces\n",
        "\n",
        "(Для загрузки необходима регистрация на kaggle, в верхней части страницы кнопка download для загрузки архива. Альтернативно - загрузка через kaggle api напрямую в colab: https://colab.research.google.com/github/corrieann/kaggle/blob/master/kaggle_api_in_colab.ipynb )\n",
        "\n",
        "- Необходимо реализовать систему классификации лиц животных. Задача представляет из себя классификацию на 3 класса. \n",
        "- Необходимо загрузить изображения и привести их к единому формату. Важно понимать, что исходное разрешение очень больше, и простые сети на несколько слоев могут выдать не такое хорошее качество. \n",
        "- Необходимо обучить нейросеть для распознавания 3 классов, желательно будет сравнить результаты на нескольких параметрах.\n",
        "- Оценить по метрикам качества для каждого класса.\n",
        "- Важно визуализировать результат прогноза (на тесте) в человеко-читаемом формате с подписью.\n",
        "\n",
        "На отлично:\n",
        "- Aугментация изображений.\n",
        "- Файнтюнинг крупной сверточной сети.\n",
        "\n",
        "Подсказки:\n",
        "Как найти файлы в папках: https://pythoner.name/walk\n",
        "Как загрузить изображение по пути:\n",
        "from PIL import Image\n",
        "from keras.preprocessing.image import img_to_array\n",
        "import matplotlib.pyplot as plt\n",
        "\n",
        "img = np.asarray(Image.open(path_to_image))\n",
        "plt.imshow(img_to_array(img))\n",
        "\n",
        "***\n",
        "\n",
        "Присылать дз можно как ссылкой на колаб (предпочтительнее) так и ноутбуком. Альтернативно - гит/кеггл, где в описании аккаунта указаны ваши инициалы.\n",
        "\n",
        "Ваши решения присылать ссылкой на ноутбук на почту mlsber.fall21@gmail.com (с пометкой \"Про\" в теме письма)\n",
        "\n",
        "ВАЖНО:\n",
        "* В шапке укажите ваше ФИО и номер задания.\n",
        "* Когда выбираете \"поделиться\" в колабе нажимайте \"изменить\" и выставляйте \"доступные пользователям у которых есть ссылка\" - иначе у нас нет прав на просмотр вашего решения."
      ],
      "metadata": {
        "id": "4l_NFIDxszg4"
      }
    },
    {
      "cell_type": "markdown",
      "source": [
        "###Полезные ссылки:"
      ],
      "metadata": {
        "id": "5-85OxvGkXH2"
      }
    },
    {
      "cell_type": "markdown",
      "source": [
        "https://medium.com/bitgrit-data-science-publication/building-an-image-classification-model-with-pytorch-from-scratch-f10452073212"
      ],
      "metadata": {
        "id": "mUVOzEp3kVfm"
      }
    },
    {
      "cell_type": "markdown",
      "source": [
        "###1. Загрузить данные"
      ],
      "metadata": {
        "id": "ewTt-HYTFOjZ"
      }
    },
    {
      "cell_type": "code",
      "source": [
        "from google.colab import drive\n",
        "drive.mount('/drive')"
      ],
      "metadata": {
        "colab": {
          "base_uri": "https://localhost:8080/"
        },
        "id": "lEy-0KPXFdVE",
        "outputId": "09714083-35c5-4aa2-b5dc-3cfbf292e2fc"
      },
      "execution_count": 70,
      "outputs": [
        {
          "output_type": "stream",
          "name": "stdout",
          "text": [
            "Drive already mounted at /drive; to attempt to forcibly remount, call drive.mount(\"/drive\", force_remount=True).\n"
          ]
        }
      ]
    },
    {
      "cell_type": "code",
      "source": [
        "%%capture\n",
        "!unzip /drive/MyDrive/ml/dl_course_2022/02/archive.zip -d /content"
      ],
      "metadata": {
        "id": "qftg_cdnHkBw"
      },
      "execution_count": 71,
      "outputs": []
    },
    {
      "cell_type": "code",
      "source": [
        "import torch\n",
        "import torch.nn as nn\n",
        "import torch.optim as optim\n",
        "from torch.utils.data import Dataset, DataLoader\n",
        "import numpy as np\n",
        "import matplotlib.pyplot as plt\n",
        "from PIL import Image\n",
        "import torchvision\n",
        "from torchvision import transforms\n",
        "from sklearn.metrics import f1_score, recall_score, precision_score"
      ],
      "metadata": {
        "id": "mf6iXPxXcYPH"
      },
      "execution_count": 119,
      "outputs": []
    },
    {
      "cell_type": "markdown",
      "source": [
        "###Dataset"
      ],
      "metadata": {
        "id": "V5hy0T8r6ZVg"
      }
    },
    {
      "cell_type": "code",
      "source": [
        "import os"
      ],
      "metadata": {
        "id": "5ai6HjjubN3Z"
      },
      "execution_count": 73,
      "outputs": []
    },
    {
      "cell_type": "code",
      "source": [
        "from tqdm import tqdm"
      ],
      "metadata": {
        "id": "oUpgF-rE9xUi"
      },
      "execution_count": 74,
      "outputs": []
    },
    {
      "cell_type": "code",
      "source": [
        "train_path = '/content/afhq/train'\n",
        "test_path = '/content/afhq/val'"
      ],
      "metadata": {
        "id": "qhyuup306xNQ"
      },
      "execution_count": 75,
      "outputs": []
    },
    {
      "cell_type": "code",
      "source": [
        "def get_img_paths(data_path):\n",
        "    data = []\n",
        "    for path, folder, files in os.walk(data_path):\n",
        "        if files:\n",
        "            for f in tqdm(files):\n",
        "                data.append(path + '/' + f)\n",
        "    return data\n",
        "\n",
        "train = get_img_paths(train_path)\n",
        "test = get_img_paths(test_path)"
      ],
      "metadata": {
        "id": "oUMxY3fh8NSF",
        "colab": {
          "base_uri": "https://localhost:8080/"
        },
        "outputId": "904519c0-7174-406a-c8e8-29ac317a9138"
      },
      "execution_count": 76,
      "outputs": [
        {
          "output_type": "stream",
          "name": "stderr",
          "text": [
            "100%|██████████| 5153/5153 [00:00<00:00, 1796612.51it/s]\n",
            "100%|██████████| 4738/4738 [00:00<00:00, 695819.76it/s]\n",
            "100%|██████████| 4739/4739 [00:00<00:00, 1099624.18it/s]\n",
            "100%|██████████| 500/500 [00:00<00:00, 720918.53it/s]\n",
            "100%|██████████| 500/500 [00:00<00:00, 825650.39it/s]\n",
            "100%|██████████| 500/500 [00:00<00:00, 853541.72it/s]\n"
          ]
        }
      ]
    },
    {
      "cell_type": "markdown",
      "source": [
        "###Привести изображения к единому формату"
      ],
      "metadata": {
        "id": "nunr5lxBWoPD"
      }
    },
    {
      "cell_type": "code",
      "source": [
        "labels_dict = {\n",
        "    'wild': 0,\n",
        "    'cat': 1,\n",
        "    'dog': 2\n",
        "}"
      ],
      "metadata": {
        "id": "QkbNrfBQnCzz"
      },
      "execution_count": 77,
      "outputs": []
    },
    {
      "cell_type": "code",
      "source": [
        "class CustomDataset(Dataset):\n",
        "    \n",
        "    def __init__(self, images, labels_dict):\n",
        "        self.images = images\n",
        "        self.labels_dict = labels_dict\n",
        "        \n",
        "    def __getitem__(self, index):\n",
        "        image_path = self.images[index]\n",
        "        label = self.labels_dict[image_path.split('/')[-2]]\n",
        "        image = Image.open(image_path)\n",
        "        image = image.resize((64, 64))\n",
        "        image = transforms.ToTensor()(image)\n",
        "        image = transforms.Normalize((0.5, 0.5, 0.5), (0.5, 0.5, 0.5))(image)\n",
        "        return image, label\n",
        "        \n",
        "    def __len__ (self):\n",
        "        return len(self.images)"
      ],
      "metadata": {
        "id": "YhDLBsZP_XQN"
      },
      "execution_count": 78,
      "outputs": []
    },
    {
      "cell_type": "code",
      "source": [
        "train_dataset = CustomDataset(train, labels_dict)\n",
        "test_dataset = CustomDataset(test, labels_dict)"
      ],
      "metadata": {
        "id": "Kd_kVQF2_XS9"
      },
      "execution_count": 79,
      "outputs": []
    },
    {
      "cell_type": "code",
      "source": [
        "BATCH_SIZE = 64"
      ],
      "metadata": {
        "id": "SHUy7JwNj9GE"
      },
      "execution_count": 80,
      "outputs": []
    },
    {
      "cell_type": "code",
      "source": [
        "train_loader = torch.utils.data.DataLoader(train_dataset, batch_size=BATCH_SIZE, shuffle=True)\n",
        "test_loader = torch.utils.data.DataLoader(test_dataset, batch_size=BATCH_SIZE, shuffle=True)"
      ],
      "metadata": {
        "id": "3CL_wKNsh-ae"
      },
      "execution_count": 81,
      "outputs": []
    },
    {
      "cell_type": "markdown",
      "source": [
        "###Модель"
      ],
      "metadata": {
        "id": "tN71BfttnpHX"
      }
    },
    {
      "cell_type": "code",
      "source": [
        "class SimleConvNet(torch.nn.Module):\n",
        "\n",
        "\t\n",
        "    def __init__(self):\n",
        "        super(SimleConvNet, self).__init__()\n",
        "        self.relu = nn.ReLU()\n",
        "        self.pool = nn.MaxPool2d(2, 2)\n",
        "        self.conv1 = nn.Conv2d(3, 6, 5)\n",
        "        self.conv2 = nn.Conv2d(6, 16, 5)\n",
        "        self.conv3 = nn.Conv2d(16, 32, 3)\n",
        "        self.fc1 = nn.Linear(32 * 5 * 5, 120)\n",
        "        self.fc2 = nn.Linear(120, 84)\n",
        "        self.fc3 = nn.Linear(84, 3)\n",
        "\n",
        "    def forward(self, x):\n",
        "        x = self.pool(self.relu(self.conv1(x)))\n",
        "        x = self.pool(self.relu(self.conv2(x)))\n",
        "        x = self.pool(self.relu(self.conv3(x)))\n",
        "        x = x.reshape(-1, 32 * 5 * 5)\n",
        "        x = self.relu(self.fc1(x))\n",
        "        x = self.relu(self.fc2(x))\n",
        "        x = self.fc3(x)\n",
        "        return x"
      ],
      "metadata": {
        "id": "4wXGpvfOafoF"
      },
      "execution_count": 82,
      "outputs": []
    },
    {
      "cell_type": "code",
      "source": [
        "model = SimleConvNet()"
      ],
      "metadata": {
        "id": "ulHdMrbLbX9E"
      },
      "execution_count": 83,
      "outputs": []
    },
    {
      "cell_type": "code",
      "source": [
        "device = torch.device(\"cuda:0\" if torch.cuda.is_available() else \"cpu\")"
      ],
      "metadata": {
        "id": "m1hBWIbJc8v9"
      },
      "execution_count": 84,
      "outputs": []
    },
    {
      "cell_type": "code",
      "source": [
        "model.to(device)"
      ],
      "metadata": {
        "colab": {
          "base_uri": "https://localhost:8080/"
        },
        "id": "hXKH2ihmePvW",
        "outputId": "32f81b2f-e619-48fe-ace9-466bf5beaaf1"
      },
      "execution_count": 85,
      "outputs": [
        {
          "output_type": "execute_result",
          "data": {
            "text/plain": [
              "SimleConvNet(\n",
              "  (relu): ReLU()\n",
              "  (pool): MaxPool2d(kernel_size=2, stride=2, padding=0, dilation=1, ceil_mode=False)\n",
              "  (conv1): Conv2d(3, 6, kernel_size=(5, 5), stride=(1, 1))\n",
              "  (conv2): Conv2d(6, 16, kernel_size=(5, 5), stride=(1, 1))\n",
              "  (conv3): Conv2d(16, 32, kernel_size=(3, 3), stride=(1, 1))\n",
              "  (fc1): Linear(in_features=800, out_features=120, bias=True)\n",
              "  (fc2): Linear(in_features=120, out_features=84, bias=True)\n",
              "  (fc3): Linear(in_features=84, out_features=3, bias=True)\n",
              ")"
            ]
          },
          "metadata": {},
          "execution_count": 85
        }
      ]
    },
    {
      "cell_type": "markdown",
      "source": [
        "###Обучить нейросеть"
      ],
      "metadata": {
        "id": "Pm7_dLbuWw8Y"
      }
    },
    {
      "cell_type": "code",
      "source": [
        "loss_fn = torch.nn.CrossEntropyLoss()"
      ],
      "metadata": {
        "id": "49ak3XnkniiJ"
      },
      "execution_count": 86,
      "outputs": []
    },
    {
      "cell_type": "code",
      "source": [
        "optimizer = torch.optim.AdamW(model.parameters(), lr=0.001)"
      ],
      "metadata": {
        "id": "i5KMmCmonJgd"
      },
      "execution_count": 87,
      "outputs": []
    },
    {
      "cell_type": "code",
      "source": [
        "def train(model, data_loader):\n",
        "        model.train()\n",
        "        for data in tqdm(data_loader):\n",
        "            inputs, labels = data\n",
        "            inputs = inputs.to(device)\n",
        "            labels = labels.to(device)\n",
        "            optimizer.zero_grad()\n",
        "            outputs = model(inputs)\n",
        "            loss = loss_fn(outputs, labels)\n",
        "            loss.backward()\n",
        "            optimizer.step()"
      ],
      "metadata": {
        "id": "eFG6HadIWxD8"
      },
      "execution_count": 108,
      "outputs": []
    },
    {
      "cell_type": "code",
      "source": [
        "def eval(model, data_loader):\n",
        "    predicted = []\n",
        "    labels = []\n",
        "    model.eval()\n",
        "    with torch.no_grad():\n",
        "        for data in tqdm(data_loader):\n",
        "            x, y = data\n",
        "            x = x.to(device)\n",
        "\n",
        "            outputs = model(x)\n",
        "            _, predict = torch.max(outputs.data, 1)\n",
        "            predict = predict.cpu().detach().numpy().tolist()\n",
        "            predicted += predict\n",
        "            labels += y\n",
        "        print(f1_score(labels, predicted, average=None))\n",
        "    return labels, predicted"
      ],
      "metadata": {
        "id": "v5QNVocGeZff"
      },
      "execution_count": 109,
      "outputs": []
    },
    {
      "cell_type": "code",
      "source": [
        "for epoch in range(5):\n",
        "    train(model, train_loader)\n",
        "    eval(model, test_loader)"
      ],
      "metadata": {
        "colab": {
          "base_uri": "https://localhost:8080/"
        },
        "id": "bHTADrUtnew8",
        "outputId": "9508d0e2-1259-47d2-cafe-ce5a8691ea18"
      },
      "execution_count": 90,
      "outputs": [
        {
          "output_type": "stream",
          "name": "stderr",
          "text": [
            "100%|██████████| 229/229 [01:39<00:00,  2.29it/s]\n",
            "100%|██████████| 24/24 [00:10<00:00,  2.38it/s]\n"
          ]
        },
        {
          "output_type": "stream",
          "name": "stdout",
          "text": [
            "[0.87378641 0.89620758 0.87396694]\n"
          ]
        },
        {
          "output_type": "stream",
          "name": "stderr",
          "text": [
            "100%|██████████| 229/229 [01:38<00:00,  2.32it/s]\n",
            "100%|██████████| 24/24 [00:10<00:00,  2.36it/s]\n"
          ]
        },
        {
          "output_type": "stream",
          "name": "stdout",
          "text": [
            "[0.88311688 0.90257353 0.91902834]\n"
          ]
        },
        {
          "output_type": "stream",
          "name": "stderr",
          "text": [
            "100%|██████████| 229/229 [01:43<00:00,  2.22it/s]\n",
            "100%|██████████| 24/24 [00:10<00:00,  2.27it/s]\n"
          ]
        },
        {
          "output_type": "stream",
          "name": "stdout",
          "text": [
            "[0.91078838 0.93678161 0.92741935]\n"
          ]
        },
        {
          "output_type": "stream",
          "name": "stderr",
          "text": [
            "100%|██████████| 229/229 [01:43<00:00,  2.21it/s]\n",
            "100%|██████████| 24/24 [00:10<00:00,  2.28it/s]\n"
          ]
        },
        {
          "output_type": "stream",
          "name": "stdout",
          "text": [
            "[0.93737374 0.94898941 0.9330587 ]\n"
          ]
        },
        {
          "output_type": "stream",
          "name": "stderr",
          "text": [
            "100%|██████████| 229/229 [01:43<00:00,  2.21it/s]\n",
            "100%|██████████| 24/24 [00:10<00:00,  2.26it/s]"
          ]
        },
        {
          "output_type": "stream",
          "name": "stdout",
          "text": [
            "[0.93539055 0.95967742 0.9392379 ]\n"
          ]
        },
        {
          "output_type": "stream",
          "name": "stderr",
          "text": [
            "\n"
          ]
        }
      ]
    },
    {
      "cell_type": "code",
      "source": [
        "# 0.93539055 0.95967742 0.9392379"
      ],
      "metadata": {
        "id": "MbQ1V7xewznK"
      },
      "execution_count": 91,
      "outputs": []
    },
    {
      "cell_type": "markdown",
      "source": [
        "###Cравнить результаты на нескольких параметрах"
      ],
      "metadata": {
        "id": "XMWigBXpWxK8"
      }
    },
    {
      "cell_type": "code",
      "source": [
        "# Xavier init\n",
        "\n",
        "def init_weights(m):\n",
        "    if isinstance(m, nn.Linear):\n",
        "        torch.nn.init.xavier_uniform_(m.weight)\n",
        "        m.bias.data.fill_(0.01)"
      ],
      "metadata": {
        "id": "eU3KYaZiy1vr"
      },
      "execution_count": null,
      "outputs": []
    },
    {
      "cell_type": "code",
      "source": [
        "model = SimleConvNet()\n",
        "\n",
        "model.apply(init_weights)\n",
        "model.to(device)\n",
        "optimizer = torch.optim.AdamW(model.parameters(), lr=0.001)\n",
        "\n",
        "for epoch in range(5):\n",
        "    train(model, train_loader)\n",
        "    eval(model, test_loader)"
      ],
      "metadata": {
        "colab": {
          "base_uri": "https://localhost:8080/"
        },
        "id": "enDccHm-wc6S",
        "outputId": "cca79a69-e402-4bbc-b895-94ca76594f68"
      },
      "execution_count": 94,
      "outputs": [
        {
          "output_type": "stream",
          "name": "stderr",
          "text": [
            "100%|██████████| 229/229 [01:45<00:00,  2.16it/s]\n",
            "100%|██████████| 24/24 [00:10<00:00,  2.31it/s]\n"
          ]
        },
        {
          "output_type": "stream",
          "name": "stdout",
          "text": [
            "[0.89570552 0.91615542 0.89463602]\n"
          ]
        },
        {
          "output_type": "stream",
          "name": "stderr",
          "text": [
            "100%|██████████| 229/229 [01:47<00:00,  2.13it/s]\n",
            "100%|██████████| 24/24 [00:10<00:00,  2.33it/s]\n"
          ]
        },
        {
          "output_type": "stream",
          "name": "stdout",
          "text": [
            "[0.92291667 0.93014354 0.93266332]\n"
          ]
        },
        {
          "output_type": "stream",
          "name": "stderr",
          "text": [
            "100%|██████████| 229/229 [01:51<00:00,  2.06it/s]\n",
            "100%|██████████| 24/24 [00:10<00:00,  2.35it/s]\n"
          ]
        },
        {
          "output_type": "stream",
          "name": "stdout",
          "text": [
            "[0.91823899 0.92553191 0.8915009 ]\n"
          ]
        },
        {
          "output_type": "stream",
          "name": "stderr",
          "text": [
            "100%|██████████| 229/229 [01:49<00:00,  2.09it/s]\n",
            "100%|██████████| 24/24 [00:11<00:00,  2.14it/s]\n"
          ]
        },
        {
          "output_type": "stream",
          "name": "stdout",
          "text": [
            "[0.9373814  0.96424923 0.93898656]\n"
          ]
        },
        {
          "output_type": "stream",
          "name": "stderr",
          "text": [
            "100%|██████████| 229/229 [01:36<00:00,  2.38it/s]\n",
            "100%|██████████| 24/24 [00:09<00:00,  2.52it/s]\n"
          ]
        },
        {
          "output_type": "stream",
          "name": "stdout",
          "text": [
            "[0.95912263 0.96593186 0.95495495]\n"
          ]
        }
      ]
    },
    {
      "cell_type": "code",
      "source": [
        "# 0.95912263 0.96593186 0.95495495"
      ],
      "metadata": {
        "id": "fhsf6XgEzrWX"
      },
      "execution_count": null,
      "outputs": []
    },
    {
      "cell_type": "code",
      "source": [
        "# add dropout\n",
        "\n",
        "class SimleConvNet2(torch.nn.Module):\n",
        "\n",
        "\t\n",
        "    def __init__(self):\n",
        "        super(SimleConvNet2, self).__init__()\n",
        "        self.relu = nn.ReLU()\n",
        "        self.pool = nn.MaxPool2d(2, 2)\n",
        "        self.dropout = nn.Dropout(p=0.1)\n",
        "        self.conv1 = nn.Conv2d(3, 6, 5)\n",
        "        self.conv2 = nn.Conv2d(6, 16, 5)\n",
        "        self.conv3 = nn.Conv2d(16, 32, 3)\n",
        "        self.fc1 = nn.Linear(32 * 5 * 5, 120)\n",
        "        self.fc2 = nn.Linear(120, 84)\n",
        "        self.fc3 = nn.Linear(84, 3)\n",
        "\n",
        "    def forward(self, x):\n",
        "        x = self.pool(self.relu(self.conv1(x)))\n",
        "        x = self.pool(self.relu(self.conv2(x)))\n",
        "        x = self.pool(self.relu(self.conv3(x)))\n",
        "        x = x.reshape(-1, 32 * 5 * 5)\n",
        "        x = self.relu(self.fc1(x))\n",
        "        x = self.dropout(x)\n",
        "        x = self.relu(self.fc2(x))\n",
        "        x = self.dropout(x)\n",
        "        x = self.fc3(x)\n",
        "        return x"
      ],
      "metadata": {
        "id": "MPtG-0KRxLSS"
      },
      "execution_count": 97,
      "outputs": []
    },
    {
      "cell_type": "code",
      "source": [
        "model = SimleConvNet2()\n",
        "\n",
        "model.apply(init_weights)\n",
        "model.to(device)\n",
        "optimizer = torch.optim.AdamW(model.parameters(), lr=0.001)\n",
        "\n",
        "for epoch in range(5):\n",
        "    train(model, train_loader)\n",
        "    eval(model, test_loader)"
      ],
      "metadata": {
        "colab": {
          "base_uri": "https://localhost:8080/"
        },
        "id": "ezDCmRAgy7HK",
        "outputId": "fb5bb16b-66ba-4bea-e94a-0abe846ee7e8"
      },
      "execution_count": 98,
      "outputs": [
        {
          "output_type": "stream",
          "name": "stderr",
          "text": [
            "100%|██████████| 229/229 [01:34<00:00,  2.42it/s]\n",
            "100%|██████████| 24/24 [00:09<00:00,  2.51it/s]\n"
          ]
        },
        {
          "output_type": "stream",
          "name": "stdout",
          "text": [
            "[0.89804325 0.90427699 0.88061127]\n"
          ]
        },
        {
          "output_type": "stream",
          "name": "stderr",
          "text": [
            "100%|██████████| 229/229 [01:33<00:00,  2.46it/s]\n",
            "100%|██████████| 24/24 [00:09<00:00,  2.54it/s]\n"
          ]
        },
        {
          "output_type": "stream",
          "name": "stdout",
          "text": [
            "[0.92198582 0.93561368 0.91265947]\n"
          ]
        },
        {
          "output_type": "stream",
          "name": "stderr",
          "text": [
            "100%|██████████| 229/229 [01:34<00:00,  2.42it/s]\n",
            "100%|██████████| 24/24 [00:09<00:00,  2.51it/s]\n"
          ]
        },
        {
          "output_type": "stream",
          "name": "stdout",
          "text": [
            "[0.94037146 0.94471387 0.92389006]\n"
          ]
        },
        {
          "output_type": "stream",
          "name": "stderr",
          "text": [
            "100%|██████████| 229/229 [01:33<00:00,  2.45it/s]\n",
            "100%|██████████| 24/24 [00:10<00:00,  2.25it/s]\n"
          ]
        },
        {
          "output_type": "stream",
          "name": "stdout",
          "text": [
            "[0.95256917 0.96138211 0.94422311]\n"
          ]
        },
        {
          "output_type": "stream",
          "name": "stderr",
          "text": [
            "100%|██████████| 229/229 [01:33<00:00,  2.44it/s]\n",
            "100%|██████████| 24/24 [00:09<00:00,  2.49it/s]\n"
          ]
        },
        {
          "output_type": "stream",
          "name": "stdout",
          "text": [
            "[0.94641052 0.9612711  0.94223108]\n"
          ]
        }
      ]
    },
    {
      "cell_type": "code",
      "source": [
        "# 0.94641052 0.9612711  0.94223108"
      ],
      "metadata": {
        "id": "C-TjXjPx20KT"
      },
      "execution_count": null,
      "outputs": []
    },
    {
      "cell_type": "code",
      "source": [
        "# batchnorm\n",
        "\n",
        "class SimleConvNet3(torch.nn.Module):\n",
        "\n",
        "\t\n",
        "    def __init__(self):\n",
        "        super(SimleConvNet3, self).__init__()\n",
        "        self.relu = nn.ReLU()\n",
        "        self.pool = nn.MaxPool2d(2, 2)\n",
        "        self.dropout = nn.Dropout(p=0.1)\n",
        "        self.conv1 = nn.Conv2d(3, 6, 5)\n",
        "        self.conv2 = nn.Conv2d(6, 16, 5)\n",
        "        self.conv3 = nn.Conv2d(16, 32, 3)\n",
        "        self.fc1 = nn.Linear(32 * 5 * 5, 120)\n",
        "        self.fc2 = nn.Linear(120, 84)\n",
        "        self.fc3 = nn.Linear(84, 3)\n",
        "        self.batchnorm1 = nn.BatchNorm1d(120)\n",
        "        self.batchnorm2 = nn.BatchNorm1d(84)\n",
        "\n",
        "    def forward(self, x):\n",
        "        x = self.pool(self.relu(self.conv1(x)))\n",
        "        x = self.pool(self.relu(self.conv2(x)))\n",
        "        x = self.pool(self.relu(self.conv3(x)))\n",
        "        x = x.reshape(-1, 32 * 5 * 5)\n",
        "        x = self.relu(self.fc1(x))\n",
        "        x = self.batchnorm1(x)\n",
        "        x = self.dropout(x)\n",
        "        x = self.relu(self.fc2(x))\n",
        "        x = self.batchnorm2(x)\n",
        "        x = self.dropout(x)\n",
        "        x = self.fc3(x)\n",
        "        return x"
      ],
      "metadata": {
        "id": "vmnnXLjFyTnC"
      },
      "execution_count": 99,
      "outputs": []
    },
    {
      "cell_type": "code",
      "source": [
        "model = SimleConvNet3()\n",
        "\n",
        "model.apply(init_weights)\n",
        "model.to(device)\n",
        "optimizer = torch.optim.AdamW(model.parameters(), lr=0.001)\n",
        "\n",
        "for epoch in range(5):\n",
        "    train(model, train_loader)\n",
        "    eval(model, test_loader)"
      ],
      "metadata": {
        "colab": {
          "base_uri": "https://localhost:8080/"
        },
        "id": "cH6htwBry_Gs",
        "outputId": "fda5c131-3dd3-46c5-ebac-d137df5b2a06"
      },
      "execution_count": 100,
      "outputs": [
        {
          "output_type": "stream",
          "name": "stderr",
          "text": [
            "100%|██████████| 229/229 [01:43<00:00,  2.22it/s]\n",
            "100%|██████████| 24/24 [00:10<00:00,  2.28it/s]\n"
          ]
        },
        {
          "output_type": "stream",
          "name": "stdout",
          "text": [
            "[0.89914163 0.93933464 0.91586998]\n"
          ]
        },
        {
          "output_type": "stream",
          "name": "stderr",
          "text": [
            "100%|██████████| 229/229 [01:34<00:00,  2.42it/s]\n",
            "100%|██████████| 24/24 [00:09<00:00,  2.52it/s]\n"
          ]
        },
        {
          "output_type": "stream",
          "name": "stdout",
          "text": [
            "[0.93065327 0.93658537 0.9244898 ]\n"
          ]
        },
        {
          "output_type": "stream",
          "name": "stderr",
          "text": [
            "100%|██████████| 229/229 [01:43<00:00,  2.22it/s]\n",
            "100%|██████████| 24/24 [00:11<00:00,  2.06it/s]\n"
          ]
        },
        {
          "output_type": "stream",
          "name": "stdout",
          "text": [
            "[0.90440387 0.88314005 0.9092827 ]\n"
          ]
        },
        {
          "output_type": "stream",
          "name": "stderr",
          "text": [
            "100%|██████████| 229/229 [01:47<00:00,  2.12it/s]\n",
            "100%|██████████| 24/24 [00:09<00:00,  2.40it/s]\n"
          ]
        },
        {
          "output_type": "stream",
          "name": "stdout",
          "text": [
            "[0.93647541 0.94980695 0.93724696]\n"
          ]
        },
        {
          "output_type": "stream",
          "name": "stderr",
          "text": [
            "100%|██████████| 229/229 [01:35<00:00,  2.40it/s]\n",
            "100%|██████████| 24/24 [00:09<00:00,  2.58it/s]\n"
          ]
        },
        {
          "output_type": "stream",
          "name": "stdout",
          "text": [
            "[0.93762994 0.95975855 0.93869732]\n"
          ]
        }
      ]
    },
    {
      "cell_type": "markdown",
      "source": [
        "###Aугментация изображений"
      ],
      "metadata": {
        "id": "3xLeuSUwulMf"
      }
    },
    {
      "cell_type": "code",
      "source": [
        "class CustomDatasetAug(Dataset):\n",
        "    \n",
        "    def __init__(self, images, labels_dict):\n",
        "        self.images = images\n",
        "        self.labels_dict = labels_dict\n",
        "        \n",
        "    def __getitem__(self, index):\n",
        "        image_path = self.images[index]\n",
        "        label = self.labels_dict[image_path.split('/')[-2]]\n",
        "        image = Image.open(image_path)\n",
        "        image = image.resize((80, 80))\n",
        "        image = transforms.RandomCrop(64)(image)\n",
        "        image = transforms.RandomHorizontalFlip()(image)\n",
        "        image = transforms.ToTensor()(image)\n",
        "        image = transforms.Normalize((0.5, 0.5, 0.5), (0.5, 0.5, 0.5))(image)\n",
        "        return image, label\n",
        "        \n",
        "    def __len__ (self):\n",
        "        return len(self.images)"
      ],
      "metadata": {
        "id": "yvDA3ZAu1VN7"
      },
      "execution_count": 101,
      "outputs": []
    },
    {
      "cell_type": "code",
      "source": [
        "train_data = get_img_paths(train_path)\n",
        "test_data = get_img_paths(test_path)"
      ],
      "metadata": {
        "colab": {
          "base_uri": "https://localhost:8080/"
        },
        "id": "Qi1aEu9d5DK9",
        "outputId": "0f19e9ea-1346-4242-f2ce-0ceaccec7cab"
      },
      "execution_count": 110,
      "outputs": [
        {
          "output_type": "stream",
          "name": "stderr",
          "text": [
            "100%|██████████| 5153/5153 [00:00<00:00, 2028270.32it/s]\n",
            "100%|██████████| 4738/4738 [00:00<00:00, 1023886.46it/s]\n",
            "100%|██████████| 4739/4739 [00:00<00:00, 2057214.52it/s]\n",
            "100%|██████████| 500/500 [00:00<00:00, 1614435.72it/s]\n",
            "100%|██████████| 500/500 [00:00<00:00, 1361787.01it/s]\n",
            "100%|██████████| 500/500 [00:00<00:00, 1217151.48it/s]\n"
          ]
        }
      ]
    },
    {
      "cell_type": "code",
      "source": [
        "train_dataset = CustomDatasetAug(train_data, labels_dict)\n",
        "test_dataset = CustomDatasetAug(test_data, labels_dict)"
      ],
      "metadata": {
        "id": "kvz8Xjmd3ISi"
      },
      "execution_count": 111,
      "outputs": []
    },
    {
      "cell_type": "code",
      "source": [
        "train_loader = torch.utils.data.DataLoader(train_dataset, batch_size=BATCH_SIZE, shuffle=True)\n",
        "test_loader = torch.utils.data.DataLoader(test_dataset, batch_size=BATCH_SIZE, shuffle=True)"
      ],
      "metadata": {
        "id": "bJzC_LHq3ISm"
      },
      "execution_count": 112,
      "outputs": []
    },
    {
      "cell_type": "code",
      "source": [
        "model = SimleConvNet3()\n",
        "\n",
        "model.apply(init_weights)\n",
        "model.to(device)\n",
        "optimizer = torch.optim.AdamW(model.parameters(), lr=0.001)\n",
        "\n",
        "for epoch in range(5):\n",
        "    train(model, train_loader)\n",
        "    eval(model, test_loader)"
      ],
      "metadata": {
        "colab": {
          "base_uri": "https://localhost:8080/"
        },
        "id": "y5M8OaZS3Cy6",
        "outputId": "025dbf91-3403-41de-e6bd-85fdbb4e47f1"
      },
      "execution_count": 113,
      "outputs": [
        {
          "output_type": "stream",
          "name": "stderr",
          "text": [
            "100%|██████████| 229/229 [01:41<00:00,  2.25it/s]\n",
            "100%|██████████| 24/24 [00:10<00:00,  2.33it/s]\n"
          ]
        },
        {
          "output_type": "stream",
          "name": "stdout",
          "text": [
            "[0.84512428 0.86635071 0.81868743]\n"
          ]
        },
        {
          "output_type": "stream",
          "name": "stderr",
          "text": [
            "100%|██████████| 229/229 [01:38<00:00,  2.32it/s]\n",
            "100%|██████████| 24/24 [00:09<00:00,  2.41it/s]\n"
          ]
        },
        {
          "output_type": "stream",
          "name": "stdout",
          "text": [
            "[0.89452333 0.91778203 0.88016529]\n"
          ]
        },
        {
          "output_type": "stream",
          "name": "stderr",
          "text": [
            "100%|██████████| 229/229 [01:38<00:00,  2.33it/s]\n",
            "100%|██████████| 24/24 [00:09<00:00,  2.41it/s]\n"
          ]
        },
        {
          "output_type": "stream",
          "name": "stdout",
          "text": [
            "[0.89611752 0.90704225 0.91242363]\n"
          ]
        },
        {
          "output_type": "stream",
          "name": "stderr",
          "text": [
            "100%|██████████| 229/229 [01:37<00:00,  2.34it/s]\n",
            "100%|██████████| 24/24 [00:09<00:00,  2.42it/s]\n"
          ]
        },
        {
          "output_type": "stream",
          "name": "stdout",
          "text": [
            "[0.93456033 0.959285   0.93596059]\n"
          ]
        },
        {
          "output_type": "stream",
          "name": "stderr",
          "text": [
            "100%|██████████| 229/229 [01:37<00:00,  2.34it/s]\n",
            "100%|██████████| 24/24 [00:09<00:00,  2.40it/s]\n"
          ]
        },
        {
          "output_type": "stream",
          "name": "stdout",
          "text": [
            "[0.93639208 0.9496124  0.93161546]\n"
          ]
        }
      ]
    },
    {
      "cell_type": "markdown",
      "source": [
        "###Оценить по метрикам качества для каждого класса "
      ],
      "metadata": {
        "id": "2ym09DXyWxYN"
      }
    },
    {
      "cell_type": "code",
      "source": [
        "labels, predicted = eval(model, test_loader)"
      ],
      "metadata": {
        "id": "nRiqLtlP4Akc"
      },
      "execution_count": null,
      "outputs": []
    },
    {
      "cell_type": "code",
      "source": [
        "print(f1_score(labels, predicted, average=None))"
      ],
      "metadata": {
        "colab": {
          "base_uri": "https://localhost:8080/"
        },
        "id": "0WLZAD_088Pq",
        "outputId": "4575cd24-bded-47fa-cb70-a00836228008"
      },
      "execution_count": 115,
      "outputs": [
        {
          "output_type": "stream",
          "name": "stdout",
          "text": [
            "[0.91553702 0.93924783 0.91434263]\n"
          ]
        }
      ]
    },
    {
      "cell_type": "code",
      "source": [
        "print(recall_score(labels, predicted, average=None))"
      ],
      "metadata": {
        "colab": {
          "base_uri": "https://localhost:8080/"
        },
        "id": "xJdfK8fc8-Nc",
        "outputId": "76769db7-f71e-448e-fc0f-da1075a191c2"
      },
      "execution_count": 121,
      "outputs": [
        {
          "output_type": "stream",
          "name": "stdout",
          "text": [
            "[0.878 0.974 0.918]\n"
          ]
        }
      ]
    },
    {
      "cell_type": "code",
      "source": [
        "print(precision_score(labels, predicted, average=None))"
      ],
      "metadata": {
        "colab": {
          "base_uri": "https://localhost:8080/"
        },
        "id": "i0TxpMRc9CN9",
        "outputId": "93192786-4ceb-4a3f-f571-4efd872f9663"
      },
      "execution_count": 118,
      "outputs": [
        {
          "output_type": "stream",
          "name": "stdout",
          "text": [
            "[0.95642702 0.90689013 0.91071429]\n"
          ]
        }
      ]
    },
    {
      "cell_type": "markdown",
      "source": [
        "###Визуализировать результат прогноза в человеко-читаемом формате с подписью"
      ],
      "metadata": {
        "id": "mVmqN8aMWxwu"
      }
    },
    {
      "cell_type": "code",
      "source": [
        "dataiter = iter(test_loader)"
      ],
      "metadata": {
        "id": "21GEDZjR9Umz"
      },
      "execution_count": 135,
      "outputs": []
    },
    {
      "cell_type": "code",
      "source": [
        "images, labels = dataiter.next()"
      ],
      "metadata": {
        "id": "Df7E3uKt9XiR"
      },
      "execution_count": 136,
      "outputs": []
    },
    {
      "cell_type": "code",
      "source": [
        "def imshow(img):\n",
        "    img = img / 2 + 0.5 # unnormalize\n",
        "    npimg = img.numpy() # convert to numpy objects\n",
        "    plt.imshow(np.transpose(npimg, (1, 2, 0)))\n",
        "    plt.show()"
      ],
      "metadata": {
        "id": "uVjyaSVD9ksw"
      },
      "execution_count": 137,
      "outputs": []
    },
    {
      "cell_type": "code",
      "source": [
        "imshow(torchvision.utils.make_grid(images))"
      ],
      "metadata": {
        "colab": {
          "base_uri": "https://localhost:8080/",
          "height": 269
        },
        "id": "cPWl3Crg9m9q",
        "outputId": "70dfc60a-9db8-4c2d-c138-69a4650c7a7d"
      },
      "execution_count": 138,
      "outputs": [
        {
          "output_type": "display_data",
          "data": {
            "text/plain": [
              "<Figure size 432x288 with 1 Axes>"
            ],
            "image/png": "[encoded data removed]"
          },
          "metadata": {
            "needs_background": "light"
          }
        }
      ]
    },
    {
      "cell_type": "code",
      "source": [
        "model.eval()\n",
        "with torch.no_grad():\n",
        "    x, y = images, labels\n",
        "    x = x.to(device)\n",
        "\n",
        "    outputs = model(x)\n",
        "    _, predict = torch.max(outputs.data, 1)\n",
        "    predict = predict.cpu().detach().numpy().tolist()"
      ],
      "metadata": {
        "id": "344TiSmW9-wC"
      },
      "execution_count": 139,
      "outputs": []
    },
    {
      "cell_type": "code",
      "source": [
        "ans_list = [list(labels_dict.keys())[list(labels_dict.values()).index(i)] for i in predict]\n",
        "ground_truth = [list(labels_dict.keys())[list(labels_dict.values()).index(i)] for i in labels]\n",
        "\n",
        "print(ans_list)\n",
        "print(ground_truth)"
      ],
      "metadata": {
        "colab": {
          "base_uri": "https://localhost:8080/"
        },
        "id": "lL7fFy9z-nlp",
        "outputId": "e00d7875-e0f0-4769-ce86-798ed169bb99"
      },
      "execution_count": 142,
      "outputs": [
        {
          "output_type": "stream",
          "name": "stdout",
          "text": [
            "['dog', 'dog', 'dog', 'wild', 'dog', 'cat', 'cat', 'dog', 'wild', 'wild', 'cat', 'dog', 'cat', 'dog', 'wild', 'cat', 'wild', 'cat', 'wild', 'dog', 'cat', 'dog', 'dog', 'cat', 'cat', 'dog', 'dog', 'wild', 'cat', 'cat', 'wild', 'wild', 'cat', 'wild', 'cat', 'cat', 'cat', 'cat', 'wild', 'dog', 'cat', 'cat', 'cat', 'wild', 'dog', 'wild', 'dog', 'wild', 'cat', 'dog', 'cat', 'wild', 'wild', 'wild', 'cat', 'dog', 'wild', 'dog', 'cat', 'wild', 'dog', 'cat', 'wild', 'cat']\n",
            "['dog', 'dog', 'dog', 'wild', 'dog', 'cat', 'cat', 'dog', 'wild', 'wild', 'cat', 'dog', 'cat', 'dog', 'wild', 'cat', 'wild', 'cat', 'wild', 'dog', 'cat', 'dog', 'dog', 'cat', 'cat', 'dog', 'dog', 'cat', 'wild', 'cat', 'wild', 'wild', 'cat', 'wild', 'cat', 'cat', 'cat', 'cat', 'wild', 'dog', 'cat', 'cat', 'cat', 'wild', 'dog', 'wild', 'dog', 'wild', 'cat', 'dog', 'cat', 'wild', 'wild', 'wild', 'cat', 'cat', 'wild', 'dog', 'dog', 'wild', 'dog', 'cat', 'wild', 'cat']\n"
          ]
        }
      ]
    },
    {
      "cell_type": "markdown",
      "source": [
        "###Файнтюнинг крупной сверточной сети"
      ],
      "metadata": {
        "id": "h1UBrzAHupmv"
      }
    },
    {
      "cell_type": "code",
      "source": [
        "from torchvision import models"
      ],
      "metadata": {
        "id": "u2fKzSPeAH_H"
      },
      "execution_count": 143,
      "outputs": []
    },
    {
      "cell_type": "code",
      "source": [
        "model = models.resnet18(pretrained=True)"
      ],
      "metadata": {
        "colab": {
          "base_uri": "https://localhost:8080/",
          "height": 67,
          "referenced_widgets": [
            "7c30daabcb90405593c64b78db6b9c06",
            "d3ad143b4a3b41cfa8798b1eb8d08b3b",
            "42f1ef482b8440ee859170debe473c7c",
            "4a46bbb795b24376b2faa388f8693460",
            "2771cb47e0f94a169bb35bb1b32e8098",
            "ba38cddce73746978499042ff7f788cd",
            "065e7af37f43452eac809af7b7a9fbc4",
            "d9dc2ab7dd5e464f92a6f777840d6804",
            "722e1a4fac544c85ba2e7dfea5f3e533",
            "d3ea3544c71c440da6c4a7fe7053c10b",
            "69d6d187c28e4e76a841f89ef3aad027"
          ]
        },
        "id": "DEErXAcqCtZ2",
        "outputId": "e864453b-0090-42a7-a06c-367bec8730e0"
      },
      "execution_count": 144,
      "outputs": [
        {
          "output_type": "stream",
          "name": "stderr",
          "text": [
            "Downloading: \"https://download.pytorch.org/models/resnet18-f37072fd.pth\" to /root/.cache/torch/hub/checkpoints/resnet18-f37072fd.pth\n"
          ]
        },
        {
          "output_type": "display_data",
          "data": {
            "text/plain": [
              "  0%|          | 0.00/44.7M [00:00<?, ?B/s]"
            ],
            "application/vnd.jupyter.widget-view+json": {
              "version_major": 2,
              "version_minor": 0,
              "model_id": "7c30daabcb90405593c64b78db6b9c06"
            }
          },
          "metadata": {}
        }
      ]
    },
    {
      "cell_type": "code",
      "source": [
        "num_ftrs = model.fc.in_features"
      ],
      "metadata": {
        "id": "vwB4cIHFC7lo"
      },
      "execution_count": 150,
      "outputs": []
    },
    {
      "cell_type": "code",
      "source": [
        "model.fc = nn.Linear(num_ftrs, 3)"
      ],
      "metadata": {
        "id": "c9EWpjtoDFdI"
      },
      "execution_count": 151,
      "outputs": []
    },
    {
      "cell_type": "code",
      "source": [
        "model.to(device)"
      ],
      "metadata": {
        "colab": {
          "base_uri": "https://localhost:8080/"
        },
        "id": "DTcXWcbPDcC_",
        "outputId": "ad09f6e9-40ac-4edc-f3a9-5db8b871e005"
      },
      "execution_count": 153,
      "outputs": [
        {
          "output_type": "execute_result",
          "data": {
            "text/plain": [
              "ResNet(\n",
              "  (conv1): Conv2d(3, 64, kernel_size=(7, 7), stride=(2, 2), padding=(3, 3), bias=False)\n",
              "  (bn1): BatchNorm2d(64, eps=1e-05, momentum=0.1, affine=True, track_running_stats=True)\n",
              "  (relu): ReLU(inplace=True)\n",
              "  (maxpool): MaxPool2d(kernel_size=3, stride=2, padding=1, dilation=1, ceil_mode=False)\n",
              "  (layer1): Sequential(\n",
              "    (0): BasicBlock(\n",
              "      (conv1): Conv2d(64, 64, kernel_size=(3, 3), stride=(1, 1), padding=(1, 1), bias=False)\n",
              "      (bn1): BatchNorm2d(64, eps=1e-05, momentum=0.1, affine=True, track_running_stats=True)\n",
              "      (relu): ReLU(inplace=True)\n",
              "      (conv2): Conv2d(64, 64, kernel_size=(3, 3), stride=(1, 1), padding=(1, 1), bias=False)\n",
              "      (bn2): BatchNorm2d(64, eps=1e-05, momentum=0.1, affine=True, track_running_stats=True)\n",
              "    )\n",
              "    (1): BasicBlock(\n",
              "      (conv1): Conv2d(64, 64, kernel_size=(3, 3), stride=(1, 1), padding=(1, 1), bias=False)\n",
              "      (bn1): BatchNorm2d(64, eps=1e-05, momentum=0.1, affine=True, track_running_stats=True)\n",
              "      (relu): ReLU(inplace=True)\n",
              "      (conv2): Conv2d(64, 64, kernel_size=(3, 3), stride=(1, 1), padding=(1, 1), bias=False)\n",
              "      (bn2): BatchNorm2d(64, eps=1e-05, momentum=0.1, affine=True, track_running_stats=True)\n",
              "    )\n",
              "  )\n",
              "  (layer2): Sequential(\n",
              "    (0): BasicBlock(\n",
              "      (conv1): Conv2d(64, 128, kernel_size=(3, 3), stride=(2, 2), padding=(1, 1), bias=False)\n",
              "      (bn1): BatchNorm2d(128, eps=1e-05, momentum=0.1, affine=True, track_running_stats=True)\n",
              "      (relu): ReLU(inplace=True)\n",
              "      (conv2): Conv2d(128, 128, kernel_size=(3, 3), stride=(1, 1), padding=(1, 1), bias=False)\n",
              "      (bn2): BatchNorm2d(128, eps=1e-05, momentum=0.1, affine=True, track_running_stats=True)\n",
              "      (downsample): Sequential(\n",
              "        (0): Conv2d(64, 128, kernel_size=(1, 1), stride=(2, 2), bias=False)\n",
              "        (1): BatchNorm2d(128, eps=1e-05, momentum=0.1, affine=True, track_running_stats=True)\n",
              "      )\n",
              "    )\n",
              "    (1): BasicBlock(\n",
              "      (conv1): Conv2d(128, 128, kernel_size=(3, 3), stride=(1, 1), padding=(1, 1), bias=False)\n",
              "      (bn1): BatchNorm2d(128, eps=1e-05, momentum=0.1, affine=True, track_running_stats=True)\n",
              "      (relu): ReLU(inplace=True)\n",
              "      (conv2): Conv2d(128, 128, kernel_size=(3, 3), stride=(1, 1), padding=(1, 1), bias=False)\n",
              "      (bn2): BatchNorm2d(128, eps=1e-05, momentum=0.1, affine=True, track_running_stats=True)\n",
              "    )\n",
              "  )\n",
              "  (layer3): Sequential(\n",
              "    (0): BasicBlock(\n",
              "      (conv1): Conv2d(128, 256, kernel_size=(3, 3), stride=(2, 2), padding=(1, 1), bias=False)\n",
              "      (bn1): BatchNorm2d(256, eps=1e-05, momentum=0.1, affine=True, track_running_stats=True)\n",
              "      (relu): ReLU(inplace=True)\n",
              "      (conv2): Conv2d(256, 256, kernel_size=(3, 3), stride=(1, 1), padding=(1, 1), bias=False)\n",
              "      (bn2): BatchNorm2d(256, eps=1e-05, momentum=0.1, affine=True, track_running_stats=True)\n",
              "      (downsample): Sequential(\n",
              "        (0): Conv2d(128, 256, kernel_size=(1, 1), stride=(2, 2), bias=False)\n",
              "        (1): BatchNorm2d(256, eps=1e-05, momentum=0.1, affine=True, track_running_stats=True)\n",
              "      )\n",
              "    )\n",
              "    (1): BasicBlock(\n",
              "      (conv1): Conv2d(256, 256, kernel_size=(3, 3), stride=(1, 1), padding=(1, 1), bias=False)\n",
              "      (bn1): BatchNorm2d(256, eps=1e-05, momentum=0.1, affine=True, track_running_stats=True)\n",
              "      (relu): ReLU(inplace=True)\n",
              "      (conv2): Conv2d(256, 256, kernel_size=(3, 3), stride=(1, 1), padding=(1, 1), bias=False)\n",
              "      (bn2): BatchNorm2d(256, eps=1e-05, momentum=0.1, affine=True, track_running_stats=True)\n",
              "    )\n",
              "  )\n",
              "  (layer4): Sequential(\n",
              "    (0): BasicBlock(\n",
              "      (conv1): Conv2d(256, 512, kernel_size=(3, 3), stride=(2, 2), padding=(1, 1), bias=False)\n",
              "      (bn1): BatchNorm2d(512, eps=1e-05, momentum=0.1, affine=True, track_running_stats=True)\n",
              "      (relu): ReLU(inplace=True)\n",
              "      (conv2): Conv2d(512, 512, kernel_size=(3, 3), stride=(1, 1), padding=(1, 1), bias=False)\n",
              "      (bn2): BatchNorm2d(512, eps=1e-05, momentum=0.1, affine=True, track_running_stats=True)\n",
              "      (downsample): Sequential(\n",
              "        (0): Conv2d(256, 512, kernel_size=(1, 1), stride=(2, 2), bias=False)\n",
              "        (1): BatchNorm2d(512, eps=1e-05, momentum=0.1, affine=True, track_running_stats=True)\n",
              "      )\n",
              "    )\n",
              "    (1): BasicBlock(\n",
              "      (conv1): Conv2d(512, 512, kernel_size=(3, 3), stride=(1, 1), padding=(1, 1), bias=False)\n",
              "      (bn1): BatchNorm2d(512, eps=1e-05, momentum=0.1, affine=True, track_running_stats=True)\n",
              "      (relu): ReLU(inplace=True)\n",
              "      (conv2): Conv2d(512, 512, kernel_size=(3, 3), stride=(1, 1), padding=(1, 1), bias=False)\n",
              "      (bn2): BatchNorm2d(512, eps=1e-05, momentum=0.1, affine=True, track_running_stats=True)\n",
              "    )\n",
              "  )\n",
              "  (avgpool): AdaptiveAvgPool2d(output_size=(1, 1))\n",
              "  (fc): Linear(in_features=512, out_features=3, bias=True)\n",
              ")"
            ]
          },
          "metadata": {},
          "execution_count": 153
        }
      ]
    },
    {
      "cell_type": "code",
      "source": [
        "class CustomDataset2(Dataset):\n",
        "    \n",
        "    def __init__(self, images, labels_dict):\n",
        "        self.images = images\n",
        "        self.labels_dict = labels_dict\n",
        "        \n",
        "    def __getitem__(self, index):\n",
        "        image_path = self.images[index]\n",
        "        label = self.labels_dict[image_path.split('/')[-2]]\n",
        "        image = Image.open(image_path)\n",
        "        image = image.resize((224, 224))\n",
        "        image = transforms.ToTensor()(image)\n",
        "        image = transforms.Normalize((0.5, 0.5, 0.5), (0.5, 0.5, 0.5))(image)\n",
        "        return image, label\n",
        "        \n",
        "    def __len__ (self):\n",
        "        return len(self.images)"
      ],
      "metadata": {
        "id": "7faeCFbTDK8P"
      },
      "execution_count": 154,
      "outputs": []
    },
    {
      "cell_type": "code",
      "source": [
        "train_data = get_img_paths(train_path)\n",
        "test_data = get_img_paths(test_path)"
      ],
      "metadata": {
        "colab": {
          "base_uri": "https://localhost:8080/"
        },
        "outputId": "b06e8939-6f23-4d94-f6bc-5c744756b856",
        "id": "kP3SMkoFDncy"
      },
      "execution_count": 155,
      "outputs": [
        {
          "output_type": "stream",
          "name": "stderr",
          "text": [
            "100%|██████████| 5153/5153 [00:00<00:00, 2059385.28it/s]\n",
            "100%|██████████| 4738/4738 [00:00<00:00, 1664094.15it/s]\n",
            "100%|██████████| 4739/4739 [00:00<00:00, 1763691.81it/s]\n",
            "100%|██████████| 500/500 [00:00<00:00, 903555.36it/s]\n",
            "100%|██████████| 500/500 [00:00<00:00, 1301770.33it/s]\n",
            "100%|██████████| 500/500 [00:00<00:00, 1358259.07it/s]\n"
          ]
        }
      ]
    },
    {
      "cell_type": "code",
      "source": [
        "train_dataset = CustomDatasetAug(train_data, labels_dict)\n",
        "test_dataset = CustomDatasetAug(test_data, labels_dict)"
      ],
      "metadata": {
        "id": "IMYk2nK1Dnc1"
      },
      "execution_count": 156,
      "outputs": []
    },
    {
      "cell_type": "code",
      "source": [
        "train_loader = torch.utils.data.DataLoader(train_dataset, batch_size=BATCH_SIZE, shuffle=True)\n",
        "test_loader = torch.utils.data.DataLoader(test_dataset, batch_size=BATCH_SIZE, shuffle=True)"
      ],
      "metadata": {
        "id": "PhqHJH3aDnc2"
      },
      "execution_count": 157,
      "outputs": []
    },
    {
      "cell_type": "code",
      "source": [
        "optimizer = torch.optim.AdamW(model.parameters(), lr=0.001)\n",
        "\n",
        "for epoch in range(5):\n",
        "    train(model, train_loader)\n",
        "    eval(model, test_loader)"
      ],
      "metadata": {
        "colab": {
          "base_uri": "https://localhost:8080/"
        },
        "id": "np6RdPLHDolf",
        "outputId": "bcc96e45-533e-44f2-8476-6c10d189d6f6"
      },
      "execution_count": 158,
      "outputs": [
        {
          "output_type": "stream",
          "name": "stderr",
          "text": [
            "100%|██████████| 229/229 [01:49<00:00,  2.09it/s]\n",
            "100%|██████████| 24/24 [00:10<00:00,  2.24it/s]\n"
          ]
        },
        {
          "output_type": "stream",
          "name": "stdout",
          "text": [
            "[0.988 0.992 0.988]\n"
          ]
        },
        {
          "output_type": "stream",
          "name": "stderr",
          "text": [
            "100%|██████████| 229/229 [01:42<00:00,  2.23it/s]\n",
            "100%|██████████| 24/24 [00:10<00:00,  2.25it/s]\n"
          ]
        },
        {
          "output_type": "stream",
          "name": "stdout",
          "text": [
            "[0.9743083  0.99297894 0.97880928]\n"
          ]
        },
        {
          "output_type": "stream",
          "name": "stderr",
          "text": [
            "100%|██████████| 229/229 [01:43<00:00,  2.21it/s]\n",
            "100%|██████████| 24/24 [00:10<00:00,  2.27it/s]\n"
          ]
        },
        {
          "output_type": "stream",
          "name": "stdout",
          "text": [
            "[0.98495486 0.99099099 0.98207171]\n"
          ]
        },
        {
          "output_type": "stream",
          "name": "stderr",
          "text": [
            "100%|██████████| 229/229 [01:42<00:00,  2.24it/s]\n",
            "100%|██████████| 24/24 [00:10<00:00,  2.24it/s]\n"
          ]
        },
        {
          "output_type": "stream",
          "name": "stdout",
          "text": [
            "[0.98178138 0.99201597 0.98415842]\n"
          ]
        },
        {
          "output_type": "stream",
          "name": "stderr",
          "text": [
            "100%|██████████| 229/229 [01:42<00:00,  2.24it/s]\n",
            "100%|██████████| 24/24 [00:10<00:00,  2.25it/s]"
          ]
        },
        {
          "output_type": "stream",
          "name": "stdout",
          "text": [
            "[0.98281092 0.99499499 0.98616601]\n"
          ]
        },
        {
          "output_type": "stream",
          "name": "stderr",
          "text": [
            "\n"
          ]
        }
      ]
    },
    {
      "cell_type": "code",
      "source": [
        "labels, predicted = eval(model, test_loader)"
      ],
      "metadata": {
        "colab": {
          "base_uri": "https://localhost:8080/"
        },
        "id": "571qhdX7DtVw",
        "outputId": "e04e49c8-be31-4d19-f19c-06b286528ef1"
      },
      "execution_count": 159,
      "outputs": [
        {
          "output_type": "stream",
          "name": "stderr",
          "text": [
            "100%|██████████| 24/24 [00:10<00:00,  2.25it/s]"
          ]
        },
        {
          "output_type": "stream",
          "name": "stdout",
          "text": [
            "[0.98380567 0.99099099 0.9851925 ]\n"
          ]
        },
        {
          "output_type": "stream",
          "name": "stderr",
          "text": [
            "\n"
          ]
        }
      ]
    },
    {
      "cell_type": "code",
      "source": [
        "print(f1_score(labels, predicted, average=None))"
      ],
      "metadata": {
        "colab": {
          "base_uri": "https://localhost:8080/"
        },
        "outputId": "3897aa42-1bb9-4e3d-e8d7-7d3cb5d3f8db",
        "id": "3jE_1h7YD4wl"
      },
      "execution_count": 160,
      "outputs": [
        {
          "output_type": "stream",
          "name": "stdout",
          "text": [
            "[0.98380567 0.99099099 0.9851925 ]\n"
          ]
        }
      ]
    },
    {
      "cell_type": "code",
      "source": [
        "print(recall_score(labels, predicted, average=None))"
      ],
      "metadata": {
        "colab": {
          "base_uri": "https://localhost:8080/"
        },
        "outputId": "6481d5d7-2820-4aa3-f0cf-f2b4ce9d3809",
        "id": "7bY3brgYD4wo"
      },
      "execution_count": 161,
      "outputs": [
        {
          "output_type": "stream",
          "name": "stdout",
          "text": [
            "[0.972 0.99  0.998]\n"
          ]
        }
      ]
    },
    {
      "cell_type": "code",
      "source": [
        "print(precision_score(labels, predicted, average=None))"
      ],
      "metadata": {
        "colab": {
          "base_uri": "https://localhost:8080/"
        },
        "outputId": "7587b3ad-e585-4f43-90c5-0d1ff45beab6",
        "id": "BWvJFfFsD4wq"
      },
      "execution_count": 162,
      "outputs": [
        {
          "output_type": "stream",
          "name": "stdout",
          "text": [
            "[0.99590164 0.99198397 0.97270955]\n"
          ]
        }
      ]
    }
  ]
}