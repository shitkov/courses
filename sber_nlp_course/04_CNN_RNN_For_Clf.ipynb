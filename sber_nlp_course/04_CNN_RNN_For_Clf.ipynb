{
  "nbformat": 4,
  "nbformat_minor": 0,
  "metadata": {
    "colab": {
      "name": "04_CNN_RNN_For_Clf.ipynb",
      "provenance": [],
      "collapsed_sections": []
    },
    "kernelspec": {
      "name": "python3",
      "display_name": "Python 3"
    },
    "accelerator": "GPU"
  },
  "cells": [
    {
      "cell_type": "code",
      "metadata": {
        "id": "mxZ0YJo5FCS9",
        "outputId": "cf02f0ea-cb7c-4bda-d613-32cab697ce12",
        "colab": {
          "base_uri": "https://localhost:8080/",
          "height": 34
        }
      },
      "source": [
        "%%writefile requirements.txt\n",
        "torch\n",
        "numpy\n",
        "pandas\n",
        "scikit-learn\n",
        "razdel"
      ],
      "execution_count": null,
      "outputs": [
        {
          "output_type": "stream",
          "text": [
            "Writing requirements.txt\n"
          ],
          "name": "stdout"
        }
      ]
    },
    {
      "cell_type": "code",
      "metadata": {
        "id": "BCnesIoqFEom",
        "outputId": "b3063a4f-16c1-40b0-beb9-ae329d2669f9",
        "colab": {
          "base_uri": "https://localhost:8080/",
          "height": 442
        }
      },
      "source": [
        "!pip install --upgrade -r requirements.txt"
      ],
      "execution_count": null,
      "outputs": [
        {
          "output_type": "stream",
          "text": [
            "Requirement already up-to-date: torch in /usr/local/lib/python3.6/dist-packages (from -r requirements.txt (line 1)) (1.3.1+cu100)\n",
            "Collecting numpy\n",
            "\u001b[?25l  Downloading https://files.pythonhosted.org/packages/d2/ab/43e678759326f728de861edbef34b8e2ad1b1490505f20e0d1f0716c3bf4/numpy-1.17.4-cp36-cp36m-manylinux1_x86_64.whl (20.0MB)\n",
            "\u001b[K     |████████████████████████████████| 20.0MB 406kB/s \n",
            "\u001b[?25hRequirement already up-to-date: pandas in /usr/local/lib/python3.6/dist-packages (from -r requirements.txt (line 3)) (0.25.3)\n",
            "Requirement already up-to-date: scikit-learn in /usr/local/lib/python3.6/dist-packages (from -r requirements.txt (line 4)) (0.21.3)\n",
            "Collecting razdel\n",
            "  Downloading https://files.pythonhosted.org/packages/cf/f0/664eb27854d7de7c3605b5cd2a155cf069143fb00902ac479325bf1a98b7/razdel-0.4.0-py2.py3-none-any.whl\n",
            "Requirement already satisfied, skipping upgrade: pytz>=2017.2 in /usr/local/lib/python3.6/dist-packages (from pandas->-r requirements.txt (line 3)) (2018.9)\n",
            "Requirement already satisfied, skipping upgrade: python-dateutil>=2.6.1 in /usr/local/lib/python3.6/dist-packages (from pandas->-r requirements.txt (line 3)) (2.6.1)\n",
            "Requirement already satisfied, skipping upgrade: joblib>=0.11 in /usr/local/lib/python3.6/dist-packages (from scikit-learn->-r requirements.txt (line 4)) (0.14.0)\n",
            "Requirement already satisfied, skipping upgrade: scipy>=0.17.0 in /usr/local/lib/python3.6/dist-packages (from scikit-learn->-r requirements.txt (line 4)) (1.3.1)\n",
            "Requirement already satisfied, skipping upgrade: six>=1.5 in /usr/local/lib/python3.6/dist-packages (from python-dateutil>=2.6.1->pandas->-r requirements.txt (line 3)) (1.12.0)\n",
            "\u001b[31mERROR: datascience 0.10.6 has requirement folium==0.2.1, but you'll have folium 0.8.3 which is incompatible.\u001b[0m\n",
            "\u001b[31mERROR: albumentations 0.1.12 has requirement imgaug<0.2.7,>=0.2.5, but you'll have imgaug 0.2.9 which is incompatible.\u001b[0m\n",
            "Installing collected packages: numpy, razdel\n",
            "  Found existing installation: numpy 1.17.3\n",
            "    Uninstalling numpy-1.17.3:\n",
            "      Successfully uninstalled numpy-1.17.3\n",
            "Successfully installed numpy-1.17.4 razdel-0.4.0\n"
          ],
          "name": "stdout"
        },
        {
          "output_type": "display_data",
          "data": {
            "application/vnd.colab-display-data+json": {
              "pip_warning": {
                "packages": [
                  "numpy"
                ]
              }
            }
          },
          "metadata": {
            "tags": []
          }
        }
      ]
    },
    {
      "cell_type": "markdown",
      "metadata": {
        "id": "bMNwfd9AwlQo"
      },
      "source": [
        "## Датасет\n",
        "\n",
        "Новый день - новый датасет!\n",
        "\n",
        "http://study.mokoron.com/\n",
        "\n",
        "https://habr.com/ru/company/mailru/blog/417767/\n",
        "\n",
        "https://habr.com/ru/post/472988/"
      ]
    },
    {
      "cell_type": "code",
      "metadata": {
        "id": "jvNpmNNsFaj1",
        "outputId": "91a437c4-8b9d-410b-af87-b8112ba5dacc",
        "colab": {
          "base_uri": "https://localhost:8080/",
          "height": 717
        }
      },
      "source": [
        "!rm negative.csv\n",
        "!rm positive.csv\n",
        "!wget https://www.dropbox.com/s/r6u59ljhhjdg6j0/negative.csv\n",
        "!wget https://www.dropbox.com/s/fnpq3z4bcnoktiv/positive.csv"
      ],
      "execution_count": null,
      "outputs": [
        {
          "output_type": "stream",
          "text": [
            "--2019-11-12 04:53:49--  https://www.dropbox.com/s/r6u59ljhhjdg6j0/negative.csv\n",
            "Resolving www.dropbox.com (www.dropbox.com)... 162.125.8.1, 2620:100:6018:1::a27d:301\n",
            "Connecting to www.dropbox.com (www.dropbox.com)|162.125.8.1|:443... connected.\n",
            "HTTP request sent, awaiting response... 301 Moved Permanently\n",
            "Location: /s/raw/r6u59ljhhjdg6j0/negative.csv [following]\n",
            "--2019-11-12 04:53:49--  https://www.dropbox.com/s/raw/r6u59ljhhjdg6j0/negative.csv\n",
            "Reusing existing connection to www.dropbox.com:443.\n",
            "HTTP request sent, awaiting response... 302 Found\n",
            "Location: https://ucafe534e7c50a2eed884b6d5656.dl.dropboxusercontent.com/cd/0/inline/AsOxFTzIp71gqEu6aHeFKs_7t-pAJ1f6tTNYRjilEGjeovdvd0zhQsT-rG61akYs1lFBp1lTpfN2PBYABg2cjdOUnggzJW_vSXnYs0Fg2Nx3CQ/file# [following]\n",
            "--2019-11-12 04:53:49--  https://ucafe534e7c50a2eed884b6d5656.dl.dropboxusercontent.com/cd/0/inline/AsOxFTzIp71gqEu6aHeFKs_7t-pAJ1f6tTNYRjilEGjeovdvd0zhQsT-rG61akYs1lFBp1lTpfN2PBYABg2cjdOUnggzJW_vSXnYs0Fg2Nx3CQ/file\n",
            "Resolving ucafe534e7c50a2eed884b6d5656.dl.dropboxusercontent.com (ucafe534e7c50a2eed884b6d5656.dl.dropboxusercontent.com)... 162.125.8.6, 2620:100:601b:6::a27d:806\n",
            "Connecting to ucafe534e7c50a2eed884b6d5656.dl.dropboxusercontent.com (ucafe534e7c50a2eed884b6d5656.dl.dropboxusercontent.com)|162.125.8.6|:443... connected.\n",
            "HTTP request sent, awaiting response... 200 OK\n",
            "Length: 24450101 (23M) [text/plain]\n",
            "Saving to: ‘negative.csv.1’\n",
            "\n",
            "negative.csv.1      100%[===================>]  23.32M  74.5MB/s    in 0.3s    \n",
            "\n",
            "2019-11-12 04:53:50 (74.5 MB/s) - ‘negative.csv.1’ saved [24450101/24450101]\n",
            "\n",
            "--2019-11-12 04:53:51--  https://www.dropbox.com/s/fnpq3z4bcnoktiv/positive.csv\n",
            "Resolving www.dropbox.com (www.dropbox.com)... 162.125.8.1, 2620:100:6018:1::a27d:301\n",
            "Connecting to www.dropbox.com (www.dropbox.com)|162.125.8.1|:443... connected.\n",
            "HTTP request sent, awaiting response... 301 Moved Permanently\n",
            "Location: /s/raw/fnpq3z4bcnoktiv/positive.csv [following]\n",
            "--2019-11-12 04:53:51--  https://www.dropbox.com/s/raw/fnpq3z4bcnoktiv/positive.csv\n",
            "Reusing existing connection to www.dropbox.com:443.\n",
            "HTTP request sent, awaiting response... 302 Found\n",
            "Location: https://uc8d8fed60388b1439b53d9c7366.dl.dropboxusercontent.com/cd/0/inline/AsMZWQ0MLGOgoZVbvm7e17pMy_QdSR1gXgPu2M4YnK1oOLN-wG9gp-XvGbm3srXTfWBVJZmN5qfBwf8yComBNAZVQAqtGDgPE_92olqdUYMz_Q/file# [following]\n",
            "--2019-11-12 04:53:51--  https://uc8d8fed60388b1439b53d9c7366.dl.dropboxusercontent.com/cd/0/inline/AsMZWQ0MLGOgoZVbvm7e17pMy_QdSR1gXgPu2M4YnK1oOLN-wG9gp-XvGbm3srXTfWBVJZmN5qfBwf8yComBNAZVQAqtGDgPE_92olqdUYMz_Q/file\n",
            "Resolving uc8d8fed60388b1439b53d9c7366.dl.dropboxusercontent.com (uc8d8fed60388b1439b53d9c7366.dl.dropboxusercontent.com)... 162.125.8.6, 2620:100:601b:6::a27d:806\n",
            "Connecting to uc8d8fed60388b1439b53d9c7366.dl.dropboxusercontent.com (uc8d8fed60388b1439b53d9c7366.dl.dropboxusercontent.com)|162.125.8.6|:443... connected.\n",
            "HTTP request sent, awaiting response... 200 OK\n",
            "Length: 26233379 (25M) [text/plain]\n",
            "Saving to: ‘positive.csv’\n",
            "\n",
            "positive.csv        100%[===================>]  25.02M  64.0MB/s    in 0.4s    \n",
            "\n",
            "2019-11-12 04:53:52 (64.0 MB/s) - ‘positive.csv’ saved [26233379/26233379]\n",
            "\n"
          ],
          "name": "stdout"
        }
      ]
    },
    {
      "cell_type": "code",
      "metadata": {
        "id": "Nf-MhHp8FhRz",
        "outputId": "33293eb8-adf3-414b-8550-6c183d658da9",
        "colab": {
          "base_uri": "https://localhost:8080/",
          "height": 419
        }
      },
      "source": [
        "import re\n",
        "import pandas as pd\n",
        "import numpy as np\n",
        "from sklearn.model_selection import train_test_split\n",
        "\n",
        "n = ['id', 'date', 'name', 'text', 'typr', 'rep', 'rtw', 'faw', 'stcount', 'foll', 'frien', 'listcount']\n",
        "data_positive = pd.read_csv('positive.csv', sep=';', error_bad_lines=False, names=n, usecols=['text'])\n",
        "data_negative = pd.read_csv('negative.csv', sep=';', error_bad_lines=False, names=n, usecols=['text'])\n",
        "\n",
        "sample_size = min(data_positive.shape[0], data_negative.shape[0])\n",
        "raw_data = np.concatenate((data_positive['text'].values[:sample_size], data_negative['text'].values[:sample_size]), axis=0)\n",
        "\n",
        "def preprocess_text(text):\n",
        "    text = text.lower().replace(\"ё\", \"е\")\n",
        "    text = re.sub('((www\\.[^\\s]+)|(https?://[^\\s]+))', 'URL', text)\n",
        "    text = re.sub('@[^\\s]+', 'USER', text)\n",
        "    text = re.sub('[^a-zA-Zа-яА-Я1-9]+', ' ', text)\n",
        "    text = re.sub(' +', ' ', text)\n",
        "    return text.strip()\n",
        "\n",
        "df_train = pd.DataFrame(columns=['text', 'label'])\n",
        "df_val = pd.DataFrame(columns=['text', 'label'])\n",
        "df_test = pd.DataFrame(columns=['text', 'label'])\n",
        "\n",
        "data = [preprocess_text(t) for t in raw_data]\n",
        "labels = [1] * sample_size + [0] * sample_size\n",
        "df_train['text'], df_test['text'], df_train['label'], df_test['label'] = train_test_split(data, labels, test_size=0.2, random_state=1)\n",
        "df_train, df_val = train_test_split(df_train, test_size=0.2, random_state=1)\n",
        "df_train"
      ],
      "execution_count": null,
      "outputs": [
        {
          "output_type": "execute_result",
          "data": {
            "text/html": [
              "<div>\n",
              "<style scoped>\n",
              "    .dataframe tbody tr th:only-of-type {\n",
              "        vertical-align: middle;\n",
              "    }\n",
              "\n",
              "    .dataframe tbody tr th {\n",
              "        vertical-align: top;\n",
              "    }\n",
              "\n",
              "    .dataframe thead th {\n",
              "        text-align: right;\n",
              "    }\n",
              "</style>\n",
              "<table border=\"1\" class=\"dataframe\">\n",
              "  <thead>\n",
              "    <tr style=\"text-align: right;\">\n",
              "      <th></th>\n",
              "      <th>text</th>\n",
              "      <th>label</th>\n",
              "    </tr>\n",
              "  </thead>\n",
              "  <tbody>\n",
              "    <tr>\n",
              "      <th>85913</th>\n",
              "      <td>раньше все встречались у фонтана в гуме а тепе...</td>\n",
              "      <td>1</td>\n",
              "    </tr>\n",
              "    <tr>\n",
              "      <th>42792</th>\n",
              "      <td>ни когда не пойму любовь женщины к женщине хот...</td>\n",
              "      <td>1</td>\n",
              "    </tr>\n",
              "    <tr>\n",
              "      <th>85556</th>\n",
              "      <td>два сеанса в кино вот что я люблю парам пам па...</td>\n",
              "      <td>1</td>\n",
              "    </tr>\n",
              "    <tr>\n",
              "      <th>36360</th>\n",
              "      <td>я нашел мой наряд для кэти перри USER URL via ...</td>\n",
              "      <td>1</td>\n",
              "    </tr>\n",
              "    <tr>\n",
              "      <th>154940</th>\n",
              "      <td>USER ууууу всеее развод обидки и все дела</td>\n",
              "      <td>1</td>\n",
              "    </tr>\n",
              "    <tr>\n",
              "      <th>...</th>\n",
              "      <td>...</td>\n",
              "      <td>...</td>\n",
              "    </tr>\n",
              "    <tr>\n",
              "      <th>73349</th>\n",
              "      <td>закидываю свой вконтакторостер строчками из пе...</td>\n",
              "      <td>1</td>\n",
              "    </tr>\n",
              "    <tr>\n",
              "      <th>109259</th>\n",
              "      <td>гребаный понедельник гребанные 4 пары хочу дом...</td>\n",
              "      <td>0</td>\n",
              "    </tr>\n",
              "    <tr>\n",
              "      <th>50057</th>\n",
              "      <td>болячки вроде подживают но губы увеличелись в ...</td>\n",
              "      <td>0</td>\n",
              "    </tr>\n",
              "    <tr>\n",
              "      <th>5192</th>\n",
              "      <td>USER я знала что она добрая а за что она тебе</td>\n",
              "      <td>1</td>\n",
              "    </tr>\n",
              "    <tr>\n",
              "      <th>128037</th>\n",
              "      <td>USER вместо похода в кино пришлось тащиться в ...</td>\n",
              "      <td>0</td>\n",
              "    </tr>\n",
              "  </tbody>\n",
              "</table>\n",
              "<p>143260 rows × 2 columns</p>\n",
              "</div>"
            ],
            "text/plain": [
              "                                                     text  label\n",
              "85913   раньше все встречались у фонтана в гуме а тепе...      1\n",
              "42792   ни когда не пойму любовь женщины к женщине хот...      1\n",
              "85556   два сеанса в кино вот что я люблю парам пам па...      1\n",
              "36360   я нашел мой наряд для кэти перри USER URL via ...      1\n",
              "154940          USER ууууу всеее развод обидки и все дела      1\n",
              "...                                                   ...    ...\n",
              "73349   закидываю свой вконтакторостер строчками из пе...      1\n",
              "109259  гребаный понедельник гребанные 4 пары хочу дом...      0\n",
              "50057   болячки вроде подживают но губы увеличелись в ...      0\n",
              "5192        USER я знала что она добрая а за что она тебе      1\n",
              "128037  USER вместо похода в кино пришлось тащиться в ...      0\n",
              "\n",
              "[143260 rows x 2 columns]"
            ]
          },
          "metadata": {
            "tags": []
          },
          "execution_count": 2
        }
      ]
    },
    {
      "cell_type": "code",
      "metadata": {
        "id": "Oe3n8ntM0pED",
        "outputId": "548d117a-346c-4441-d605-925678a2c4f4",
        "colab": {
          "base_uri": "https://localhost:8080/",
          "height": 71
        }
      },
      "source": [
        "from collections import Counter\n",
        "from razdel import tokenize\n",
        "\n",
        "\n",
        "class Vocabulary:\n",
        "    def __init__(self):\n",
        "        self.word2index = {\n",
        "            \"<pad>\": 0,\n",
        "            \"<unk>\": 1\n",
        "        }\n",
        "        self.index2word = [\"<pad>\", \"<unk>\"]\n",
        "\n",
        "    def build(self, texts, min_count=7):\n",
        "        words_counter = Counter(token for tokens in texts for token in tokens)\n",
        "        for word, count in words_counter.most_common():\n",
        "            if count >= min_count:\n",
        "                self.word2index[word] = len(self.word2index)\n",
        "        self.index2word = [word for word, _ in sorted(self.word2index.items(), key=lambda x: x[1])]\n",
        "    \n",
        "    @property\n",
        "    def size(self):\n",
        "        return len(self.index2word)\n",
        "    \n",
        "    def top(self, n=100):\n",
        "        return self.index2word[1:n+1]\n",
        "    \n",
        "    def get_index(self, word):\n",
        "        return self.word2index.get(word, 0)\n",
        "    \n",
        "    def get_word(self, index):\n",
        "        return self.index2word[index]\n",
        "\n",
        "vocabulary = Vocabulary()\n",
        "train_texts = df_train[\"text\"].tolist()\n",
        "train_texts = [[token.text for token in tokenize(text)] for text in train_texts]\n",
        "vocabulary.build(train_texts)\n",
        "assert vocabulary.word2index[vocabulary.index2word[10]] == 10\n",
        "print(vocabulary.size)\n",
        "print(vocabulary.top(100))"
      ],
      "execution_count": null,
      "outputs": [
        {
          "output_type": "stream",
          "text": [
            "17198\n",
            "['<unk>', 'USER', 'не', 'я', 'и', 'в', 'на', 'rt', 'а', 'что', 'URL', 'с', 'как', 'у', 'все', 'меня', 'то', 'это', 'так', 'мне', 'd', 'но', 'ты', 'ну', 'по', 'за', 'еще', 'уже', 'вот', 'да', 'же', 'только', 'сегодня', 'о', 'бы', 'нет', 'когда', 'хочу', 'к', 'очень', 'тебя', 'из', 'он', '3', 'день', 'просто', 'мы', 'будет', '2', 'от', 'было', 'если', 'тебе', 'теперь', 'надо', 'даже', 'тоже', 'завтра', 'кто', 'до', 'там', 'его', '1', 'вообще', 'есть', 'для', 'она', 'сейчас', 'спасибо', 'нас', 'буду', 'почему', 'блин', 'могу', 'люблю', 'без', 'знаю', 'вы', 'они', 'тут', 'или', 'раз', 'мой', 'чем', 'ничего', 'со', 'больше', 'всегда', '5', 'хорошо', 'дома', 'про', 'всем', 'можно', 'ее', 'может', 'год', 'потом', 'был', 'спать']\n"
          ],
          "name": "stdout"
        }
      ]
    },
    {
      "cell_type": "code",
      "metadata": {
        "id": "60u-RChbCLs5"
      },
      "source": [
        "train_labels = df_train[\"label\"].tolist()\n",
        "val_labels = df_val[\"label\"].tolist()\n",
        "test_labels = df_test[\"label\"].tolist()\n",
        "train_texts = [[token.text for token in tokenize(text)] for text in df_train[\"text\"].tolist()]\n",
        "val_texts = [[token.text for token in tokenize(text)] for text in df_val[\"text\"].tolist()]\n",
        "test_texts = [[token.text for token in tokenize(text)] for text in df_test[\"text\"].tolist()]"
      ],
      "execution_count": null,
      "outputs": []
    },
    {
      "cell_type": "code",
      "metadata": {
        "id": "wvzu8KvSEyTQ"
      },
      "source": [
        "np.random.seed(42)\n",
        "torch.manual_seed(42)\n",
        "torch.backends.cudnn.deterministic = True\n",
        "torch.backends.cudnn.benchmark = False"
      ],
      "execution_count": null,
      "outputs": []
    },
    {
      "cell_type": "code",
      "metadata": {
        "id": "kqasrnjdyrsu"
      },
      "source": [
        "import torch\n",
        "import torch.nn as nn\n",
        "import torch.optim as optim\n",
        "import time\n",
        "\n",
        "def get_next_batch(texts, labels, max_seq_len=100, batch_size=128):\n",
        "    indices = np.arange(len(texts))\n",
        "    np.random.shuffle(indices)\n",
        "    batch_begin = 0\n",
        "    while batch_begin < len(texts):\n",
        "        batch_indices = indices[batch_begin: batch_begin + batch_size]\n",
        "        batch = []\n",
        "        batch_labels = []\n",
        "        batch_max_len = 0\n",
        "        for data_ind in batch_indices:\n",
        "            batch_labels.append(labels[data_ind])\n",
        "            sample = [vocabulary.get_index(token) for token in texts[data_ind]][:max_seq_len]\n",
        "            batch_max_len = max(batch_max_len, len(sample))\n",
        "            sample += [0] * (max_seq_len - len(sample))\n",
        "            batch.append(sample)\n",
        "        batch_begin += batch_size\n",
        "        batch = torch.cuda.LongTensor(batch)[:, :batch_max_len]\n",
        "        yield batch, torch.cuda.LongTensor(batch_labels)\n",
        "\n",
        "\n",
        "def train_model(model, texts, labels, val_texts, val_labels, epochs_count=10, \n",
        "                loss_every_nsteps=1000, lr=0.01, save_path=\"model.pt\", device_name=\"cuda\"):\n",
        "    params_count = sum(p.numel() for p in model.parameters() if p.requires_grad)\n",
        "    print(\"Trainable params: {}\".format(params_count))\n",
        "    device = torch.device(device_name)\n",
        "    model = model.to(device)\n",
        "    total_loss = 0\n",
        "    start_time = time.time()\n",
        "    optimizer = optim.Adam(model.parameters(), lr=lr)\n",
        "    loss_function = nn.CrossEntropyLoss().cuda()\n",
        "    prev_avg_val_loss = None\n",
        "    for epoch in range(epochs_count):\n",
        "        model.train()\n",
        "        for step, (batch, batch_labels) in enumerate(get_next_batch(texts, labels)):\n",
        "            logits = model(batch) # Прямой проход\n",
        "            loss = loss_function(logits, batch_labels) # Подсчёт ошибки\n",
        "            loss.backward() # Подсчёт градиентов dL/dw\n",
        "            optimizer.step() # Градиентный спуск или его модификации (в данном случае Adam)\n",
        "            optimizer.zero_grad() # Зануление градиентов, чтобы их спокойно менять на следующей итерации\n",
        "            total_loss += loss.item()\n",
        "        val_total_loss = 0\n",
        "        val_batch_count = 0\n",
        "        model.eval()\n",
        "        for _, (batch, batch_labels) in enumerate(get_next_batch(val_texts, val_labels)):\n",
        "            logits = model(batch) # Прямой проход\n",
        "            val_total_loss += loss_function(logits, batch_labels) # Подсчёт ошибки\n",
        "            val_batch_count += 1\n",
        "        avg_val_loss = val_total_loss/val_batch_count\n",
        "        print(\"Epoch = {}, Avg Train Loss = {:.4f}, Avg val loss = {:.4f}, Time = {:.2f}s\".format(epoch, total_loss / loss_every_nsteps, avg_val_loss, time.time() - start_time))\n",
        "        total_loss = 0\n",
        "        start_time = time.time()\n",
        "\n",
        "        if prev_avg_val_loss is not None and avg_val_loss > prev_avg_val_loss:\n",
        "            model.load_state_dict(torch.load(save_path))\n",
        "            model.eval()\n",
        "            break\n",
        "        prev_avg_val_loss = avg_val_loss\n",
        "        torch.save(model.state_dict(), save_path)"
      ],
      "execution_count": null,
      "outputs": []
    },
    {
      "cell_type": "code",
      "metadata": {
        "id": "1QU5PDZ-FTx-"
      },
      "source": [
        "from sklearn.metrics import accuracy_score\n",
        "\n",
        "def test_model(model, texts, labels):\n",
        "    predicted_labels = []\n",
        "    true_labels = []\n",
        "    model.eval()\n",
        "    for step, (batch, batch_labels) in enumerate(get_next_batch(texts, labels)):\n",
        "        logits = model(batch) # Прямой проход\n",
        "        predicted_labels.extend(torch.max(logits.detach().cpu(), 1)[1].numpy())\n",
        "        true_labels.extend(batch_labels.detach().cpu().numpy())\n",
        "    print(accuracy_score(true_labels, predicted_labels))"
      ],
      "execution_count": null,
      "outputs": []
    },
    {
      "cell_type": "markdown",
      "metadata": {
        "id": "3Zukr6AKU6sA"
      },
      "source": [
        "## Сеть прямого распространения"
      ]
    },
    {
      "cell_type": "code",
      "metadata": {
        "id": "QLGvzru2CqXk",
        "outputId": "dfd1f029-3466-4866-c03c-660fdb220565",
        "colab": {
          "base_uri": "https://localhost:8080/",
          "height": 102
        }
      },
      "source": [
        "class FFModel(nn.Module):\n",
        "    def __init__(self, vocab_size, embedding_dim=64, hidden_dim=48):\n",
        "        super().__init__()\n",
        "        \n",
        "        self.embeddings_layer = nn.Embedding(vocab_size, embedding_dim)\n",
        "        self.hidden_layer = nn.Linear(embedding_dim, hidden_dim)\n",
        "        self.relu_layer = nn.ReLU()\n",
        "        self.dropout_layer = nn.Dropout(0.2)\n",
        "        self.out_layer = nn.Linear(hidden_dim, 2)\n",
        "\n",
        "    def forward(self, inputs):\n",
        "        projections = self.embeddings_layer.forward(inputs)\n",
        "        projections = self.dropout_layer(self.relu_layer(self.hidden_layer(projections)))\n",
        "        pooling = torch.max(projections, 1)[0]\n",
        "        output = self.out_layer.forward(pooling)\n",
        "        return output\n",
        "\n",
        "model = FFModel(vocabulary.size, 64)\n",
        "train_model(model, train_texts, train_labels, val_texts, val_labels)\n",
        "test_model(model, test_texts, test_labels)"
      ],
      "execution_count": null,
      "outputs": [
        {
          "output_type": "stream",
          "text": [
            "Trainable params: 1103890\n",
            "Epoch = 0, Avg Train Loss = 0.5978, Avg val loss = 0.4894, Time = 6.49s\n",
            "Epoch = 1, Avg Train Loss = 0.5267, Avg val loss = 0.4835, Time = 6.73s\n",
            "Epoch = 2, Avg Train Loss = 0.5026, Avg val loss = 0.4863, Time = 6.40s\n",
            "0.7549475094929641\n"
          ],
          "name": "stdout"
        }
      ]
    },
    {
      "cell_type": "markdown",
      "metadata": {
        "id": "Wt2AxU9pTFml"
      },
      "source": [
        "## Свёрточная сеть\n",
        "![Conv example](https://image.ibb.co/e6t8ZK/Convolution.gif)\n",
        "\n",
        "*From [Feature extraction using convolution](http://deeplearning.stanford.edu/wiki/index.php/Feature_extraction_using_convolution).*\n",
        "![NLP conv example](https://user-images.githubusercontent.com/6512394/41590312-b1c28fca-73f1-11e8-9123-e26a03853cc7.png)\n",
        "\n",
        "*From [(Text-Classification-Pytorch)](https://github.com/dongjun-Lee/text-classification-models-tf)*\n"
      ]
    },
    {
      "cell_type": "code",
      "metadata": {
        "id": "J_MdLWj1--R3",
        "outputId": "c1840809-1d34-412c-f4ae-64270885703d",
        "colab": {
          "base_uri": "https://localhost:8080/",
          "height": 102
        }
      },
      "source": [
        "class CnnModel(nn.Module):\n",
        "    def __init__(self, vocab_size, embedding_dim=32, filters=((2, 10), (3, 8))):\n",
        "        super().__init__()\n",
        "        \n",
        "        self.embeddings_layer = nn.Embedding(vocab_size, embedding_dim)\n",
        "        self.filters = []\n",
        "        all_filters_count = 0\n",
        "        for kernel_size, filters_count in filters:\n",
        "            all_filters_count += filters_count\n",
        "            self.filters.append(nn.Conv2d(1, filters_count, (kernel_size, embedding_dim), padding=(1, 0)))\n",
        "        self.filters = nn.ModuleList(self.filters)\n",
        "        self.relu_layer = nn.ReLU()\n",
        "        self.dropout_layer = nn.Dropout(0.2)\n",
        "        self.out_layer = nn.Linear(all_filters_count, 2)\n",
        "\n",
        "    def forward(self, inputs):\n",
        "        projections = self.embeddings_layer.forward(inputs)\n",
        "        projections = projections.unsqueeze(1)\n",
        "        # print(projections.size())\n",
        "        results = []\n",
        "        for f in self.filters:\n",
        "            convolved = self.dropout_layer(self.relu_layer(f(projections))).squeeze(3)\n",
        "            pooling = torch.max(convolved, 2)[0]\n",
        "            results.append(pooling)\n",
        "        output = torch.cat(results, 1)\n",
        "        output = self.out_layer.forward(output)\n",
        "        return output\n",
        "\n",
        "model = CnnModel(vocabulary.size, 64)\n",
        "train_model(model, train_texts, train_labels, val_texts, val_labels)\n",
        "test_model(model, test_texts, test_labels)"
      ],
      "execution_count": null,
      "outputs": [
        {
          "output_type": "stream",
          "text": [
            "Trainable params: 1103544\n",
            "Epoch = 0, Avg Train Loss = 0.5922, Avg val loss = 0.4862, Time = 10.39s\n",
            "Epoch = 1, Avg Train Loss = 0.5038, Avg val loss = 0.4721, Time = 10.33s\n",
            "Epoch = 2, Avg Train Loss = 0.4540, Avg val loss = 0.5099, Time = 12.00s\n",
            "0.7640830913558186\n"
          ],
          "name": "stdout"
        }
      ]
    },
    {
      "cell_type": "markdown",
      "metadata": {
        "id": "6INxg5qBTE8L"
      },
      "source": [
        "## Рекуррентные сети\n",
        "\n",
        "![rnn](http://colah.github.io/posts/2015-08-Understanding-LSTMs/img/LSTM3-chain.png)  \n",
        "*From [(Understanding LSTM Networks)](http://colah.github.io/posts/2015-08-Understanding-LSTMs)*"
      ]
    },
    {
      "cell_type": "code",
      "metadata": {
        "id": "0IJeGGgGyfao",
        "outputId": "6090fed1-6ee4-4df5-ccd1-ca79ded1f266",
        "colab": {
          "base_uri": "https://localhost:8080/",
          "height": 136
        }
      },
      "source": [
        "class RnnModel(nn.Module):\n",
        "    def __init__(self, vocab_size, embedding_dim=32, filters=((2, 10), (3, 8))):\n",
        "        super().__init__()\n",
        "        \n",
        "        self.embeddings_layer = nn.Embedding(vocab_size, embedding_dim)\n",
        "        self.lstm_layer = nn.LSTM(embedding_dim, embedding_dim, batch_first=True)\n",
        "        self.dropout_layer = nn.Dropout(0.2)\n",
        "        self.out_layer = nn.Linear(embedding_dim, 2)\n",
        "\n",
        "    def forward(self, inputs):\n",
        "        projections = self.embeddings_layer.forward(inputs)\n",
        "        output, (final_hidden_state, final_cell_state) = self.lstm_layer(projections)\n",
        "        hidden = self.dropout_layer(final_hidden_state[-1])\n",
        "        output = self.out_layer.forward(hidden)\n",
        "        return output\n",
        "\n",
        "model = RnnModel(vocabulary.size, 64)\n",
        "train_model(model, train_texts, train_labels, val_texts, val_labels)\n",
        "test_model(model, test_texts, test_labels)"
      ],
      "execution_count": null,
      "outputs": [
        {
          "output_type": "stream",
          "text": [
            "Trainable params: 1134082\n",
            "Epoch = 0, Avg Train Loss = 0.7089, Avg val loss = 0.5280, Time = 11.49s\n",
            "Epoch = 1, Avg Train Loss = 0.5464, Avg val loss = 0.4971, Time = 11.35s\n",
            "Epoch = 2, Avg Train Loss = 0.4893, Avg val loss = 0.4933, Time = 11.41s\n",
            "Epoch = 3, Avg Train Loss = 0.4554, Avg val loss = 0.4898, Time = 11.39s\n",
            "Epoch = 4, Avg Train Loss = 0.4316, Avg val loss = 0.4898, Time = 11.33s\n",
            "0.7603752512843422\n"
          ],
          "name": "stdout"
        }
      ]
    },
    {
      "cell_type": "markdown",
      "metadata": {
        "id": "FN2i773VSxm7"
      },
      "source": [
        "### Задание 1\n",
        "Сделайте то же самое, но с bidirectional LSTM"
      ]
    },
    {
      "cell_type": "markdown",
      "metadata": {
        "id": "fZLkosv8TWPz"
      },
      "source": [
        "### Задание 2\n",
        "Сделайте то же самое, но с char-level CNN"
      ]
    },
    {
      "cell_type": "markdown",
      "metadata": {
        "id": "KMPX43GDSKLs"
      },
      "source": [
        "### Задание 3\n",
        "Сделайте то же самое, но с предобученными пословными эмбеддингами"
      ]
    },
    {
      "cell_type": "markdown",
      "metadata": {
        "id": "42J7rG1-Sqyz"
      },
      "source": [
        "### Задание 4*\n",
        "Сделайте то же самое, но с точностью >80%"
      ]
    },
    {
      "cell_type": "markdown",
      "metadata": {
        "id": "BQ4vEy1-IiFd"
      },
      "source": [
        "# Генерация имён: код с семинара"
      ]
    },
    {
      "cell_type": "code",
      "metadata": {
        "id": "DI4Xo6DMIeh5",
        "outputId": "b5db466d-96d4-4b81-eaa3-938b2d498d14",
        "colab": {
          "base_uri": "https://localhost:8080/",
          "height": 611
        }
      },
      "source": [
        "!wget https://download.pytorch.org/tutorial/data.zip\n",
        "!unzip data.zip"
      ],
      "execution_count": null,
      "outputs": [
        {
          "output_type": "stream",
          "text": [
            "--2019-11-25 19:55:54--  https://download.pytorch.org/tutorial/data.zip\n",
            "Resolving download.pytorch.org (download.pytorch.org)... 13.224.29.19, 13.224.29.48, 13.224.29.73, ...\n",
            "Connecting to download.pytorch.org (download.pytorch.org)|13.224.29.19|:443... connected.\n",
            "HTTP request sent, awaiting response... 200 OK\n",
            "Length: 2882130 (2.7M) [application/zip]\n",
            "Saving to: ‘data.zip’\n",
            "\n",
            "\rdata.zip              0%[                    ]       0  --.-KB/s               \rdata.zip              9%[>                   ] 262.64K  1.02MB/s               \rdata.zip            100%[===================>]   2.75M  6.13MB/s    in 0.4s    \n",
            "\n",
            "2019-11-25 19:55:55 (6.13 MB/s) - ‘data.zip’ saved [2882130/2882130]\n",
            "\n",
            "Archive:  data.zip\n",
            "   creating: data/\n",
            "  inflating: data/eng-fra.txt        \n",
            "   creating: data/names/\n",
            "  inflating: data/names/Arabic.txt   \n",
            "  inflating: data/names/Chinese.txt  \n",
            "  inflating: data/names/Czech.txt    \n",
            "  inflating: data/names/Dutch.txt    \n",
            "  inflating: data/names/English.txt  \n",
            "  inflating: data/names/French.txt   \n",
            "  inflating: data/names/German.txt   \n",
            "  inflating: data/names/Greek.txt    \n",
            "  inflating: data/names/Irish.txt    \n",
            "  inflating: data/names/Italian.txt  \n",
            "  inflating: data/names/Japanese.txt  \n",
            "  inflating: data/names/Korean.txt   \n",
            "  inflating: data/names/Polish.txt   \n",
            "  inflating: data/names/Portuguese.txt  \n",
            "  inflating: data/names/Russian.txt  \n",
            "  inflating: data/names/Scottish.txt  \n",
            "  inflating: data/names/Spanish.txt  \n",
            "  inflating: data/names/Vietnamese.txt  \n"
          ],
          "name": "stdout"
        }
      ]
    },
    {
      "cell_type": "code",
      "metadata": {
        "id": "RJJxLAw5IhO4"
      },
      "source": [
        "import os\n",
        "from collections import defaultdict\n",
        "def load_names(directory):\n",
        "    dataset = defaultdict(list)\n",
        "    languages = {}\n",
        "    for language_num, file_name in enumerate(os.listdir(directory)):\n",
        "        languages[language_num] = file_name\n",
        "        file_name = os.path.join(directory, file_name)\n",
        "        with open(file_name, \"r\") as r:\n",
        "            for line in r:\n",
        "                dataset[language_num].append(line.strip())\n",
        "    return dataset, languages\n",
        "\n",
        "dataset, languages = load_names(\"data/names\")"
      ],
      "execution_count": null,
      "outputs": []
    },
    {
      "cell_type": "code",
      "metadata": {
        "id": "bicmGKvRIoKK"
      },
      "source": [
        "import random\n",
        "train_names = []\n",
        "val_names = []\n",
        "train_labels = []\n",
        "val_labels = []\n",
        "for language_num, names in dataset.items():\n",
        "    random.shuffle(names)\n",
        "    border = int(len(names) * 0.9)\n",
        "    train_names.extend(names[:border])\n",
        "    val_names.extend(names[border:])\n",
        "    train_labels.extend([language_num] * border)\n",
        "    val_labels.extend([language_num] * (len(names) - border))"
      ],
      "execution_count": null,
      "outputs": []
    },
    {
      "cell_type": "code",
      "metadata": {
        "id": "9fjTTWwEIrKQ",
        "outputId": "c6964183-7c6a-4516-8256-a663734452c6",
        "colab": {
          "base_uri": "https://localhost:8080/",
          "height": 55
        }
      },
      "source": [
        "char_set = [\"<pad>\"] + list({ch for name in train_names + val_names for ch in name})\n",
        "print(char_set)"
      ],
      "execution_count": null,
      "outputs": [
        {
          "output_type": "stream",
          "text": [
            "['<pad>', 'l', 'c', 'J', 'F', 'V', ':', 'ê', 'z', '/', 'b', 'f', 'D', 'L', 'ä', 'E', 'ą', 'ò', 'g', 'p', 'I', 'O', 'v', 'd', 'P', 'è', 'A', 'u', 'C', 'õ', 'à', 'B', 'S', 'ì', 'ó', 'Z', 'H', 'Y', 'o', 'e', 'W', 'i', 'ż', 'K', 'ö', 'm', 'ł', 'ß', 'N', '1', 'ù', 'h', ',', 'É', 'x', 'é', 'G', 'í', 'ń', 't', 'X', 'ü', 's', 'M', 'n', ' ', 'Ż', 'ú', 'q', 'y', 'Q', 'j', '\\xa0', 'r', 'á', 'R', 'Á', 'ñ', 'ç', 'a', 'w', '-', 'Ś', 'U', 'ã', 'k', \"'\", 'T']\n"
          ],
          "name": "stdout"
        }
      ]
    },
    {
      "cell_type": "code",
      "metadata": {
        "id": "cLlnvFS8ItV4"
      },
      "source": [
        "import torch\n",
        "import torch.nn as nn\n",
        "import torch.optim as optim\n",
        "import time\n",
        "import numpy as np\n",
        "\n",
        "def get_next_gen_batch(names, labels, max_seq_len=100, batch_size=128):\n",
        "    indices = np.arange(len(names))\n",
        "    np.random.shuffle(indices)\n",
        "    batch_begin = 0\n",
        "    while batch_begin < len(names):\n",
        "        batch_indices = indices[batch_begin: batch_begin + batch_size]\n",
        "        batch = []\n",
        "        batch_labels = []\n",
        "        batch_max_len = 0\n",
        "        for data_ind in batch_indices:\n",
        "            batch_labels.append(labels[data_ind])\n",
        "            sample = [char_set.index(ch) for ch in names[data_ind]][:max_seq_len]\n",
        "            batch_max_len = max(batch_max_len, len(sample))\n",
        "            sample += [0] * (max_seq_len - len(sample))\n",
        "            batch.append(sample)\n",
        "        batch_begin += batch_size\n",
        "        batch = torch.cuda.LongTensor(batch)[:, :batch_max_len]\n",
        "        yield batch, torch.cuda.LongTensor(batch_labels)\n",
        "\n",
        "\n",
        "def train_gen_model(model, names, labels, val_names, val_labels, epochs_count=10, \n",
        "                loss_every_nsteps=1000, lr=0.01, save_path=\"model.pt\", device_name=\"cuda\"):\n",
        "    params_count = sum(p.numel() for p in model.parameters() if p.requires_grad)\n",
        "    print(\"Trainable params: {}\".format(params_count))\n",
        "    device = torch.device(device_name)\n",
        "    model = model.to(device)\n",
        "    total_loss = 0\n",
        "    start_time = time.time()\n",
        "    optimizer = optim.Adam(model.parameters(), lr=lr)\n",
        "    loss_function = nn.CrossEntropyLoss().cuda()\n",
        "    prev_avg_val_loss = None\n",
        "    for epoch in range(epochs_count):\n",
        "        model.train()\n",
        "        for step, (batch, batch_labels) in enumerate(get_next_gen_batch(names, labels)):\n",
        "            logits = model(batch_labels, batch)[:, :-1] # Прямой проход\n",
        "            logits = logits.transpose(1, 2)\n",
        "            loss = loss_function(logits, batch) # Подсчёт ошибки\n",
        "            loss.backward() # Подсчёт градиентов dL/dw\n",
        "            optimizer.step() # Градиентный спуск или его модификации (в данном случае Adam)\n",
        "            optimizer.zero_grad() # Зануление градиентов, чтобы их спокойно менять на следующей итерации\n",
        "            total_loss += loss.item()\n",
        "        val_total_loss = 0\n",
        "        val_batch_count = 0\n",
        "        model.eval()\n",
        "        for _, (batch, batch_labels) in enumerate(get_next_gen_batch(val_names, val_labels)):\n",
        "            logits = model(batch_labels, batch)[:, :-1] # Прямой проход\n",
        "            logits = logits.transpose(1, 2)\n",
        "            val_total_loss += loss_function(logits, batch) # Подсчёт ошибки\n",
        "            val_batch_count += 1\n",
        "        avg_val_loss = val_total_loss/val_batch_count\n",
        "        print(\"Epoch = {}, Avg Train Loss = {:.4f}, Avg val loss = {:.4f}, Time = {:.2f}s\".format(epoch, total_loss / loss_every_nsteps, avg_val_loss, time.time() - start_time))\n",
        "        total_loss = 0\n",
        "        start_time = time.time()\n",
        "\n",
        "        if prev_avg_val_loss is not None and avg_val_loss > prev_avg_val_loss:\n",
        "            model.load_state_dict(torch.load(save_path))\n",
        "            model.eval()\n",
        "            break\n",
        "        prev_avg_val_loss = avg_val_loss\n",
        "        torch.save(model.state_dict(), save_path)"
      ],
      "execution_count": null,
      "outputs": []
    },
    {
      "cell_type": "code",
      "metadata": {
        "id": "zjUWbqhlI0YF",
        "outputId": "2531083e-b80a-4a48-f100-36e66b7d9dc4",
        "colab": {
          "base_uri": "https://localhost:8080/",
          "height": 179
        }
      },
      "source": [
        "import torch\n",
        "from torch import nn\n",
        "\n",
        "class RnnGenModel(nn.Module):\n",
        "    def __init__(self, vocab_size, embedding_dim=32):\n",
        "        super().__init__()\n",
        "        \n",
        "        self.embeddings_layer = nn.Embedding(vocab_size, embedding_dim)\n",
        "        self.lstm_layer = nn.LSTM(embedding_dim+1, embedding_dim, batch_first=True)\n",
        "        self.out_layer = nn.Linear(embedding_dim, vocab_size)\n",
        "\n",
        "    def forward(self, labels, inputs):\n",
        "        padding = torch.zeros((inputs.size(0), ), device=\"cuda\", dtype=torch.int64)\n",
        "        padding = padding.unsqueeze(1)\n",
        "        inputs = torch.cat((padding, inputs), 1)\n",
        "        projections = self.embeddings_layer.forward(inputs)\n",
        "        labels = labels.repeat(projections.size(1), 1).transpose(0, 1).unsqueeze(2).float()\n",
        "        projections = torch.cat((projections, labels), 2)\n",
        "        output, _= self.lstm_layer(projections)\n",
        "        output = self.out_layer.forward(output)\n",
        "        return output\n",
        "\n",
        "model = RnnGenModel(len(char_set))\n",
        "train_gen_model(model, train_names, train_labels, val_names, val_labels)"
      ],
      "execution_count": null,
      "outputs": [
        {
          "output_type": "stream",
          "text": [
            "Trainable params: 14296\n",
            "Epoch = 0, Avg Train Loss = 0.2453, Avg val loss = 1.3857, Time = 0.78s\n",
            "Epoch = 1, Avg Train Loss = 0.1976, Avg val loss = 1.3031, Time = 0.63s\n",
            "Epoch = 2, Avg Train Loss = 0.1889, Avg val loss = 1.2516, Time = 0.67s\n",
            "Epoch = 3, Avg Train Loss = 0.1841, Avg val loss = 1.2468, Time = 0.65s\n",
            "Epoch = 4, Avg Train Loss = 0.1813, Avg val loss = 1.2423, Time = 0.65s\n",
            "Epoch = 5, Avg Train Loss = 0.1799, Avg val loss = 1.2157, Time = 0.63s\n",
            "Epoch = 6, Avg Train Loss = 0.1763, Avg val loss = 1.2112, Time = 0.63s\n",
            "Epoch = 7, Avg Train Loss = 0.1749, Avg val loss = 1.2226, Time = 0.63s\n"
          ],
          "name": "stdout"
        }
      ]
    },
    {
      "cell_type": "code",
      "metadata": {
        "id": "UfPfrFusJ1f6",
        "outputId": "1d96f252-41f2-45d5-9b53-80e97b9bebbe",
        "colab": {
          "base_uri": "https://localhost:8080/",
          "height": 55
        }
      },
      "source": [
        "print(languages)"
      ],
      "execution_count": null,
      "outputs": [
        {
          "output_type": "stream",
          "text": [
            "{0: 'Arabic.txt', 1: 'English.txt', 2: 'Vietnamese.txt', 3: 'Chinese.txt', 4: 'Polish.txt', 5: 'Irish.txt', 6: 'Russian.txt', 7: 'Czech.txt', 8: 'Korean.txt', 9: 'Portuguese.txt', 10: 'Scottish.txt', 11: 'German.txt', 12: 'Japanese.txt', 13: 'Spanish.txt', 14: 'Dutch.txt', 15: 'Greek.txt', 16: 'Italian.txt', 17: 'French.txt'}\n"
          ],
          "name": "stdout"
        }
      ]
    },
    {
      "cell_type": "code",
      "metadata": {
        "id": "NlDWE_tpI-b0",
        "outputId": "549cce20-989b-46ba-e6ee-17749565b596",
        "colab": {
          "base_uri": "https://localhost:8080/",
          "height": 35
        }
      },
      "source": [
        "seed = torch.zeros((1, 1), dtype=torch.int64, device=\"cuda\")\n",
        "first_letter = 'B'\n",
        "seed[0][0] = char_set.index(first_letter)\n",
        "\n",
        "lang = torch.zeros((1, ), dtype=torch.int64, device=\"cuda\")\n",
        "lang[0] = 6\n",
        "\n",
        "name = \"\"\n",
        "next_char = first_letter\n",
        "while next_char != \"<pad>\":\n",
        "    name += next_char\n",
        "    logits = model(lang, seed)\n",
        "    index = torch.max(logits[0][len(name)], dim=0)[1]\n",
        "    index = index.unsqueeze(0).unsqueeze(0)\n",
        "    seed = torch.cat((seed, index), 1)\n",
        "    next_char = char_set[index]\n",
        "\n",
        "print(name)"
      ],
      "execution_count": null,
      "outputs": [
        {
          "output_type": "stream",
          "text": [
            "Bakhanov\n"
          ],
          "name": "stdout"
        }
      ]
    },
    {
      "cell_type": "code",
      "metadata": {
        "id": "s3f_PkUmJYhR"
      },
      "source": [
        ""
      ],
      "execution_count": null,
      "outputs": []
    }
  ]
}